{
 "cells": [
  {
   "cell_type": "markdown",
   "id": "bd0dd019",
   "metadata": {},
   "source": [
    "# metaclass"
   ]
  },
  {
   "cell_type": "markdown",
   "id": "dc8a8500",
   "metadata": {},
   "source": [
    "## Python 底层语言设计层面是如何实现metaclass 的？"
   ]
  },
  {
   "cell_type": "markdown",
   "id": "1e036ecb",
   "metadata": {},
   "source": [
    "### 第一，所有的 Python 的用户定义类，都是 type 这个类的实例。"
   ]
  },
  {
   "cell_type": "code",
   "execution_count": 4,
   "id": "eff99c2a",
   "metadata": {},
   "outputs": [
    {
     "name": "stdout",
     "output_type": "stream",
     "text": [
      "<class '__main__.MyClass'>\n",
      "<class 'type'>\n"
     ]
    }
   ],
   "source": [
    "class MyClass:\n",
    "    pass\n",
    "\n",
    "instance = MyClass()\n",
    "\n",
    "print(type(instance))  # <class '__main__.MyClass'>\n",
    "print(type(MyClass))  # <class 'type'>"
   ]
  },
  {
   "cell_type": "markdown",
   "id": "25e0e3c7",
   "metadata": {},
   "source": [
    "### 第二，用户自定义类，只不过是 type 类的 \\__call__ 运算符重载。"
   ]
  },
  {
   "cell_type": "code",
   "execution_count": 8,
   "id": "70b01e74",
   "metadata": {},
   "outputs": [
    {
     "name": "stdout",
     "output_type": "stream",
     "text": [
      "<__main__.MyClass object at 0x000002016D084B80>\n",
      "1\n"
     ]
    }
   ],
   "source": [
    "class MyClass:\n",
    "    data = 1\n",
    "    \n",
    "instance = MyClass()\n",
    "print(instance)  # <__main__.MyClass object at 0x000002016D084880>\n",
    "\n",
    "print(instance.data)  # 1"
   ]
  },
  {
   "cell_type": "code",
   "execution_count": 2,
   "id": "55f8a1e5",
   "metadata": {},
   "outputs": [
    {
     "name": "stdout",
     "output_type": "stream",
     "text": [
      "<__main__.MyClass object at 0x0000016ED1D51640>\n",
      "1\n"
     ]
    }
   ],
   "source": [
    "MyClass = type('MyClass', (), {'data': 1})\n",
    "\n",
    "instance = MyClass()\n",
    "print(instance)  # <__main__.MyClass object at 0x0000016ED1D51640>\n",
    "\n",
    "print(instance.data)  # 1"
   ]
  },
  {
   "cell_type": "markdown",
   "id": "70ddae30",
   "metadata": {},
   "source": [
    " ### 第三，metaclass 是 type 的子类，通过替换type 的 \\__call__ 运算符重载机制，“超越变形”正常的类。"
   ]
  }
 ],
 "metadata": {
  "kernelspec": {
   "display_name": "Python 3 (ipykernel)",
   "language": "python",
   "name": "python3"
  },
  "language_info": {
   "codemirror_mode": {
    "name": "ipython",
    "version": 3
   },
   "file_extension": ".py",
   "mimetype": "text/x-python",
   "name": "python",
   "nbconvert_exporter": "python",
   "pygments_lexer": "ipython3",
   "version": "3.8.12"
  },
  "toc": {
   "base_numbering": 1,
   "nav_menu": {},
   "number_sections": true,
   "sideBar": true,
   "skip_h1_title": false,
   "title_cell": "Table of Contents",
   "title_sidebar": "Contents",
   "toc_cell": false,
   "toc_position": {},
   "toc_section_display": true,
   "toc_window_display": false
  },
  "varInspector": {
   "cols": {
    "lenName": 16,
    "lenType": 16,
    "lenVar": 40
   },
   "kernels_config": {
    "python": {
     "delete_cmd_postfix": "",
     "delete_cmd_prefix": "del ",
     "library": "var_list.py",
     "varRefreshCmd": "print(var_dic_list())"
    },
    "r": {
     "delete_cmd_postfix": ") ",
     "delete_cmd_prefix": "rm(",
     "library": "var_list.r",
     "varRefreshCmd": "cat(var_dic_list()) "
    }
   },
   "types_to_exclude": [
    "module",
    "function",
    "builtin_function_or_method",
    "instance",
    "_Feature"
   ],
   "window_display": false
  }
 },
 "nbformat": 4,
 "nbformat_minor": 5
}
