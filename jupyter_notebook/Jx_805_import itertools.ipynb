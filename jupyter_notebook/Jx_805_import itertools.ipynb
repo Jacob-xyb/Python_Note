{
 "cells": [
  {
   "cell_type": "markdown",
   "metadata": {},
   "source": [
    "# import itertools\n",
    "\n",
    "- Infinite itertools，无限迭代器；生成一个无限序列"
   ]
  },
  {
   "cell_type": "code",
   "execution_count": 7,
   "metadata": {},
   "outputs": [],
   "source": [
    "import itertools\n",
    "x_1 = itertools.count(1, 3)  # count()会创建一个无限的迭代器"
   ]
  },
  {
   "cell_type": "code",
   "execution_count": 8,
   "metadata": {},
   "outputs": [
    {
     "name": "stdout",
     "output_type": "stream",
     "text": [
      "1\n",
      "4\n",
      "7\n",
      "10\n"
     ]
    }
   ],
   "source": [
    "import itertools\n",
    "def itertools_count(start, step):\n",
    "    \"\"\"\n",
    "    执行到 yield时 函数就返回一个迭代值，\n",
    "    下次迭代时，代码从 yield b 的下一条语句继续执行，\n",
    "    而函数的本地变量看起来和上次中断执行前是完全一样的，\n",
    "    于是函数继续执行，直到再次遇到 yield。\n",
    "    :param start:\n",
    "    :param step:\n",
    "    :return:\n",
    "    \"\"\"\n",
    "    rule = True\n",
    "    while rule:\n",
    "        yield start  # yield 的好处是显而易见的，把一个函数改写为一个 generator 就获得了迭代能力\n",
    "        start += step\n",
    "x_2 = itertools_count(1, 1)\n",
    "for i in x_1:\n",
    "    print(i)\n",
    "    if i >= 10:\n",
    "        break"
   ]
  },
  {
   "cell_type": "markdown",
   "metadata": {},
   "source": [
    "# itertools.permutations()\n",
    "\n",
    "- __全排列：__输出不重复的组成数字\n",
    "\n"
   ]
  },
  {
   "cell_type": "code",
   "execution_count": 14,
   "metadata": {},
   "outputs": [
    {
     "name": "stdout",
     "output_type": "stream",
     "text": [
      "[[1, 2, 3], [1, 2, 3], [1, 2, 3], [1, 2, 3], [1, 2, 3], [1, 2, 3]]\n"
     ]
    }
   ],
   "source": [
    "import itertools\n",
    "x_3 = [1, 2, 3]\n",
    "res = []\n",
    "for i in itertools.permutations(x_3, 3):\n",
    "    res.append(x_3)\n",
    "print(res)"
   ]
  },
  {
   "cell_type": "markdown",
   "metadata": {},
   "source": [
    "# TODO"
   ]
  },
  {
   "cell_type": "code",
   "execution_count": null,
   "metadata": {},
   "outputs": [],
   "source": [
    "x_2 = itertools.cycle('ABCD')  # cycle()会把传入的一个序列无限重复下去 字符串也是序列的一种\n",
    "# def itertools_cycle(p):\n",
    "#     while 1:\n",
    "#         for i in p:\n",
    "#             yield i\n",
    "# x_2 = itertools_cycle((3,6,8,9))\n",
    "# for i in x_2:\n",
    "#     print(i)\n",
    "\n",
    "x_3 = itertools.repeat(1, 10)  # elem [,n]  endlessly or up to n times\n",
    "# def itertools_repeat(elem, counts:int=0):\n",
    "#     if counts == 0:\n",
    "#         while 1:\n",
    "#             yield elem\n",
    "#     else:\n",
    "#         while counts > 0:\n",
    "#             yield elem\n",
    "#             counts -= 1\n",
    "# x_3 = itertools_repeat([1,2,3], 3)\n",
    "# for i in x_3:\n",
    "#     print(i)\n",
    "\n",
    "\n",
    "\"\"\"\n",
    "有限迭代器：接收一个或多个序列（sequence）作为参数，进行组合、分组和过滤等；\n",
    "\"\"\"\n",
    "x_4 = itertools.chain([1, 2, 3], '123')  # 组合输出\n",
    "# def itertools_chain(*item):\n",
    "#     # print('length:', len(item))\n",
    "#     for j in range(len(item)):\n",
    "#         for k in item[j]:\n",
    "#             yield k\n",
    "# x_4 = itertools_chain([1, 2, 3], '123')\n",
    "# for i in x_4:\n",
    "#     print(i)\n",
    "\n",
    "x_5 = itertools.compress('ABCDEF', [0, 1, 0, 1, 1, 1])  # 比较输出\n",
    "# def itertools_compress(data, selectors):\n",
    "#     \"\"\"\n",
    "#     length of data and selectors can be different\n",
    "#     :param data: 可迭代的数组\n",
    "#     :param selectors: 判断条件\n",
    "#     :return: 判断后的结果\n",
    "#     \"\"\"\n",
    "#     if len(data) >= len(selectors):\n",
    "#         for i in range(len(selectors)):\n",
    "#             if selectors[i]:\n",
    "#                 yield data[i]\n",
    "#     else:\n",
    "#         for i in range(len(data)):\n",
    "#             if selectors[i]:\n",
    "#                 yield data[i]\n",
    "# x_5 = itertools_compress('ABCDEF', [0,1,0,1,1,1])\n",
    "# for i in x_5:\n",
    "#     print(i)\n",
    "\n",
    "x_6 = itertools.dropwhile(lambda x: x < 5, [1, 3, 4, 5, 7, 8])  # results:seq[n],seq[n+1],...starting when pred fails\n",
    "# for i in x_6:\n",
    "#     print(i)\n",
    "\n",
    "x_7 = itertools.groupby('aabBccCDDdEfF', lambda x: x.upper())  # 把迭代器中相邻的重复元素挑出来放在一起：\n",
    "\"\"\"\n",
    "iterable[,keyfunc]\n",
    "sub-iterators grouped by value of keyfunc(v)\n",
    "\"\"\"\n",
    "# for key, group in x_7:\n",
    "#     print(key, list(group))\n",
    "\n",
    "x_8 = itertools.combinations('ABC', 2)\n",
    "\"\"\"\n",
    "创建一个迭代器，返回iterable中所有长度为r的子序列，返回的子序列中的项按输入iterable中的顺序排序 (不带重复).\n",
    "r 指定生成排列的元素的长度，如果不指定，函数会报错。\n",
    "对应组合概念。\n",
    "\"\"\"\n",
    "# for i in x_8:\n",
    "#     print(i)\n",
    "# print(list(itertools.combinations('ABC', 2)))"
   ]
  }
 ],
 "metadata": {
  "kernelspec": {
   "display_name": "Python 3",
   "language": "python",
   "name": "python3"
  },
  "language_info": {
   "codemirror_mode": {
    "name": "ipython",
    "version": 3
   },
   "file_extension": ".py",
   "mimetype": "text/x-python",
   "name": "python",
   "nbconvert_exporter": "python",
   "pygments_lexer": "ipython3",
   "version": "3.8.3"
  },
  "toc": {
   "base_numbering": 1,
   "nav_menu": {},
   "number_sections": true,
   "sideBar": true,
   "skip_h1_title": false,
   "title_cell": "Table of Contents",
   "title_sidebar": "Contents",
   "toc_cell": false,
   "toc_position": {},
   "toc_section_display": true,
   "toc_window_display": false
  },
  "varInspector": {
   "cols": {
    "lenName": 16,
    "lenType": 16,
    "lenVar": 40
   },
   "kernels_config": {
    "python": {
     "delete_cmd_postfix": "",
     "delete_cmd_prefix": "del ",
     "library": "var_list.py",
     "varRefreshCmd": "print(var_dic_list())"
    },
    "r": {
     "delete_cmd_postfix": ") ",
     "delete_cmd_prefix": "rm(",
     "library": "var_list.r",
     "varRefreshCmd": "cat(var_dic_list()) "
    }
   },
   "types_to_exclude": [
    "module",
    "function",
    "builtin_function_or_method",
    "instance",
    "_Feature"
   ],
   "window_display": false
  }
 },
 "nbformat": 4,
 "nbformat_minor": 4
}
