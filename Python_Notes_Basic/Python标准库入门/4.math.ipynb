{
 "cells": [
  {
   "cell_type": "markdown",
   "id": "828136eb",
   "metadata": {},
   "source": [
    "# math"
   ]
  },
  {
   "cell_type": "markdown",
   "id": "a66e13e5",
   "metadata": {},
   "source": [
    "## 数学常数"
   ]
  },
  {
   "cell_type": "code",
   "execution_count": 5,
   "id": "5ee2fa06",
   "metadata": {},
   "outputs": [
    {
     "name": "stdout",
     "output_type": "stream",
     "text": [
      "2.718281828459045\n",
      "3.141592653589793\n"
     ]
    }
   ],
   "source": [
    "import math\n",
    "\n",
    "# 自然底数\n",
    "print(math.e)  # 2.718281828459045\n",
    "# 圆周率 π\n",
    "print(math.pi)  # 3.141592653589793"
   ]
  },
  {
   "cell_type": "markdown",
   "id": "d8737a20",
   "metadata": {},
   "source": [
    "## 数学运算"
   ]
  },
  {
   "cell_type": "markdown",
   "id": "0c09aa29",
   "metadata": {},
   "source": [
    "### 取绝对值"
   ]
  },
  {
   "cell_type": "code",
   "execution_count": 7,
   "id": "f3caf05a",
   "metadata": {},
   "outputs": [
    {
     "name": "stdout",
     "output_type": "stream",
     "text": [
      "98.6\n",
      "271.1\n",
      "271.1\n"
     ]
    }
   ],
   "source": [
    "import math\n",
    "\n",
    "# fabs() 用于获得绝对值：\n",
    "print(math.fabs(98.6))  # 98.6\n",
    "print(math.fabs(-271.1))  # 271.1\n",
    "\n",
    "# abs() 更为方便\n",
    "print(abs(-271.1))  # 271.1"
   ]
  },
  {
   "cell_type": "markdown",
   "id": "180908b2",
   "metadata": {},
   "source": [
    "### 取整"
   ]
  },
  {
   "cell_type": "code",
   "execution_count": 11,
   "id": "3b4a2d6d",
   "metadata": {},
   "outputs": [
    {
     "name": "stdout",
     "output_type": "stream",
     "text": [
      "98\n",
      "-272\n",
      "99\n",
      "-271\n"
     ]
    }
   ],
   "source": [
    "import math\n",
    "\n",
    "# math.floor() 向下取整， \n",
    "print(math.floor(98.6))  # 98\n",
    "print(math.floor(-271.1))  # -272\n",
    "\n",
    "# math.ceil() 向上取整\n",
    "print(math.ceil(98.6))  # 99\n",
    "print(math.ceil(-271.1))  # -271"
   ]
  },
  {
   "cell_type": "code",
   "execution_count": 8,
   "id": "358417de",
   "metadata": {},
   "outputs": [
    {
     "name": "stdout",
     "output_type": "stream",
     "text": [
      "98\n",
      "-272\n",
      "99\n",
      "-271\n",
      "1\n",
      "1\n",
      "2\n",
      "6\n",
      "3628800\n",
      "0.0\n",
      "1.0\n",
      "3.0\n",
      "8.0\n",
      "8\n",
      "8.0\n",
      "10.0\n",
      "5.0\n"
     ]
    }
   ],
   "source": [
    "# factorial() 计算阶乘（n!）\n",
    "print(math.factorial(0))  # 1\n",
    "print(math.factorial(1))  # 1\n",
    "print(math.factorial(2))  # 2\n",
    "print(math.factorial(3))  # 6\n",
    "print(math.factorial(10))  # 3628800\n",
    "\n",
    "# log() 计算自然对数（以e为底）：\n",
    "print(math.log(1.0))  # 0.0\n",
    "print(math.log(math.e))  # 1.0\n",
    "# log(a, b) 以 b 为底，a 的对数\n",
    "print(math.log(8, 2))  # 3.0\n",
    "# pow() 做的工作与上面正好相反，它用于计算一个数的指数：\n",
    "print(math.pow(2, 3))  # 8.0\n",
    "#     python 内置的指数运算符 ** 也可以进行同样的计算，\n",
    "#     只不过当底数和指数都是整数时，用 ** 计算得到的结果也是整数，不会被自动转化为浮点数\n",
    "print(2 ** 3)  # 8\n",
    "print(2.0 ** 3)  # 8.0\n",
    "\n",
    "# 使用 sqrt() 得到平方根\n",
    "print(math.sqrt(100.0))  # 10.0\n",
    "\n",
    "# 常见的三角函数都可以使用，例如：sin()、 cos()、 tan()、 asin()、 acos()、 atan()、 atan2()。\n",
    "# hypot() 函数计算两直角边对应斜边长（勾股定理）\n",
    "print(math.hypot(3.0, 4.0))  # 5.0"
   ]
  },
  {
   "cell_type": "code",
   "execution_count": 9,
   "id": "597eba8d",
   "metadata": {},
   "outputs": [
    {
     "name": "stdout",
     "output_type": "stream",
     "text": [
      "3.141592653589793\n",
      "180.0\n"
     ]
    }
   ],
   "source": [
    "# 角坐标转换：\n",
    "print(math.radians(180.0))  # 3.141592653589793\n",
    "print(math.degrees(math.pi))  # 180.0"
   ]
  },
  {
   "cell_type": "code",
   "execution_count": null,
   "id": "185cd098",
   "metadata": {},
   "outputs": [],
   "source": []
  }
 ],
 "metadata": {
  "kernelspec": {
   "display_name": "Python 3 (ipykernel)",
   "language": "python",
   "name": "python3"
  },
  "language_info": {
   "codemirror_mode": {
    "name": "ipython",
    "version": 3
   },
   "file_extension": ".py",
   "mimetype": "text/x-python",
   "name": "python",
   "nbconvert_exporter": "python",
   "pygments_lexer": "ipython3",
   "version": "3.8.13"
  },
  "toc": {
   "base_numbering": 1,
   "nav_menu": {},
   "number_sections": true,
   "sideBar": true,
   "skip_h1_title": false,
   "title_cell": "Table of Contents",
   "title_sidebar": "Contents",
   "toc_cell": false,
   "toc_position": {},
   "toc_section_display": true,
   "toc_window_display": false
  },
  "varInspector": {
   "cols": {
    "lenName": 16,
    "lenType": 16,
    "lenVar": 40
   },
   "kernels_config": {
    "python": {
     "delete_cmd_postfix": "",
     "delete_cmd_prefix": "del ",
     "library": "var_list.py",
     "varRefreshCmd": "print(var_dic_list())"
    },
    "r": {
     "delete_cmd_postfix": ") ",
     "delete_cmd_prefix": "rm(",
     "library": "var_list.r",
     "varRefreshCmd": "cat(var_dic_list()) "
    }
   },
   "types_to_exclude": [
    "module",
    "function",
    "builtin_function_or_method",
    "instance",
    "_Feature"
   ],
   "window_display": false
  }
 },
 "nbformat": 4,
 "nbformat_minor": 5
}
