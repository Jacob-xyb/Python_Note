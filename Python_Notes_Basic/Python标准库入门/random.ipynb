{
 "cells": [
  {
   "cell_type": "markdown",
   "id": "f15131cc",
   "metadata": {},
   "source": [
    "# random\n",
    "\n",
    "https://www.jb51.net/article/206569.htm"
   ]
  },
  {
   "cell_type": "markdown",
   "id": "4103e649",
   "metadata": {},
   "source": [
    "## random.random()\n",
    "\n",
    "返回随机生成的一个实数，它在[0,1)范围内。"
   ]
  },
  {
   "cell_type": "code",
   "execution_count": 1,
   "id": "70cf3c5d",
   "metadata": {},
   "outputs": [
    {
     "name": "stdout",
     "output_type": "stream",
     "text": [
      "0.5405287820078251\n",
      "0.17121787001100985\n",
      "0.5918719771646924\n",
      "0.9789330771107267\n",
      "0.20310452117281652\n"
     ]
    }
   ],
   "source": [
    "import random\n",
    "\n",
    "for i in range(5):\n",
    "    print(random.random())"
   ]
  },
  {
   "cell_type": "markdown",
   "id": "379b544d",
   "metadata": {},
   "source": [
    "## random.randint(a, b)\n",
    "\n",
    "返回随机生成的一个整数，它在`[a, b]`范围内。"
   ]
  },
  {
   "cell_type": "code",
   "execution_count": 27,
   "id": "164e330e",
   "metadata": {},
   "outputs": [
    {
     "name": "stdout",
     "output_type": "stream",
     "text": [
      "8\n",
      "10\n",
      "1\n",
      "1\n",
      "7\n"
     ]
    }
   ],
   "source": [
    "# 生成一个 1-10 的随机整数 # randint(a,b) 输出[a,b]\n",
    "import random\n",
    "for i in range(5):\n",
    "    print(random.randint(1, 10))"
   ]
  },
  {
   "cell_type": "markdown",
   "id": "8c3c5e8d",
   "metadata": {},
   "source": [
    "## random.seed()"
   ]
  },
  {
   "cell_type": "code",
   "execution_count": 18,
   "id": "021080f1",
   "metadata": {},
   "outputs": [
    {
     "name": "stdout",
     "output_type": "stream",
     "text": [
      "0.13436424411240122\n",
      "0.13436424411240122\n",
      "0.13436424411240122\n",
      "0.13436424411240122\n",
      "0.13436424411240122\n",
      "0.4782479962566343\n",
      "0.4782479962566343\n",
      "0.4782479962566343\n",
      "0.4782479962566343\n",
      "0.4782479962566343\n"
     ]
    }
   ],
   "source": [
    "import random\n",
    "\n",
    "for i in range(5):\n",
    "    random.seed(1)\n",
    "    print(random.random())\n",
    "\n",
    "for i in range(5):\n",
    "    random.seed('1')\n",
    "    print(random.random())"
   ]
  },
  {
   "cell_type": "markdown",
   "id": "1aeaead7",
   "metadata": {},
   "source": [
    "## random.uniform(a, b)\n",
    "\n",
    "返回随机生成的一个实数，它在`[a, b]`范围内。"
   ]
  },
  {
   "cell_type": "code",
   "execution_count": 6,
   "id": "a665b90e",
   "metadata": {},
   "outputs": [
    {
     "name": "stdout",
     "output_type": "stream",
     "text": [
      "2.289042308283311\n",
      "2.2151159937902714\n",
      "3.4733094225643297\n",
      "4.341277892299306\n",
      "1.6495151002718693\n"
     ]
    }
   ],
   "source": [
    "for i in range(5):\n",
    "    print(random.uniform(1.1, 5.4))  "
   ]
  },
  {
   "cell_type": "markdown",
   "id": "8baa5bad",
   "metadata": {},
   "source": [
    "## random.randrange(a, b, step=1)\n",
    "\n",
    "返回随机生成的一个整数，它在[a, b)范围内, 间隔为 step。"
   ]
  },
  {
   "cell_type": "code",
   "execution_count": 14,
   "id": "e37c1e92",
   "metadata": {},
   "outputs": [
    {
     "name": "stdout",
     "output_type": "stream",
     "text": [
      "71\n",
      "99\n",
      "3\n",
      "87\n",
      "31\n"
     ]
    }
   ],
   "source": [
    "for i in range(5):\n",
    "    print(random.randrange(1, 100, 2)) "
   ]
  },
  {
   "cell_type": "code",
   "execution_count": 18,
   "id": "6c88ebe8",
   "metadata": {},
   "outputs": [
    {
     "name": "stdout",
     "output_type": "stream",
     "text": [
      "17\n",
      "8\n",
      "15\n",
      "8\n",
      "0\n"
     ]
    }
   ],
   "source": [
    "for i in range(5):\n",
    "    print(random.randrange(20)) "
   ]
  },
  {
   "cell_type": "markdown",
   "id": "89714011",
   "metadata": {},
   "source": [
    "## random.choice(seq)\n",
    "\n",
    "返回非空序列seq中的随机元素"
   ]
  },
  {
   "cell_type": "code",
   "execution_count": 21,
   "id": "46a56d81",
   "metadata": {},
   "outputs": [
    {
     "name": "stdout",
     "output_type": "stream",
     "text": [
      "o\n",
      "m\n"
     ]
    }
   ],
   "source": [
    "print(random.choice('tomorrow'))\n",
    "print(random.choice('tomorrow'))"
   ]
  },
  {
   "cell_type": "markdown",
   "id": "eb186cda",
   "metadata": {},
   "source": [
    "## random.sample(*population*, *k*, *, counts=None)\n",
    "\n",
    "用于无替换的随机抽样。"
   ]
  },
  {
   "cell_type": "code",
   "execution_count": 22,
   "id": "7f8da880",
   "metadata": {
    "scrolled": true
   },
   "outputs": [
    {
     "name": "stdout",
     "output_type": "stream",
     "text": [
      "['n', 'q', 't', 'g', 'i']\n"
     ]
    }
   ],
   "source": [
    "print(random.sample('zyxwvutsrqponmlkjihgfedcba',5))"
   ]
  },
  {
   "cell_type": "code",
   "execution_count": 25,
   "id": "7320c6e0",
   "metadata": {},
   "outputs": [
    {
     "name": "stdout",
     "output_type": "stream",
     "text": [
      "['green', 'blue', 'red', 'red', 'red']\n",
      "['blue', 'red', 'blue', 'red', 'blue']\n"
     ]
    }
   ],
   "source": [
    "print(random.sample(['red', 'green', 'blue'], 5, counts=[3, 1, 3]))\n",
    "print(random.sample(['red', 'green', 'blue'], 5, counts=[3, 1, 3]))\n",
    "\n",
    "# ['green', 'blue', 'red', 'red', 'red']\n",
    "# ['blue', 'red', 'blue', 'red', 'blue']"
   ]
  },
  {
   "cell_type": "markdown",
   "id": "05e34644",
   "metadata": {},
   "source": [
    "## random.shuffle(x)\n",
    "\n",
    "随机打乱自身序列，如果想不改变原序列，请使用 random.sample() 生成新的副本。"
   ]
  },
  {
   "cell_type": "code",
   "execution_count": 59,
   "id": "fa6ca9c8",
   "metadata": {},
   "outputs": [
    {
     "name": "stdout",
     "output_type": "stream",
     "text": [
      "[6, 0, 3, 7, 5, 2, 8, 9, 1, 4]\n"
     ]
    }
   ],
   "source": [
    "sample = list(range(10))\n",
    "random.shuffle(sample)\n",
    "print(sample)"
   ]
  },
  {
   "cell_type": "markdown",
   "id": "77895584",
   "metadata": {},
   "source": [
    "## 应用"
   ]
  },
  {
   "cell_type": "markdown",
   "id": "8f6d83f3",
   "metadata": {},
   "source": [
    "### 生成随机字符串"
   ]
  },
  {
   "cell_type": "code",
   "execution_count": 26,
   "id": "a294e127",
   "metadata": {
    "scrolled": true
   },
   "outputs": [
    {
     "name": "stdout",
     "output_type": "stream",
     "text": [
      "TrgJicEe\n"
     ]
    }
   ],
   "source": [
    "# 从a-zA-Z0-9生成指定数量的随机字符：\n",
    "import string\n",
    "import random\n",
    "ran_str = ''.join(random.sample(string.ascii_letters + string.digits, 8))\n",
    "print(ran_str)"
   ]
  }
 ],
 "metadata": {
  "kernelspec": {
   "display_name": "Python [conda env:python3.11]",
   "language": "python",
   "name": "conda-env-python3.11-py"
  },
  "language_info": {
   "codemirror_mode": {
    "name": "ipython",
    "version": 3
   },
   "file_extension": ".py",
   "mimetype": "text/x-python",
   "name": "python",
   "nbconvert_exporter": "python",
   "pygments_lexer": "ipython3",
   "version": "3.11.0"
  },
  "toc": {
   "base_numbering": 1,
   "nav_menu": {},
   "number_sections": true,
   "sideBar": true,
   "skip_h1_title": false,
   "title_cell": "Table of Contents",
   "title_sidebar": "Contents",
   "toc_cell": false,
   "toc_position": {},
   "toc_section_display": true,
   "toc_window_display": true
  },
  "varInspector": {
   "cols": {
    "lenName": 16,
    "lenType": 16,
    "lenVar": 40
   },
   "kernels_config": {
    "python": {
     "delete_cmd_postfix": "",
     "delete_cmd_prefix": "del ",
     "library": "var_list.py",
     "varRefreshCmd": "print(var_dic_list())"
    },
    "r": {
     "delete_cmd_postfix": ") ",
     "delete_cmd_prefix": "rm(",
     "library": "var_list.r",
     "varRefreshCmd": "cat(var_dic_list()) "
    }
   },
   "types_to_exclude": [
    "module",
    "function",
    "builtin_function_or_method",
    "instance",
    "_Feature"
   ],
   "window_display": false
  }
 },
 "nbformat": 4,
 "nbformat_minor": 5
}
