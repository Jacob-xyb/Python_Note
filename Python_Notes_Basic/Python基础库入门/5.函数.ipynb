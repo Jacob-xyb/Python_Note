{
 "cells": [
  {
   "cell_type": "markdown",
   "id": "0d0049b6",
   "metadata": {},
   "source": [
    "# 函数"
   ]
  },
  {
   "cell_type": "markdown",
   "id": "57dc5ba4",
   "metadata": {},
   "source": [
    "## 自定义函数"
   ]
  },
  {
   "cell_type": "markdown",
   "id": "7d3a5f81",
   "metadata": {},
   "source": [
    "## 参数"
   ]
  },
  {
   "cell_type": "markdown",
   "id": "1dbdc345",
   "metadata": {},
   "source": [
    "### 参数类型"
   ]
  },
  {
   "cell_type": "markdown",
   "id": "d9870fe6",
   "metadata": {},
   "source": [
    "#### 必须参数"
   ]
  },
  {
   "cell_type": "markdown",
   "id": "4762a7a7",
   "metadata": {},
   "source": [
    "#### 不定长参数"
   ]
  },
  {
   "cell_type": "markdown",
   "id": "38a08a21",
   "metadata": {},
   "source": [
    "- 单星号参数"
   ]
  },
  {
   "cell_type": "code",
   "execution_count": 1,
   "id": "03d3acce",
   "metadata": {},
   "outputs": [
    {
     "name": "stdout",
     "output_type": "stream",
     "text": [
      "输出: \n",
      "70\n",
      "(60, 50)\n"
     ]
    }
   ],
   "source": [
    "def printinfo(arg1, *vartuple):\n",
    "    \"打印任何传入的参数\"\n",
    "    print(\"输出: \")\n",
    "    print(arg1)\n",
    "    print(vartuple)\n",
    "\n",
    "\n",
    "# 调用printinfo 函数\n",
    "printinfo(70, 60, 50)"
   ]
  },
  {
   "cell_type": "markdown",
   "id": "286c4d09",
   "metadata": {},
   "source": [
    "- 双星号参数"
   ]
  },
  {
   "cell_type": "code",
   "execution_count": 1,
   "id": "67dc9645",
   "metadata": {},
   "outputs": [
    {
     "name": "stdout",
     "output_type": "stream",
     "text": [
      "{'a': 3, 'b': 4}\n",
      "7\n",
      "{'a': 1, 'b': 2}\n",
      "3\n"
     ]
    }
   ],
   "source": [
    "def test_sum(**kwargs):\n",
    "    print(kwargs)\n",
    "    return kwargs.get('a') + kwargs.get('b')\n",
    "\n",
    "\n",
    "item = {'a': 3, 'b': 4}\n",
    "print(test_sum(**item))\n",
    "print(test_sum(a=1, b=2))"
   ]
  },
  {
   "cell_type": "markdown",
   "id": "59010b8f",
   "metadata": {},
   "source": [
    "#### 强制关键字传入"
   ]
  },
  {
   "cell_type": "code",
   "execution_count": 10,
   "id": "270dab23",
   "metadata": {},
   "outputs": [
    {
     "name": "stdout",
     "output_type": "stream",
     "text": [
      "6\n",
      "6\n"
     ]
    }
   ],
   "source": [
    "# *号参数后必须使用关键字传入\n",
    "\n",
    "def func(a, b, *, c):\n",
    "    return a+b+c\n",
    "\n",
    "\n",
    "def func2(*, a, b, c):\n",
    "    return a+b+c\n",
    "\n",
    "\n",
    "print(func(1, 2, c=3))\n",
    "# print(func2(1, 2, c=3))\n",
    "# TypeError: func2() takes 0 positional arguments but 2 positional arguments (and 1 keyword-only argument) were given\n",
    "print(func2(a=1, b=2, c=3))"
   ]
  },
  {
   "cell_type": "markdown",
   "id": "a5225257",
   "metadata": {},
   "source": [
    "## 闭包"
   ]
  },
  {
   "cell_type": "markdown",
   "id": "a666ddb0",
   "metadata": {},
   "source": [
    "### 注意事项"
   ]
  },
  {
   "cell_type": "markdown",
   "id": "c62bab10",
   "metadata": {},
   "source": [
    "1. 闭包中，如果要修改引用的外层变量，需要使用 `nonlocal` 声明变量，否则当作是闭包内新定义的变量"
   ]
  },
  {
   "cell_type": "code",
   "execution_count": 7,
   "id": "b0c0ee9d",
   "metadata": {},
   "outputs": [
    {
     "name": "stdout",
     "output_type": "stream",
     "text": [
      "10\n",
      "66\n",
      "10\n"
     ]
    }
   ],
   "source": [
    "def test():\n",
    "    num = 10\n",
    "    def res():\n",
    "        num = 66\n",
    "        print(num)\n",
    "    print(num)\n",
    "    res()\n",
    "    print(num)\n",
    "    return res\n",
    "\n",
    "res = test()"
   ]
  },
  {
   "cell_type": "code",
   "execution_count": 11,
   "id": "19f38be5",
   "metadata": {},
   "outputs": [
    {
     "name": "stdout",
     "output_type": "stream",
     "text": [
      "10\n",
      "66\n",
      "66\n"
     ]
    }
   ],
   "source": [
    "def test():\n",
    "    num = 10\n",
    "    def res():\n",
    "        nonlocal num\n",
    "        num = 66\n",
    "        print(num)\n",
    "    print(num)\n",
    "    res()\n",
    "    print(num)\n",
    "    return res\n",
    "\n",
    "res = test()"
   ]
  },
  {
   "cell_type": "markdown",
   "id": "2735e5dd",
   "metadata": {},
   "source": [
    "2. 闭包内的参数确定的时机\n",
    "\n",
    "  当函数被调用的时候，才会真正确定对应的值。"
   ]
  },
  {
   "cell_type": "code",
   "execution_count": 2,
   "id": "6451a4c1",
   "metadata": {},
   "outputs": [
    {
     "name": "stdout",
     "output_type": "stream",
     "text": [
      "10\n"
     ]
    }
   ],
   "source": [
    "def test():\n",
    "    num = 1\n",
    "    def test2():\n",
    "        print(num)\n",
    "    num = 10\n",
    "    return test2\n",
    "\n",
    "res = test()()"
   ]
  },
  {
   "cell_type": "markdown",
   "id": "8fa43f0f",
   "metadata": {},
   "source": [
    "## 偏函数"
   ]
  },
  {
   "cell_type": "markdown",
   "id": "71499cf4",
   "metadata": {},
   "source": [
    "- 手动实现偏函数"
   ]
  },
  {
   "cell_type": "code",
   "execution_count": null,
   "id": "d34a9bc7",
   "metadata": {},
   "outputs": [],
   "source": [
    "def test(a, b, c, d):\n",
    "    print(a+b+c,d)\n",
    "\n",
    "# test2 即为 test 的偏函数\n",
    "def test2(a, b, c, d=1):\n",
    "    test(a, b, c, d)"
   ]
  },
  {
   "cell_type": "markdown",
   "id": "5bd9577e",
   "metadata": {},
   "source": [
    "- functools 实现偏函数\n",
    "\n",
    "    自带的偏函数有个问题，不能在偏函数中再次输入偏参数的值"
   ]
  },
  {
   "cell_type": "code",
   "execution_count": 3,
   "id": "74f48c56",
   "metadata": {
    "scrolled": true
   },
   "outputs": [
    {
     "name": "stdout",
     "output_type": "stream",
     "text": [
      "functools.partial(<function test at 0x000001AD5074AF20>, d=1) <class 'functools.partial'>\n",
      "6 1\n"
     ]
    }
   ],
   "source": [
    "def test(a, b, c, d):\n",
    "    print(a+b+c,d)\n",
    "\n",
    "import functools\n",
    "\n",
    "newFunc = functools.partial(test, d=1)\n",
    "print(newFunc, type(newFunc))\n",
    "newFunc(1, 2, 3)\n",
    "# newFunc(1, 2, 3, 4)  # TypeError: test() got multiple values for argument 'd'"
   ]
  },
  {
   "cell_type": "markdown",
   "id": "65cae507",
   "metadata": {},
   "source": [
    "## 高阶函数\n",
    "\n",
    "当一个函数的参数，接收的是另一个函数时，则称这个函数是`高阶函数`。\n",
    "\n",
    "sorted() 就是一个典型的高阶函数"
   ]
  },
  {
   "cell_type": "code",
   "execution_count": 4,
   "id": "225d3db6",
   "metadata": {},
   "outputs": [
    {
     "data": {
      "text/plain": [
       "[{'name': 'jx1', 'age': 18},\n",
       " {'name': 'jx2', 'age': 18.5},\n",
       " {'name': 'jx3', 'age': 19}]"
      ]
     },
     "execution_count": 4,
     "metadata": {},
     "output_type": "execute_result"
    }
   ],
   "source": [
    "l = [{\"name\": \"jx1\", 'age': 18}, {\"name\": \"jx2\", 'age': 18.5}, {\"name\": \"jx3\", 'age': 19}]\n",
    "def getKey(x):\n",
    "    return x['age']\n",
    "\n",
    "sorted(l, key=getKey)"
   ]
  }
 ],
 "metadata": {
  "kernelspec": {
   "display_name": "Python [conda env:python3.11]",
   "language": "python",
   "name": "conda-env-python3.11-py"
  },
  "language_info": {
   "codemirror_mode": {
    "name": "ipython",
    "version": 3
   },
   "file_extension": ".py",
   "mimetype": "text/x-python",
   "name": "python",
   "nbconvert_exporter": "python",
   "pygments_lexer": "ipython3",
   "version": "3.11.0"
  },
  "toc": {
   "base_numbering": 1,
   "nav_menu": {},
   "number_sections": true,
   "sideBar": true,
   "skip_h1_title": false,
   "title_cell": "Table of Contents",
   "title_sidebar": "Contents",
   "toc_cell": false,
   "toc_position": {},
   "toc_section_display": true,
   "toc_window_display": false
  },
  "varInspector": {
   "cols": {
    "lenName": 16,
    "lenType": 16,
    "lenVar": 40
   },
   "kernels_config": {
    "python": {
     "delete_cmd_postfix": "",
     "delete_cmd_prefix": "del ",
     "library": "var_list.py",
     "varRefreshCmd": "print(var_dic_list())"
    },
    "r": {
     "delete_cmd_postfix": ") ",
     "delete_cmd_prefix": "rm(",
     "library": "var_list.r",
     "varRefreshCmd": "cat(var_dic_list()) "
    }
   },
   "types_to_exclude": [
    "module",
    "function",
    "builtin_function_or_method",
    "instance",
    "_Feature"
   ],
   "window_display": false
  }
 },
 "nbformat": 4,
 "nbformat_minor": 5
}
