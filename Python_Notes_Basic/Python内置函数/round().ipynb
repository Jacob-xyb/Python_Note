{
 "cells": [
  {
   "cell_type": "markdown",
   "id": "bb081315",
   "metadata": {},
   "source": [
    "# round()"
   ]
  },
  {
   "cell_type": "code",
   "execution_count": 10,
   "id": "7bd5d62f",
   "metadata": {
    "scrolled": true
   },
   "outputs": [
    {
     "name": "stdout",
     "output_type": "stream",
     "text": [
      "2\n",
      "1.635\n"
     ]
    }
   ],
   "source": [
    "num = 1.6347\n",
    "print(round(num))  # 2\n",
    "print(round(num, 3))  # 1.635"
   ]
  },
  {
   "cell_type": "markdown",
   "id": "a7b0a2f0",
   "metadata": {},
   "source": [
    "## round 取舍的问题"
   ]
  },
  {
   "cell_type": "code",
   "execution_count": 11,
   "id": "e1d383ea",
   "metadata": {},
   "outputs": [
    {
     "name": "stdout",
     "output_type": "stream",
     "text": [
      "2\n",
      "1.534\n"
     ]
    }
   ],
   "source": [
    "num = 1.5345\n",
    "print(round(num))  # 2\n",
    "print(round(num, 3))  # 1.534"
   ]
  },
  {
   "cell_type": "markdown",
   "id": "664424f8",
   "metadata": {},
   "source": [
    "## 自己实现真正的四舍五入"
   ]
  },
  {
   "cell_type": "code",
   "execution_count": 12,
   "id": "ade9df3d",
   "metadata": {},
   "outputs": [],
   "source": [
    "def my_round(num,ndigits=0):     \n",
    "    return (int(pow(10, ndigits) * num - 0.5)+1) / pow(10, ndigits)"
   ]
  },
  {
   "cell_type": "code",
   "execution_count": 13,
   "id": "bd196303",
   "metadata": {},
   "outputs": [
    {
     "name": "stdout",
     "output_type": "stream",
     "text": [
      "2.0\n",
      "1.535\n"
     ]
    }
   ],
   "source": [
    "num = 1.5345\n",
    "print(my_round(num))  # 2.0\n",
    "print(my_round(num, 3))  # 1.535"
   ]
  }
 ],
 "metadata": {
  "kernelspec": {
   "display_name": "Python [conda env:python3.11]",
   "language": "python",
   "name": "conda-env-python3.11-py"
  },
  "language_info": {
   "codemirror_mode": {
    "name": "ipython",
    "version": 3
   },
   "file_extension": ".py",
   "mimetype": "text/x-python",
   "name": "python",
   "nbconvert_exporter": "python",
   "pygments_lexer": "ipython3",
   "version": "3.11.0"
  },
  "toc": {
   "base_numbering": 1,
   "nav_menu": {},
   "number_sections": true,
   "sideBar": true,
   "skip_h1_title": false,
   "title_cell": "Table of Contents",
   "title_sidebar": "Contents",
   "toc_cell": false,
   "toc_position": {},
   "toc_section_display": true,
   "toc_window_display": false
  },
  "varInspector": {
   "cols": {
    "lenName": 16,
    "lenType": 16,
    "lenVar": 40
   },
   "kernels_config": {
    "python": {
     "delete_cmd_postfix": "",
     "delete_cmd_prefix": "del ",
     "library": "var_list.py",
     "varRefreshCmd": "print(var_dic_list())"
    },
    "r": {
     "delete_cmd_postfix": ") ",
     "delete_cmd_prefix": "rm(",
     "library": "var_list.r",
     "varRefreshCmd": "cat(var_dic_list()) "
    }
   },
   "types_to_exclude": [
    "module",
    "function",
    "builtin_function_or_method",
    "instance",
    "_Feature"
   ],
   "window_display": false
  }
 },
 "nbformat": 4,
 "nbformat_minor": 5
}
