{
 "cells": [
  {
   "cell_type": "markdown",
   "id": "f64bf493",
   "metadata": {},
   "source": [
    "# os"
   ]
  },
  {
   "cell_type": "markdown",
   "id": "24d4ca87",
   "metadata": {},
   "source": [
    "## os."
   ]
  },
  {
   "cell_type": "code",
   "execution_count": 5,
   "id": "4acc7646",
   "metadata": {},
   "outputs": [
    {
     "name": "stdout",
     "output_type": "stream",
     "text": [
      "nt\n",
      "E:\\Jacob_xyb\\code\\repository\\Python_Note\\Python_Notes_Basic\\Python标准库入门\n"
     ]
    }
   ],
   "source": [
    "import os\n",
    "print(os.name)  # nt\n",
    "print(os.getcwd())  # 获取当前文件所在路径"
   ]
  },
  {
   "cell_type": "code",
   "execution_count": 5,
   "id": "5c3ea671",
   "metadata": {
    "scrolled": true
   },
   "outputs": [],
   "source": [
    "import os\n",
    "os.remove('remove.txt')  # 删除路径下的文件\n",
    "os.rmdir('ttt')  # 删除空文件夹"
   ]
  },
  {
   "cell_type": "code",
   "execution_count": 17,
   "id": "dd1e4836",
   "metadata": {},
   "outputs": [],
   "source": [
    "import shutil\n",
    "shutil.rmtree('ttt')  # 删除文件夹，无论是否为空"
   ]
  },
  {
   "cell_type": "markdown",
   "id": "a65dd00c",
   "metadata": {},
   "source": [
    "## os.path"
   ]
  },
  {
   "cell_type": "code",
   "execution_count": 2,
   "id": "1005ffca",
   "metadata": {},
   "outputs": [
    {
     "name": "stdout",
     "output_type": "stream",
     "text": [
      "D:\\0.xyb\\3.hacker\\1.python_repository\\git_repository\\Python_Note\\Python_Notes_Basic\\Python标准库入门\n",
      "D:\\0.xyb\\3.hacker\\1.python_repository\\git_repository\\Python_Note\\Python_Notes_Basic\n"
     ]
    }
   ],
   "source": [
    "import os\n",
    "p = os.getcwd()\n",
    "print(p)\n",
    "print(os.path.dirname(p))"
   ]
  },
  {
   "cell_type": "code",
   "execution_count": 9,
   "id": "feaebe4a",
   "metadata": {},
   "outputs": [
    {
     "name": "stdout",
     "output_type": "stream",
     "text": [
      "['.ipynb_checkpoints', '1.os.ipynb', '2.sys.ipynb', '3.time.ipynb']\n",
      ".ipynb_checkpoints\n"
     ]
    }
   ],
   "source": [
    "import os\n",
    "p = os.getcwd()\n",
    "l = os.listdir(p)\n",
    "print(l)\n",
    "for i in l:\n",
    "    if os.path.isdir(i):\n",
    "        print(i)"
   ]
  }
 ],
 "metadata": {
  "kernelspec": {
   "display_name": "Python 3 (ipykernel)",
   "language": "python",
   "name": "python3"
  },
  "language_info": {
   "codemirror_mode": {
    "name": "ipython",
    "version": 3
   },
   "file_extension": ".py",
   "mimetype": "text/x-python",
   "name": "python",
   "nbconvert_exporter": "python",
   "pygments_lexer": "ipython3",
   "version": "3.8.12"
  },
  "toc": {
   "base_numbering": 1,
   "nav_menu": {},
   "number_sections": true,
   "sideBar": true,
   "skip_h1_title": false,
   "title_cell": "Table of Contents",
   "title_sidebar": "Contents",
   "toc_cell": false,
   "toc_position": {},
   "toc_section_display": true,
   "toc_window_display": false
  },
  "varInspector": {
   "cols": {
    "lenName": 16,
    "lenType": 16,
    "lenVar": 40
   },
   "kernels_config": {
    "python": {
     "delete_cmd_postfix": "",
     "delete_cmd_prefix": "del ",
     "library": "var_list.py",
     "varRefreshCmd": "print(var_dic_list())"
    },
    "r": {
     "delete_cmd_postfix": ") ",
     "delete_cmd_prefix": "rm(",
     "library": "var_list.r",
     "varRefreshCmd": "cat(var_dic_list()) "
    }
   },
   "types_to_exclude": [
    "module",
    "function",
    "builtin_function_or_method",
    "instance",
    "_Feature"
   ],
   "window_display": false
  }
 },
 "nbformat": 4,
 "nbformat_minor": 5
}
