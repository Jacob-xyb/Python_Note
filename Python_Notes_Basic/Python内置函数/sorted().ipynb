{
 "cells": [
  {
   "cell_type": "markdown",
   "id": "5631baf8",
   "metadata": {},
   "source": [
    "# sorted()"
   ]
  },
  {
   "cell_type": "markdown",
   "id": "baf2f1a8",
   "metadata": {},
   "source": [
    "## sorted(iterable)"
   ]
  },
  {
   "cell_type": "code",
   "execution_count": 1,
   "id": "ac4e5441",
   "metadata": {},
   "outputs": [
    {
     "data": {
      "text/plain": [
       "['a', 'b', 'f', 'f', 'f', 'g', 'o', 'o']"
      ]
     },
     "execution_count": 1,
     "metadata": {},
     "output_type": "execute_result"
    }
   ],
   "source": [
    "sorted(\"fgbofaof\")"
   ]
  },
  {
   "cell_type": "code",
   "execution_count": 4,
   "id": "b62be62d",
   "metadata": {},
   "outputs": [
    {
     "data": {
      "text/plain": [
       "[('jx1', 18), ('jx2', 30), ('jx3', 20), ('jx4', 15)]"
      ]
     },
     "execution_count": 4,
     "metadata": {},
     "output_type": "execute_result"
    }
   ],
   "source": [
    "names = [('jx1', 18), ('jx2', 30), ('jx3', 20), ('jx4', 15)]\n",
    "sorted(names)  # 默认是元组的第一个元素进行排序"
   ]
  },
  {
   "cell_type": "markdown",
   "id": "6f8271b1",
   "metadata": {},
   "source": [
    "## sorted(iterable, key=None)"
   ]
  },
  {
   "cell_type": "code",
   "execution_count": 5,
   "id": "d9bece1c",
   "metadata": {},
   "outputs": [
    {
     "data": {
      "text/plain": [
       "[('jx4', 15), ('jx1', 18), ('jx3', 20), ('jx2', 30)]"
      ]
     },
     "execution_count": 5,
     "metadata": {},
     "output_type": "execute_result"
    }
   ],
   "source": [
    "def getKey(x):\n",
    "    return x[1]\n",
    "\n",
    "names = [('jx1', 18), ('jx2', 30), ('jx3', 20), ('jx4', 15)]\n",
    "sorted(names, key=getKey) "
   ]
  }
 ],
 "metadata": {
  "kernelspec": {
   "display_name": "Python [conda env:python3.11]",
   "language": "python",
   "name": "conda-env-python3.11-py"
  },
  "language_info": {
   "codemirror_mode": {
    "name": "ipython",
    "version": 3
   },
   "file_extension": ".py",
   "mimetype": "text/x-python",
   "name": "python",
   "nbconvert_exporter": "python",
   "pygments_lexer": "ipython3",
   "version": "3.11.0"
  },
  "toc": {
   "base_numbering": 1,
   "nav_menu": {},
   "number_sections": true,
   "sideBar": true,
   "skip_h1_title": false,
   "title_cell": "Table of Contents",
   "title_sidebar": "Contents",
   "toc_cell": false,
   "toc_position": {},
   "toc_section_display": true,
   "toc_window_display": false
  },
  "varInspector": {
   "cols": {
    "lenName": 16,
    "lenType": 16,
    "lenVar": 40
   },
   "kernels_config": {
    "python": {
     "delete_cmd_postfix": "",
     "delete_cmd_prefix": "del ",
     "library": "var_list.py",
     "varRefreshCmd": "print(var_dic_list())"
    },
    "r": {
     "delete_cmd_postfix": ") ",
     "delete_cmd_prefix": "rm(",
     "library": "var_list.r",
     "varRefreshCmd": "cat(var_dic_list()) "
    }
   },
   "types_to_exclude": [
    "module",
    "function",
    "builtin_function_or_method",
    "instance",
    "_Feature"
   ],
   "window_display": false
  }
 },
 "nbformat": 4,
 "nbformat_minor": 5
}
