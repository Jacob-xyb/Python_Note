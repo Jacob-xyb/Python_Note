{
 "cells": [
  {
   "cell_type": "code",
   "execution_count": 1,
   "metadata": {},
   "outputs": [],
   "source": [
    "import time"
   ]
  },
  {
   "cell_type": "markdown",
   "metadata": {},
   "source": [
    "# time clock()\n",
    "\n",
    "- __Python 3.8 已移除 clock() 方法 可以使用 time.perf_counter() 或 time.process_time() 方法替代。__\n",
    "\n",
    "---\n",
    "\n",
    "- 以浮点数计算的秒数返回当前的CPU时间。用来衡量不同程序的耗时，比time.time()更有用。\n",
    "\n",
    "这个需要注意，在不同的系统上含义不同。在UNIX系统上，它返回的是\"进程时间\"，它是用秒表示的浮点数（时间戳）。而在WINDOWS中，第一次调用，返回的是进程运行的实际时间。而第二次之后的调用是自第一次调用以后到现在的运行时间。（实际上是以WIN32上QueryPerformanceCounter()为基础，它比毫秒表示更为精确）\n",
    "\n",
    "在win32系统下，这个函数返回的是真实时间（wall time），而在Unix/Linux下返回的是CPU时间。"
   ]
  },
  {
   "cell_type": "code",
   "execution_count": 6,
   "metadata": {},
   "outputs": [
    {
     "name": "stdout",
     "output_type": "stream",
     "text": [
      "2.5000456000000213 seconds perfer time\n",
      "0.0 seconds process time\n",
      "2.5125014781951904 seconds wall time\n"
     ]
    }
   ],
   "source": [
    "import time\n",
    "\n",
    "def procedure():\n",
    "    time.sleep(2.5)\n",
    "\n",
    "# measure perfer time\n",
    "t0 = time.perf_counter()\n",
    "procedure()\n",
    "print (time.perf_counter() - t0, \"seconds perfer time\")\n",
    "\n",
    "# measure process time \n",
    "t0 = time.process_time()\n",
    "procedure()\n",
    "print (time.process_time() - t0, \"seconds process time\")\n",
    "\n",
    "# measure wall time\n",
    "t0 = time.time()\n",
    "procedure()\n",
    "print (time.time() - t0, \"seconds wall time\")"
   ]
  },
  {
   "cell_type": "code",
   "execution_count": null,
   "metadata": {},
   "outputs": [],
   "source": [
    "from timeit import Timer\n",
    "\n",
    "\n",
    "def test1():\n",
    "    l = []\n",
    "    for i in range(1000):\n",
    "        l = l + [i]\n",
    "def test2():\n",
    "    l = []\n",
    "    for i in range(1000):\n",
    "        l.append(i)\n",
    "def test3():\n",
    "    l = [i for i in range(1000)]\n",
    "def test4():\n",
    "    l = list(range(1000))\n",
    "\n",
    "\n",
    "\n",
    "# print([i for i in range(100)])\n",
    "t1 = Timer('test1()', 'from __main__ import test1')\n",
    "print('concat %f seconds\\n' % t1.timeit(1000))\n",
    "t2 = Timer('test2()', 'from __main__ import test2')\n",
    "print('append %f seconds\\n' % t2.timeit(1000))\n",
    "t3 = Timer('test3()', 'from __main__ import test3')\n",
    "print('comprehension %f seconds\\n' % t3.timeit(1000))\n",
    "t4 = Timer('test4()', 'from __main__ import test4')\n",
    "print('list range %f seconds\\n' % t4.timeit(1000))\n"
   ]
  }
 ],
 "metadata": {
  "kernelspec": {
   "display_name": "Python 3",
   "language": "python",
   "name": "python3"
  },
  "language_info": {
   "codemirror_mode": {
    "name": "ipython",
    "version": 3
   },
   "file_extension": ".py",
   "mimetype": "text/x-python",
   "name": "python",
   "nbconvert_exporter": "python",
   "pygments_lexer": "ipython3",
   "version": "3.8.5"
  },
  "toc": {
   "base_numbering": 1,
   "nav_menu": {},
   "number_sections": true,
   "sideBar": true,
   "skip_h1_title": false,
   "title_cell": "Table of Contents",
   "title_sidebar": "Contents",
   "toc_cell": false,
   "toc_position": {},
   "toc_section_display": true,
   "toc_window_display": false
  },
  "varInspector": {
   "cols": {
    "lenName": 16,
    "lenType": 16,
    "lenVar": 40
   },
   "kernels_config": {
    "python": {
     "delete_cmd_postfix": "",
     "delete_cmd_prefix": "del ",
     "library": "var_list.py",
     "varRefreshCmd": "print(var_dic_list())"
    },
    "r": {
     "delete_cmd_postfix": ") ",
     "delete_cmd_prefix": "rm(",
     "library": "var_list.r",
     "varRefreshCmd": "cat(var_dic_list()) "
    }
   },
   "types_to_exclude": [
    "module",
    "function",
    "builtin_function_or_method",
    "instance",
    "_Feature"
   ],
   "window_display": false
  }
 },
 "nbformat": 4,
 "nbformat_minor": 4
}
