{
 "cells": [
  {
   "cell_type": "markdown",
   "id": "f64bf493",
   "metadata": {},
   "source": [
    "# os"
   ]
  },
  {
   "cell_type": "markdown",
   "id": "24d4ca87",
   "metadata": {},
   "source": [
    "## os."
   ]
  },
  {
   "cell_type": "code",
   "execution_count": 5,
   "id": "4acc7646",
   "metadata": {},
   "outputs": [
    {
     "name": "stdout",
     "output_type": "stream",
     "text": [
      "nt\n",
      "E:\\Jacob_xyb\\code\\repository\\Python_Note\\Python_Notes_Basic\\Python标准库入门\n"
     ]
    }
   ],
   "source": [
    "import os\n",
    "print(os.name)  # nt\n",
    "print(os.getcwd())  # 获取当前文件所在路径"
   ]
  },
  {
   "cell_type": "code",
   "execution_count": 18,
   "id": "5c3ea671",
   "metadata": {
    "scrolled": true
   },
   "outputs": [],
   "source": [
    "# 删除路径下的文件\n",
    "import os\n",
    "# os.remove('ttt')\n",
    "os.rmdir('ttt')"
   ]
  },
  {
   "cell_type": "code",
   "execution_count": 17,
   "id": "dd1e4836",
   "metadata": {},
   "outputs": [],
   "source": [
    "import shutil\n",
    "shutil.rmtree('ttt')"
   ]
  },
  {
   "cell_type": "markdown",
   "id": "a65dd00c",
   "metadata": {},
   "source": [
    "## os.path"
   ]
  }
 ],
 "metadata": {
  "kernelspec": {
   "display_name": "Python 3 (ipykernel)",
   "language": "python",
   "name": "python3"
  },
  "language_info": {
   "codemirror_mode": {
    "name": "ipython",
    "version": 3
   },
   "file_extension": ".py",
   "mimetype": "text/x-python",
   "name": "python",
   "nbconvert_exporter": "python",
   "pygments_lexer": "ipython3",
   "version": "3.8.13"
  },
  "toc": {
   "base_numbering": 1,
   "nav_menu": {},
   "number_sections": true,
   "sideBar": true,
   "skip_h1_title": false,
   "title_cell": "Table of Contents",
   "title_sidebar": "Contents",
   "toc_cell": false,
   "toc_position": {},
   "toc_section_display": true,
   "toc_window_display": false
  },
  "varInspector": {
   "cols": {
    "lenName": 16,
    "lenType": 16,
    "lenVar": 40
   },
   "kernels_config": {
    "python": {
     "delete_cmd_postfix": "",
     "delete_cmd_prefix": "del ",
     "library": "var_list.py",
     "varRefreshCmd": "print(var_dic_list())"
    },
    "r": {
     "delete_cmd_postfix": ") ",
     "delete_cmd_prefix": "rm(",
     "library": "var_list.r",
     "varRefreshCmd": "cat(var_dic_list()) "
    }
   },
   "types_to_exclude": [
    "module",
    "function",
    "builtin_function_or_method",
    "instance",
    "_Feature"
   ],
   "window_display": false
  }
 },
 "nbformat": 4,
 "nbformat_minor": 5
}
