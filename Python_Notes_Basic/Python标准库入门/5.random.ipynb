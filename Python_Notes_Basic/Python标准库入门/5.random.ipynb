{
 "cells": [
  {
   "cell_type": "markdown",
   "id": "f15131cc",
   "metadata": {},
   "source": [
    "# random\n",
    "\n",
    "https://www.jb51.net/article/206569.htm"
   ]
  },
  {
   "cell_type": "markdown",
   "id": "4103e649",
   "metadata": {},
   "source": [
    "## random.random()\n",
    "\n",
    "返回随机生成的一个实数，它在[0,1)范围内。"
   ]
  },
  {
   "cell_type": "code",
   "execution_count": 1,
   "id": "70cf3c5d",
   "metadata": {},
   "outputs": [
    {
     "name": "stdout",
     "output_type": "stream",
     "text": [
      "0.5405287820078251\n",
      "0.17121787001100985\n",
      "0.5918719771646924\n",
      "0.9789330771107267\n",
      "0.20310452117281652\n"
     ]
    }
   ],
   "source": [
    "import random\n",
    "\n",
    "for i in range(5):\n",
    "    print(random.random())"
   ]
  },
  {
   "cell_type": "markdown",
   "id": "8c3c5e8d",
   "metadata": {},
   "source": [
    "## random.seed()"
   ]
  },
  {
   "cell_type": "code",
   "execution_count": 18,
   "id": "021080f1",
   "metadata": {},
   "outputs": [
    {
     "name": "stdout",
     "output_type": "stream",
     "text": [
      "0.13436424411240122\n",
      "0.13436424411240122\n",
      "0.13436424411240122\n",
      "0.13436424411240122\n",
      "0.13436424411240122\n",
      "0.4782479962566343\n",
      "0.4782479962566343\n",
      "0.4782479962566343\n",
      "0.4782479962566343\n",
      "0.4782479962566343\n"
     ]
    }
   ],
   "source": [
    "import random\n",
    "\n",
    "for i in range(5):\n",
    "    random.seed(1)\n",
    "    print(random.random())\n",
    "\n",
    "for i in range(5):\n",
    "    random.seed('1')\n",
    "    print(random.random())"
   ]
  }
 ],
 "metadata": {
  "kernelspec": {
   "display_name": "Python [conda env:python3.11]",
   "language": "python",
   "name": "conda-env-python3.11-py"
  },
  "language_info": {
   "codemirror_mode": {
    "name": "ipython",
    "version": 3
   },
   "file_extension": ".py",
   "mimetype": "text/x-python",
   "name": "python",
   "nbconvert_exporter": "python",
   "pygments_lexer": "ipython3",
   "version": "3.11.0"
  },
  "toc": {
   "base_numbering": 1,
   "nav_menu": {},
   "number_sections": true,
   "sideBar": true,
   "skip_h1_title": false,
   "title_cell": "Table of Contents",
   "title_sidebar": "Contents",
   "toc_cell": false,
   "toc_position": {},
   "toc_section_display": true,
   "toc_window_display": false
  },
  "varInspector": {
   "cols": {
    "lenName": 16,
    "lenType": 16,
    "lenVar": 40
   },
   "kernels_config": {
    "python": {
     "delete_cmd_postfix": "",
     "delete_cmd_prefix": "del ",
     "library": "var_list.py",
     "varRefreshCmd": "print(var_dic_list())"
    },
    "r": {
     "delete_cmd_postfix": ") ",
     "delete_cmd_prefix": "rm(",
     "library": "var_list.r",
     "varRefreshCmd": "cat(var_dic_list()) "
    }
   },
   "types_to_exclude": [
    "module",
    "function",
    "builtin_function_or_method",
    "instance",
    "_Feature"
   ],
   "window_display": false
  }
 },
 "nbformat": 4,
 "nbformat_minor": 5
}
