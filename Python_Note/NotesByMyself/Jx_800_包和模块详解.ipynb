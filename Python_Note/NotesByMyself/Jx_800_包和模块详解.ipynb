{
 "cells": [
  {
   "cell_type": "markdown",
   "metadata": {},
   "source": [
    "# 资源汇总\n",
    "\n",
    "    可以直接从包和模块的基本操作开始看，模块详解将的比较杂乱，晦涩。\n",
    "\n",
    "- b站链接\n",
    "\n",
    "  [b站模块详解学习视频](https://www.bilibili.com/video/BV194411r7a8?p=1)"
   ]
  },
  {
   "cell_type": "markdown",
   "metadata": {},
   "source": [
    "# 模块详解\n",
    "## 基本概念\n",
    "\n",
    "### 模块、包\n",
    "\n",
    "- __模块：module__  \n",
    "\n",
    "  一般情况下，是一个以`.py`为后缀的文件。其他可作为module的文件类型还有\".pyo\"、\".pyc\"、\".pyd\"、\".so\"、\".dll\"，但Python初学者几乎用不到。  \n",
    "  module 可看作一个工具类，可共用或者隐藏代码细节，将相关代码放置在一个module以便让代码更好用、易懂，让coder重点放在高层逻辑上。  \n",
    "  module能定义函数、类、变量，也能包含可执行的代码。\n",
    "\n",
    "  - module来源有3种：\n",
    "  \n",
    " \n",
    " 1. Python内置的模块（标准库）：就是python安装环境中自带的库。\n",
    "  \n",
    "    其中内置库不需要导入，意思就是在我们编码的过程中，python自动帮我们导入的模块，比如`print`函数，既然有函数，就一定封装在一个模块里面，这个模块就是`__builtin__`；可以`import __builtin__`然后点进去可以看到`type`、`int`等内置函数。\n",
    "    `print(dir(__builtin__))`可以查看内置模块里面的内容。"
   ]
  },
  {
   "cell_type": "code",
   "execution_count": 8,
   "metadata": {},
   "outputs": [
    {
     "name": "stdout",
     "output_type": "stream",
     "text": [
      "['ArithmeticError', 'AssertionError', 'AttributeError', 'BaseException', 'BlockingIOError', 'BrokenPipeError', 'BufferError', 'BytesWarning', 'ChildProcessError', 'ConnectionAbortedError', 'ConnectionError', 'ConnectionRefusedError', 'ConnectionResetError', 'DeprecationWarning', 'EOFError', 'Ellipsis', 'EnvironmentError', 'Exception', 'False', 'FileExistsError', 'FileNotFoundError', 'FloatingPointError', 'FutureWarning', 'GeneratorExit', 'IOError', 'ImportError', 'ImportWarning', 'IndentationError', 'IndexError', 'InterruptedError', 'IsADirectoryError', 'KeyError', 'KeyboardInterrupt', 'LookupError', 'MemoryError', 'ModuleNotFoundError', 'NameError', 'None', 'NotADirectoryError', 'NotImplemented', 'NotImplementedError', 'OSError', 'OverflowError', 'PendingDeprecationWarning', 'PermissionError', 'ProcessLookupError', 'RecursionError', 'ReferenceError', 'ResourceWarning', 'RuntimeError', 'RuntimeWarning', 'StopAsyncIteration', 'StopIteration', 'SyntaxError', 'SyntaxWarning', 'SystemError', 'SystemExit', 'TabError', 'TimeoutError', 'True', 'TypeError', 'UnboundLocalError', 'UnicodeDecodeError', 'UnicodeEncodeError', 'UnicodeError', 'UnicodeTranslateError', 'UnicodeWarning', 'UserWarning', 'ValueError', 'Warning', 'WindowsError', 'ZeroDivisionError', '__IPYTHON__', '__build_class__', '__debug__', '__doc__', '__import__', '__loader__', '__name__', '__package__', '__spec__', 'abs', 'all', 'any', 'ascii', 'bin', 'bool', 'breakpoint', 'bytearray', 'bytes', 'callable', 'chr', 'classmethod', 'compile', 'complex', 'copyright', 'credits', 'delattr', 'dict', 'dir', 'display', 'divmod', 'enumerate', 'eval', 'exec', 'filter', 'float', 'format', 'frozenset', 'get_ipython', 'getattr', 'globals', 'hasattr', 'hash', 'help', 'hex', 'id', 'input', 'int', 'isinstance', 'issubclass', 'iter', 'len', 'license', 'list', 'locals', 'map', 'max', 'memoryview', 'min', 'next', 'object', 'oct', 'open', 'ord', 'pow', 'print', 'property', 'range', 'repr', 'reversed', 'round', 'set', 'setattr', 'slice', 'sorted', 'staticmethod', 'str', 'sum', 'super', 'tuple', 'type', 'vars', 'zip']\n"
     ]
    }
   ],
   "source": [
    "print(dir(__builtin__))  # == print(dir(__builtins__)) python3 改名字了，然后又兼容 python2的名字。"
   ]
  },
  {
   "cell_type": "markdown",
   "metadata": {},
   "source": [
    "- 在python3.x中，内置的模块名有所改变\n",
    "在某些IDE中，并不支持以上兼容，所以python3有自己的特有写法"
   ]
  },
  {
   "cell_type": "code",
   "execution_count": 10,
   "metadata": {},
   "outputs": [
    {
     "name": "stdout",
     "output_type": "stream",
     "text": [
      "['ArithmeticError', 'AssertionError', 'AttributeError', 'BaseException', 'BlockingIOError', 'BrokenPipeError', 'BufferError', 'BytesWarning', 'ChildProcessError', 'ConnectionAbortedError', 'ConnectionError', 'ConnectionRefusedError', 'ConnectionResetError', 'DeprecationWarning', 'EOFError', 'Ellipsis', 'EnvironmentError', 'Exception', 'False', 'FileExistsError', 'FileNotFoundError', 'FloatingPointError', 'FutureWarning', 'GeneratorExit', 'IOError', 'ImportError', 'ImportWarning', 'IndentationError', 'IndexError', 'InterruptedError', 'IsADirectoryError', 'KeyError', 'KeyboardInterrupt', 'LookupError', 'MemoryError', 'ModuleNotFoundError', 'NameError', 'None', 'NotADirectoryError', 'NotImplemented', 'NotImplementedError', 'OSError', 'OverflowError', 'PendingDeprecationWarning', 'PermissionError', 'ProcessLookupError', 'RecursionError', 'ReferenceError', 'ResourceWarning', 'RuntimeError', 'RuntimeWarning', 'StopAsyncIteration', 'StopIteration', 'SyntaxError', 'SyntaxWarning', 'SystemError', 'SystemExit', 'TabError', 'TimeoutError', 'True', 'TypeError', 'UnboundLocalError', 'UnicodeDecodeError', 'UnicodeEncodeError', 'UnicodeError', 'UnicodeTranslateError', 'UnicodeWarning', 'UserWarning', 'ValueError', 'Warning', 'WindowsError', 'ZeroDivisionError', '__IPYTHON__', '__build_class__', '__debug__', '__doc__', '__import__', '__loader__', '__name__', '__package__', '__spec__', 'abs', 'all', 'any', 'ascii', 'bin', 'bool', 'breakpoint', 'bytearray', 'bytes', 'callable', 'chr', 'classmethod', 'compile', 'complex', 'copyright', 'credits', 'delattr', 'dict', 'dir', 'display', 'divmod', 'enumerate', 'eval', 'exec', 'filter', 'float', 'format', 'frozenset', 'get_ipython', 'getattr', 'globals', 'hasattr', 'hash', 'help', 'hex', 'id', 'input', 'int', 'isinstance', 'issubclass', 'iter', 'len', 'license', 'list', 'locals', 'map', 'max', 'memoryview', 'min', 'next', 'object', 'oct', 'open', 'ord', 'pow', 'print', 'property', 'range', 'repr', 'reversed', 'round', 'set', 'setattr', 'slice', 'sorted', 'staticmethod', 'str', 'sum', 'super', 'tuple', 'type', 'vars', 'zip']\n"
     ]
    }
   ],
   "source": [
    "import builtins\n",
    "print(dir(builtins))"
   ]
  },
  {
   "cell_type": "markdown",
   "metadata": {},
   "source": [
    "2. 第三方模块；  \n",
    "3. 自定义模块。\n",
    "\n",
    "- __包：package__  \n",
    "\n",
    "  为避免模块名冲突，Python引入了按目录组织模块的方法，称之为 包（package）。包 是含有Python模块的文件夹。  \n",
    "  ![](https://i.loli.net/2021/07/14/8bgEYVNSHlPwBvr.png)  \n",
    "  当一个文件夹下有 `__init__.py` 时，意为该文件夹是一个包（package），其下的多个模块（module）构成一个整体，而这些模块（module）都可通过同一个包（package）导入其他代码中。  \n",
    "\n",
    "  其中 `__init__.py` 文件 用于组织包（package），方便管理各个模块之间的引用、控制着包的导入行为。  \n",
    "  该文件可以什么内容都不写，即为空文件（为空时，仅仅用import [该包]形式 是什么也做不了的），存在即可，相当于一个标记。  \n",
    "  但若想使用 `from pacakge_1 import *` 这种形式的写法，需在 `__init__.py` 中加上： `__all__ = [‘file_a’, ‘file_b’] #package_1下有file_a.py和file_b.py`，在导入时 `__init__.py`文件将被执行。  \n",
    "  但不建议在 `__init__.py` 中写模块，以保证该文件简单。不过可在 `__init__.py` 导入我们需要的模块，以便避免一个个导入、方便使用。\n",
    "\n",
    "- 使用`__all__`定义模块访问白名单\n",
    "\n",
    "  其中，`__all__` 是一个重要的变量，用来指定此包（package）被 `import *` 时，那些模块（module）会被import进【当前作用域中】。不在`__all__` 列表中的模块不会被其他程序引用。  \n",
    "\n",
    "  1. 只对“from package import *”导入产生影响，对“import package.module”或“from package import module”不产生影响；\n",
    "  2. 在`__all__`列表中的元素不论是否带下划线开头，“from 模块名 import *”都会导入，不受模块的缺省封装机制影响，可以说这是另一种方式的封装；\n",
    "  3. 在模块定义`__all__`变量后，可以使用 `模块.__all__` 查看模块建议使用的模块成员。\n",
    "  \n",
    "- `__path__`\n",
    "\n",
    "  `__path__`也是一个常用变量，是个列表，默认情况下只有一个元素，即当前包（package）的路径。修改 `__path__` 可改变包（package）内的搜索路径。\n",
    "  \n",
    "  \n",
    "当我们在导入一个包（package）时（会先加载  `__init__.py` 定义的引入模块，然后再运行其他代码），实际上是导入的它的 `__init__.py` 文件（导入时，该文件自动运行，助我们一下导入该包中的多个模块）。我们可以在 `__init__.py` 中再导入其他的包（package）或 模块 或 自定义类。\n",
    "\n",
    "### sys.modules、命名空间、模块内置属性\n",
    "\n",
    "- sys.modules\n",
    "\n",
    "  [官方文档](https://docs.python.org/3.6/library/sys.html?highlight=sys%20modules#sys.modules)  \n",
    "  **sys.modules**是一个 将模块名称（module_name）映射到已加载的模块（modules） 的字典。可用来强制重新加载modules。Python一启动，它将被加载在内存中。  \n",
    "  当我们导入新modules，sys.modules将自动记录下该module；当第二次再导入该module时，Python将直接到字典中查找，加快运行速度。\n",
    "  \n",
    "  它是个字典，故拥有字典的一切方法，如sys.modules.keys()、sys.modules.values()、sys.modules[‘os’]。但请不要轻易替换字典、或从字典中删除某元素，将可能导致Python运行失败。\n",
    "  \n",
    "  ```python\n",
    "import sys\n",
    "print(sys.modules)  # 打印，查看该字典具体内容。\n",
    "  ```\n",
    "  \n",
    "因此自己导入自用模块时需要注意，模块名与系统默认的模块会不会冲突，导致无法生效，例如`__main__`就是默认的一个模块名。\n",
    "  \n",
    "- 命名空间\n",
    "\n",
    "  如同一个dict，key 是变量名字，value 是变量的值。  \n",
    "  - 每个函数 `function` 有自己的命名空间，称 `local namespace`，记录函数的变量。\n",
    "  - 每个模块 `module` 有自己的命名空间，称 `global namespace`，记录模块的变量，包括functions、classes、导入的modules、module级别的变量和常量。\n",
    "  - `build-in` 命名空间，它包含 `build-in function` 和 `exceptions`，可被任意模块访问。\n",
    "  \n",
    "  某段Python代码访问 变量x 时，Python会所有的命名空间中查找该变量，顺序是：\n",
    "  1. local namespace 即当前函数或类方法。若找到，则停止搜索；\n",
    "  2. global namespace 即当前模块。若找到，则停止搜索；\n",
    "  3. build-in namespace Python会假设变量x是build-in的函数函数或变量。若变量x不是build-in的内置函数或变量，Python将报错NameError。\n",
    "  4. 对于闭包，若在local namespace找不到该变量，则下一个查找目标是父函数的local namespace。\n",
    "\n",
    "例：命名空间的代码示例"
   ]
  },
  {
   "cell_type": "code",
   "execution_count": 24,
   "metadata": {},
   "outputs": [
    {
     "name": "stdout",
     "output_type": "stream",
     "text": [
      "{'a': 1, 'b': 2}\n",
      "4\n"
     ]
    }
   ],
   "source": [
    "def func(a=1):\n",
    "    b = 2\n",
    "    print(locals())  # 打印当前函数（方法）的局部命名空间\n",
    "    '''\n",
    "    locs = locals()  # 只读，不可写。将报错！\n",
    "    locs['c'] = 3\n",
    "    print(c)\n",
    "    '''\n",
    "    return a+b\n",
    "func()\n",
    "glos = globals()\n",
    "glos['d'] = 4\n",
    "print(d)\n",
    "print(globals()) # 打印当前模块namespace_test.py的全局命名空间\n",
    "# 此处的 globals() == locals()"
   ]
  },
  {
   "cell_type": "markdown",
   "metadata": {},
   "source": [
    "内置函数locals()、globals()返回一个字典。区别：前者只读、后者可写。\n",
    "\n",
    "    命名空间 在from module_name import 、import module_name中的体现：from关键词是导入模块或包中的某个部分。\n",
    "\n",
    "    1. from module_A import X：会将该模块的函数/变量导入到当前模块的命名空间中，无须用module_A.X访问了。\n",
    "    2. import module_A：modules_A本身被导入，但保存它原有的命名空间，故得用module_A.X方式访问其函数或变量。\n",
    "\n",
    "- 模块内置属性\n",
    "    1. `__name__` 直接运行本模块， `__name__` 值为 `__main__`；`import module`，`__name__` 值为模块名字。\n",
    "    2. `__file__` 当前 module的绝对路径。\n",
    "    3. `__dict__`   \n",
    "    4. `__doc__`   \n",
    "    5. `__package__`   \n",
    "    6. `__path__`\n",
    "    \n",
    "### 绝对导入、相对导入\n",
    "\n",
    "![](https://i.loli.net/2021/07/15/jTmqZ1Fn9ILiKVx.png)\n",
    "\n",
    "- 绝对导入\n",
    "\n",
    "  所有的模块import都从“根节点”开始。根节点的位置由sys.path中的路径决定，项目的根目录一般自动在sys.path中。如果希望程序能处处执行，需手动修改sys.path。\n",
    "    \n",
    "例1：c.py中导入B包/B1子包/b1.py模块\n",
    "```python\n",
    "import sys,os\n",
    "BASE_DIR = os.path.dirname(os.path.abspath(__file__))  # 存放c.py所在的绝对路径\n",
    "sys.path.append(BASE_DIR)\n",
    "from B.B1 import b1  # 导入B包中子包B1中的模块b1\n",
    "```\n",
    "将`c.py`所在的绝对路径导入`sys.path`中，“根节点”就可以从`B`开始。\n",
    "\n",
    "例2：错误案例\n",
    "```python\n",
    "import sys,os\n",
    "BASE_DIR = os.path.dirname(os.path.abspath(__file__))  # 存放b2.py所在的绝对路径\n",
    "sys.path.append(BASE_DIR)\n",
    "from B1 import b1  # 导入B包中子包B1中的模块b1\n",
    "# ModuleNotFoundError: No module named 'B1'\n",
    "```\n",
    "这样就算导入了`b2.py`所在的绝对路径，但是这个路径里面并没有出现`B1`，因此这样导入是会报错的。\n",
    "所以这就是为什么项目根目录下是不会直接开始写项目的，不方便导入模块。\n",
    "\n",
    "- 相对导入\n",
    "\n",
    "  只关心相对自己当前目录的模块位置就好。不能在包（package）的内部直接执行（会报错）。不管根节点在哪儿，包内的模块相对位置都是正确的。\n",
    "\n",
    "```python\n",
    "import b1  # 直接调用即可\n",
    "```\n",
    "报错分析：\n",
    "```python\n",
    "from . import b1  # 这样会报错\n",
    "from ..B import __init__  # 这样也会报错\n",
    "```\n",
    "`ImportError: attempted relative import with no known parent package`\n",
    "目前没办法解决。\n",
    "\n",
    "- 单独导入包（package）：单独import某个包名称时，不会导入该包中所包含的所有子模块。\n",
    "\n",
    "c.py导入同级目录B包的子包B1包的b2模块，执行b2模块的print_b2()方法：\n",
    "`c.py`\n",
    "```python\n",
    "import B\n",
    "B.B1.b2.print_b2()\n",
    "```\n",
    "这样直接用是不行的，需要在`B/__init__.py`代码中加入`from . import b2`；在`B/B1/__init__.py`代码中加入`from . import b2`\n",
    "此时，执行`c.py`，就可以成功运行了。\n",
    "但是！分别执行`B/__init__.py`和`B/B1/__init__.py`都是会报错的，所以真的很不推荐用相对路径。\n",
    "\n",
    "我建议`c.py`里面这样写，而不用额外添加任何信息：\n",
    "```python\n",
    "from B.B1 import b2\n",
    "b2.print_b2()\n",
    "```\n",
    "\n",
    "- 类的继承\n",
    "\n",
    "简单介绍一下：  \n",
    "  \n",
    "①一个.py文件调用另一个.py文件中的类。  \n",
    "    \n",
    "    如 a.py（class A）、b.py（class B），a.py调用b.py中类B用：from b import B  \n",
    "\n",
    "②一个.py文件中的类 继承另一个.py文件中的类。如 a.py（class A）、b.py（class B），a.py中类A继承b.py类B。\n",
    "\n",
    "```python\n",
    "from b import B\n",
    "class A(B):\n",
    "pass\n",
    "```\n"
   ]
  },
  {
   "cell_type": "markdown",
   "metadata": {},
   "source": [
    "## import 运行机制\n",
    "\n",
    "### Python在执行import语句（导入内置（Python自个的）或第三方模块（已在sys.path中））时，进行了啥操作？\n",
    "\n",
    "step1：创建一个新的、空的module对象（它可能包含多个module）；  \n",
    "step2：将该module对象 插入sys.modules中；  \n",
    "step3：装载module的代码（如果需要，需先编译）；  \n",
    "step4：执行新的module中对应的代码。\n",
    "\n",
    "在执行step3时，首先需找到module程序所在的位置，如导入的module名字为mod_1，则解释器得找到mod_1.py文件，搜索顺序是：  \n",
    "当前路径（或当前目录指定sys.path）----->PYTHONPATH----->Python安装设置相关的默认路径。\n",
    "\n",
    "对于不在sys.path中，一定要避免用import导入 自定义包（package）的子模块（module），而要用from…import… 的绝对导入 或相对导入，且包（package）的相对导入只能用from形式。\n",
    "\n",
    "### 标准import流程\n",
    "\n",
    "![](https://i.loli.net/2021/07/15/RMsNtwmvP7ojzC1.png)\n",
    "\n",
    "有上述基础知识，再理解这个思维导图，就很容易了。在运用模块的变量或函数时，就能得心应手了。\n",
    "\n",
    "### 嵌套import\n",
    "\n",
    "- 顺序导入\n",
    "\n",
    "![](https://i.loli.net/2021/07/15/MbmOYx1GVDq8LPr.png)\n",
    "\n",
    "    PS：各个模块的Local命名空间的独立的。即：\n",
    "    test模块 import moduleA后，只能访问moduleA模块，不能访问moduleB模块。虽然moduleB已加载到内存中，如需访问，还得明确地在test模块 import moduleB。\n",
    "    实际上打印locals()，字典中只有moduleA，没有moduleB。\n",
    "    \n",
    "- 循环导入\n",
    "\n",
    "![](https://i.loli.net/2021/07/15/gpGUK1M6CoVwnEk.png)\n",
    "\n",
    "形如from moduleB import ClassB语句，根据Python内部import机制，执行细分步骤：\n",
    "\n",
    "1. 在sys.modules中查找 符号“moduleB”；\n",
    "2. 如果符号“moduleB”存在，则获得符号“moduleB”对应的module对象；从“moduleB”的`__dict__`中获得 符号“ClassB”对应的对象。如果“ClassB”不存在，则抛出异常“ImportError: cannot import name ‘classB’”\n",
    "3. 如果符号“moduleB”不存在，则创建一个新的module对象。不过此时该新module对象的`__dict__`为空。然后执行moduleB.py文件中的语句，填充的`__dict__`。\n",
    "\n",
    "总结：from moduleB import ClassB有两个过程，先from module，后import ClassB。\n",
    "\n",
    "![](https://i.loli.net/2021/07/15/COiqwumVlkLxjbA.png)\n",
    "\n",
    "当然将moduleA.py语句 from moduleB import ClassB改为：import moduleB，将在第二次执行moduleB.py语句from moduleA import ClassA时报错：`ImportError: cannot import name ‘classA’`\n",
    "\n",
    "**解决这种circular import循环导入的方法：** \n",
    "\n",
    "`例比：安装无线网卡时，需上网下载网卡驱动；安装压缩软件时，从网上下载的压缩软件安装程序是被压缩的文件。`\n",
    "\n",
    "方法1----->延迟导入（lazy import）：把import语句写在方法/函数里，将它的作用域限制在局部。（此法可能导致性能问题）  \n",
    "方法2----->将from x import y改成import x.y形式。  \n",
    "方法3----->组织代码（重构代码）：更改代码布局，可合并或分离竞争资源。  \n",
    "合并----->都写到一个.py文件里；  \n",
    "分离–>把需要import的资源提取到一个第三方.py文件中。  \n",
    "总之，将循环变成单向。"
   ]
  },
  {
   "cell_type": "markdown",
   "metadata": {},
   "source": [
    "### import package\n",
    "\n",
    "在一个文件下同时有 `__init__.py` 文件、和其他模块文件时，该文件夹即看作一个包（package）。包的导入和模块导入基本一致，只是导入包时，会执行这个 `__init__.py`，而不是模块中的语句。\n",
    "\n",
    "而且，如果**只是单纯地导入包【形如：import xxx】**，而包的 `__init__.py` 中有没有明确地的其他初始化操作，则：此包下的模块是不会被自动导入的。当然该包是会成功导入的，并将包名称放入当前.py的Local命名空间中。\n",
    "\n",
    "![](https://i.loli.net/2021/07/15/csFvOlYmXpA4gtG.png)\n",
    "\n",
    "[D：youcaihua\\test\\PkgDemo\\mod.py]文件  \n",
    "[D：youcaihua\\test\\PkgDemo\\pkg1\\pkg1_mod.py]文件  \n",
    "[D：youcaihua\\test\\PkgDemo\\pkg2\\pkg2_mod.py]文件，三个文件同样的代码：  \n",
    "\n",
    "```python\n",
    "def getName():\n",
    "\tprint(__name__)\n",
    "\n",
    "if __name__ == '__main__':\n",
    "\tgetName()\n",
    "```\n",
    "\n",
    "[D：youcaihua\\test\\test.py]文件\n",
    "\n",
    "```python\n",
    "import PkgDemo.mod  # 1\n",
    "print(locals(),'\\n')\n",
    "import PkgDemo.pkg1  # 2\n",
    "print(locals(),'\\n')\n",
    "import PkgDemo.pkg1.pkg1_mod as m1  # 3\n",
    "print(locals(),'\\n')\n",
    "import PkgDemo.pkg2.pkg2_mod  # 4\n",
    "PkgDemo.mod.getName()  # 5\n",
    "print('调用mod.py----', locals(), '\\n')\n",
    "m1.getName()  # 6\n",
    "PkgDemo.pkg2.pkg2_mod.getName()  # 7\n",
    "```\n",
    "\n",
    "执行 #1 后，将PkgDemo、PkgDemo.mod加入sys.modules中，此时可调用PkgDemo.mod的任何类、或函数。当不能调用包PkgDemo.pkg1或pkg2下任何模块。但当前test.py文件Local命名空间中只有 PkgDemo。\n",
    "\n",
    "执行 #2 后，只是将PkgDemo.pkg1载入内存，sys.modules会有PkgDemo、PkgDemo.mod、PkgDemo.pkg1 三个模块。但PkgDemo.pkg1下的任何模块 都没有自动载入内存，所以在此时：PkgDemo.pkg1.pkg1_mod.getName()将会出错。当前test.py的Local命名空间依然只有PkgDemo。\n",
    "\n",
    "执行 #3 后，会将pkg1_mod载入内存，sys.modules会有PkgDemo、PkgDemo.mod、PkgDemo.pkg1、PkgDemo.pkg1.pkg1_mod四个模块，此时可执行PkgDemo.pkg1.pkg1_mod.getName()。由于使用了as，当前Local命名空间将另外添加m1（作为PkgDemo.pkg1.pkg1_mod的别名）、当然还有PkgDemo。\n",
    "\n",
    "执行 #4 后，会将PkgDemo.pkg2、PkgDemo.pkg2.pkg2_mod载入内存，sys.modules中会有PkgDemo、PkgDemo.mod、PkgDemo.pkg1、PkgDemo.pkg1.pkg1_mod、PkgDemo.pkg2、PkgDemo.pkg2.pkg2_mod六个模块，当然：当前Local命名空间还是只有PkgDemo、m1。\n",
    "\n",
    "#5、#6、#7当然都可正确执行。"
   ]
  },
  {
   "cell_type": "markdown",
   "metadata": {},
   "source": [
    "# 包和模块的基本操作\n",
    "\n",
    "## 包和模块的创建\n",
    "\n",
    "### 模块的创建\n",
    "\n",
    "- 模块的创建其实很简单，创建一个`.py`文件就是创建了一个模块。\n",
    "  \n",
    "  当前文件和需要导入的模块在`同一文件夹下`的话，可以直接使用`import moduleName`，pycharm对模块导入方面的支持不是很完善，会出现红线，放心大胆的使用即可。\n",
    "\n",
    "### 包的创建\n",
    "\n",
    "- 创建一个文件夹，就可以当作是一个包，文件夹务必有一个`__init__.py`文件，其实`python3.3`版本往后可以不用创建，但是为了代码版本兼容，以及做一些其他包处理工作，目前还是建议创建。  \n",
    " \n",
    "   当前文件和需要导入的包在同一文件夹下的话，可以直接使用`import packageName.moduleName`\n",
    "   \n",
    "## 包和模块的基本信息\n",
    "\n",
    "- 包和模块的名称\n",
    "\n",
    "模块的名称即是`module.py`的名称，导入时不需要加`.py`后缀。  \n",
    "包的名称即是文件夹的名称。\n",
    "\n",
    "- 一些常用操作\n",
    "\n",
    "`print(module.__file__)`即可打印出module所在路径。  \n",
    "`print(dir(module))`即可查看module所有的api接口。\n",
    "\n",
    "## 包和模块的导入方式\n",
    "\n",
    "### 常规导入\n",
    "\n",
    "- 形如 `import M`\n",
    "\n",
    "  导入单个模块\n",
    "  \n",
    "- 形如  `import M1, M2`\n",
    "\n",
    "  导入多个模块\n",
    "  \n",
    "- 形如 `import M1 as Jx`\n",
    "\n",
    "  对导入的包和模块起一个别名，调用时输入别名即可。使用别名后，M1就无法调用了。\n",
    "  \n",
    "- 形如 `import P`\n",
    "\n",
    "  如果导入的是一个包名，而没有模块时，代码是不会报错的，但是并不会自动导入这个包里面的任何模块。\n",
    "  但是导入任何一个包时，都会自动的去运行当前包的`__init__.py`文件，这个文件里面可以自由导入所需模块，需要使用绝对路径来导入，涉及到 `包和模块的检索路径问题`，后续再详细讲解。\n",
    "  \n",
    "### from语句导入\n",
    "\n",
    "- 想要导入一个模块或包中的某个部分。`from A import B [as C]`\n",
    "\n",
    "  from语句导入只能是`from package import module`或者`from module import function`，形如`from package import module.function`或者`from package import package.module`都是不可以的；因为从package是看不到package.package.module的。\n",
    "\n",
    "- 特殊的`from module import *`或者`from package import *`。\n",
    "\n",
    "  对于`from module import *`，没有`__all__`变量时，在运用此方法时会导入模块中的全部对象（`_`开头的除外，因为`_`开头的为私有对象，无法导入），如果只想引用时导入部分有用的变量，可以使用`__all__ = [\"name1\",\"name2\"]`来自定义，`__all__`的位置对模块的导入没有影响，但是放在最前面是比较合理的方式。(注意，`__all__`变量内记录的是字符串)\n",
    "  \n",
    "  对于`from package import *`，此时如果你的`__init__.py`内没有指定导入的模块或包时，就会什么都不导入。但是，都会将`__init__.py`执行一遍。\n",
    "  "
   ]
  },
  {
   "cell_type": "markdown",
   "metadata": {},
   "source": [
    "### 注意：1.导入模块后具体做了哪些事情？\n",
    "\n",
    "- 第一次导入时：  \n",
    "  \n",
    "  ①在自己当下的命名空间中，执行所有代码；  \n",
    "\n",
    "  ②创建一个模块对象，并将模块内所有顶级变量以属性的形式绑定在模块对象上； \n",
    "  \n",
    "  `print(module)`可以查看module存放位置；`print(id(module))`可以查看内存地址；`type  # 查看类型`；`module.__dict__`查看属性；\n",
    "\n",
    "  ③在import的位置，引入import后面的变量名称到`当前命名空间`。\n",
    "\n",
    "- 第二次导入时：直接执行上述第③步。\n",
    "\n",
    "\n",
    "- `import` 和 `from  import` 两种导入方式不存在哪一种会更省内存，因为都会执行整个文件，区别在于把哪一部分内容拿到当前位置来使用。\n",
    "\n",
    "    也就是说，已经存在模块对象的情况下，就不会再执行一次模块文件了。\n",
    "    \n",
    "    就算，as重命名，也不会重复执行，因为创建的是`module`模块本身的对象。\n",
    "\n",
    "### 注意：2.从哪个位置找到需要导入的模块？\n",
    "\n",
    "- 第一次导入时，会按照模块检索路径顺序去找，分为两级，第一级：`内置模块`；第二级：`sys.path/追加路径的方式`。\n",
    "\n",
    "  意思就是自己创建一个与内置模块同名的模块时，系统并不会鸟你，因为内置模块已经存在，优先导入；但是`当前路径`优先级可能比`第三方库`优先级高，这点切记。\n",
    "  \n",
    "  查看`sys.path`时最好使用终端进行查看，因为例如pycharm这样的IDE会自动帮你添加额外的路径；  \n",
    "  `print(sys.path)`  \n",
    "  构成：当前目录；环境变量PYTHONPATH中指定的路径列表；特定路径下的.path文件中的文件路径列表；在Python安装路径的lib库搜索。（先后顺序并不一定，需要自己查看）\n",
    "  \n",
    "  - 追加路径的方式：\n",
    "  \n",
    "    1. 直接修改sys.path  # 只能作用于本次执行。 # `sys.path.append()`，也可以用`insert`插入提升优先级。\n",
    "    \n",
    "    2. 修改环境变量  # 仅仅在shell中有效，pycharm对环境变量支持不完善，需要另一种方式手动添加。  \n",
    "    win10在环境变量中新建一个`PYTHONPATH`变量，建在用户还是系统自己决定。\n",
    "    \n",
    "    3. 添加.pth文件。  \n",
    "    创建.pth文件的位置：`import site`  `print(site.getsitepackages())` 会出现两个路径，在两个路径下均是特殊路径。  \n",
    "    在特殊路径下创建`.pth`文件即可，在文件中填写路径即可。  \n",
    "    如果两个路径下都有`.pth`文件，则均会生效。\n",
    "    \n",
    "![](https://i.loli.net/2021/07/16/VEWDobjFtG3f1xu.png)\n",
    "\n",
    "\n",
    "优先级大致：内置模块 -- 当前路径 -- PYTHONPATH环境变量配置 -- Python安装路径 -- Python安装路径下的.pth文件 -- Python lib库 -- lib库下的.pth文件 -- IDE加载路径\n",
    "\n",
    "### 注意：3.导入模块的常见场景\n",
    "\n",
    "- （1）局部导入\n",
    "\n",
    "    在某个局部范围内导入模块，在其他范围无法使用  \n",
    "    所以想要全局范围都能使用，在文件顶部导入相关模块\n",
    "    \n",
    "- （2）覆盖导入\n",
    "\n",
    "    自己定义的模块，不要与内置模块重名；  \n",
    "    如果想用自己的模块，可以使用`from...import...`指明绝对路径进行导入。\n",
    "    \n",
    "- （3）循环导入\n",
    "\n",
    "    假设有两个模块A、B，模块A内导入了模块B；这样就造成了循环导入。\n",
    "    \n",
    "- （4）绝对导入和相对导入 \n",
    "\n",
    "    这两个概念是相对于包导入而言的。\n",
    "    \n",
    "        如果说，一个py文件，直接以脚本的形式进行执行，他的名称就是`__main__`；\n",
    "        但是是以模块形式加载的，那么他的名称，是由加载的路径的路径决定的，包名.子包名.模块名，被称为顶级名称。"
   ]
  },
  {
   "cell_type": "markdown",
   "metadata": {},
   "source": [
    "### 包导入方式汇总\n",
    "\n",
    "如果是包和包之间的导入，使用相对导入； \n",
    "\n",
    "如果是从包外导入，使用绝对导入。"
   ]
  },
  {
   "cell_type": "markdown",
   "metadata": {},
   "source": [
    "## 实战演练"
   ]
  },
  {
   "cell_type": "code",
   "execution_count": 2,
   "metadata": {},
   "outputs": [],
   "source": [
    "import os # 导入一个module"
   ]
  },
  {
   "cell_type": "markdown",
   "metadata": {},
   "source": [
    "- module.__file__ 可以查看module所在路径"
   ]
  },
  {
   "cell_type": "code",
   "execution_count": 4,
   "metadata": {},
   "outputs": [
    {
     "name": "stdout",
     "output_type": "stream",
     "text": [
      "D:\\ProgramData\\Anaconda3\\lib\\os.py\n"
     ]
    }
   ],
   "source": [
    "print(os.__file__)  "
   ]
  },
  {
   "cell_type": "markdown",
   "metadata": {},
   "source": [
    "在pycharm中按住<Ctrl+左键>点击module名字可以进入包名，但是这样直接看是比较混乱的。\n",
    "\n",
    "- dir(os)：可以查看模块内的函数列表"
   ]
  },
  {
   "cell_type": "code",
   "execution_count": 5,
   "metadata": {},
   "outputs": [
    {
     "name": "stdout",
     "output_type": "stream",
     "text": [
      "['DirEntry', 'F_OK', 'MutableMapping', 'O_APPEND', 'O_BINARY', 'O_CREAT', 'O_EXCL', 'O_NOINHERIT', 'O_RANDOM', 'O_RDONLY', 'O_RDWR', 'O_SEQUENTIAL', 'O_SHORT_LIVED', 'O_TEMPORARY', 'O_TEXT', 'O_TRUNC', 'O_WRONLY', 'P_DETACH', 'P_NOWAIT', 'P_NOWAITO', 'P_OVERLAY', 'P_WAIT', 'PathLike', 'R_OK', 'SEEK_CUR', 'SEEK_END', 'SEEK_SET', 'TMP_MAX', 'W_OK', 'X_OK', '_AddedDllDirectory', '_Environ', '__all__', '__builtins__', '__cached__', '__doc__', '__file__', '__loader__', '__name__', '__package__', '__spec__', '_check_methods', '_execvpe', '_exists', '_exit', '_fspath', '_get_exports_list', '_putenv', '_unsetenv', '_wrap_close', 'abc', 'abort', 'access', 'add_dll_directory', 'altsep', 'chdir', 'chmod', 'close', 'closerange', 'cpu_count', 'curdir', 'defpath', 'device_encoding', 'devnull', 'dup', 'dup2', 'environ', 'error', 'execl', 'execle', 'execlp', 'execlpe', 'execv', 'execve', 'execvp', 'execvpe', 'extsep', 'fdopen', 'fsdecode', 'fsencode', 'fspath', 'fstat', 'fsync', 'ftruncate', 'get_exec_path', 'get_handle_inheritable', 'get_inheritable', 'get_terminal_size', 'getcwd', 'getcwdb', 'getenv', 'getlogin', 'getpid', 'getppid', 'isatty', 'kill', 'linesep', 'link', 'listdir', 'lseek', 'lstat', 'makedirs', 'mkdir', 'name', 'open', 'pardir', 'path', 'pathsep', 'pipe', 'popen', 'putenv', 'read', 'readlink', 'remove', 'removedirs', 'rename', 'renames', 'replace', 'rmdir', 'scandir', 'sep', 'set_handle_inheritable', 'set_inheritable', 'spawnl', 'spawnle', 'spawnv', 'spawnve', 'st', 'startfile', 'stat', 'stat_result', 'statvfs_result', 'strerror', 'supports_bytes_environ', 'supports_dir_fd', 'supports_effective_ids', 'supports_fd', 'supports_follow_symlinks', 'symlink', 'sys', 'system', 'terminal_size', 'times', 'times_result', 'truncate', 'umask', 'uname_result', 'unlink', 'urandom', 'utime', 'waitpid', 'walk', 'write']\n"
     ]
    }
   ],
   "source": [
    "print(dir(os))"
   ]
  },
  {
   "cell_type": "markdown",
   "metadata": {},
   "source": [
    "- 查看对象属性"
   ]
  },
  {
   "cell_type": "code",
   "execution_count": 25,
   "metadata": {
    "scrolled": true
   },
   "outputs": [],
   "source": [
    "print(os.__dict__)  # 额，结果太长了就收起来了。"
   ]
  },
  {
   "cell_type": "markdown",
   "metadata": {},
   "source": [
    "## import *\n",
    "\n",
    "- 导入module里面 ```__all__``` 的所有变量。-list类型,里面都是字符串。\n",
    "\n",
    "```__all__ = [\"a\",\"b\",\"c\"]```\n",
    "\n",
    "- 放在module的最前或最后都没有影响。\n",
    "\n",
    "      注意：如果module文件中没有```__all__```变量时，就会导入文件中所有非下划线资源"
   ]
  },
  {
   "cell_type": "markdown",
   "metadata": {},
   "source": [
    "## from package import *\n",
    "\n",
    "- 此时导入pakage里面 ```__init__.py```的内容。-list类型,里面都是字符串。\n",
    "\n",
    "- ```__init__.py```内容可以是：\n",
    "\n",
    "```python\n",
    "import module1\n",
    "from package import module2\n",
    "```\n",
    "\n",
    "- ```__init__.py```内容也可以是：\n",
    "\n",
    "```python\n",
    "__all__ = [\"module1\", \"module2\", \"package.module3\"]\n",
    "```"
   ]
  },
  {
   "cell_type": "markdown",
   "metadata": {},
   "source": [
    "## 导入包的顺序\n",
    "\n",
    "1. 第一级：内置模块`<bulit-in>`\n",
    "\n",
    "2. 第二级：sys.path\n",
    "\n",
    "3. 第二级：追加路径的方式\n"
   ]
  },
  {
   "cell_type": "code",
   "execution_count": 12,
   "metadata": {},
   "outputs": [],
   "source": [
    "import sys\n",
    "# print(sysabs.path)  # 列表，是路径的顺序"
   ]
  },
  {
   "cell_type": "markdown",
   "metadata": {},
   "source": [
    "### 添加路径"
   ]
  },
  {
   "cell_type": "markdown",
   "metadata": {},
   "source": [
    "#### 单次有效\n",
    "\n",
    "- 在最后添加路径，仅仅是```单次```有效。"
   ]
  },
  {
   "cell_type": "code",
   "execution_count": null,
   "metadata": {},
   "outputs": [],
   "source": [
    "# sys.path.append(r'<路径>')  # 当然insert也是可以的"
   ]
  },
  {
   "cell_type": "markdown",
   "metadata": {},
   "source": [
    "#### 更改环境变量\n",
    "\n",
    "- 分为 ```更改用户变量``` / ```更改系统变量```\n",
    "\n",
    "1. 在环境变量中新建一个path，例如命名一个\"PythonPath\",输入你的库的路径\n",
    "2. 这样的结果是可以在```cmd```中直接使用模块,但是```pycharm```这样的IDE不能直接用。\n",
    "\n",
    "- 这是因为解释器对环境的响应不是太好，所以要手动添加。"
   ]
  },
  {
   "cell_type": "markdown",
   "metadata": {},
   "source": [
    "#### Pycharm添加环境路径 方法1\n",
    "\n",
    "- 依次点击```<File>``` - ```<Settings>``` - ```<Project Interpreter>``` - 环境右边的```<设置>```按钮 - ```<Show All>``` - ```<Show paths for ...>```\n",
    "\n",
    "- 然后添加指定路径"
   ]
  },
  {
   "cell_type": "markdown",
   "metadata": {},
   "source": [
    "#### Pycharm添加环境路径 方法2\n",
    "\n",
    "- 在以下两个路径下创建```.pth```文件输入文件路径就可以配置库的路径啦~\n",
    "\n",
    "创建以后可以```sys.path```查看一下"
   ]
  },
  {
   "cell_type": "code",
   "execution_count": 18,
   "metadata": {},
   "outputs": [
    {
     "name": "stdout",
     "output_type": "stream",
     "text": [
      "['D:\\\\ProgramData\\\\Anaconda3', 'D:\\\\ProgramData\\\\Anaconda3\\\\lib\\\\site-packages']\n"
     ]
    }
   ],
   "source": [
    "import site\n",
    "print(site.getsitepackages())"
   ]
  },
  {
   "cell_type": "markdown",
   "metadata": {},
   "source": [
    "## 第二次导入\n",
    "\n",
    "> 前面讲的都是第一次导入的情形，让我们再回顾一下。\n",
    "\n",
    "- 第一次导入模块后，模块就已经加载到内存中了。\n",
    "\n",
    "- 第二次导入时，是从加载过的模块去找模块。\n"
   ]
  },
  {
   "cell_type": "markdown",
   "metadata": {},
   "source": [
    "### 查找已加载的模块"
   ]
  },
  {
   "cell_type": "code",
   "execution_count": 20,
   "metadata": {},
   "outputs": [],
   "source": [
    "import sys\n",
    "# print(sys.modules)"
   ]
  },
  {
   "cell_type": "markdown",
   "metadata": {},
   "source": [
    " \n",
    "\n",
    "## 注意\n",
    "\n",
    "- 只导入模块中的某个函数，其实也是将整个.py文件给导入了一遍！\n"
   ]
  },
  {
   "cell_type": "markdown",
   "metadata": {},
   "source": [
    "# ```__init__.py```"
   ]
  },
  {
   "cell_type": "markdown",
   "metadata": {},
   "source": [
    "## ```__init__.py```写什么内容\n",
    "\n",
    "- ```__init__.py```是包的模块文件，是可以写入任何代码的，只需要把它当做一个模块对待就可以了。\n",
    "\n",
    "- 不过，包既然是用来组织模块的，真正的功能属性应该尽量写入到它所组织的模块文件中。\n",
    "\n",
    "- 不过```__all__```是应该在```__init__.py```中定义的。"
   ]
  },
  {
   "cell_type": "markdown",
   "metadata": {},
   "source": [
    "## ```__all__```\n",
    "\n",
    "- ```__all__```是一个列表，用来控制```from package import *```使用```*```导入哪些模块文件。\n",
    "\n",
    "- 如果不设置```__all__```，这会导入全部模块。"
   ]
  },
  {
   "cell_type": "markdown",
   "metadata": {},
   "source": [
    "# python相对导入出现错误\n",
    "\n",
    "## ImportError: attempted relative import with no known parent package\n",
    "\n",
    "- 尝试相对导入，但不知道父包\n",
    "\n",
    "    相对导入通过使用模块的 `__name__` 属性来确定模块在包层次结构中的位置。如果该模块的名称不包含任何包信息（例如，它被设置为`__main__`），那么相对引用会认为这个模块就是顶级模块，而不管模块在文件系统上的实际位置。  \n",
    "    python解释器没有关于模块所属的包的任何信息（`__name__ = __main__` 和 `__package__ = None` ），因此它抛出了找不到父级包的异常。\n",
    "\n",
    "- 问题所在\n",
    "\n",
    "    因为所执行文件的顶级名称是`__main__`，因此不存在相对导入的概念。  \n",
    "    相对导入的`.`或者`..`其实并不是单纯的当前目录或者上一目录这么简单，而是顶级名称的当前级别或者上一级别。\n",
    "    \n",
    "- 注意：\n",
    "    在python2.x中，`import xxx`是默认的相对导入（路径为执行文件的当前路径），切记切记；python3.x中不再默认使用。"
   ]
  }
 ],
 "metadata": {
  "kernelspec": {
   "display_name": "Python 3",
   "language": "python",
   "name": "python3"
  },
  "language_info": {
   "codemirror_mode": {
    "name": "ipython",
    "version": 3
   },
   "file_extension": ".py",
   "mimetype": "text/x-python",
   "name": "python",
   "nbconvert_exporter": "python",
   "pygments_lexer": "ipython3",
   "version": "3.8.5"
  },
  "toc": {
   "base_numbering": 1,
   "nav_menu": {},
   "number_sections": true,
   "sideBar": true,
   "skip_h1_title": false,
   "title_cell": "Table of Contents",
   "title_sidebar": "Contents",
   "toc_cell": false,
   "toc_position": {
    "height": "calc(100% - 180px)",
    "left": "10px",
    "top": "150px",
    "width": "480px"
   },
   "toc_section_display": true,
   "toc_window_display": true
  },
  "varInspector": {
   "cols": {
    "lenName": 16,
    "lenType": 16,
    "lenVar": 40
   },
   "kernels_config": {
    "python": {
     "delete_cmd_postfix": "",
     "delete_cmd_prefix": "del ",
     "library": "var_list.py",
     "varRefreshCmd": "print(var_dic_list())"
    },
    "r": {
     "delete_cmd_postfix": ") ",
     "delete_cmd_prefix": "rm(",
     "library": "var_list.r",
     "varRefreshCmd": "cat(var_dic_list()) "
    }
   },
   "types_to_exclude": [
    "module",
    "function",
    "builtin_function_or_method",
    "instance",
    "_Feature"
   ],
   "window_display": false
  }
 },
 "nbformat": 4,
 "nbformat_minor": 4
}
