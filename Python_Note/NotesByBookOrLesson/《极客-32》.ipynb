{
 "cells": [
  {
   "cell_type": "markdown",
   "metadata": {},
   "source": [
    "# Python核心技术和实战"
   ]
  },
  {
   "cell_type": "markdown",
   "metadata": {},
   "source": [
    "# 列表和元组\n",
    "\n",
    "列表和元组，都是一个可以**放置任意数据类型的有序集合**。\n",
    "\n",
    "列表（list）是动态的，长度大小不固定，可以随意地增加、删减或者改变元素（mutable）;\n",
    "\n",
    "而元组（tuple）是静态的，长度大小固定，无法增加删减或者改变（immutable）。"
   ]
  },
  {
   "cell_type": "code",
   "execution_count": 3,
   "metadata": {},
   "outputs": [
    {
     "data": {
      "text/plain": [
       "[1, 2, 3, 40]"
      ]
     },
     "execution_count": 3,
     "metadata": {},
     "output_type": "execute_result"
    }
   ],
   "source": [
    "# 列表可以很轻松的更改元素\n",
    "l = [1, 2, 3, 4]\n",
    "l[3] = 40\n",
    "l"
   ]
  },
  {
   "cell_type": "code",
   "execution_count": 5,
   "metadata": {},
   "outputs": [
    {
     "ename": "TypeError",
     "evalue": "'tuple' object does not support item assignment",
     "output_type": "error",
     "traceback": [
      "\u001b[1;31m---------------------------------------------------------------------------\u001b[0m",
      "\u001b[1;31mTypeError\u001b[0m                                 Traceback (most recent call last)",
      "\u001b[1;32m<ipython-input-5-1882f8e6e792>\u001b[0m in \u001b[0;36m<module>\u001b[1;34m\u001b[0m\n\u001b[0;32m      1\u001b[0m \u001b[1;31m# 改变元组的元素就会报错\u001b[0m\u001b[1;33m\u001b[0m\u001b[1;33m\u001b[0m\u001b[1;33m\u001b[0m\u001b[0m\n\u001b[0;32m      2\u001b[0m \u001b[0mt\u001b[0m \u001b[1;33m=\u001b[0m \u001b[1;33m(\u001b[0m\u001b[1;36m1\u001b[0m\u001b[1;33m,\u001b[0m\u001b[1;36m2\u001b[0m\u001b[1;33m,\u001b[0m\u001b[1;36m3\u001b[0m\u001b[1;33m,\u001b[0m\u001b[1;36m4\u001b[0m\u001b[1;33m)\u001b[0m\u001b[1;33m\u001b[0m\u001b[1;33m\u001b[0m\u001b[0m\n\u001b[1;32m----> 3\u001b[1;33m \u001b[0mt\u001b[0m\u001b[1;33m[\u001b[0m\u001b[1;36m3\u001b[0m\u001b[1;33m]\u001b[0m \u001b[1;33m=\u001b[0m \u001b[1;36m40\u001b[0m\u001b[1;33m\u001b[0m\u001b[1;33m\u001b[0m\u001b[0m\n\u001b[0m\u001b[0;32m      4\u001b[0m \u001b[0mt\u001b[0m\u001b[1;33m\u001b[0m\u001b[1;33m\u001b[0m\u001b[0m\n",
      "\u001b[1;31mTypeError\u001b[0m: 'tuple' object does not support item assignment"
     ]
    }
   ],
   "source": [
    "# 改变元组的元素就会报错\n",
    "t = (1, 2, 3, 4)\n",
    "t[3] = 40\n",
    "t"
   ]
  },
  {
   "cell_type": "markdown",
   "metadata": {},
   "source": [
    "- 如果想对元组做任何改变，就只能重新开辟一片内存空间，创建新的元组"
   ]
  },
  {
   "cell_type": "code",
   "execution_count": 9,
   "metadata": {},
   "outputs": [
    {
     "data": {
      "text/plain": [
       "(1, 2, 3, 4, 5)"
      ]
     },
     "execution_count": 9,
     "metadata": {},
     "output_type": "execute_result"
    }
   ],
   "source": [
    "t = (1, 2, 3, 4)\n",
    "new_t = t + (5,)\n",
    "new_t"
   ]
  },
  {
   "cell_type": "code",
   "execution_count": 11,
   "metadata": {},
   "outputs": [
    {
     "data": {
      "text/plain": [
       "[1, 2, 3, 4, 5]"
      ]
     },
     "execution_count": 11,
     "metadata": {},
     "output_type": "execute_result"
    }
   ],
   "source": [
    "# 但是列表就显得很轻松\n",
    "l = [1, 2, 3, 4]\n",
    "l.append(5)\n",
    "l"
   ]
  },
  {
   "cell_type": "markdown",
   "metadata": {},
   "source": [
    "## 列表和元组的基本操作"
   ]
  },
  {
   "cell_type": "markdown",
   "metadata": {},
   "source": [
    "- 首先，和其他语言不同，Python中的列表和元组都支持负数索引，-1表示最后一个元素，-2表示倒数第二个元素，以此类推。"
   ]
  },
  {
   "cell_type": "code",
   "execution_count": 13,
   "metadata": {},
   "outputs": [
    {
     "name": "stdout",
     "output_type": "stream",
     "text": [
      "l[-1]: 4\n",
      "t[-1]: 4\n"
     ]
    }
   ],
   "source": [
    "l = [1, 2, 3, 4]\n",
    "t = (1, 2, 3, 4)\n",
    "print(\"l[-1]:\", l[-1])\n",
    "print(\"t[-1]:\", t[-1])"
   ]
  },
  {
   "cell_type": "markdown",
   "metadata": {},
   "source": [
    "- 除了基本的初始化，索引外，**列表和元组都支持切片操作**："
   ]
  },
  {
   "cell_type": "code",
   "execution_count": 14,
   "metadata": {},
   "outputs": [
    {
     "name": "stdout",
     "output_type": "stream",
     "text": [
      "l[0:2]: [1, 2]\n",
      "t[0:2]: (1, 2)\n"
     ]
    }
   ],
   "source": [
    "l = [1, 2, 3, 4]\n",
    "t = (1, 2, 3, 4)\n",
    "print(\"l[0:2]:\", l[0:2])\n",
    "print(\"t[0:2]:\", t[0:2])"
   ]
  },
  {
   "cell_type": "markdown",
   "metadata": {},
   "source": [
    "- 另外，列表和元组都可以随意嵌套："
   ]
  },
  {
   "cell_type": "code",
   "execution_count": 15,
   "metadata": {},
   "outputs": [],
   "source": [
    "l = [[1, 2, 3], [4, 5]]  # 列表的每一个元素也是一个列表\n",
    "tup = ((1, 2, 3), (4, 5, 6))  # 元组的每一个元素也是一元组"
   ]
  },
  {
   "cell_type": "markdown",
   "metadata": {},
   "source": [
    "- 当然，两者也可以通过 list() 和 tuple() 函数相互转换："
   ]
  },
  {
   "cell_type": "code",
   "execution_count": 18,
   "metadata": {},
   "outputs": [
    {
     "name": "stdout",
     "output_type": "stream",
     "text": [
      "l: [1, 2, 3] \n",
      "t: (1, 2, 3)\n"
     ]
    }
   ],
   "source": [
    "l = list((1, 2, 3))\n",
    "t = tuple([1, 2, 3])\n",
    "print(\"l:\", l, \"\\nt:\", t)"
   ]
  },
  {
   "cell_type": "markdown",
   "metadata": {},
   "source": [
    "- 最后，我们来看一些列表和元组常用的内置函数：\n",
    "\n",
    "    count(item) 表示统计列表 / 元组中 item 出现的次数。\n",
    "    \n",
    "    index(item) 表示返回列表 / 元组中 item 第一次出现的索引。\n",
    "\n",
    "    list.reverse() 和 list.sort() 分别表示原地倒转列表和排序（注意，元组没有内置的这两个函数)。\n",
    "\n",
    "    reversed() 和 sorted() 同样表示对列表 / 元组进行倒转和排序，但是会返回一个倒转后或者排好序的新的列表 / 元组。"
   ]
  },
  {
   "cell_type": "code",
   "execution_count": 29,
   "metadata": {},
   "outputs": [
    {
     "name": "stdout",
     "output_type": "stream",
     "text": [
      "l.count(3): 2\n",
      "l.index(7): 3\n",
      "l.reverse(): [1, 8, 7, 3, 2, 3]\n",
      "l.sort(): [1, 2, 3, 3, 7, 8]\n",
      "\n",
      " ********** \n",
      "\n",
      "tup.count(3): 2\n",
      "tup.index(7): 3\n",
      "list(reversed(tup)): [1, 8, 7, 3, 2, 3]\n",
      "sorted(tup): [1, 2, 3, 3, 7, 8]\n"
     ]
    }
   ],
   "source": [
    "l = [3, 2, 3, 7, 8, 1]\n",
    "print(\"l.count(3):\", l.count(3))\n",
    "print(\"l.index(7):\", l.index(7))\n",
    "l.reverse()\n",
    "print(\"l.reverse():\", l)\n",
    "l.sort()\n",
    "print(\"l.sort():\", l)\n",
    "\n",
    "print(\"\\n\", \"*\" * 10, \"\\n\")\n",
    "\n",
    "tup = (3, 2, 3, 7, 8, 1)\n",
    "print(\"tup.count(3):\", tup.count(3))\n",
    "print(\"tup.index(7):\", tup.index(7))\n",
    "print(\"list(reversed(tup)):\", list(reversed(tup)))\n",
    "print(\"sorted(tup):\", sorted(tup))"
   ]
  },
  {
   "cell_type": "markdown",
   "metadata": {},
   "source": [
    "## 列表和元组存储方式的差异\n",
    "\n",
    "列表和元组最重要的区别就是，列表是动态的、可变的，而元组是静态的、不可\n",
    "变的。这样的差异，势必会影响两者存储方式。"
   ]
  },
  {
   "cell_type": "code",
   "execution_count": 30,
   "metadata": {},
   "outputs": [
    {
     "name": "stdout",
     "output_type": "stream",
     "text": [
      "l.__sizeof__(): 64\n",
      "tup.__sizeof__(): 48\n"
     ]
    }
   ],
   "source": [
    "l = [1, 2, 3]\n",
    "print(\"l.__sizeof__():\", l.__sizeof__())\n",
    "tup = (1, 2, 3)\n",
    "print(\"tup.__sizeof__():\", tup.__sizeof__())"
   ]
  },
  {
   "cell_type": "markdown",
   "metadata": {},
   "source": [
    "你可以看到，对列表和元组，我们放置了相同的元素，但是元组的存储空间，却比列表要少16 字节。这是为什么呢？\n",
    "\n",
    "---\n",
    "\n",
    "事实上，由于列表是动态的，所以它需要存储指针，来指向对应的元素（上述例子中，对于int 型，8 字节）。另外，由于列表可变，所以需要额外存储已经分配的长度大小（8 字节），这样才可以实时追踪列表空间的使用情况，当空间不足时，及时分配额外空间。"
   ]
  },
  {
   "cell_type": "code",
   "execution_count": null,
   "metadata": {},
   "outputs": [],
   "source": [
    "l = []\n",
    "l.__sizeof__() # 空列表的存储空间为 40 字节\n",
    "40\n",
    "l.append(1)\n",
    "l.__sizeof__()\n",
    "72 # 加入了元素 1 之后，列表为其分配了可以存储 4 个元素的空间 (72 - 40)/8 = 4\n",
    "l.append(2)\n",
    "l.__sizeof__()\n",
    "72 # 由于之前分配了空间，所以加入元素 2，列表空间不变\n",
    "l.append(3)\n",
    "l.__sizeof__()\n",
    "72 # 同上\n",
    "l.append(4)\n",
    "l.__sizeof__()\n",
    "72 # 同上\n",
    "l.append(5)\n",
    "l.__sizeof__()\n",
    "104 # 加入元素 5 之后，列表的空间不足，所以又额外分配了可以存储 4 个元素的空间"
   ]
  },
  {
   "cell_type": "markdown",
   "metadata": {},
   "source": [
    "上面的例子，大概描述了列表空间分配的过程。我们可以看到，为了减小每次增加 / 删减操作时空间分配的开销，Python 每次分配空间时都会额外多分配一些，这样的机制（over-allocating）保证了其操作的高效性：增加 / 删除的时间复杂度均为 O(1)。\n",
    "\n",
    "但是对于元组，情况就不同了。元组长度大小固定，元素不可变，所以存储空间固定。  \n",
    "\n",
    "看了前面的分析，你也许会觉得，这样的差异可以忽略不计。但是想象一下，如果列表和元组存储元素的个数是一亿，十亿甚至更大数量级时，你还能忽略这样的差异吗？"
   ]
  },
  {
   "cell_type": "markdown",
   "metadata": {},
   "source": [
    "## 列表和元组的性能\n",
    "通过学习列表和元组存储方式的差异，我们可以得出结论：元组要比列表更加轻量级一些，所以总体上来说，元组的性能速度要略优于列表。\n",
    "\n",
    "另外，Python 会在后台，对静态数据做一些`资源缓存（resource caching）`。\n",
    "\n",
    "通常来说，因为垃圾回收机制的存在，如果一些变量不被使用了，Python 就会回收它们所占用的内存，返还给操作系统，以便其他变量或其他应用使用。\n",
    "\n",
    "但是对于一些静态变量，比如元组，如果它不被使用并且占用空间不大时，Python 会暂时缓存这部分内存。这样，下次我们再创建同样大小的元组时，Python 就可以不用再向操作系统发出请求，去寻找内存，而是可以直接分配之前缓存的内存空间，这样就能大大加快程序的运行速度。\n",
    "\n",
    "下面的例子，是计算初始化一个相同元素的列表和元组分别所需的时间。我们可以看到，元组的初始化速度，要比列表快 5 倍。\n",
    "\n",
    "```py\n",
    "python3 -m timeit 'x=(1,2,3,4,5,6)'\n",
    "20000000 loops, best of 5: 9.97 nsec per loop\n",
    "python3 -m timeit 'x=[1,2,3,4,5,6]'\n",
    "5000000 loops, best of 5: 50.1 nsec per loop\n",
    "```\n",
    "但如果是索引操作的话，两者的速度差别非常小，几乎可以忽略不计。\n",
    "```py\n",
    "python3 -m timeit -s 'x=[1,2,3,4,5,6]' 'y=x[3]'\n",
    "10000000 loops, best of 5: 22.2 nsec per loop\n",
    "python3 -m timeit -s 'x=(1,2,3,4,5,6)' 'y=x[3]'\n",
    "10000000 loops, best of 5: 21.9 nsec per loop\n",
    "```\n",
    "当然，如果你想要增加、删减或者改变元素，那么列表显然更优。原因你现在肯定知道了，那就是对于元组，你必须得通过新建一个元组来完成。"
   ]
  },
  {
   "cell_type": "markdown",
   "metadata": {},
   "source": [
    "## 列表和元组的使用场景\n",
    "根据上面所说的特性，我们具体情况具体分析。\n",
    "1. 如果存储的数据和数量不变，比如你有一个函数，需要返回的是一个地点的经纬度，然后直接传给前端渲染，那么肯定选用元组更合适。\n",
    "```py\n",
    "def get_location():\n",
    ".....\n",
    "return (longitude, latitude)\n",
    "```\n",
    "2. 如果存储的数据或数量是可变的，比如社交平台上的一个日志功能，是统计一个用户在一周之内看了哪些用户的帖子，那么则用列表更合适。\n",
    "```py\n",
    "viewer_owner_id_list = [] # 里面的每个元素记录了这个 viewer 一周内看过的所有 owner 的 id\n",
    "records = queryDB(viewer_id) # 索引数据库，拿到某个 viewer 一周内的日志\n",
    "for record in records:\n",
    "viewer_owner_id_list.append(record.id)\n",
    "```"
   ]
  },
  {
   "cell_type": "markdown",
   "metadata": {},
   "source": [
    "## 总结\n",
    "- 总的来说，列表和元组都是有序的，可以存储任意数据类型的集合，区别主要在于下面这两点。\n",
    "\n",
    "- 列表是动态的，长度可变，可以随意的增加、删减或改变元素。列表的存储空间略大于元组，性能略逊于元组。\n",
    "\n",
    "- 元组是静态的，长度大小固定，不可以对元素进行增加、删减或者改变操作。元组相对于列表更加轻量级，性能稍优。"
   ]
  },
  {
   "cell_type": "markdown",
   "metadata": {},
   "source": [
    "# 字典、集合\n",
    "## 字典和集合基础\n",
    "那究竟什么是字典，什么是集合呢？字典是一系列由键（key）和值（value）配对组成的元素的集合，在 Python3.7+，字典被确定为有序（注意：在 3.6 中，字典有序是一个implementation detail，在 3.7 才正式成为语言特性，因此 3.6 中无法 100% 确保其有序性），而 3.6 之前是无序的，其长度大小可变，元素可以任意地删减和改变。\n",
    "\n",
    "相比于列表和元组，字典的性能更优，特别是对于查找、添加和删除操作，字典都能在常数时间复杂度内完成。\n",
    "\n",
    "而集合和字典基本相同，唯一的区别，就是集合没有键和值的配对，是一系列无序的、唯一的元素组合。\n",
    "\n",
    "首先我们来看字典和集合的创建，通常有下面这几种方式："
   ]
  },
  {
   "cell_type": "code",
   "execution_count": 33,
   "metadata": {},
   "outputs": [
    {
     "data": {
      "text/plain": [
       "True"
      ]
     },
     "execution_count": 33,
     "metadata": {},
     "output_type": "execute_result"
    }
   ],
   "source": [
    "d1 = {'name': 'jason', 'age': 20, 'gender': 'male'}\n",
    "d2 = dict({'name': 'jason', 'age': 20, 'gender': 'male'})\n",
    "d3 = dict([('name', 'jason'), ('age', 20), ('gender', 'male')])\n",
    "d4 = dict(name='jason', age=20, gender='male')\n",
    "d1 == d2 == d3 ==d4"
   ]
  },
  {
   "cell_type": "code",
   "execution_count": 34,
   "metadata": {
    "scrolled": true
   },
   "outputs": [
    {
     "data": {
      "text/plain": [
       "True"
      ]
     },
     "execution_count": 34,
     "metadata": {},
     "output_type": "execute_result"
    }
   ],
   "source": [
    "s1 = {1, 2, 3}\n",
    "s2 = set([1, 2, 3])\n",
    "s1 == s2"
   ]
  },
  {
   "cell_type": "markdown",
   "metadata": {},
   "source": [
    "- 元素访问\n",
    "    \n",
    "    字典访问可以直接索引键，如果不存在，就会抛出异常：\n",
    "```python\n",
    "d = {'name': 'jason', 'age': 20}\n",
    "d['name']\n",
    "'jason'\n",
    "d['location']\n",
    "Traceback (most recent call last):\n",
    "File \"<stdin>\", line 1, in <module>\n",
    "KeyError: 'location'\n",
    "```\n",
    "    也可以使用 get(key, default) 函数来进行索引。如果键不存在，调用 get() 函数可以返回一个默认值。比如下面这个示例，返回了'null'。\n",
    "```py\n",
    "d = {'name': 'jason', 'age': 20}\n",
    "d.get('name')\n",
    "'jason'\n",
    "d.get('location', 'null')\n",
    "'null'\n",
    "```\n",
    "    首先我要强调的是，集合并不支持索引操作，因为集合本质上是一个哈希表，和列表不一样。所以，下面这样的操作是错误的，Python 会抛出异常：\n",
    "```py\n",
    "s = {1, 2, 3}\n",
    "s[0]\n",
    "Traceback (most recent call last):\n",
    "File \"<stdin>\", line 1, in <module>\n",
    "TypeError: 'set' object does not support indexing\n",
    "```\n",
    "    想要判断一个元素在不在字典或集合内，我们可以用 value in dict/set 来判断。\n",
    "```py\n",
    "s = {1, 2, 3}\n",
    "1 in s\n",
    "True\n",
    "10 in s\n",
    "False\n",
    "d = {'name': 'jason', 'age': 20}\n",
    "'name' in d\n",
    "True\n",
    "'location' in d\n",
    "False\n",
    "```"
   ]
  },
  {
   "cell_type": "markdown",
   "metadata": {},
   "source": [
    "- 增删查改\n",
    "\n",
    "```py\n",
    "d = {'name': 'jason', 'age': 20}\n",
    "d['gender'] = 'male' # 增加元素对'gender': 'male'\n",
    "d['dob'] = '1999-02-01' # 增加元素对'dob': '1999-02-01'\n",
    "d\n",
    "{'name': 'jason', 'age': 20, 'gender': 'male', 'dob': '1999-02-01'}\n",
    "d['dob'] = '1998-01-01' # 更新键'dob'对应的值\n",
    "d.pop('dob') # 删除键为'dob'的元素对\n",
    "'1998-01-01'\n",
    "d\n",
    "{'name': 'jason', 'age': 20, 'gender': 'male'}\n",
    "s = {1, 2, 3}\n",
    "s.add(4) # 增加元素 4 到集合\n",
    "s\n",
    "{1, 2, 3, 4}\n",
    "s.remove(4) # 从集合中删除元素 4\n",
    "s\n",
    "{1, 2, 3}\n",
    "```\n",
    "不过要注意，集合的 pop() 操作是删除集合中最后一个元素，可是集合本身是无序的，你\n",
    "无法知道会删除哪个元素，因此这个操作得谨慎使用。"
   ]
  },
  {
   "cell_type": "markdown",
   "metadata": {},
   "source": [
    "- 排序\n",
    "```py\n",
    "d = {'b': 1, 'a': 2, 'c': 10}\n",
    "d_sorted_by_key = sorted(d.items(), key=lambda x: x[0]) # 根据字典键的升序排序\n",
    "d_sorted_by_value = sorted(d.items(), key=lambda x: x[1]) # 根据字典值的升序排序\n",
    "d_sorted_by_key\n",
    "[('a', 2), ('b', 1), ('c', 10)]\n",
    "d_sorted_by_value\n",
    "[('b', 1), ('a', 2), ('c', 10)]\n",
    "```\n",
    "这里返回了一个列表。列表中的每个元素，是由原字典的键和值组成的元组。\n",
    "而对于集合，其排序和前面讲过的列表、元组很类似，直接调用 sorted(set) 即可，结果会\n",
    "返回一个排好序的列表。\n",
    "```py\n",
    "s = {3, 4, 2, 1}\n",
    "sorted(s) # 对集合的元素进行升序排序\n",
    "[1, 2, 3, 4]\n",
    "```"
   ]
  },
  {
   "cell_type": "markdown",
   "metadata": {},
   "source": [
    "## 字典和集合性能\n",
    "文章开头就说到了，字典和集合是进行过性能高度优化的数据结构，特别是对于查找、添加和删除操作。"
   ]
  },
  {
   "cell_type": "markdown",
   "metadata": {},
   "source": [
    "## 字典和集合的工作原理\n",
    "不同于其他数据结构，字典和集合的内部结构都是一张哈希表。\n",
    "\n",
    "- 对于字典而言，这张表存储了哈希值（hash）、键和值这 3 个元素。\n",
    "\n",
    "- 而对集合来说，区别就是哈希表内没有键和值的配对，只有单一的元素了。\n",
    "\n",
    "- 具体原理后期再补 # TODO"
   ]
  },
  {
   "cell_type": "markdown",
   "metadata": {},
   "source": [
    "# 字符串\n",
    "## 字符串基础\n",
    "什么是字符串呢？字符串是由独立字符组成的一个序列，通常包含在单引号（''）双引号（\"\"）或者三引号之中（''' '''或\"\"\" \"\"\"，两者一样），比如下面几种写法。\n",
    "```py\n",
    "name = 'jason'\n",
    "city = 'beijing'\n",
    "text = \"welcome to jike shijian\"\n",
    "```\n",
    "这里定义了 name、city 和 text 三个变量，都是字符串类型。我们知道，Python 中单引号、双引号和三引号的字符串是一模一样的，没有区别，比如下面这个例子中的 s1、s2、s3 完全一样。"
   ]
  },
  {
   "cell_type": "code",
   "execution_count": 41,
   "metadata": {
    "scrolled": true
   },
   "outputs": [
    {
     "data": {
      "text/plain": [
       "True"
      ]
     },
     "execution_count": 41,
     "metadata": {},
     "output_type": "execute_result"
    }
   ],
   "source": [
    "s1 = 'hello'\n",
    "s2 = \"hello\"\n",
    "s3 = \"\"\"hello\"\"\"\n",
    "s1 == s2 == s3"
   ]
  },
  {
   "attachments": {},
   "cell_type": "markdown",
   "metadata": {},
   "source": [
    "Python 同时支持这三种表达方式，很重要的一个原因就是，这样方便你在字符串中，内嵌带引号的字符串。比如：\n",
    "```py\n",
    "\"I'm a student\"\n",
    "```\n",
    "Python 的三引号字符串，则主要应用于多行字符串的情境，比如函数的注释等等。\n",
    "```py\n",
    "def calculate_similarity(item1, item2):\n",
    "    \"\"\"\n",
    "    Calculate similarity between two items\n",
    "    Args:\n",
    "    item1: 1st item\n",
    "    item2: 2nd item\n",
    "    Returns:\n",
    "    similarity score between item1 and item2\n",
    "    \"\"\"\n",
    "```\n",
    "\n",
    "同时，Python 也支持转义字符。所谓的转义字符，就是用反斜杠开头的字符串，来表示一些特定意义的字符。我把常见的的转义字符，总结成了下面这张表格。\n",
    "\n",
    "![image-20211020145458829](https://i.loli.net/2021/10/20/YJu1Fs9odDC2yzq.png)\n"
   ]
  },
  {
   "cell_type": "markdown",
   "metadata": {},
   "source": [
    "## 字符串的常用操作\n",
    "你可以把字符串想象成一个由单个字符组成的数组，所以，Python 的字符串同样支持索引，切片和遍历等等操作。\n",
    "```py\n",
    "name = 'jason'\n",
    "name[0]\n",
    "'j'\n",
    "name[1:3]\n",
    "'as'\n",
    "```\n",
    "特别要注意，Python 的字符串是不可变的（immutable）。因此，用下面的操作，来改变一个字符串内部的字符是错误的，不允许的。\n",
    "```py\n",
    "s = 'hello'\n",
    "s[0] = 'H'\n",
    "Traceback (most recent call last):\n",
    "File \"<stdin>\", line 1, in <module>\n",
    "TypeError: 'str' object does not support item assignment\n",
    "```\n",
    "Python 中字符串的改变，通常只能通过创建新的字符串来完成。比如上述例子中，想把'hello'的第一个字符'h'，改为大写的'H'，我们可以采用下面的做法："
   ]
  },
  {
   "cell_type": "code",
   "execution_count": 43,
   "metadata": {},
   "outputs": [
    {
     "data": {
      "text/plain": [
       "'Hello'"
      ]
     },
     "execution_count": 43,
     "metadata": {},
     "output_type": "execute_result"
    }
   ],
   "source": [
    "s = \"hello\"\n",
    "s = 'H' + s[1:]\n",
    "s = s.replace('h', 'H')\n",
    "s"
   ]
  },
  {
   "cell_type": "markdown",
   "metadata": {},
   "source": [
    "你可能了解到，在其他语言中，如 Java，有可变的字符串类型，比如 StringBuilder，每次添加、改变或删除字符（串），无需创建新的字符串，时间复杂度仅为 O(1)。这样就大大提高了程序的运行效率。\n",
    "\n",
    "但可惜的是，Python 中并没有相关的数据类型，我们还是得老老实实创建新的字符串。因此，每次想要改变字符串，往往需要 O(n) 的时间复杂度，其中，n 为新字符串的长度。\n",
    "\n",
    "你可能注意到了，上述例子的说明中，我用的是“往往”、“通常”这样的字眼，并没有说“一定”。这是为什么呢？显然，随着版本的更新，Python 也越来越聪明，性能优化得越来越好了。\n",
    "\n",
    "这里，我着重讲解一下，使用加法操作符'+='的字符串拼接方法。因为它是一个例外，打破了字符串不可变的特性。\n",
    "\n",
    "操作方法如下所示：\n",
    "```py\n",
    "str1 += str2 # 表示 str1 = str1 + str2\n",
    "```"
   ]
  },
  {
   "cell_type": "markdown",
   "metadata": {},
   "source": [
    "对于下面这个例子\n",
    "```py\n",
    "s = ''\n",
    "for n in range(0, 100000):\n",
    "s += str(n)\n",
    "```\n",
    "每次循环，似乎都得创建一个新的字符串；而每次创建一个新的字符串，都需要 O(n) 的时间复杂度。因此，总的时间复杂度就为 O(1) + O(2) + … + O(n) = O(n^2)。这样到底对不对呢？\n",
    "\n",
    "自从 Python2.5 开始，每次处理字符串的拼接操作时（str1 += str2），Python 首先会检测 str1 还有没有其他的引用。如果没有的话，就会尝试原地扩充字符串 buffer 的大小，而不是重新分配一块内存来创建新的字符串并拷贝。这样的话，上述例子中的时间复杂度就仅为 O(n) 了。\n",
    "\n",
    "因此，以后你在写程序遇到字符串拼接时，如果使用’+='更方便，就放心地去用吧，不用过分担心效率问题了。\n",
    "\n",
    "另外，对于字符串拼接问题，除了使用加法操作符，我们还可以使用字符串内置的 join 函数。`string.join(iterable)`，表示把每个元素都按照指定的格式连接起来。\n",
    "\n",
    "```py\n",
    "l = []\n",
    "for n in range(0, 100000):\n",
    "l.append(str(n))\n",
    "l = ' '.join(l)\n",
    "```\n",
    "\n",
    "由于列表的 append 操作是 O(1) 复杂度，字符串同理。因此，这个含有 for 循环例子的时\n",
    "间复杂度为 n*O(1)=O(n)。"
   ]
  },
  {
   "cell_type": "markdown",
   "metadata": {},
   "source": [
    "- 字符串的分割函数\n",
    "\n",
    "    `string.split(separator)`\n",
    "    \n",
    "    表示把字符串按照 separator 分割成子字符串，并返回一个分割后子字符串组合的列表。\n",
    "\n",
    "    它常常应用于对数据的解析处理，比如我们读取了某个文件的路径，想要调用数据库的 API，去读取对应的数据。\n",
    "    \n",
    "- 其他常见函数\n",
    "\n",
    "    `string.strip(str)`，表示去掉首尾的 str 字符串；\n",
    "\n",
    "    `string.lstrip(str)`，表示只去掉开头的 str 字符串；\n",
    "\n",
    "    `string.rstrip(str)`，表示只去掉尾部的 str 字符串;\n",
    "    \n",
    "    `tring.find(sub, start, end)`，表示从start 到 end 查找字符串中子字符串 sub 的位置"
   ]
  },
  {
   "cell_type": "markdown",
   "metadata": {},
   "source": [
    "## 字符串的格式化\n",
    "通常，我们使用一个字符串作为模板，模板中会有格式符。这些格式符为后续真实值预留位置，以呈现出真实值应该呈现的格式。字符串的格式化，通常会用在程序的输出、logging等场景。\n",
    "\n",
    "举一个常见的例子。比如我们有一个任务，给定一个用户的 userid，要去数据库中查询该用户的一些信息，并返回。而如果数据库中没有此人的信息，我们通常会记录下来，这样有利于往后的日志分析，或者是线上 bug 的调试等等。\n",
    "\n",
    "```py\n",
    "print('no data available for person with id: {}, name: {}'.format(id, name))\n",
    "```\n",
    "\n",
    "其中的 `string.format()`，就是所谓的格式化函数；而大括号{}就是所谓的格式符，用来为后面的真实值——变量 `name` 预留位置。如果id = '123'、name='jason'，那么输出便是：\n",
    "\n",
    "```py\n",
    "'no data available for person with id: 123, name: jason'\n",
    "```\n",
    "\n",
    "不过要注意，string.format() 是最新的字符串格式函数与规范。自然，我们还有其他的表示方法，比如在 Python 之前版本中，字符串格式化通常用 % 来表示，那么上述的例子，就可以写成下面这样：\n",
    "\n",
    "```py\n",
    "print('no data available for person with id: %s, name: %s' % (id, name))\n",
    "```\n",
    "\n",
    "其中 %s 表示字符串型，%d 表示整型等等，这些属于常识，你应该都了解。\n",
    "\n",
    "- 推荐使用 format 函数，毕竟这是最新规范，也是官方文档推荐的规范。"
   ]
  },
  {
   "cell_type": "markdown",
   "metadata": {},
   "source": [
    "## 总结\n",
    "- Python 中字符串使用单引号、双引号或三引号表示，三者意义相同，并没有什么区别。其中，三引号的字符串通常用在多行字符串的场景。\n",
    "\n",
    "- Python 中字符串是不可变的（前面所讲的新版本 Python 中拼接操作’+='是个例外）。因此，随意改变字符串中字符的值，是不被允许的。\n",
    "\n",
    "- Python 新版本（2.5+）中，字符串的拼接变得比以前高效了许多，你可以放心使用。\n",
    "\n",
    "- Python 中字符串的格式化（string.format）常常用在输出、日志的记录等场景。"
   ]
  },
  {
   "cell_type": "markdown",
   "metadata": {},
   "source": [
    "# 输入和输出\n",
    "## 输入输出基础\n",
    "最简单直接的输入来自键盘操作，比如下面这个例子。"
   ]
  },
  {
   "cell_type": "code",
   "execution_count": 44,
   "metadata": {},
   "outputs": [
    {
     "name": "stdout",
     "output_type": "stream",
     "text": [
      "your name:Jack\n",
      "you are a boy?(y/n)y\n"
     ]
    }
   ],
   "source": [
    "# 输入\n",
    "name = input('your name:')\n",
    "gender = input('you are a boy?(y/n)')"
   ]
  },
  {
   "cell_type": "code",
   "execution_count": 45,
   "metadata": {},
   "outputs": [
    {
     "name": "stdout",
     "output_type": "stream",
     "text": [
      "authorizing...\n",
      "Welcome to the matrix Mr. Jack.\n"
     ]
    }
   ],
   "source": [
    "welcome_str = 'Welcome to the matrix {prefix} {name}.'\n",
    "welcome_dic = {\n",
    "'prefix': 'Mr.' if gender == 'y' else 'Mrs',\n",
    "'name': name\n",
    "}\n",
    "print('authorizing...')\n",
    "print(welcome_str.format(**welcome_dic))"
   ]
  },
  {
   "cell_type": "markdown",
   "metadata": {},
   "source": [
    "input() 函数暂停程序运行，同时等待键盘输入；\n",
    "\n",
    "直到回车被按下，函数的参数即为提示语，输入的类型永远是字符串型（str）。\n",
    "\n",
    "注意，初学者在这里很容易犯错。\n",
    "\n",
    "Python 对 int 类型没有最大限制（相比之下， C++ 的 int 最大为 2147483647，超过这个数字会产生溢出），但是对 float 类型依然有精度限制。这些特点，除了在一些算法竞赛中要注意，在生产环境中也要时刻提防，避免因为对边界条件判断不清而造成 bug 甚至0day（危重安全漏洞）。"
   ]
  },
  {
   "cell_type": "markdown",
   "metadata": {},
   "source": [
    "## 文件输入输出\n",
    "命令行的输入输出，只是 Python 交互的最基本方式，适用一些简单小程序的交互。\n",
    "而生产级别的 Python 代码，大部分 I/O 则来自于文件、网络、其他进程的消息等等。\n",
    "\n",
    "首先我们需要先了解一下，计算机中文件访问的基础知识。事实上，计算机内核（kernel）对文件的处理相对比较复杂，涉及到内核模式、虚拟文件系统、锁和指针等一系列概念，这些内容我不会深入讲解，我只说一些基础但足够使用的知识。"
   ]
  },
  {
   "cell_type": "code",
   "execution_count": 51,
   "metadata": {},
   "outputs": [
    {
     "data": {
      "text/plain": [
       "'This is a test file.'"
      ]
     },
     "execution_count": 51,
     "metadata": {},
     "output_type": "execute_result"
    }
   ],
   "source": [
    "with open(\"test.txt\",\"r\") as ifs:\n",
    "    text = ifs.read()\n",
    "text"
   ]
  },
  {
   "cell_type": "markdown",
   "metadata": {},
   "source": [
    "我们先要用 open() 函数拿到文件的指针。其中，第一个参数指定文件位置（相对位置或者绝对位置）；第二个参数，如果是 'r'表示读取，如果是'w' 则表示写入，当然也可以用'rw' ，表示读写都要。a 则是一个不太常用（但也很有用）的参数，表示追加（append），这样打开的文件，如果需要写入，会从原始文件的最末尾开始写入。\n",
    "\n",
    "如果你只需要读取文件，就不要请求写入权限。这样在某种程度上可以降低 bug 对整个系统带来的风险。\n",
    "\n",
    "代码 text = fin.read() ，即表示把文件所有内容读取到内存中，并赋值给变量 text。这么做自然也是有利有弊：\n",
    "\n",
    "    优点是方便;\n",
    "    缺点是如果文件过大，一次性读取可能造成内存崩溃。\n",
    "    \n",
    "这时，我们可以给 read 指定参数 size ，用来表示读取的最大长度。还可以通过 readline()函数，每次读取一行，这种做法常用于数据挖掘（Data Mining）中的数据清洗，在写一些小的程序时非常轻便。如果每行之间没有关联，这种做法也可以降低内存的压力。而write() 函数，可以把参数中的字符串输出到文件中，也很容易理解。\n",
    "\n",
    "这里我需要简单提一下 with 语句（后文会详细讲到）。open() 函数对应于 close() 函数，也就是说，如果你打开了文件，在完成读取任务后，就应该立刻关掉它。而如果你使用了with 语句，就不需要显式调用close()。在 with 的语境下任务执行完毕后，close() 函数会被自动调用，代码也会简洁很多。\n",
    "\n",
    "最后需要注意的是，所有 I/O 都应该进行错误处理。因为 I/O 操作可能会有各种各样的情况出现，而一个健壮（robust）的程序，需要能应对各种情况的发生，而不应该崩溃（故意设计的情况除外）。"
   ]
  },
  {
   "cell_type": "markdown",
   "metadata": {},
   "source": [
    "## JSON实战\n",
    "`# TODO`"
   ]
  },
  {
   "cell_type": "markdown",
   "metadata": {},
   "source": [
    "# 条件与循环\n",
    "\n",
    "习惯把“条件与循环”，叫做编程中的基本功。为什么称它为基本功呢？因为它控制着代码的逻辑，可以说是程序的中枢系统。如果把写程序比作盖楼房，那么条件与循环就是楼房的根基，其他所有东西都是在此基础上构建而成。\n",
    "\n",
    "毫不夸张地说，写一手简洁易读的条件与循环代码，对提高程序整体的质量至关重要。\n",
    "\n",
    "## 条件语句\n",
    "首先，我们一起来看一下 Python 的条件语句，用法很简单。比如，我想要表示 y=|x|这个函数，那么相应的代码便是："
   ]
  },
  {
   "cell_type": "code",
   "execution_count": 54,
   "metadata": {},
   "outputs": [
    {
     "data": {
      "text/plain": [
       "3"
      ]
     },
     "execution_count": 54,
     "metadata": {},
     "output_type": "execute_result"
    }
   ],
   "source": [
    "def Jx_abs(x):\n",
    "    if x < 0:\n",
    "        y = -x\n",
    "    else:\n",
    "        y = x\n",
    "    return y\n",
    "\n",
    "Jx_abs(-3)"
   ]
  },
  {
   "cell_type": "markdown",
   "metadata": {},
   "source": [
    "和其他语言不一样，我们不能在条件语句中加括号，但需要注意的是，在条件语句的末尾必须加上冒号`:`，这是 Python 特定的语法规范。\n",
    "由于 Python 不支持 switch 语句，因此，当存在多个条件判断时，我们需要用 else if 来实\n",
    "现，这在 Python 中的表达是elif。语法如下：\n",
    "```py\n",
    "if condition_1:\n",
    "statement_1\n",
    "elif condition_2:\n",
    "statement_2\n",
    "...\n",
    "elif condition_i:\n",
    "statement_i\n",
    "else:\n",
    "statement_n\n",
    "```\n",
    "整个条件语句是顺序执行的，如果遇到一个条件满足，比如 condition_i 满足时，在执行完statement_i 后，便会退出整个 if、elif、else 条件语句，而不会继续向下执行。\n",
    "\n",
    "关于省略判断条件的常见用法:\n",
    "\n",
    "![image-20211020162758606](https://i.loli.net/2021/10/20/SlPedpLN2hcQiBv.png)\n",
    "\n",
    "不过，切记，在实际写代码时，我们鼓励，除了 `bool` 类型的数据，条件判断最好是显性的。比如，在判断一个整型数是否为 0 时，我们最好写出判断的条件：\n",
    "\n",
    "```py\n",
    "if i != 0:\n",
    "...\n",
    "```"
   ]
  },
  {
   "cell_type": "markdown",
   "metadata": {},
   "source": [
    "## 循环语句\n",
    "所谓循环，顾名思义，本质上就是遍历集合中的元素。和其他语言一样，Python 中的循环一般通过 for 循环和 while 循环实现。\n",
    "\n",
    "比如，我们有一个列表，需要遍历列表中的所有元素并打印输出，代码如下："
   ]
  },
  {
   "cell_type": "code",
   "execution_count": 63,
   "metadata": {},
   "outputs": [
    {
     "name": "stdout",
     "output_type": "stream",
     "text": [
      "1\n",
      "2\n",
      "3\n",
      "4\n"
     ]
    }
   ],
   "source": [
    "l = [1, 2, 3, 4]\n",
    "for item in l:\n",
    "    print(item)"
   ]
  },
  {
   "cell_type": "markdown",
   "metadata": {},
   "source": [
    "其实，Python 中的数据结构只要是可迭代的（iterable），比如列表、集合等等，那么都可以通过下面这种方式遍历：\n",
    "```py\n",
    "for item in <iterable>:\n",
    "...\n",
    "```\n",
    "这里需要单独强调一下字典。字典本身只有键是可迭代的，如果我们要遍历它的值或者是键值对，就需要通过其内置的函数 values() 或者 items() 实现。其中，values() 返回字典的值的集合，items() 返回键值对的集合。\n",
    "\n",
    "```py\n",
    "d = {'name': 'jason', 'dob': '2000-01-01', 'gender': 'male'}\n",
    "for k in d: # 遍历字典的键\n",
    "print(k)\n",
    "name\n",
    "dob\n",
    "gender\n",
    "for v in d.values(): # 遍历字典的值\n",
    "print(v)\n",
    "jason\n",
    "2000-01-01\n",
    "male\n",
    "for k, v in d.items(): # 遍历字典的键值对\n",
    "print('key: {}, value: {}'.format(k, v))\n",
    "key: name, value: jason\n",
    "key: dob, value: 2000-01-01\n",
    "key: gender, value: male\n",
    "```"
   ]
  },
  {
   "cell_type": "markdown",
   "metadata": {},
   "source": [
    "通过索引来遍历："
   ]
  },
  {
   "cell_type": "code",
   "execution_count": 65,
   "metadata": {},
   "outputs": [
    {
     "name": "stdout",
     "output_type": "stream",
     "text": [
      "1\n",
      "2\n",
      "3\n"
     ]
    }
   ],
   "source": [
    "l = [1, 2, 3, 4, 5, 6, 7]\n",
    "for index in range(0, len(l)):\n",
    "    if index < 3:\n",
    "        print(l[index])"
   ]
  },
  {
   "cell_type": "markdown",
   "metadata": {},
   "source": [
    "当我们同时需要索引和元素时，还有一种更简洁的方式，那就是通过 Python 内置的函数`enumerate()`。\n",
    "\n",
    "用它来遍历集合，不仅返回每个元素，并且还返回其对应的索引，这样一来，上面的例子就可以写成:"
   ]
  },
  {
   "cell_type": "code",
   "execution_count": 66,
   "metadata": {},
   "outputs": [
    {
     "name": "stdout",
     "output_type": "stream",
     "text": [
      "1\n",
      "2\n",
      "3\n"
     ]
    }
   ],
   "source": [
    "l = [1, 2, 3, 4, 5, 6, 7]\n",
    "for index, item in enumerate(l):\n",
    "    if index < 3:\n",
    "        print(item)"
   ]
  },
  {
   "cell_type": "markdown",
   "metadata": {},
   "source": [
    "在循环语句中，我们还常常搭配 `continue` 和 `break` 一起使用。\n",
    "\n",
    "所谓 `continue`，就是让程序跳过当前这层循环，继续执行下面的循环；\n",
    "\n",
    "而 `break` 则是指完全跳出所在的整个循环体。\n",
    "\n",
    "在循环中适当加入 `continue` 和 `break`，往往能使程序更加简洁、易读。"
   ]
  },
  {
   "cell_type": "markdown",
   "metadata": {},
   "source": [
    "很多时候，for 循环和 while 循环可以互相转换，比如要遍历一个列表，我们用 while 循环同样可以完成："
   ]
  },
  {
   "cell_type": "code",
   "execution_count": 67,
   "metadata": {},
   "outputs": [
    {
     "name": "stdout",
     "output_type": "stream",
     "text": [
      "1\n",
      "2\n",
      "3\n",
      "4\n"
     ]
    }
   ],
   "source": [
    "l = [1, 2, 3, 4]\n",
    "index = 0\n",
    "while index < len(l):\n",
    "    print(l[index])\n",
    "    index += 1"
   ]
  },
  {
   "cell_type": "markdown",
   "metadata": {},
   "source": [
    "那么，两者的使用场景又有什么区别呢？\n",
    "\n",
    "通常来说，如果你只是遍历一个已知的集合，找出满足条件的元素，并进行相应的操作，那么使用 for 循环更加简洁。\n",
    "\n",
    "但如果你需要在满足某个条件前，不停地重复某些操作，并且没有特定的集合需要去遍历，那么一般则会使用 while 循环。"
   ]
  },
  {
   "cell_type": "markdown",
   "metadata": {},
   "source": [
    "比如，某个交互式问答系统，用户输入文字，系统会根据内容做出相应的回答。\n",
    "\n",
    "为了实现这个功能，我们一般会使用 while 循环，大致代码如下：\n",
    "\n",
    "```py\n",
    "while True:\n",
    "    try:\n",
    "        text = input('Please enter your questions, enter \"q\" to exit')\n",
    "        if text == 'q':\n",
    "            print('Exit system')\n",
    "            break\n",
    "        ...\n",
    "        ...\n",
    "        print(response)\n",
    "    except as err:\n",
    "        print('Encountered error: {}'.format(err))\n",
    "        break\n",
    "```        "
   ]
  },
  {
   "cell_type": "markdown",
   "metadata": {},
   "source": [
    "- for 循环和 while 循环的效率问题:\n",
    "    \n",
    "    要知道，range() 函数是直接由 C 语言写的，调用它速度非常快。\n",
    "\n",
    "    而 while 循环中的“i+= 1”这个操作，得通过 Python 的解释器间接调用底层的 C 语言；\n",
    "\n",
    "    并且这个简单的操作，又涉及到了对象的创建和删除（因为 i 是整型，是 immutable，i += 1 相当于 i = new int(i + 1)）。\n",
    "\n",
    "    所以，显然，for 循环的效率更胜一筹。"
   ]
  },
  {
   "cell_type": "markdown",
   "metadata": {},
   "source": [
    "## 条件与循环的复用\n",
    "在阅读代码的时候，你应该常常会发现，有很多将条件与循环并做一行的操作，例如：\n",
    "\n",
    "`expression1 if condition else expression2 for item in iterable`\n",
    "\n",
    "将这个表达式分解开来，其实就等同于下面这样的嵌套结构：\n",
    "\n",
    "```py\n",
    "for item in iterable:\n",
    "    if condition:\n",
    "        expression1\n",
    "    else:\n",
    "        expression2\n",
    "```\n",
    "\n",
    "而如果没有 else 语句，则需要写成：\n",
    "\n",
    "`expression for item in iterable if condition`"
   ]
  },
  {
   "cell_type": "code",
   "execution_count": null,
   "metadata": {},
   "outputs": [],
   "source": []
  }
 ],
 "metadata": {
  "kernelspec": {
   "display_name": "Python 3",
   "language": "python",
   "name": "python3"
  },
  "language_info": {
   "codemirror_mode": {
    "name": "ipython",
    "version": 3
   },
   "file_extension": ".py",
   "mimetype": "text/x-python",
   "name": "python",
   "nbconvert_exporter": "python",
   "pygments_lexer": "ipython3",
   "version": "3.8.5"
  },
  "toc": {
   "base_numbering": 1,
   "nav_menu": {},
   "number_sections": true,
   "sideBar": true,
   "skip_h1_title": false,
   "title_cell": "Table of Contents",
   "title_sidebar": "Contents",
   "toc_cell": false,
   "toc_position": {
    "height": "calc(100% - 180px)",
    "left": "10px",
    "top": "150px",
    "width": "512px"
   },
   "toc_section_display": true,
   "toc_window_display": true
  },
  "varInspector": {
   "cols": {
    "lenName": 16,
    "lenType": 16,
    "lenVar": 40
   },
   "kernels_config": {
    "python": {
     "delete_cmd_postfix": "",
     "delete_cmd_prefix": "del ",
     "library": "var_list.py",
     "varRefreshCmd": "print(var_dic_list())"
    },
    "r": {
     "delete_cmd_postfix": ") ",
     "delete_cmd_prefix": "rm(",
     "library": "var_list.r",
     "varRefreshCmd": "cat(var_dic_list()) "
    }
   },
   "types_to_exclude": [
    "module",
    "function",
    "builtin_function_or_method",
    "instance",
    "_Feature"
   ],
   "window_display": false
  }
 },
 "nbformat": 4,
 "nbformat_minor": 4
}
