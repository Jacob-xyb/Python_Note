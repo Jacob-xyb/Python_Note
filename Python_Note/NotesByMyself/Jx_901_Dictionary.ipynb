{
 "cells": [
  {
   "cell_type": "markdown",
   "metadata": {},
   "source": [
    "# Dictionary 字典"
   ]
  },
  {
   "cell_type": "markdown",
   "metadata": {},
   "source": [
    "## object\n",
    "\n",
    "字典是另一种可变容器模型，且可存储任意类型对象。\n",
    "\n",
    "字典的每个键值 key=>value 对用冒号 : 分割，每个对之间用逗号(,)分割，整个字典包括在花括号 {} 中 ,格式如下所示：\n",
    "\n",
    "`d = {key1 : value1, key2 : value2, key3 : value3 }`\n",
    "\n",
    "键必须是唯一的，但值则不必。\n",
    "\n",
    "值可以取任何数据类型，但键必须是不可变的，如字符串，数字。\n",
    "\n",
    "- __注意：__\n",
    "\n",
    "在 Python3.7+ ，字典被确定为有序（implementation detail），而3.6之前是无序的。\n",
    "\n",
    "- 字典和集合基本相同，唯一的区别，就是集合没有 键 和 值 的配对，是一系列无序的，唯一的元素组合。"
   ]
  },
  {
   "cell_type": "code",
   "execution_count": 2,
   "metadata": {},
   "outputs": [
    {
     "name": "stdout",
     "output_type": "stream",
     "text": [
      "{}\n"
     ]
    }
   ],
   "source": [
    "dict = {}  # Create an empty dictionary\n",
    "print(dict)"
   ]
  },
  {
   "cell_type": "code",
   "execution_count": 4,
   "metadata": {},
   "outputs": [
    {
     "name": "stdout",
     "output_type": "stream",
     "text": [
      "{'one': '1 - hello,world'}\n"
     ]
    }
   ],
   "source": [
    "dict['one'] = \"1 - hello,world\"  # Create a value with a key of 'one'\n",
    "print(dict)"
   ]
  },
  {
   "cell_type": "code",
   "execution_count": 6,
   "metadata": {},
   "outputs": [
    {
     "name": "stdout",
     "output_type": "stream",
     "text": [
      "{'one': '1 - hello,world', 2: '2 - 嘿嘿'}\n"
     ]
    }
   ],
   "source": [
    "dict[2] = \"2 - 嘿嘿\"  # Create a value with a key of 2\n",
    "print(dict)"
   ]
  },
  {
   "cell_type": "markdown",
   "metadata": {},
   "source": [
    "## 字典的创建"
   ]
  },
  {
   "cell_type": "code",
   "execution_count": 15,
   "metadata": {},
   "outputs": [
    {
     "data": {
      "text/plain": [
       "True"
      ]
     },
     "execution_count": 15,
     "metadata": {},
     "output_type": "execute_result"
    }
   ],
   "source": [
    "d1 = {'a': 0, 'b': 1}\n",
    "d2 = dict({'a': 0, 'b': 1})\n",
    "d3 = dict([('a', 0), ('b', 1)])\n",
    "d4 = dict(a=0, b=1)\n",
    "d1 == d2 == d3 == d4"
   ]
  },
  {
   "cell_type": "markdown",
   "metadata": {},
   "source": [
    "## 字典的CRUD"
   ]
  },
  {
   "cell_type": "code",
   "execution_count": 29,
   "metadata": {},
   "outputs": [],
   "source": [
    "d1_3 = {'name': 'Jacob', 'age': 18, 'height': 180}"
   ]
  },
  {
   "cell_type": "code",
   "execution_count": 31,
   "metadata": {},
   "outputs": [
    {
     "data": {
      "text/plain": [
       "{'name': 'Jacob', 'age': 18, 'height': 180, 'hobby': 'code'}"
      ]
     },
     "execution_count": 31,
     "metadata": {},
     "output_type": "execute_result"
    }
   ],
   "source": [
    "# 增加元素\n",
    "d1_3['hobby'] = 'code'\n",
    "d1_3"
   ]
  },
  {
   "cell_type": "code",
   "execution_count": 32,
   "metadata": {},
   "outputs": [
    {
     "data": {
      "text/plain": [
       "{'name': 'Jacob', 'age': 18, 'height': 180, 'hobby': 'sweet girl'}"
      ]
     },
     "execution_count": 32,
     "metadata": {},
     "output_type": "execute_result"
    }
   ],
   "source": [
    "# 更新元素\n",
    "d1_3['hobby'] = 'sweet girl'\n",
    "d1_3"
   ]
  },
  {
   "cell_type": "code",
   "execution_count": 33,
   "metadata": {},
   "outputs": [
    {
     "data": {
      "text/plain": [
       "'sweet girl'"
      ]
     },
     "execution_count": 33,
     "metadata": {},
     "output_type": "execute_result"
    }
   ],
   "source": [
    "# 删除元素\n",
    "d1_3.pop('hobby')  # pop() 函数还会弹出删除的 键值对 的 值。"
   ]
  },
  {
   "cell_type": "markdown",
   "metadata": {},
   "source": [
    "## 有关字典的无序性及有序性\n",
    "\n",
    "- __字典的无序性__\n",
    "\n",
    "无序性代表不同对象但是内容是相同的，这是字典的无序性。\n",
    "\n",
    "- __字典的有序性__\n",
    "\n",
    "代表虽然内容相同但是字典打印出来的形式是按照某种有序形式排列的。\n",
    "\n",
    "---\n",
    "\n",
    "`is` 比较的是两个实例对象是不是完全相同，它们是不是同一个对象，占用的内存地址是否相同。莱布尼茨说过：“世界上没有两片完全相同的叶子”，这个is正是这样的比较，比较是不是同一片叶子（即比较的id是否相同，这id类似于人的身份证标识）。 \n",
    "\n",
    "`==` 比较的是两个对象的内容是否相等，即内存地址可以不一样，内容一样就可以了。这里比较的并非是同一片叶子，可能叶子的种类或者脉络相同就可以了。默认会调用对象的 __eq__()方法。"
   ]
  },
  {
   "cell_type": "code",
   "execution_count": 2,
   "metadata": {
    "scrolled": true
   },
   "outputs": [
    {
     "data": {
      "text/plain": [
       "True"
      ]
     },
     "execution_count": 2,
     "metadata": {},
     "output_type": "execute_result"
    }
   ],
   "source": [
    "# 无序性\n",
    "d1 = {'a': 0, 'b': 1}\n",
    "d2 = {'b': 1, 'a': 0}\n",
    "d1 == d2  # d1 和 d2 两个对象的内容是相同的"
   ]
  },
  {
   "cell_type": "code",
   "execution_count": 7,
   "metadata": {},
   "outputs": [
    {
     "data": {
      "text/plain": [
       "False"
      ]
     },
     "execution_count": 7,
     "metadata": {},
     "output_type": "execute_result"
    }
   ],
   "source": [
    "# 有序性\n",
    "d1 is d2  #  d1 和 d2 并不是相同的对象"
   ]
  },
  {
   "cell_type": "code",
   "execution_count": 6,
   "metadata": {},
   "outputs": [
    {
     "data": {
      "text/plain": [
       "(2822994092928, 2822993824320)"
      ]
     },
     "execution_count": 6,
     "metadata": {},
     "output_type": "execute_result"
    }
   ],
   "source": [
    "id(d1),id(d2)  # 可以看出 d1 和 d2 的储存地址是不同的。"
   ]
  },
  {
   "cell_type": "code",
   "execution_count": 9,
   "metadata": {},
   "outputs": [
    {
     "data": {
      "text/plain": [
       "({'a': 0, 'b': 1}, {'b': 1, 'a': 0})"
      ]
     },
     "execution_count": 9,
     "metadata": {},
     "output_type": "execute_result"
    }
   ],
   "source": [
    "d1 , d2  # d1 和 d2 打印出来的形式也不一样"
   ]
  },
  {
   "cell_type": "code",
   "execution_count": 11,
   "metadata": {},
   "outputs": [
    {
     "data": {
      "text/plain": [
       "(dict_keys(['a', 'b']), dict_keys(['b', 'a']))"
      ]
     },
     "execution_count": 11,
     "metadata": {},
     "output_type": "execute_result"
    }
   ],
   "source": [
    "d1.keys(), d2.keys()  # 同样 d1 和 d2 的 keys 顺序也不一样，因此 字典 是有序的。"
   ]
  },
  {
   "cell_type": "markdown",
   "metadata": {},
   "source": [
    "## 字典的访问"
   ]
  },
  {
   "cell_type": "markdown",
   "metadata": {},
   "source": [
    "- 字典可以直接索 键，如果不存在，就会抛出异常："
   ]
  },
  {
   "cell_type": "code",
   "execution_count": 17,
   "metadata": {},
   "outputs": [
    {
     "data": {
      "text/plain": [
       "'Jacob'"
      ]
     },
     "execution_count": 17,
     "metadata": {},
     "output_type": "execute_result"
    }
   ],
   "source": [
    "d1_4 = {'name': 'Jacob', 'age': 18, 'height': 180}\n",
    "d1_4['name']"
   ]
  },
  {
   "cell_type": "markdown",
   "metadata": {},
   "source": [
    "- 可以使用 `get(key,default)` 函数来进行索引。如果键不存在，调用 get() 函数可以返回一个默认值。"
   ]
  },
  {
   "cell_type": "code",
   "execution_count": 26,
   "metadata": {},
   "outputs": [
    {
     "data": {
      "text/plain": [
       "'null'"
      ]
     },
     "execution_count": 26,
     "metadata": {},
     "output_type": "execute_result"
    }
   ],
   "source": [
    "d1_4.get('hobby', 'null')\n",
    "# d1_4.get('hobby')  # 不填写参数，则默认什么都不返回。"
   ]
  },
  {
   "cell_type": "markdown",
   "metadata": {},
   "source": [
    "# 函数"
   ]
  },
  {
   "cell_type": "markdown",
   "metadata": {},
   "source": [
    "## dict()\n",
    "\n",
    "- dict()将包含双值子序列的序列转换成字典。__列表和元组都可以__"
   ]
  },
  {
   "cell_type": "code",
   "execution_count": 2,
   "metadata": {},
   "outputs": [
    {
     "name": "stdout",
     "output_type": "stream",
     "text": [
      "{'a': 'b', 'c': 'd', 'e': 'f'}\n"
     ]
    }
   ],
   "source": [
    "lol = [['a','b'],['c','d'],['e','f']]\n",
    "print(dict(lol))"
   ]
  },
  {
   "cell_type": "code",
   "execution_count": 1,
   "metadata": {},
   "outputs": [
    {
     "name": "stdout",
     "output_type": "stream",
     "text": [
      "{'a': 'b', 'c': 'd', 'e': 'f'}\n"
     ]
    }
   ],
   "source": [
    "lol = [('a','b'),('c','d'),('e','f')]\n",
    "print(dict(lol))"
   ]
  },
  {
   "cell_type": "markdown",
   "metadata": {},
   "source": [
    "## items()\n",
    "\n",
    "- 描述\n",
    "\n",
    "    - Python 字典 items() 方法以列表返回可遍历的(键, 值) 元组数组。\n",
    "- 语法： \n",
    "\n",
    "    - ```dict.items()``` 参数：NA\n",
    "\n",
    "- 返回值：\n",
    "\n",
    "    - 返回可遍历的(键, 值) 元组数组。"
   ]
  },
  {
   "cell_type": "code",
   "execution_count": 20,
   "metadata": {},
   "outputs": [
    {
     "name": "stdout",
     "output_type": "stream",
     "text": [
      "dict_items([('a', 8), ('c', 10), ('b', 2)])\n"
     ]
    }
   ],
   "source": [
    "numdict = {'a': 8, 'c': 10, 'b': 2}\n",
    "print(numdict.items())"
   ]
  },
  {
   "cell_type": "markdown",
   "metadata": {},
   "source": [
    "- 可以将字典的键值组成一个新的列表"
   ]
  },
  {
   "cell_type": "code",
   "execution_count": 22,
   "metadata": {},
   "outputs": [
    {
     "name": "stdout",
     "output_type": "stream",
     "text": [
      "['a', 8, 'c', 10, 'b', 2]\n"
     ]
    }
   ],
   "source": [
    "numdict = {'a': 8, 'c': 10, 'b': 2}\n",
    "res = []\n",
    "for key,value in numdict.items():\n",
    "    res.append(key)\n",
    "    res.append(value)\n",
    "print(res)"
   ]
  },
  {
   "cell_type": "markdown",
   "metadata": {},
   "source": [
    "- 应用：当键值一一对应时，可以实现键值互转:"
   ]
  },
  {
   "cell_type": "code",
   "execution_count": 1,
   "metadata": {},
   "outputs": [
    {
     "name": "stdout",
     "output_type": "stream",
     "text": [
      "{8: 'a', 10: 'c', 2: 'b'}\n"
     ]
    }
   ],
   "source": [
    "numdict = {'a': 8, 'c': 10, 'b': 2}\n",
    "res = {}\n",
    "for key,value in numdict.items():\n",
    "    res[value] = key\n",
    "print(res)"
   ]
  },
  {
   "cell_type": "markdown",
   "metadata": {},
   "source": [
    "## get()\n",
    "\n",
    "- 描述\n",
    "\n",
    "    - Python 字典 get() 函数返回指定键的值。\n",
    "- 语法\n",
    "\n",
    "    - ```dict.get(key, default=None)```\n",
    "    \n",
    "- 参数\n",
    "\n",
    "    - key -- 字典中要查找的键。\n",
    "    - default -- 如果指定的键不存在时，返回该默认值。\n",
    "\n",
    "- 返回值：\n",
    "\n",
    "    - 返回可遍历的(键, 值) 元组数组。"
   ]
  },
  {
   "cell_type": "code",
   "execution_count": 16,
   "metadata": {},
   "outputs": [
    {
     "name": "stdout",
     "output_type": "stream",
     "text": [
      "Age 值为 : 27\n",
      "Sex 值为 : NA\n",
      "Height 值为：180\n"
     ]
    }
   ],
   "source": [
    "dict = {'Name': 'Runoob', 'Age': 27}\n",
    "\n",
    "print(\"Age 值为 : %s\" %  dict.get('Age'))\n",
    "print(\"Sex 值为 : %s\" %  dict.get('Sex', \"NA\"))\n",
    "print(\"Height 值为：%s\" % dict.get('Height', \"180\"))"
   ]
  },
  {
   "cell_type": "code",
   "execution_count": 26,
   "metadata": {},
   "outputs": [
    {
     "name": "stdout",
     "output_type": "stream",
     "text": [
      "一年后 Age值为：28\n"
     ]
    }
   ],
   "source": [
    "dict = {'Name': 'Runoob', 'Age': 27}\n",
    "\n",
    "print(\"一年后 Age值为：%s\" % (dict.get('Age') + 1))"
   ]
  },
  {
   "cell_type": "markdown",
   "metadata": {},
   "source": [
    "## # index"
   ]
  },
  {
   "cell_type": "code",
   "execution_count": 1,
   "metadata": {},
   "outputs": [
    {
     "name": "stdout",
     "output_type": "stream",
     "text": [
      "[0.01, 0.025, 0.05, 0.1, 0.2]\n",
      "0.01\n",
      "dict_keys(['TP', 'TN']) <class 'dict_keys'>\n",
      "dict_values([[0.01, 0.025, 0.05, 0.1, 0.2], [0.2, 0.5, 1.0, 1.5, 2.0]]) <class 'dict_values'>\n"
     ]
    }
   ],
   "source": [
    "surface_tar = {'TP': [0.01, 0.025, 0.05, 0.1, 0.2],\n",
    "               'TN': [0.2, 0.5, 1.0, 1.5, 2.0]}\n",
    "print(surface_tar['TP'])  # Output the value with a key of 'TP' # list\n",
    "print(surface_tar['TP'][0])  # Output a value\n",
    "print(surface_tar.keys(),type(surface_tar.keys()))  # Output all keys\n",
    "print(surface_tar.values(),type(surface_tar.values()))  # Output all values"
   ]
  },
  {
   "cell_type": "markdown",
   "metadata": {},
   "source": [
    "## sorted() \n",
    "\n",
    "- sorted()会返回排好序的列表副本，`sorted(list)` 原列表内容不变, 但是 `sorted(set)` 原集合会变。\n",
    "\n",
    "- 对于字典而言：依据字典的key进行排序，返回key的排序结果"
   ]
  },
  {
   "cell_type": "code",
   "execution_count": 34,
   "metadata": {
    "scrolled": true
   },
   "outputs": [
    {
     "name": "stdout",
     "output_type": "stream",
     "text": [
      "['a', 'b', 'c']\n"
     ]
    }
   ],
   "source": [
    "numdict = {'a': 8, 'c': 10, 'b': 2}\n",
    "res = sorted(numdict)\n",
    "print(res)"
   ]
  },
  {
   "cell_type": "markdown",
   "metadata": {},
   "source": [
    "- 如何根据 键 或 值 对字典进行排序："
   ]
  },
  {
   "cell_type": "code",
   "execution_count": 40,
   "metadata": {},
   "outputs": [
    {
     "data": {
      "text/plain": [
       "dict_items([('a', 8), ('c', 10), ('b', 2)])"
      ]
     },
     "execution_count": 40,
     "metadata": {},
     "output_type": "execute_result"
    }
   ],
   "source": [
    "numdict.items()  # 返回 可遍历 的(键, 值) 元组数组。"
   ]
  },
  {
   "cell_type": "code",
   "execution_count": 43,
   "metadata": {},
   "outputs": [
    {
     "data": {
      "text/plain": [
       "[('a', 8), ('b', 2), ('c', 10)]"
      ]
     },
     "execution_count": 43,
     "metadata": {},
     "output_type": "execute_result"
    }
   ],
   "source": [
    "# 根据 键 进行排序\n",
    "d_sorted_by_key = sorted(numdict.items())  # 升序\n",
    "# d_sorted_by_key = sorted(numdict.items(),reverse=True)  # 降序\n",
    "d_sorted_by_key"
   ]
  },
  {
   "cell_type": "code",
   "execution_count": 47,
   "metadata": {},
   "outputs": [
    {
     "data": {
      "text/plain": [
       "[('c', 10), ('b', 2), ('a', 8)]"
      ]
     },
     "execution_count": 47,
     "metadata": {},
     "output_type": "execute_result"
    }
   ],
   "source": [
    "# 根据 键 进行排序比较正式的写法\n",
    "d_sorted_by_key = sorted(numdict.items(), key=lambda x:x[0]) \n",
    "# d_sorted_by_key = sorted(numdict.items(), key=lambda x:x[0], reverse=True)  # 降序\n",
    "d_sorted_by_key"
   ]
  },
  {
   "cell_type": "code",
   "execution_count": 48,
   "metadata": {},
   "outputs": [
    {
     "data": {
      "text/plain": [
       "[('b', 2), ('a', 8), ('c', 10)]"
      ]
     },
     "execution_count": 48,
     "metadata": {},
     "output_type": "execute_result"
    }
   ],
   "source": [
    "# 根据 值 进行排序比较正式的写法\n",
    "d_sorted_by_key = sorted(numdict.items(), key=lambda x:x[1]) \n",
    "d_sorted_by_key"
   ]
  },
  {
   "cell_type": "markdown",
   "metadata": {},
   "source": [
    "## u need konw"
   ]
  },
  {
   "cell_type": "markdown",
   "metadata": {},
   "source": [
    "- 如何根据值找键"
   ]
  },
  {
   "cell_type": "code",
   "execution_count": 18,
   "metadata": {},
   "outputs": [],
   "source": [
    "numdict = {'a': 8, 'c': 10, 'b': 2}\n",
    "key_list = []\n",
    "value_list = []\n",
    "for key,value in numdict.items():\n",
    "    key_list.append(key)\n",
    "    value_list.append(value)\n"
   ]
  },
  {
   "cell_type": "markdown",
   "metadata": {},
   "source": [
    "- 判断键值是否存在"
   ]
  },
  {
   "cell_type": "code",
   "execution_count": 13,
   "metadata": {},
   "outputs": [
    {
     "name": "stdout",
     "output_type": "stream",
     "text": [
      "1\n"
     ]
    }
   ],
   "source": [
    "numdict = {'a': 8, 'c': 10, 'b': 2}\n",
    "if \"d\" not in numdict:\n",
    "    print('1')"
   ]
  },
  {
   "cell_type": "markdown",
   "metadata": {},
   "source": [
    "- 一种新的创建字典的方式：常用于算法中。"
   ]
  },
  {
   "cell_type": "code",
   "execution_count": 2,
   "metadata": {},
   "outputs": [
    {
     "name": "stdout",
     "output_type": "stream",
     "text": [
      "{1: True, 2: True, 3: True}\n"
     ]
    }
   ],
   "source": [
    "A = [1, 2, 3]\n",
    "D = {i:True for i in A}\n",
    "print(D)："
   ]
  },
  {
   "cell_type": "code",
   "execution_count": 9,
   "metadata": {},
   "outputs": [
    {
     "name": "stdout",
     "output_type": "stream",
     "text": [
      "defaultdict(<class 'bool'>, {1: True, 2: True, 3: True})\n"
     ]
    }
   ],
   "source": [
    "from collections import defaultdict\n",
    "bc = defaultdict(bool,D)\n",
    "print(c)"
   ]
  }
 ],
 "metadata": {
  "kernelspec": {
   "display_name": "Python 3",
   "language": "python",
   "name": "python3"
  },
  "language_info": {
   "codemirror_mode": {
    "name": "ipython",
    "version": 3
   },
   "file_extension": ".py",
   "mimetype": "text/x-python",
   "name": "python",
   "nbconvert_exporter": "python",
   "pygments_lexer": "ipython3",
   "version": "3.8.5"
  },
  "toc": {
   "base_numbering": 1,
   "nav_menu": {},
   "number_sections": true,
   "sideBar": true,
   "skip_h1_title": false,
   "title_cell": "Table of Contents",
   "title_sidebar": "Contents",
   "toc_cell": false,
   "toc_position": {
    "height": "calc(100% - 180px)",
    "left": "10px",
    "top": "150px",
    "width": "383.984px"
   },
   "toc_section_display": true,
   "toc_window_display": true
  },
  "varInspector": {
   "cols": {
    "lenName": 16,
    "lenType": 16,
    "lenVar": 40
   },
   "kernels_config": {
    "python": {
     "delete_cmd_postfix": "",
     "delete_cmd_prefix": "del ",
     "library": "var_list.py",
     "varRefreshCmd": "print(var_dic_list())"
    },
    "r": {
     "delete_cmd_postfix": ") ",
     "delete_cmd_prefix": "rm(",
     "library": "var_list.r",
     "varRefreshCmd": "cat(var_dic_list()) "
    }
   },
   "position": {
    "height": "377.715px",
    "left": "1769.45px",
    "right": "20px",
    "top": "83px",
    "width": "350px"
   },
   "types_to_exclude": [
    "module",
    "function",
    "builtin_function_or_method",
    "instance",
    "_Feature"
   ],
   "window_display": true
  }
 },
 "nbformat": 4,
 "nbformat_minor": 4
}
