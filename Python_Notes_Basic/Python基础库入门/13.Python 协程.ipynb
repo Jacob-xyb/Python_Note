{
 "cells": [
  {
   "cell_type": "markdown",
   "id": "732468dc",
   "metadata": {},
   "source": [
    "# Python 协程"
   ]
  },
  {
   "cell_type": "markdown",
   "id": "5e490123",
   "metadata": {},
   "source": [
    "## 从一个爬虫说起"
   ]
  },
  {
   "cell_type": "code",
   "execution_count": 2,
   "id": "30782654",
   "metadata": {},
   "outputs": [
    {
     "name": "stdout",
     "output_type": "stream",
     "text": [
      "crawling url_1\n",
      "OK url_1\n",
      "crawling url_2\n",
      "OK url_2\n",
      "crawling url_3\n",
      "OK url_3\n",
      "crawling url_4\n",
      "OK url_4\n",
      "CPU times: total: 0 ns\n",
      "Wall time: 10 s\n"
     ]
    }
   ],
   "source": [
    "import time\n",
    "\n",
    "def crawl_page(url):\n",
    "    print('crawling {}'.format(url))\n",
    "    sleep_time = int(url.split('_')[-1])\n",
    "    time.sleep(sleep_time)\n",
    "    print('OK {}'.format(url))\n",
    "    \n",
    "def main(urls):\n",
    "    for url in urls: \n",
    "        crawl_page(url)\n",
    "        \n",
    "%time main(['url_1', 'url_2', 'url_3', 'url_4'])"
   ]
  },
  {
   "cell_type": "code",
   "execution_count": 1,
   "id": "cef5c86f",
   "metadata": {},
   "outputs": [
    {
     "name": "stdout",
     "output_type": "stream",
     "text": [
      "crawling url_1\n",
      "OK url_1\n",
      "crawling url_2\n",
      "OK url_2\n",
      "crawling url_3\n",
      "OK url_3\n",
      "crawling url_4\n",
      "OK url_4\n",
      "10.025423049926758\n"
     ]
    }
   ],
   "source": [
    "import asyncio\n",
    "import time\n",
    "\n",
    "async def crawl_page(url):\n",
    "    print('crawling {}'.format(url))\n",
    "    sleep_time = int(url.split('_')[-1])\n",
    "    await asyncio.sleep(sleep_time)\n",
    "    print('OK {}'.format(url))\n",
    "    \n",
    "async def main(urls):\n",
    "    for url in urls:\n",
    "        await crawl_page(url)\n",
    "        \n",
    "# jupyter\n",
    "t1 = time.time()\n",
    "await main(['url_1', 'url_2', 'url_3', 'url_4'])\n",
    "t2 = time.time()\n",
    "print(t2 -t1) \n",
    "\n",
    "# Ipython\n",
    "# %time asyncio.run(main(['url_1', 'url_2', 'url_3', 'url_4']))"
   ]
  },
  {
   "cell_type": "code",
   "execution_count": 2,
   "id": "5266f7c5",
   "metadata": {},
   "outputs": [
    {
     "name": "stdout",
     "output_type": "stream",
     "text": [
      "<coroutine object crawl_page at 0x000001CF7E215540>\n"
     ]
    },
    {
     "name": "stderr",
     "output_type": "stream",
     "text": [
      "C:\\Users\\Administrator\\AppData\\Local\\Temp\\ipykernel_22740\\2786846167.py:1: RuntimeWarning: coroutine 'crawl_page' was never awaited\n",
      "  print(crawl_page(''))\n",
      "RuntimeWarning: Enable tracemalloc to get the object allocation traceback\n"
     ]
    }
   ],
   "source": [
    "print(crawl_page(''))"
   ]
  },
  {
   "cell_type": "code",
   "execution_count": 4,
   "id": "a0f338b0",
   "metadata": {},
   "outputs": [
    {
     "name": "stdout",
     "output_type": "stream",
     "text": [
      "crawling url_1\n",
      "crawling url_2\n",
      "crawling url_3\n",
      "crawling url_4\n",
      "OK url_1\n",
      "OK url_2\n",
      "OK url_3\n",
      "OK url_4\n",
      "4.0193517208099365\n"
     ]
    }
   ],
   "source": [
    "import asyncio\n",
    "import time\n",
    "\n",
    "async def crawl_page(url):\n",
    "    print('crawling {}'.format(url))\n",
    "    sleep_time = int(url.split('_')[-1])\n",
    "    await asyncio.sleep(sleep_time)\n",
    "    print('OK {}'.format(url))\n",
    "    \n",
    "async def main(urls):\n",
    "    tasks = [asyncio.create_task(crawl_page(url)) for url in urls]\n",
    "    for task in tasks:\n",
    "        await task\n",
    "        \n",
    "# jupyter\n",
    "t1 = time.time()\n",
    "await main(['url_1', 'url_2', 'url_3', 'url_4'])\n",
    "t2 = time.time()\n",
    "print(t2 -t1) \n",
    "\n",
    "# Ipython\n",
    "# %time asyncio.run(main(['url_1', 'url_2', 'url_3', 'url_4']))"
   ]
  },
  {
   "cell_type": "code",
   "execution_count": 8,
   "id": "2fa7ebca",
   "metadata": {
    "scrolled": true
   },
   "outputs": [
    {
     "name": "stdout",
     "output_type": "stream",
     "text": [
      "crawling url_1\n",
      "crawling url_2\n",
      "crawling url_3\n",
      "crawling url_4\n",
      "OK url_1\n",
      "OK url_2\n",
      "OK url_3\n",
      "OK url_4\n",
      "4.017024040222168\n"
     ]
    }
   ],
   "source": [
    "import asyncio\n",
    "import time\n",
    "\n",
    "async def crawl_page(url):\n",
    "    print('crawling {}'.format(url))\n",
    "    sleep_time = int(url.split('_')[-1])\n",
    "    await asyncio.sleep(sleep_time)\n",
    "    print('OK {}'.format(url))\n",
    "    \n",
    "async def main(urls):\n",
    "    tasks = [asyncio.create_task(crawl_page(url)) for url in urls]\n",
    "    await asyncio.gather(*tasks)\n",
    "        \n",
    "# jupyter\n",
    "t1 = time.time()\n",
    "await main(['url_1', 'url_2', 'url_3', 'url_4'])\n",
    "t2 = time.time()\n",
    "print(t2 -t1) \n",
    "\n",
    "# Ipython\n",
    "# %time asyncio.run(main(['url_1', 'url_2', 'url_3', 'url_4']))"
   ]
  },
  {
   "cell_type": "markdown",
   "id": "59a5990e",
   "metadata": {},
   "source": [
    "## 解密协程运行时"
   ]
  },
  {
   "cell_type": "code",
   "execution_count": 10,
   "id": "f5258b84",
   "metadata": {},
   "outputs": [
    {
     "name": "stdout",
     "output_type": "stream",
     "text": [
      "before await\n",
      "worker_1 start\n",
      "worker_1 done\n",
      "awaited worker_1\n",
      "worker_2 start\n",
      "worker_2 done\n",
      "awaited worker_2\n",
      "3.020576000213623\n"
     ]
    }
   ],
   "source": [
    "import asyncio\n",
    "\n",
    "\n",
    "async def worker_1():\n",
    "    print('worker_1 start')\n",
    "    await asyncio.sleep(1)\n",
    "    print('worker_1 done')\n",
    "\n",
    "\n",
    "async def worker_2():\n",
    "    print('worker_2 start')\n",
    "    await asyncio.sleep(2)\n",
    "    print('worker_2 done')\n",
    "    \n",
    "async def main():\n",
    "    print('before await')\n",
    "    await worker_1()\n",
    "    print('awaited worker_1')\n",
    "    await worker_2()\n",
    "    print('awaited worker_2')\n",
    "    \n",
    "\n",
    "# jupyter\n",
    "t1 = time.time()\n",
    "await main()\n",
    "t2 = time.time()\n",
    "print(t2 -t1) \n",
    "    \n",
    "# Ipython\n",
    "# %time asyncio.run(main())"
   ]
  },
  {
   "cell_type": "code",
   "execution_count": 14,
   "id": "4fdbfcbe",
   "metadata": {},
   "outputs": [
    {
     "name": "stdout",
     "output_type": "stream",
     "text": [
      "before await\n",
      "worker_1 start\n",
      "worker_2 start\n",
      "worker_1 done\n",
      "awaited worker_1\n",
      "worker_2 done\n",
      "awaited worker_2\n",
      "2.0118842124938965\n"
     ]
    }
   ],
   "source": [
    "import asyncio\n",
    "\n",
    "\n",
    "async def worker_1():\n",
    "    print('worker_1 start')\n",
    "    await asyncio.sleep(1)\n",
    "    print('worker_1 done')\n",
    "\n",
    "\n",
    "async def worker_2():\n",
    "    print('worker_2 start')\n",
    "    await asyncio.sleep(2)\n",
    "    print('worker_2 done')\n",
    "    \n",
    "async def main():\n",
    "    task1 = asyncio.create_task(worker_1())\n",
    "    task2 = asyncio.create_task(worker_2())\n",
    "    print('before await')\n",
    "    await task1\n",
    "    print('awaited worker_1')\n",
    "    await task2\n",
    "    print('awaited worker_2')\n",
    "    \n",
    "\n",
    "# jupyter\n",
    "t1 = time.time()\n",
    "await main()\n",
    "t2 = time.time()\n",
    "print(t2 -t1) \n",
    "    \n",
    "# Ipython\n",
    "# %time asyncio.run(main())"
   ]
  },
  {
   "cell_type": "markdown",
   "id": "b0bbe52a",
   "metadata": {},
   "source": [
    "### 加深解密协程运行流程"
   ]
  },
  {
   "cell_type": "code",
   "execution_count": 19,
   "id": "23588f2e",
   "metadata": {},
   "outputs": [
    {
     "name": "stdout",
     "output_type": "stream",
     "text": [
      "before await\n",
      "worker_1 start\n",
      "worker_1 done\n",
      "worker_2 start\n",
      "awaited worker_1\n",
      "worker_2 done\n",
      "awaited worker_2\n",
      "3.015061378479004\n"
     ]
    }
   ],
   "source": [
    "import asyncio\n",
    "\n",
    "\n",
    "async def worker_1():\n",
    "    print('worker_1 start')\n",
    "#     await asyncio.sleep(1)\n",
    "    time.sleep(1)\n",
    "    print('worker_1 done')\n",
    "\n",
    "\n",
    "async def worker_2():\n",
    "    print('worker_2 start')\n",
    "    await asyncio.sleep(2)\n",
    "    print('worker_2 done')\n",
    "\n",
    "\n",
    "async def main():\n",
    "    task1 = asyncio.create_task(worker_1())\n",
    "    task2 = asyncio.create_task(worker_2())\n",
    "    print('before await')\n",
    "    await task1\n",
    "    print('awaited worker_1')\n",
    "    await task2\n",
    "    print('awaited worker_2')\n",
    "\n",
    "\n",
    "# jupyter\n",
    "t1 = time.time()\n",
    "await main()\n",
    "t2 = time.time()\n",
    "print(t2 - t1)\n",
    "\n",
    "# Ipython\n",
    "# %time asyncio.run(main())"
   ]
  },
  {
   "cell_type": "code",
   "execution_count": 23,
   "id": "41e0b312",
   "metadata": {},
   "outputs": [
    {
     "name": "stdout",
     "output_type": "stream",
     "text": [
      "before await\n",
      "worker_1 start\n",
      "worker_2 start\n",
      "worker_1 done\n",
      "worker_2 done\n",
      "awaited worker_2\n",
      "awaited worker_1\n",
      "2.027482032775879\n"
     ]
    }
   ],
   "source": [
    "import asyncio\n",
    "\n",
    "\n",
    "async def worker_1():\n",
    "    print('worker_1 start')\n",
    "    await asyncio.sleep(1)\n",
    "    print('worker_1 done')\n",
    "\n",
    "\n",
    "async def worker_2():\n",
    "    print('worker_2 start')\n",
    "    await asyncio.sleep(2)\n",
    "    print('worker_2 done')\n",
    "\n",
    "\n",
    "async def main():\n",
    "    task1 = asyncio.create_task(worker_1())\n",
    "    task2 = asyncio.create_task(worker_2())\n",
    "    print('before await')\n",
    "    await task2\n",
    "    print('awaited worker_2')\n",
    "    await task1\n",
    "    print('awaited worker_1')\n",
    "\n",
    "\n",
    "# jupyter\n",
    "t1 = time.time()\n",
    "await main()\n",
    "t2 = time.time()\n",
    "print(t2 - t1)\n",
    "\n",
    "# Ipython\n",
    "# %time asyncio.run(main())"
   ]
  },
  {
   "cell_type": "markdown",
   "id": "e71de88a",
   "metadata": {},
   "source": [
    "## 限定协程任务时长"
   ]
  },
  {
   "cell_type": "code",
   "execution_count": 8,
   "id": "05ec7123",
   "metadata": {
    "scrolled": true
   },
   "outputs": [
    {
     "name": "stdout",
     "output_type": "stream",
     "text": [
      "worker_1 done\n",
      "worker_2 done\n",
      "[1, ZeroDivisionError('division by zero'), CancelledError()]\n",
      "1.9989843368530273\n"
     ]
    }
   ],
   "source": [
    "import asyncio\n",
    "import time\n",
    "\n",
    "async def worker_1():\n",
    "    await asyncio.sleep(1)\n",
    "    print('worker_1 done')\n",
    "    return 1\n",
    "\n",
    "\n",
    "async def worker_2():\n",
    "    await asyncio.sleep(2)\n",
    "    print('worker_2 done')\n",
    "    return 2 / 0\n",
    "\n",
    "\n",
    "async def worker_3():\n",
    "    await asyncio.sleep(3)\n",
    "    return 3\n",
    "\n",
    "async def main():\n",
    "    task1 = asyncio.create_task(worker_1())\n",
    "    task2 = asyncio.create_task(worker_2())\n",
    "    task3 = asyncio.create_task(worker_3())\n",
    "    \n",
    "    await asyncio.sleep(2)\n",
    "    task3.cancel()\n",
    "    \n",
    "    res = await asyncio.gather(task1, task2, task3, return_exceptions=True)\n",
    "    print(res)\n",
    "\n",
    "\n",
    "# jupyter\n",
    "t1 = time.time()\n",
    "await main()\n",
    "t2 = time.time()\n",
    "print(t2 - t1)\n",
    "\n",
    "# Ipython\n",
    "# %time asyncio.run(main())"
   ]
  }
 ],
 "metadata": {
  "kernelspec": {
   "display_name": "Python 3 (ipykernel)",
   "language": "python",
   "name": "python3"
  },
  "language_info": {
   "codemirror_mode": {
    "name": "ipython",
    "version": 3
   },
   "file_extension": ".py",
   "mimetype": "text/x-python",
   "name": "python",
   "nbconvert_exporter": "python",
   "pygments_lexer": "ipython3",
   "version": "3.8.12"
  },
  "toc": {
   "base_numbering": 1,
   "nav_menu": {},
   "number_sections": true,
   "sideBar": true,
   "skip_h1_title": false,
   "title_cell": "Table of Contents",
   "title_sidebar": "Contents",
   "toc_cell": false,
   "toc_position": {
    "height": "calc(100% - 180px)",
    "left": "10px",
    "top": "150px",
    "width": "480px"
   },
   "toc_section_display": true,
   "toc_window_display": true
  },
  "varInspector": {
   "cols": {
    "lenName": 16,
    "lenType": 16,
    "lenVar": 40
   },
   "kernels_config": {
    "python": {
     "delete_cmd_postfix": "",
     "delete_cmd_prefix": "del ",
     "library": "var_list.py",
     "varRefreshCmd": "print(var_dic_list())"
    },
    "r": {
     "delete_cmd_postfix": ") ",
     "delete_cmd_prefix": "rm(",
     "library": "var_list.r",
     "varRefreshCmd": "cat(var_dic_list()) "
    }
   },
   "position": {
    "height": "231.836px",
    "left": "1813.99px",
    "right": "20px",
    "top": "56px",
    "width": "522.5px"
   },
   "types_to_exclude": [
    "module",
    "function",
    "builtin_function_or_method",
    "instance",
    "_Feature"
   ],
   "window_display": true
  }
 },
 "nbformat": 4,
 "nbformat_minor": 5
}
