{
 "cells": [
  {
   "cell_type": "markdown",
   "metadata": {},
   "source": [
    "# 异常处理\n",
    "\n",
    "和其他语言一样，异常处理是 Python 中一种很常见，并且很重要的机制与代码规范。\n",
    "\n",
    "## 错误与异常\n",
    "\n",
    "首先要了解，Python 中的错误和异常是什么？两者之间又有什么联系和区别呢？\n",
    "\n",
    "通常来说，程序中的错误至少包括两种，一种是语法错误，另一种则是异常。\n",
    "\n",
    "## 处理异常\n",
    "\n",
    "如果执行到程序中某处抛出了异常，程序就会被终止并退出。你可能会问，那有没有什么办法可以不终止程序，让其照样运行下去呢？答案当然是肯定的，这也就是我们所说的异常处理，通常使用 try 和 except 来解决，比如：\n",
    "\n",
    "```python\n",
    "try:\n",
    "s = input('please enter two numbers separated by comma: ')\n",
    "num1 = int(s.split(',')[0].strip())\n",
    "num2 = int(s.split(',')[1].strip())\n",
    "...\n",
    "except ValueError as err:\n",
    "    print('Value Error: {}'.format(err))\n",
    "print('continue')\n",
    "...\n",
    "```\n",
    "\n",
    "except block 只接受与它相匹配的异常类型并执行，如果程序抛出的异常并不匹配，那么程序照样会终止并退出。\n",
    "\n",
    "很显然，这样强调一种类型的写法有很大的局限性。那么，该怎么解决这个问题呢？\n",
    "\n",
    "一种解决方案，是在 except block 中加入多种异常的类型，比如下面这样的写法：\n",
    "\n",
    "```python\n",
    "except (ValueError, IndexError) as err:\n",
    "```\n",
    "\n",
    "或者第二种写法：\n",
    "```python\n",
    "except ValueError as err:\n",
    "    print('Value Error: {}'.format(err))\n",
    "except IndexError as err:\n",
    "    print('Index Error: {}'.format(err))\n",
    "```\n",
    "\n",
    "这样，每次程序执行时，except block 中只要有一个 exception 类型与实际匹配即可。\n",
    "\n",
    "不过，很多时候，我们很难保证程序覆盖所有的异常类型，所以，更通常的做法，是在最后一个 except block，声明其处理的异常类型是 Exception。Exception 是其他所有非系统异常的基类，能够匹配任意非系统异常。\n",
    "\n",
    "那么这段代码就可以写成下面这样：\n",
    "\n",
    "```python\n",
    "except ValueError as err:\n",
    "    print('Value Error: {}'.format(err))\n",
    "except IndexError as err:\n",
    "    print('Index Error: {}'.format(err))\n",
    "except Exception as err:\n",
    "    print('Other error: {}'.format(err))\n",
    "```\n",
    "\n",
    "或者，你也可以在 except 后面省略异常类型，这表示与任意异常相匹配（包括系统异常等）：\n",
    "\n",
    "```python\n",
    "except ValueError as err:\n",
    "    print('Value Error: {}'.format(err))\n",
    "except IndexError as err:\n",
    "    print('Index Error: {}'.format(err))\n",
    "except:\n",
    "    print('Other error')\n",
    "```\n",
    "\n",
    "需要注意，当程序中存在多个 except block 时，最多只有一个 except block 会被执行。\n",
    "\n",
    "换句话说，如果多个 except 声明的异常类型都与实际相匹配，那么只有最前面的 except block 会被执行，其他则被忽略。\n",
    "\n",
    "异常处理中，还有一个很常见的用法是 finally，经常和 try、except 放在一起来用。\n",
    "\n",
    "无论发生什么情况，finally block 中的语句都会被执行，哪怕前面的 try 和 excep block 中使用了 return 语句。\n",
    "\n",
    "一个常见的应用场景，便是文件的读取：\n",
    "\n",
    "```python\n",
    "import sys\n",
    "try:\n",
    "    f = open('file.txt', 'r')\n",
    "    # .... # some data processing\n",
    "except OSError as err:\n",
    "    print('OS error: {}'.format(err))\n",
    "except:\n",
    "    print('Unexpected error:', sys.exc_info()[0])\n",
    "finally:\n",
    "    f.close()\n",
    "```"
   ]
  },
  {
   "cell_type": "markdown",
   "metadata": {},
   "source": [
    "## 用户自定义异常\n",
    "\n",
    "前面的例子里充斥了很多 Python 内置的异常类型，你可能会问，我可以创建自己的异常类型吗？\n",
    "\n",
    "答案是肯定是，Python 当然允许我们这么做。\n",
    "下面这个例子，我们创建了自定义的异常类型 MyInputError，定义并实现了初始化函数和 str 函数（直接 print 时调用）："
   ]
  },
  {
   "cell_type": "code",
   "execution_count": 24,
   "metadata": {},
   "outputs": [
    {
     "name": "stdout",
     "output_type": "stream",
     "text": [
      "error: 1 is invalid input\n"
     ]
    }
   ],
   "source": [
    "class MyInputError(Exception):\n",
    "    \"\"\"Exception raised when there're errors in input\"\"\"\n",
    "    def __init__(self, value): # 自定义异常类型的初始化\n",
    "        self.value = value\n",
    "    def __str__(self): # 自定义异常类型的 string 表达形式\n",
    "        return (\"{} is invalid input\".format(repr(self.value)))\n",
    "try:\n",
    "    raise MyInputError(1) # 抛出 MyInputError 这个异常\n",
    "except MyInputError as err:\n",
    "    print('error: {}'.format(err))"
   ]
  },
  {
   "cell_type": "markdown",
   "metadata": {},
   "source": [
    "实际工作中，如果内置的异常类型无法满足我们的需求，或者为了让异常更加详细、可读，想增加一些异常类型的其他功能，我们可以自定义所需异常类型。\n",
    "\n",
    "不过，大多数情况下，Python 内置的异常类型就足够好了。"
   ]
  },
  {
   "cell_type": "markdown",
   "metadata": {},
   "source": [
    "## 注意点\n",
    "\n",
    "- 对于 flow-control（流程控制）的代码逻辑，我们一般不用异常处理。"
   ]
  },
  {
   "cell_type": "markdown",
   "metadata": {},
   "source": [
    "# 自定义函数\n",
    "\n",
    "一个规范的值得借鉴的 Python 程序，除非代码量很少（比如 10 行、20 行以下），基本都应该由多个函数组成，这样的代码才更加模块化、规范化。\n",
    "\n",
    "函数是 Python 程序中不可或缺的一部分。\n",
    "\n",
    "事实上，在前面的学习中，我们已经用到了很多Python 的内置函数，比如 sorted() 表示对一个集合序列排序，len() 表示返回一个集合序\n",
    "列的长度大小等等。"
   ]
  },
  {
   "cell_type": "markdown",
   "metadata": {},
   "source": [
    "## 函数基础\n",
    "\n",
    "函数就是为了实现某一功能的代码段，只要写好以后，就可以重复利用。\n",
    "\n",
    "简单例子："
   ]
  },
  {
   "cell_type": "code",
   "execution_count": 25,
   "metadata": {},
   "outputs": [
    {
     "name": "stdout",
     "output_type": "stream",
     "text": [
      "Got a message: Hello World\n"
     ]
    }
   ],
   "source": [
    "def my_func(message):\n",
    "    print('Got a message: {}'.format(message))\n",
    "# 调用函数 my_func()\n",
    "my_func('Hello World')\n",
    "# 输出\n",
    "# Got a message: Hello World"
   ]
  },
  {
   "cell_type": "markdown",
   "metadata": {},
   "source": [
    "def 是函数的声明；\n",
    "\n",
    "my_func 是函数的名称；\n",
    "\n",
    "括号里面的 message 则是函数的参数；\n",
    "\n",
    "而 print 那行则是函数的主体部分，可以执行相应的语句；\n",
    "\n",
    "在函数最后，你可以返回调用结果（return 或 yield），也可以不返回。\n",
    "\n",
    "```python\n",
    "def name(param1, param2, ..., paramN):\n",
    "    statements\n",
    "    return/yield value # optional\n",
    "```\n",
    "\n",
    "和其他需要编译的语言（比如 C 语言）不一样的是，def 是可执行语句，这意味着函数直到被调用前，都是不存在的。当程序调用函数时，def 语句才会创建一个新的函数对象，并赋予其名字。\n",
    "\n",
    "需要注意，主程序调用函数时，必须保证这个函数此前已经定义过，不然就会报错，比如：\n",
    "\n",
    "```python\n",
    "my_func('hello world')\n",
    "def my_func(message):\n",
    "    print('Got a message: {}'.format(message))\n",
    "# 输出\n",
    "NameError: name 'my_func' is not defined\n",
    "```\n",
    "\n",
    "另外，Python 函数的参数可以设定默认值，比如下面这样的写法：\n",
    "\n",
    "```python\n",
    "def func(param = 0):\n",
    "    ...\n",
    "```\n",
    "\n",
    "这样，在调用函数 func() 时，如果参数 param 没有传入，则参数默认为 0；而如果传入了参数 param，其就会覆盖默认值。\n",
    "\n",
    "Python 和其他语言相比的一大特点是，Python 是 dynamically typed 的，可以接受任何数据类型（整型，浮点，字符串等等）。"
   ]
  },
  {
   "cell_type": "code",
   "execution_count": 31,
   "metadata": {},
   "outputs": [
    {
     "name": "stdout",
     "output_type": "stream",
     "text": [
      "8\n",
      "[1, 2, 3, 4]\n",
      "hello world\n"
     ]
    }
   ],
   "source": [
    "def my_sum(a, b):\n",
    "    return a + b\n",
    "\n",
    "print(my_sum(3, 5))  # 两数相加\n",
    "print(my_sum([1, 2], [3, 4]))  # 列表拼接\n",
    "print(my_sum(\"hello \", \"world\"))  # 字符串合并"
   ]
  },
  {
   "cell_type": "markdown",
   "metadata": {},
   "source": [
    "当然，两个数据类型不同，是无法相加的，此时就会报错。"
   ]
  },
  {
   "cell_type": "markdown",
   "metadata": {},
   "source": [
    "Python 不用考虑输入的数据类型，而是将其交给具体的代码去判断执行，同样的一个函数（比如这边的相加函数 my_sum()），可以同时应用在整型、列表、字符串等等的操作中。\n",
    "\n",
    "在编程语言中，我们把这种行为称为多态。这也是 Python 和其他语言，比如 Java、C 等很大的一个不同点。\n",
    "\n",
    "当然，Python 这种方便的特性，在实际使用中也会带来诸多问题。因此，必要时请你在开头加上数据的类型检查。\n",
    "\n",
    "Python 函数的另一大特性，是 Python 支持函数的嵌套。所谓的函数嵌套，就是指函数里面又有函数，比如：\n",
    "\n",
    "```python\n",
    "def f1():\n",
    "    print('hello')\n",
    "    def f2():\n",
    "        print('world')\n",
    "    f2()\n",
    "f1()\n",
    "# 输出\n",
    "hello\n",
    "world\n",
    "```\n",
    "\n",
    "- 函数嵌套有什么好处呢？\n",
    "\n",
    "其实，函数的嵌套，主要有下面两个方面的作用。\n",
    "\n",
    "第一，函数的嵌套能够保证内部函数的隐私。\n",
    "\n",
    "内部函数只能被外部函数所调用和访问，不会暴露在全局作用域，因此，如果你的函数内部有一些隐私数据（比如数据库的用户、密码等），不想暴露在外，那你就可以使用函数的的嵌套，将其封装在内部函数中，只通过外部函数来访问。\n",
    "\n",
    "比如：\n",
    "\n",
    "```python\n",
    "def connect_DB():\n",
    "    def get_DB_configuration():\n",
    "        ...\n",
    "        return host, username, password\n",
    "    conn = connector.connect(get_DB_configuration())\n",
    "    return conn\n",
    "```\n",
    "\n",
    "这里的函数 get_DB_configuration，便是内部函数，它无法在 connect_DB() 函数以外被单独调用。\n",
    "\n",
    "也就是说，下面这样的外部直接调用是错误的：\n",
    "\n",
    "```python\n",
    "get_DB_configuration()\n",
    "# 输出\n",
    "NameError: name 'get_DB_configuration' is not defined\n",
    "```\n",
    "\n",
    "第二，合理的使用函数嵌套，能够提高程序的运行效率。我们来看下面这个例子：\n",
    "\n",
    "```python\n",
    "def factorial(input):\n",
    "    # validation check\n",
    "    if not isinstance(input, int):\n",
    "        raise Exception('input must be an integer.')\n",
    "    if input < 0:\n",
    "        raise Exception('input must be greater or equal to 0' )\n",
    "    ...\n",
    "\n",
    "    def inner_factorial(input):\n",
    "        if input <= 1:\n",
    "            return 1\n",
    "        return input * inner_factorial(input-1)\n",
    "    return inner_factorial(input)\n",
    "\n",
    "print(factorial(5))\n",
    "```\n",
    "\n",
    "这里，使用递归的方式计算一个数的阶乘。因为在计算之前，需要检查输入是否合法，所以我写成了函数嵌套的形式，这样一来，输入是否合法就只用检查一次。\n",
    "\n",
    "而如果不使用函数嵌套，那么每调用一次递归便会检查一次，这是没有必要的，也会降低程序的运行效率。"
   ]
  },
  {
   "cell_type": "markdown",
   "metadata": {},
   "source": [
    "## 函数变量作用域\n",
    "\n",
    "Python 函数中变量的作用域和其他语言类似。如果变量是在函数内部定义的，就称为局部变量，只在函数内部有效。\n",
    "\n",
    "一旦函数执行完毕，局部变量就会被回收，无法访问。\n",
    "\n",
    "相对应的，全局变量则定义在函数体外部，此时函数内部可以直接调用。\n",
    "\n",
    "不过，我们不能在函数内部随意改变全局变量的值。\n",
    "\n",
    "比如，下面的写法就是错误的：\n",
    "\n",
    "```python\n",
    "MIN_VALUE = 1\n",
    "def validation_check(value):\n",
    "    MIN_VALUE += 1\n",
    "validation_check(5)\n",
    "\n",
    "# 报错\n",
    "# UnboundLocalError: local variable 'MIN_VALUE' referenced before assignment\n",
    "```\n",
    "\n",
    "这是因为，Python 的解释器会默认函数内部的变量为局部变量，但是又发现局部变量 MIN_VALUE 并没有声明，因此就无法执行相关操作。\n",
    "\n",
    "所以，如果我们一定要在函数内部改变全局变量的值，就必须加上 `global` 这个声明："
   ]
  },
  {
   "cell_type": "code",
   "execution_count": 32,
   "metadata": {},
   "outputs": [],
   "source": [
    "MIN_VALUE = 1\n",
    "def validation_check(value):\n",
    "    global MIN_VALUE\n",
    "    MIN_VALUE += 1\n",
    "validation_check(5)"
   ]
  },
  {
   "cell_type": "markdown",
   "metadata": {},
   "source": [
    "这里的 `global` 关键字，并不表示重新创建了一个全局变量 MIN_VALUE，而是告诉 Python 解释器，函数内部的变量 MIN_VALUE，就是之前定义的全局变量，并不是新的全局变量，也不是局部变量。\n",
    "\n",
    "这样，程序就可以在函数内部访问全局变量，并修改它的值了。\n",
    "\n",
    "另外，如果遇到函数内部局部变量和全局变量同名的情况，那么在函数内部，局部变量会覆盖全局变量，比如下面这种："
   ]
  },
  {
   "cell_type": "code",
   "execution_count": 34,
   "metadata": {},
   "outputs": [
    {
     "name": "stdout",
     "output_type": "stream",
     "text": [
      "3\n"
     ]
    }
   ],
   "source": [
    "MIN_VALUE = 1\n",
    "def validation_check(value):\n",
    "    MIN_VALUE = 3\n",
    "    print(MIN_VALUE)\n",
    "validation_check(5)"
   ]
  },
  {
   "cell_type": "markdown",
   "metadata": {},
   "source": [
    "类似的，对于嵌套函数来说，内部函数可以访问外部函数定义的变量，但是无法修改，若要修改，必须加上 `nonlocal` 这个关键字："
   ]
  },
  {
   "cell_type": "code",
   "execution_count": 39,
   "metadata": {},
   "outputs": [
    {
     "name": "stdout",
     "output_type": "stream",
     "text": [
      "inner: nonlocal\n",
      "outer: nonlocal\n"
     ]
    }
   ],
   "source": [
    "def outer():\n",
    "    x = \"local\"\n",
    "    def inner():\n",
    "        nonlocal x # nonlocal 关键字表示这里的 x 就是外部函数 outer 定义的变量 x\n",
    "        x = 'nonlocal'\n",
    "        print(\"inner:\", x)\n",
    "    inner()\n",
    "    print(\"outer:\", x)\n",
    "    \n",
    "outer()"
   ]
  },
  {
   "cell_type": "markdown",
   "metadata": {},
   "source": [
    "如果不加上 `nonlocal` 这个关键字，而内部函数的变量又和外部函数变量同名，那么同样的，内部函数变量会覆盖外部函数的变量。\n",
    "\n",
    "```python\n",
    "# 输出\n",
    "inner: nonlocal\n",
    "outer: local\n",
    "```"
   ]
  },
  {
   "cell_type": "markdown",
   "metadata": {},
   "source": [
    "## 闭包\n",
    "\n",
    "闭包（closure）其实和刚刚讲的嵌套函数类似，不同的是，这里外部函数返回的是一个函数，而不是一个具体的值。\n",
    "\n",
    "返回的函数通常赋于一个变量，这个变量可以在后面被继续执行调用。\n",
    "\n",
    "比如，我们想计算一个数的 n 次幂，用闭包可以写成下面的代码："
   ]
  },
  {
   "cell_type": "code",
   "execution_count": 41,
   "metadata": {
    "scrolled": true
   },
   "outputs": [
    {
     "name": "stdout",
     "output_type": "stream",
     "text": [
      "<function nth_power.<locals>.exponent_of at 0x000001DC2FD330D0>\n",
      "<function nth_power.<locals>.exponent_of at 0x000001DC2FD33280>\n",
      "4\n",
      "8\n"
     ]
    }
   ],
   "source": [
    "def nth_power(exponent):\n",
    "    def exponent_of(base):\n",
    "        return base ** exponent\n",
    "    return exponent_of # 返回值是 exponent_of 函数\n",
    "\n",
    "square = nth_power(2) # 计算一个数的平方\n",
    "cube = nth_power(3) # 计算一个数的立方\n",
    "\n",
    "print(square)\n",
    "print(cube)\n",
    "\n",
    "print(square(2))  # 计算2的平方\n",
    "print(cube(2))  # 计算2的立方"
   ]
  },
  {
   "cell_type": "markdown",
   "metadata": {},
   "source": [
    "这里外部函数 nth_power() 返回值，是函数 exponent_of()，而不是一个具体的数值。\n",
    "\n",
    "需要注意的是，在执行完square = nth_power(2)和cube = nth_power(3)后，外部函数 nth_power() 的参数 exponent，仍然会被内部函数 exponent_of() 记住。\n",
    "\n",
    "这样，之后我们调用 square(2) 或者 cube(2) 时，程序就能顺利地输出结果，而不会报错说参数 exponent 没有定义了。\n",
    "\n",
    "看到这里，你也许会思考，为什么要闭包呢？上面的程序，我也可以写成下面的形式啊！\n",
    "\n",
    "```python\n",
    "def nth_power_rewrite(base, exponent):\n",
    "    return base ** exponent\n",
    "```\n",
    "\n",
    "确实可以，不过，要知道，使用闭包的一个原因，是让程序变得更简洁易读。\n",
    "\n",
    "设想一下，比如你需要计算很多个数的平方，那么你觉得写成下面哪一种形式更好呢？\n",
    "\n",
    "```python\n",
    "# 不适用闭包\n",
    "res1 = nth_power_rewrite(base1, 2)\n",
    "res2 = nth_power_rewrite(base2, 2)\n",
    "res3 = nth_power_rewrite(base3, 2)\n",
    "...\n",
    "# 使用闭包\n",
    "square = nth_power(2)\n",
    "res1 = square(base1)\n",
    "res2 = square(base2)\n",
    "res3 = square(base3)\n",
    "...\n",
    "```\n",
    "\n",
    "显然是第二种，是不是？首先直观来看，第二种形式，让你每次调用函数都可以少输入一个参数，表达更为简洁。\n",
    "\n",
    "其次，和上面讲到的嵌套函数优点类似，函数开头需要做一些额外工作，而你又需要多次调用这个函数时，将那些额外工作的代码放在外部函数，就可以减少多次调用导致的不必要的开销，提高程序的运行效率。\n",
    "\n",
    "另外还有一点，后面再讲，闭包常常和装饰器（decorator）一起使用。"
   ]
  },
  {
   "cell_type": "markdown",
   "metadata": {},
   "source": [
    "##  总结\n",
    "\n",
    "1. Python 中函数的参数可以接受任意的数据类型，使用起来需要注意，必要时请在函数开头加入数据类型的检查；\n",
    "2. 和其他语言不同，Python 中函数的参数可以设定默认值；\n",
    "3. 嵌套函数的使用，能保证数据的隐私性，提高程序运行效率；\n",
    "4. 合理地使用闭包，则可以简化程序的复杂度，提高可读性。"
   ]
  },
  {
   "cell_type": "markdown",
   "metadata": {},
   "source": [
    "# 匿名函数\n",
    "\n",
    "不过，除了常规函数，你应该也会在代码中见到一些“非常规”函数，它们往往很简短，就一行，并且有个很酷炫的名字——`lambda`，没错，这就是匿名函数。\n",
    "\n",
    "匿名函数在实际工作中同样举足轻重，正确地运用匿名函数，能让我们的代码更简洁、易读。\n",
    "\n",
    "## 匿名函数基础\n",
    "\n",
    "`lambda argument1, argument2,... argumentN : expression`\n",
    "\n",
    "我们可以看到，匿名函数的关键字是 lambda，之后是一系列的参数，然后用冒号隔开，最后则是由这些参数组成的表达式。我们通过几个例子看一下它的用法："
   ]
  },
  {
   "cell_type": "code",
   "execution_count": 42,
   "metadata": {},
   "outputs": [
    {
     "data": {
      "text/plain": [
       "9"
      ]
     },
     "execution_count": 42,
     "metadata": {},
     "output_type": "execute_result"
    }
   ],
   "source": [
    "square = lambda x: x**2\n",
    "square(3)"
   ]
  },
  {
   "cell_type": "markdown",
   "metadata": {},
   "source": [
    "这里的匿名函数只输入一个参数 x，输出则是输入 x 的平方。因此当输入是 3 时，输出便是 9。\n",
    "\n",
    "如果把这个匿名函数写成常规函数的形式，则是下面这样："
   ]
  },
  {
   "cell_type": "code",
   "execution_count": 43,
   "metadata": {},
   "outputs": [
    {
     "data": {
      "text/plain": [
       "9"
      ]
     },
     "execution_count": 43,
     "metadata": {},
     "output_type": "execute_result"
    }
   ],
   "source": [
    "def square(x):\n",
    "    return x**2\n",
    "square(3)"
   ]
  },
  {
   "cell_type": "markdown",
   "metadata": {},
   "source": [
    "可以看到，匿名函数 lambda 和常规函数一样，返回的都是一个函数对象（function object），它们的用法也极其相似，不过还是有下面几点区别。\n",
    "\n",
    "- 第一，lambda 是一个表达式（expression），并不是一个语句（statement）。\n",
    "\n",
    "    所谓的表达式，就是用一系列“公式”去表达一个东西，比如x + 2、 x**2等等；\n",
    "    \n",
    "    而所谓的语句，则一定是完成了某些功能，比如赋值语句x = 1完成了赋值，print 语句 print(x) 完成了打印，条件语句 if x < 0:完成了选择功能等等。\n",
    "    \n",
    "    因此，lambda 可以用在一些常规函数 def 不能用的地方，比如，lambda 可以用在列表内部，而常规函数却不能："
   ]
  },
  {
   "cell_type": "code",
   "execution_count": 44,
   "metadata": {},
   "outputs": [
    {
     "data": {
      "text/plain": [
       "[0, 1, 4, 9, 16, 25, 36, 49, 64, 81]"
      ]
     },
     "execution_count": 44,
     "metadata": {},
     "output_type": "execute_result"
    }
   ],
   "source": [
    "[(lambda x: x*x)(x) for x in range(10)]"
   ]
  },
  {
   "cell_type": "markdown",
   "metadata": {},
   "source": [
    "再比如，lambda 可以被用作某些函数的参数，而常规函数 def 也不能："
   ]
  },
  {
   "cell_type": "code",
   "execution_count": 45,
   "metadata": {},
   "outputs": [
    {
     "name": "stdout",
     "output_type": "stream",
     "text": [
      "[(2, -1), (3, 0), (9, 10), (1, 20)]\n"
     ]
    }
   ],
   "source": [
    "l = [(1, 20), (3, 0), (9, 10), (2, -1)]\n",
    "l.sort(key=lambda x: x[1])  # 按列表中元祖的第二个元素排序\n",
    "print(l)"
   ]
  },
  {
   "cell_type": "markdown",
   "metadata": {},
   "source": [
    "常规函数 def 必须通过其函数名被调用，因此必须首先被定义。但是作为一个表达式的 lambda ，返回的函数对象就不需要名字了。"
   ]
  },
  {
   "cell_type": "markdown",
   "metadata": {},
   "source": [
    "- 第二，lambda 的主体是只有一行的简单表达式，并不能扩展成一个多行的代码块。\n",
    "\n",
    "    这其实是出于设计的考虑。Python 之所以发明 lambda，就是为了让它和常规函数各司其职：lambda 专注于简单的任务，而常规函数则负责更复杂的多行逻辑。\n",
    "    \n",
    "    关于这点，Python 之父 Guido van Rossum 曾发了一篇文章解释，有兴趣的话可以自己阅读。"
   ]
  },
  {
   "cell_type": "markdown",
   "metadata": {},
   "source": [
    "## 为什么要使用匿名函数？\n",
    "\n",
    "理论上来说，Python 中有匿名函数的地方，都可以被替换成等价的其他表达形式。\n",
    "\n",
    "一个Python 程序是可以不用任何匿名函数的。\n",
    "\n",
    "不过，在一些情况下，使用匿名函数 lambda，可以帮助我们大大简化代码的复杂度，提高代码的可读性。\n",
    "\n",
    "通常，我们用函数的目的无非是这么几点：\n",
    "\n",
    "1. 减少代码的重复性；\n",
    "\n",
    "2. 模块化代码。\n",
    "\n",
    "对于第一点，如果你的程序在不同地方包含了相同的代码，那么我们就会把这部分相同的代码写成一个函数，并为它取一个名字，方便在相对应的不同地方调用。\n",
    "\n",
    "对于第二点，如果你的一块儿代码是为了实现一个功能，但内容非常多，写在一起降低了代码的可读性，那么通常我们也会把这部分代码单独写成一个函数，然后加以调用。\n",
    "\n",
    "不过，再试想一下这样的情况。你需要一个函数，但它非常简短，只需要一行就能完成；同时它在程序中只被调用一次而已。\n",
    "\n",
    "那么请问，你还需要像常规函数一样，给它一个定义和名字吗？\n",
    "\n",
    "答案当然是否定的。这种情况下，函数就可以是匿名的，你只需要在适当的地方定义并使用，就能让匿名函数发挥作用了。\n",
    "\n",
    "举个例子，如果你想对一个列表中的所有元素做平方操作，而这个操作在你的程序中只需要进行一次，用 lambda 函数可以表示成下面这样："
   ]
  },
  {
   "cell_type": "code",
   "execution_count": 49,
   "metadata": {},
   "outputs": [
    {
     "name": "stdout",
     "output_type": "stream",
     "text": [
      "1 4 9 16 25\n"
     ]
    }
   ],
   "source": [
    "# lambda\n",
    "s = map(lambda x: x**2, [1, 2, 3, 4, 5])\n",
    "print(*s)"
   ]
  },
  {
   "cell_type": "code",
   "execution_count": 50,
   "metadata": {},
   "outputs": [
    {
     "name": "stdout",
     "output_type": "stream",
     "text": [
      "1 4 9 16 25\n"
     ]
    }
   ],
   "source": [
    "def square(x):\n",
    "    return x**2\n",
    "s = map(square, [1, 2, 3, 4, 5])\n",
    "print(*s)"
   ]
  },
  {
   "cell_type": "markdown",
   "metadata": {},
   "source": [
    "- 简单解释一下:\n",
    "    \n",
    "    函数 map(function, iterable) 的第一个参数是函数对象，第二个参数是一个可以遍历的集合，它表示对 iterable 的每一个元素，都运用 function 这个函数。\n",
    "    \n",
    "    两者一对比，我们很明显地发现，lambda 函数让代码更加简洁明了。"
   ]
  },
  {
   "cell_type": "markdown",
   "metadata": {},
   "source": [
    "## Python 函数式编程\n",
    "\n",
    "最后，我们一起来看一下，Python 的函数式编程特性，这与我们今天所讲的匿名函数lambda，有着密切的联系。\n",
    "\n",
    "所谓函数式编程，是指代码中每一块都是不可变的（immutable），都由纯函数（pure function）的形式组成。\n",
    "\n",
    "这里的纯函数，是指函数本身相互独立、互不影响，对于相同的输入，总会有相同的输出，没有任何副作用。"
   ]
  },
  {
   "cell_type": "markdown",
   "metadata": {},
   "source": [
    "举个很简单的例子，比如对于一个列表，我想让列表中的元素值都变为原来的两倍，我们可以写成下面的形式："
   ]
  },
  {
   "cell_type": "code",
   "execution_count": 51,
   "metadata": {},
   "outputs": [],
   "source": [
    "def multiply_2(l):\n",
    "    for index in range(0, len(l)):\n",
    "        l[index] *= 2\n",
    "    return l"
   ]
  },
  {
   "cell_type": "markdown",
   "metadata": {},
   "source": [
    "这段代码就不是一个纯函数的形式，因为列表中元素的值被改变了，如果我多次调用multiply_2() 这个函数，那么每次得到的结果都不一样。\n",
    "\n",
    "要想让它成为一个纯函数的形式，就得写成下面这种形式，重新创建一个新的列表并返回。"
   ]
  },
  {
   "cell_type": "code",
   "execution_count": 53,
   "metadata": {},
   "outputs": [],
   "source": [
    "def multiply_2_pure(l):\n",
    "    new_list = []\n",
    "    for item in l:\n",
    "        new_list.append(item * 2)\n",
    "    return new_list"
   ]
  },
  {
   "cell_type": "markdown",
   "metadata": {},
   "source": [
    "函数式编程的优点，主要在于其纯函数和不可变的特性使程序更加健壮，易于调试（debug）和测试；缺点主要在于限制多，难写。\n",
    "\n",
    "当然，Python 不同于一些语言（比如Scala），它并不是一门函数式编程语言，不过，Python 也提供了一些函数式编程的特性，值得我们了解和学习。\n",
    "\n",
    "Python 主要提供了这么几个函数：map()、filter() 和 reduce()，通常结合匿名函数 lambda 一起使用。这些都是需要掌握的东西，接下来逐一介绍。"
   ]
  },
  {
   "cell_type": "markdown",
   "metadata": {},
   "source": [
    "- map(function, iterable)\n",
    "\n",
    "    首先是 map(function, iterable) 函数，前面的例子提到过，它表示，对 iterable 中的每个元素，都运用 function 这个函数，最后返回一个新的可遍历的集合。\n",
    "    \n",
    "    比如刚才列表的例子，要对列表中的每个元素乘以 2，那么用 map 就可以表示为下面这样："
   ]
  },
  {
   "cell_type": "code",
   "execution_count": 56,
   "metadata": {},
   "outputs": [
    {
     "name": "stdout",
     "output_type": "stream",
     "text": [
      "2 4 6 8 10\n"
     ]
    }
   ],
   "source": [
    "l = [1, 2, 3, 4, 5]\n",
    "new_list = map(lambda x: x * 2, l)  # [2， 4， 6， 8， 10]\n",
    "print(*new_list)"
   ]
  },
  {
   "cell_type": "markdown",
   "metadata": {},
   "source": [
    "我们可以以 map() 函数为例，看一下 Python 提供的函数式编程接口的性能。还是同样的列表例子，它还可以用 for 循环和 list comprehension（目前没有统一中文叫法，你也可以直译为列表理解等）实现，\n",
    "\n",
    "我们来比较一下它们的速度：\n",
    "\n",
    "```python\n",
    "python3 -mtimeit -s'xs=range(1000000)' 'map(lambda x: x*2, xs)'\n",
    "2000000 loops, best of 5: 171 nsec per loop\n",
    "python3 -mtimeit -s'xs=range(1000000)' '[x * 2 for x in xs]'\n",
    "5 loops, best of 5: 62.9 msec per loop\n",
    "python3 -mtimeit -s'xs=range(1000000)' 'l = []' 'for i in xs: l.append(i * 2)'\n",
    "5 loops, best of 5: 92.7 msec per loop\n",
    "``` \n",
    "\n",
    "你可以看到，map() 是最快的。因为 map() 函数直接由 C 语言写的，运行时不需要通过 Python 解释器间接调用，并且内部做了诸多优化，所以运行速度最快。"
   ]
  },
  {
   "cell_type": "markdown",
   "metadata": {},
   "source": [
    "- filter(function, iterable)\n",
    "\n",
    "    接下来来看 filter(function, iterable) 函数，它和 map 函数类似，function 同样表示一个函数对象。\n",
    "    \n",
    "    filter() 函数表示对 iterable 中的每个元素，都使用 function 判断，并返回True 或者 False，最后将返回 True 的元素组成一个新的可遍历的集合。\n",
    "    \n",
    "    举个例子，比如我要返回一个列表中的所有偶数，可以写成下面这样："
   ]
  },
  {
   "cell_type": "code",
   "execution_count": 58,
   "metadata": {},
   "outputs": [
    {
     "name": "stdout",
     "output_type": "stream",
     "text": [
      "2 4\n"
     ]
    }
   ],
   "source": [
    "l = [1, 2, 3, 4, 5]\n",
    "new_list = filter(lambda x: x % 2 == 0, l)  # [2, 4\n",
    "print(*new_list)"
   ]
  },
  {
   "cell_type": "markdown",
   "metadata": {},
   "source": [
    "- reduce(function, iterable)\n",
    "\n",
    "    reduce() 函数在 python2 中是内置函数，在 python3 中放到了 functools 模块下\n",
    "    \n",
    "    它通常用来对一个集合做一些累积操作,function 同样是一个函数对象，规定它有两个参数，表示对 iterable 中的每个元素以及上一次调用后的结果，运用 function 进行计算，所以最后返回的是一个单独的数值。\n",
    "    \n",
    "    举个例子，我想要计算某个列表元素的乘积，就可以用 reduce() 函数来表示："
   ]
  },
  {
   "cell_type": "code",
   "execution_count": 60,
   "metadata": {},
   "outputs": [
    {
     "name": "stdout",
     "output_type": "stream",
     "text": [
      "120\n"
     ]
    }
   ],
   "source": [
    "from functools import reduce\n",
    "l = [1, 2, 3, 4, 5]\n",
    "product = reduce(lambda x, y: x * y, l) # 1*2*3*4*5 = 120\n",
    "print(product)"
   ]
  },
  {
   "cell_type": "markdown",
   "metadata": {},
   "source": [
    "当然，类似的，filter() 和 reduce() 的功能，也可以用 for 循环或者 list comprehension 来实现。\n",
    "\n",
    "通常来说，在我们想对集合中的元素进行一些操作时，如果操作非常简单，比如相加、累积这种，那么我们优先考虑 map()、filter()、reduce() 这类或者 list comprehension 的形式。\n",
    "\n",
    "至于这两种方式的选择：\n",
    "\n",
    "在数据量非常多的情况下，比如机器学习的应用，那我们一般更倾向于函数式编程的表示，因为效率更高；\n",
    "\n",
    "在数据量不多的情况下，并且你想要程序更加 Pythonic 的话，那么 list comprehension 也不失为一个好选择。\n",
    "\n",
    "不过，如果你要对集合中的元素，做一些比较复杂的操作，那么，考虑到代码的可读性，我们通常会使用 for 循环，这样更加清晰明了。"
   ]
  },
  {
   "cell_type": "markdown",
   "metadata": {},
   "source": [
    "## 思考题\n",
    "\n",
    "1. 如果让你对一个字典，根据值进行由高到低的排序，该怎么做呢？"
   ]
  },
  {
   "cell_type": "code",
   "execution_count": 70,
   "metadata": {},
   "outputs": [
    {
     "data": {
      "text/plain": [
       "[('ben', 30), ('mike', 10), ('lucy', 2)]"
      ]
     },
     "execution_count": 70,
     "metadata": {},
     "output_type": "execute_result"
    }
   ],
   "source": [
    "d = {'mike': 10, 'lucy': 2, 'ben': 30}\n",
    "sorted(d.items(), key=lambda x:x[1], reverse=True)"
   ]
  },
  {
   "cell_type": "markdown",
   "metadata": {},
   "source": [
    "# 面向对象"
   ]
  },
  {
   "cell_type": "markdown",
   "metadata": {},
   "source": [
    "## 什么是对象"
   ]
  },
  {
   "cell_type": "code",
   "execution_count": 2,
   "metadata": {},
   "outputs": [
    {
     "name": "stdout",
     "output_type": "stream",
     "text": [
      "init function called\n",
      "Harry Potter\n",
      "J. K. Rowling\n",
      "26\n",
      "10\n"
     ]
    }
   ],
   "source": [
    "class Document():\n",
    "    def __init__(self, title, author, context):\n",
    "        print('init function called')\n",
    "        self.title = title\n",
    "        self.author = author\n",
    "        self.__context = context # __ 开头的属性是私有属性\n",
    "    def get_context_length(self):\n",
    "        return len(self.__context)\n",
    "    def intercept_context(self, length):\n",
    "        self.__context = self.__context[:length]\n",
    "        \n",
    "harry_potter_book = Document('Harry Potter', 'J. K. Rowling', '... Forever Do not believe')\n",
    "\n",
    "print(harry_potter_book.title)\n",
    "print(harry_potter_book.author)\n",
    "print(harry_potter_book.get_context_length())\n",
    "\n",
    "\n",
    "harry_potter_book.intercept_context(10)\n",
    "print(harry_potter_book.get_context_length())\n",
    "# print(harry_potter_book.__context)\n",
    "# AttributeError: 'Document' object has no attribute '__context'"
   ]
  },
  {
   "cell_type": "markdown",
   "metadata": {},
   "source": [
    "类：一群有着相似性的事物的集合，这里对应 Python 的 class。\n",
    "\n",
    "对象：集合中的一个事物，这里对应由 class 生成的某一个 object，比如代码中的harry_potter_book。\n",
    "\n",
    "属性：对象的某个静态特征，比如上述代码中的 title、author 和 __context。\n",
    "\n",
    "函数：对象的某个动态能力，比如上述代码中的 intercept_context () 函数。\n",
    "\n",
    "当然，这样的说法既不严谨，也不充分，但如果你对面向对象编程完全不了解，它们可以让你迅速有一个直观的了解。\n",
    "\n",
    "- 类，一群有着相同属性和函数的对象的集合。\n",
    "\n",
    "这里唯一需要强调的一点是，如果一个属性以 __ `（注意，此处有两个 _）` 开头，我们就默认这个属性是私有属性。\n",
    "\n",
    "私有属性，是指不希望在类的函数之外的地方被访问和修改的属性。\n",
    "\n",
    "所以，你可以看到，title 和 author 能够很自由地被打印出来，但是`print(harry_potter_book.__context)`就会报错。"
   ]
  },
  {
   "cell_type": "markdown",
   "metadata": {},
   "source": [
    "## 对象的进阶应用\n",
    "\n",
    "1. 如何在一个类中定义一些常量，每个对象都可以方便访问这些常量而不用重新构造？\n",
    "\n",
    "2. 如果一个函数不涉及到访问修改这个类的属性，而放到类外面有点不恰当，怎么做才能更优雅呢？\n",
    "\n",
    "3. 既然类是一群相似的对象的集合，那么可不可以是一群相似的类的集合呢？\n",
    "\n",
    "前两个问题很好解决，不过，它们涉及到一些常用的代码规范。"
   ]
  },
  {
   "cell_type": "code",
   "execution_count": 1,
   "metadata": {},
   "outputs": [
    {
     "name": "stdout",
     "output_type": "stream",
     "text": [
      "init function called\n",
      "7\n",
      "Welcome! The context for this book is indeed nothing.\n"
     ]
    }
   ],
   "source": [
    "class Document():\n",
    "    WELCOME_STR = 'Welcome! The context for this book is {}.'\n",
    "    def __init__(self, title, author, context):\n",
    "        print('init function called')\n",
    "        self.title = title\n",
    "        self.author = author\n",
    "        self.__context = context\n",
    "    # 类函数\n",
    "    @classmethod\n",
    "    def create_empty_book(cls, title, author):\n",
    "        return cls(title=title, author=author, context='nothing')\n",
    "    \n",
    "    # 成员函数\n",
    "    def get_context_length(self):\n",
    "        return len(self.__context)\n",
    "    \n",
    "    # 静态函数\n",
    "    @staticmethod\n",
    "    def get_welcome(context):\n",
    "        return Document.WELCOME_STR.format(context)\n",
    "\n",
    "empty_book = Document.create_empty_book('What Every Man Thinks About Apart from Sex', 'Potter')\n",
    "print(empty_book.get_context_length())\n",
    "print(empty_book.get_welcome('indeed nothing'))                                           "
   ]
  },
  {
   "cell_type": "markdown",
   "metadata": {},
   "source": [
    "第一个问题，在 Python 的类里，你只需要和函数并列地声明并赋值，就可以实现这一点，例如这段代码中的 `WELCOME_STR`。\n",
    "\n",
    "一种很常规的做法，是用全大写来表示常量，因此我们可以在类中使用 `self.WELCOME_STR` ，或者在类外使用 `Entity.WELCOME_STR` ，来表达这个字符串。"
   ]
  },
  {
   "cell_type": "markdown",
   "metadata": {},
   "source": [
    "而针对第二个问题，我们提出了类函数、成员函数和静态函数三个概念。\n",
    "\n",
    "它们其实很好理解，前两者产生的影响是动态的，能够访问或者修改对象的属性；\n",
    "\n",
    "而静态函数则与类没有什么关联，最明显的特征便是，静态函数的第一个参数没有任何特殊性。\n",
    "\n",
    "一般而言，静态函数可以用来做一些简单独立的任务，既方便测试，也能优化代码结构。静态函数还可以通过在函数前一行加上 `@staticmethod` 来表示，代码中也有相应的示例。这其实使用了装饰器的概念，我们会在后面的章节中详细讲解。\n",
    "\n",
    "而类函数的第一个参数一般为 cls，表示必须传一个类进来。\n",
    "\n",
    "类函数最常用的功能是实现不同的 `init` 构造函数，比如上文代码中，我们使用 create_empty_book 类函数，来创造新的书籍对象，其 context 一定为 'nothing'。这样的代码，就比你直接构造要清晰一些。类似的，类函数需要装饰器 `@classmethod` 来声明。\n",
    "\n",
    "成员函数则是我们最正常的类的函数，它不需要任何装饰器声明，第一个参数 `self` 代表当前对象的引用，可以通过此函数，来实现想要的查询 / 修改类的属性等功能。"
   ]
  },
  {
   "cell_type": "markdown",
   "metadata": {},
   "source": [
    "我们来看第三个问题，既然类是一群相似的对象的集合，那么可不可以是一群相似的类的集合呢？\n",
    "\n",
    "类的继承，顾名思义，指的是一个类既拥有另一个类的特征，也拥有不同于另一个类的独特特征。在这里的第一个类叫做子类，另一个叫做父类，特征其实就是类的属性和函数。"
   ]
  },
  {
   "cell_type": "code",
   "execution_count": 9,
   "metadata": {
    "scrolled": true
   },
   "outputs": [
    {
     "name": "stdout",
     "output_type": "stream",
     "text": [
      "Document class init called\n",
      "parent class init called\n",
      "Video class init called\n",
      "parent class init called\n",
      "document\n",
      "video\n",
      "Harry Potter(Book)\n",
      "Harry Potter(Movie)\n",
      "22\n",
      "120\n"
     ]
    }
   ],
   "source": [
    "class Entity():\n",
    "    def __init__(self, object_type):\n",
    "        print('parent class init called')\n",
    "        self.object_type = object_type\n",
    "        self.title = None\n",
    "        \n",
    "    def get_context_length(self):\n",
    "        raise Exception('get_context_length not implemented')\n",
    "        \n",
    "    def print_title(self):\n",
    "        print(self.title)\n",
    "\n",
    "class Document(Entity):\n",
    "    def __init__(self, title, author, context):\n",
    "        print('Document class init called')\n",
    "        Entity.__init__(self, 'document')\n",
    "        self.title = title\n",
    "        self.author = author\n",
    "        self.__context = context\n",
    "        \n",
    "    def get_context_length(self):\n",
    "        return len(self.__context)\n",
    "    \n",
    "class Video(Entity):\n",
    "    def __init__(self, title, author, video_length):\n",
    "        print('Video class init called')\n",
    "        Entity.__init__(self, 'video')\n",
    "        self.title = title\n",
    "        self.author = author\n",
    "        self.__video_length = video_length\n",
    "        \n",
    "    def get_context_length(self):\n",
    "        return self.__video_length\n",
    "    \n",
    "harry_potter_book = Document('Harry Potter(Book)', 'J. K. Rowling', '... Forever Do not ...')\n",
    "harry_potter_movie = Video('Harry Potter(Movie)', 'J. K. Rowling', 120)\n",
    "\n",
    "print(harry_potter_book.object_type)\n",
    "print(harry_potter_movie.object_type)\n",
    "\n",
    "harry_potter_book.print_title()\n",
    "harry_potter_movie.print_title()\n",
    "\n",
    "print(harry_potter_book.get_context_length())\n",
    "print(harry_potter_movie.get_context_length())"
   ]
  },
  {
   "cell_type": "markdown",
   "metadata": {},
   "source": [
    "首先需要注意的是构造函数。每个类都有构造函数，继承类在生成对象的时候，是不会自动调用父类的构造函数的，因此你必须在 init() 函数中显式调用父类的构造函数。它们的执行顺序是 子类的构造函数 -> 父类的构造函数。"
   ]
  },
  {
   "cell_type": "code",
   "execution_count": 2,
   "metadata": {},
   "outputs": [
    {
     "name": "stdout",
     "output_type": "stream",
     "text": [
      "Jx's father\n",
      "Jx\n"
     ]
    }
   ],
   "source": [
    "class father():\n",
    "    def __init__(self, obj):\n",
    "        self.obj = obj\n",
    "        print(self.obj)\n",
    "\n",
    "\n",
    "class son(father):\n",
    "    def __init__(self, name):\n",
    "        father.__init__(self, \"Jx's father\")\n",
    "        self.name = name\n",
    "        print(self.name)\n",
    "        \n",
    "Jx = son('Jx')"
   ]
  },
  {
   "cell_type": "markdown",
   "metadata": {},
   "source": [
    "## 抽象类\n",
    "\n",
    "生来就是父类，创建对象就会报错，抽象函数必须重写"
   ]
  },
  {
   "cell_type": "code",
   "execution_count": 3,
   "metadata": {},
   "outputs": [],
   "source": [
    "from abc import ABCMeta, abstractclassmethod"
   ]
  },
  {
   "cell_type": "code",
   "execution_count": 6,
   "metadata": {},
   "outputs": [
    {
     "name": "stdout",
     "output_type": "stream",
     "text": [
      "Harry Potter\n"
     ]
    }
   ],
   "source": [
    "class Entity(metaclass=ABCMeta):\n",
    "    @abstractclassmethod\n",
    "    def get_title(self):\n",
    "        pass\n",
    "    \n",
    "    @abstractclassmethod\n",
    "    def set_title(self, title):\n",
    "        pass\n",
    "    \n",
    "class Document(Entity):\n",
    "    def get_title(self):\n",
    "        return self.title\n",
    "    \n",
    "    def set_title(self, title):\n",
    "        self.title = title\n",
    "\n",
    "document = Document()\n",
    "document.set_title('Harry Potter')\n",
    "print(document.get_title())\n",
    "# entity = Entity()  # 就会报错"
   ]
  },
  {
   "cell_type": "code",
   "execution_count": null,
   "metadata": {},
   "outputs": [],
   "source": []
  }
 ],
 "metadata": {
  "kernelspec": {
   "display_name": "Python 3 (ipykernel)",
   "language": "python",
   "name": "python3"
  },
  "language_info": {
   "codemirror_mode": {
    "name": "ipython",
    "version": 3
   },
   "file_extension": ".py",
   "mimetype": "text/x-python",
   "name": "python",
   "nbconvert_exporter": "python",
   "pygments_lexer": "ipython3",
   "version": "3.8.12"
  },
  "latex_envs": {
   "LaTeX_envs_menu_present": true,
   "autoclose": false,
   "autocomplete": true,
   "bibliofile": "biblio.bib",
   "cite_by": "apalike",
   "current_citInitial": 1,
   "eqLabelWithNumbers": true,
   "eqNumInitial": 1,
   "hotkeys": {
    "equation": "Ctrl-E",
    "itemize": "Ctrl-I"
   },
   "labels_anchors": false,
   "latex_user_defs": false,
   "report_style_numbering": false,
   "user_envs_cfg": false
  },
  "toc": {
   "base_numbering": 1,
   "nav_menu": {},
   "number_sections": true,
   "sideBar": true,
   "skip_h1_title": false,
   "title_cell": "Table of Contents",
   "title_sidebar": "Contents",
   "toc_cell": false,
   "toc_position": {
    "height": "calc(100% - 180px)",
    "left": "10px",
    "top": "150px",
    "width": "292.969px"
   },
   "toc_section_display": true,
   "toc_window_display": true
  },
  "varInspector": {
   "cols": {
    "lenName": 16,
    "lenType": 16,
    "lenVar": 40
   },
   "kernels_config": {
    "python": {
     "delete_cmd_postfix": "",
     "delete_cmd_prefix": "del ",
     "library": "var_list.py",
     "varRefreshCmd": "print(var_dic_list())"
    },
    "r": {
     "delete_cmd_postfix": ") ",
     "delete_cmd_prefix": "rm(",
     "library": "var_list.r",
     "varRefreshCmd": "cat(var_dic_list()) "
    }
   },
   "types_to_exclude": [
    "module",
    "function",
    "builtin_function_or_method",
    "instance",
    "_Feature"
   ],
   "window_display": false
  }
 },
 "nbformat": 4,
 "nbformat_minor": 4
}
