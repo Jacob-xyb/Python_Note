{
 "cells": [
  {
   "cell_type": "markdown",
   "metadata": {},
   "source": [
    "# 字符串输出问题"
   ]
  },
  {
   "cell_type": "code",
   "execution_count": null,
   "metadata": {},
   "outputs": [],
   "source": [
    "\"\"\"字符串输出问题\"\"\"\n",
    "# # 如果想输出: Let's go!\n",
    "# print('let\\'s go!')  # 采用 \\' 转义符输出\n",
    "# print(\"let's go!\")  # 采用 \" ' \" 来显示出 '\n",
    "# # 如果想输出: C:\\now\n",
    "# print('C:\\now')  # \\n 是换行的意思 是无法输出正确结果的\n",
    "# print(r'C:\\now')  # r'' 前缀：原始字符串\n",
    "# # print(r'C:\\now\\')  # 原始字符串的结尾加 \\ ，是会报错的，是不行的\n",
    "# print(r'C:\\now'+'\\\\')  # 只有这样才能在结尾加上 \\\n",
    "# # 三重引号字符串\n",
    "# print('''一首小诗''')  # 三重引号可以输出很多段的内容\n",
    "'''-----------------------------------------------------------------------------------'''"
   ]
  },
  {
   "cell_type": "markdown",
   "metadata": {},
   "source": [
    "# Python转义字符\n",
    "\n",
    "**列举一些常用不好记的**\n",
    "\n",
    "- ```\\v``` 纵向制表符"
   ]
  },
  {
   "cell_type": "code",
   "execution_count": 5,
   "metadata": {},
   "outputs": [
    {
     "name": "stdout",
     "output_type": "stream",
     "text": [
      "Hello \u000b",
      " World!\n"
     ]
    }
   ],
   "source": [
    "print(\"Hello \\v World!\")  # 纵向制表符（按道理说应该会换行...）"
   ]
  },
  {
   "cell_type": "markdown",
   "metadata": {},
   "source": [
    "# strip()\n",
    "- **str.strip([chars]);**\n",
    "- **chars -- 移除字符串头尾指定的字符序列**"
   ]
  },
  {
   "cell_type": "code",
   "execution_count": 1,
   "metadata": {
    "scrolled": true
   },
   "outputs": [
    {
     "name": "stdout",
     "output_type": "stream",
     "text": [
      "this is **string** example....wow!!!\n",
      "3abcrunoob3\n"
     ]
    }
   ],
   "source": [
    "str_300 = \"*****this is **string** example....wow!!!*****\"\n",
    "print(str_300.strip('*'))  # 指定字符串 *\n",
    "str_301 = \"123abcrunoob321\"\n",
    "print(str_301.strip('12'))  # 字符序列为 12\n",
    "# 只要头尾包含有指定字符序列中的字符就删除"
   ]
  },
  {
   "cell_type": "markdown",
   "metadata": {},
   "source": [
    "# split()\n",
    "\n",
    "- 描述\n",
    "\n",
    "    - split() 通过指定分隔符对字符串进行切片，如果参数 num 有指定值，则分隔 num+1 个子字符串\n",
    "\n",
    "- 语法\n",
    "\n",
    "    - str.split(str=\"\", num=string.count(str))\n",
    "\n",
    "- 参数\n",
    "\n",
    "    - str -- 分隔符，默认为所有的空字符，包括空格、换行(\\n)、制表符(\\t)等。\n",
    "    - num -- 分割次数。默认为 -1, 即分隔所有。\n",
    "\n",
    "- 返回值\n",
    "    - 返回分割后的字符串列表。\n"
   ]
  },
  {
   "cell_type": "code",
   "execution_count": 3,
   "metadata": {},
   "outputs": [
    {
     "name": "stdout",
     "output_type": "stream",
     "text": [
      "['Line1-abcdef', 'Line2-abc', 'Line4-abcd']\n",
      "['Line1-abcdef', '\\nLine2-abc \\nLine4-abcd']\n"
     ]
    }
   ],
   "source": [
    "str_2 = \"Line1-abcdef \\nLine2-abc \\nLine4-abcd\"\n",
    "print(str_2.split())        # 以空格为分隔符，包含 \\n\n",
    "print(str_2.split(' ', 1))  # 以空格为分隔符，分隔成两个"
   ]
  },
  {
   "cell_type": "markdown",
   "metadata": {},
   "source": [
    "- 值得注意的是，对应单个字符串时会左右都生成两个空集。"
   ]
  },
  {
   "cell_type": "code",
   "execution_count": 14,
   "metadata": {
    "scrolled": true
   },
   "outputs": [
    {
     "name": "stdout",
     "output_type": "stream",
     "text": [
      "['0'] 1\n",
      "['', ''] 2\n"
     ]
    }
   ],
   "source": [
    "count = '0'\n",
    "count = count.split()\n",
    "print(count,len(count))\n",
    "\n",
    "count = '0'\n",
    "count = count.split('0')\n",
    "print(count,len(count))\n"
   ]
  },
  {
   "cell_type": "markdown",
   "metadata": {},
   "source": [
    "# 大小写"
   ]
  },
  {
   "cell_type": "code",
   "execution_count": 1,
   "metadata": {},
   "outputs": [],
   "source": [
    "s = \"a duck goes into a bar...\""
   ]
  },
  {
   "cell_type": "markdown",
   "metadata": {},
   "source": [
    "## capitalize()\n",
    "- 字符串首字母大写"
   ]
  },
  {
   "cell_type": "code",
   "execution_count": 2,
   "metadata": {
    "scrolled": false
   },
   "outputs": [
    {
     "name": "stdout",
     "output_type": "stream",
     "text": [
      "A duck goes into a bar...\n"
     ]
    }
   ],
   "source": [
    "print(s.capitalize())"
   ]
  },
  {
   "cell_type": "markdown",
   "metadata": {},
   "source": [
    "## title()\n",
    "- 所有字母首字母大写"
   ]
  },
  {
   "cell_type": "code",
   "execution_count": 3,
   "metadata": {
    "scrolled": true
   },
   "outputs": [
    {
     "name": "stdout",
     "output_type": "stream",
     "text": [
      "A Duck Goes Into A Bar...\n"
     ]
    }
   ],
   "source": [
    "print(s.title())"
   ]
  },
  {
   "cell_type": "markdown",
   "metadata": {},
   "source": [
    "## upper()\n",
    "- 所有字母大写"
   ]
  },
  {
   "cell_type": "code",
   "execution_count": 4,
   "metadata": {
    "scrolled": true
   },
   "outputs": [
    {
     "name": "stdout",
     "output_type": "stream",
     "text": [
      "A DUCK GOES INTO A BAR...\n"
     ]
    }
   ],
   "source": [
    "print(s.upper())"
   ]
  },
  {
   "cell_type": "markdown",
   "metadata": {},
   "source": [
    "## lower()\n",
    "- 所有字母小写"
   ]
  },
  {
   "cell_type": "code",
   "execution_count": 5,
   "metadata": {
    "scrolled": true
   },
   "outputs": [
    {
     "name": "stdout",
     "output_type": "stream",
     "text": [
      "a duck goes into a bar...\n"
     ]
    }
   ],
   "source": [
    "print(s.lower())"
   ]
  },
  {
   "cell_type": "markdown",
   "metadata": {},
   "source": [
    "## swapcase()\n",
    "- 所有字母大小写切换"
   ]
  },
  {
   "cell_type": "code",
   "execution_count": 8,
   "metadata": {
    "scrolled": false
   },
   "outputs": [
    {
     "name": "stdout",
     "output_type": "stream",
     "text": [
      "A DUCK GOES INTO A BAR...\n"
     ]
    }
   ],
   "source": [
    "print(s.swapcase())"
   ]
  },
  {
   "cell_type": "markdown",
   "metadata": {},
   "source": [
    "# 排版"
   ]
  },
  {
   "cell_type": "code",
   "execution_count": 10,
   "metadata": {},
   "outputs": [],
   "source": [
    "s = \"a duck goes into a bar...\""
   ]
  },
  {
   "cell_type": "markdown",
   "metadata": {},
   "source": [
    "## center()\n",
    "\n",
    "- 居中\n",
    "\n",
    "- 参数：\n",
    "\n",
    "    - num: 在多少个字符内居中"
   ]
  },
  {
   "cell_type": "code",
   "execution_count": 9,
   "metadata": {
    "scrolled": false
   },
   "outputs": [
    {
     "data": {
      "text/plain": [
       "'  a duck goes into a bar...   '"
      ]
     },
     "execution_count": 9,
     "metadata": {},
     "output_type": "execute_result"
    }
   ],
   "source": [
    "s.center(30)"
   ]
  },
  {
   "cell_type": "code",
   "execution_count": 13,
   "metadata": {
    "scrolled": true
   },
   "outputs": [
    {
     "data": {
      "text/plain": [
       "'a duck goes into a bar...'"
      ]
     },
     "execution_count": 13,
     "metadata": {},
     "output_type": "execute_result"
    }
   ],
   "source": [
    "s.center(10)  # num小于字符串长度时，返回原字符串"
   ]
  },
  {
   "cell_type": "code",
   "execution_count": 15,
   "metadata": {
    "scrolled": false
   },
   "outputs": [
    {
     "data": {
      "text/plain": [
       "'                           a duck goes into a bar...                            '"
      ]
     },
     "execution_count": 15,
     "metadata": {},
     "output_type": "execute_result"
    }
   ],
   "source": [
    "s.center(80)  "
   ]
  },
  {
   "cell_type": "markdown",
   "metadata": {},
   "source": [
    "## ljust() and rjust()\n",
    "\n",
    "- 左对齐和右对齐\n",
    "\n",
    "- 参数：\n",
    "\n",
    "    - num: 字符范围"
   ]
  },
  {
   "cell_type": "code",
   "execution_count": 18,
   "metadata": {},
   "outputs": [
    {
     "data": {
      "text/plain": [
       "'a duck goes into a bar...     '"
      ]
     },
     "execution_count": 18,
     "metadata": {},
     "output_type": "execute_result"
    }
   ],
   "source": [
    "s.ljust(30)"
   ]
  },
  {
   "cell_type": "code",
   "execution_count": 19,
   "metadata": {},
   "outputs": [
    {
     "data": {
      "text/plain": [
       "'     a duck goes into a bar...'"
      ]
     },
     "execution_count": 19,
     "metadata": {},
     "output_type": "execute_result"
    }
   ],
   "source": [
    "s.rjust(30)"
   ]
  }
 ],
 "metadata": {
  "kernelspec": {
   "display_name": "base",
   "language": "python",
   "name": "base"
  },
  "language_info": {
   "codemirror_mode": {
    "name": "ipython",
    "version": 3
   },
   "file_extension": ".py",
   "mimetype": "text/x-python",
   "name": "python",
   "nbconvert_exporter": "python",
   "pygments_lexer": "ipython3",
   "version": "3.8.3"
  },
  "toc": {
   "base_numbering": 1,
   "nav_menu": {},
   "number_sections": true,
   "sideBar": true,
   "skip_h1_title": false,
   "title_cell": "Table of Contents",
   "title_sidebar": "Contents",
   "toc_cell": false,
   "toc_position": {
    "height": "calc(100% - 180px)",
    "left": "10px",
    "top": "150px",
    "width": "349.091px"
   },
   "toc_section_display": true,
   "toc_window_display": true
  },
  "varInspector": {
   "cols": {
    "lenName": 16,
    "lenType": 16,
    "lenVar": 40
   },
   "kernels_config": {
    "python": {
     "delete_cmd_postfix": "",
     "delete_cmd_prefix": "del ",
     "library": "var_list.py",
     "varRefreshCmd": "print(var_dic_list())"
    },
    "r": {
     "delete_cmd_postfix": ") ",
     "delete_cmd_prefix": "rm(",
     "library": "var_list.r",
     "varRefreshCmd": "cat(var_dic_list()) "
    }
   },
   "types_to_exclude": [
    "module",
    "function",
    "builtin_function_or_method",
    "instance",
    "_Feature"
   ],
   "window_display": false
  }
 },
 "nbformat": 4,
 "nbformat_minor": 4
}
