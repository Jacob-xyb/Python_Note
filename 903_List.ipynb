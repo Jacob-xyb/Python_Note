{
 "cells": [
  {
   "cell_type": "markdown",
   "metadata": {
    "collapsed": true,
    "pycharm": {
     "is_executing": false,
     "name": "#%%\n"
    }
   },
   "source": [
    "# List 列表"
   ]
  },
  {
   "cell_type": "markdown",
   "metadata": {},
   "source": [
    "## sort() \n",
    "### 描述\n",
    "- sort() 函数用于对原列表进行排序，如果指定参数，则使用比较函数指定的比较函数。\n",
    "### 语法\n",
    "```python\n",
    "list.sort(cmp=None, key=None, reverse=False)\n",
    "```\n",
    "### 参数\n",
    "- cmp -- 可选参数, 如果指定了该参数会使用该参数的方法进行排序。\n",
    "- key -- 主要是用来进行比较的元素，只有一个参数，具体的函数的参数就是取自于可迭代对象中，指定可迭代对象中的一个元素来进行排序。\n",
    "- reverse -- 排序规则，reverse = True 降序， reverse = False 升序（默认）。"
   ]
  },
  {
   "cell_type": "code",
   "execution_count": 1,
   "metadata": {},
   "outputs": [
    {
     "name": "stdout",
     "output_type": "stream",
     "text": [
      "[0, 1, 2, 3, 5, 7, 8, 9] None\n"
     ]
    }
   ],
   "source": [
    "lista = [9,7,1,0,8,2,5,3]\n",
    "list1 = lista.sort()\n",
    "print(lista, list1)\n",
    "# list.sort() 是对原列表进行排序，直接改变了原对象，而不会返回一个对象，所以list_1输出是None."
   ]
  },
  {
   "cell_type": "code",
   "execution_count": 2,
   "metadata": {},
   "outputs": [
    {
     "name": "stdout",
     "output_type": "stream",
     "text": [
      "['u', 'o', 'i', 'e', 'a']\n"
     ]
    }
   ],
   "source": [
    "# 列表\n",
    "vowels = ['e', 'a', 'u', 'o', 'i']\n",
    "# 降序\n",
    "vowels.sort(reverse=True)\n",
    "# 输出结果\n",
    "print(vowels)\n",
    "# 可以反转排序，并且可以对字母进行排序"
   ]
  },
  {
   "cell_type": "code",
   "execution_count": 3,
   "metadata": {},
   "outputs": [
    {
     "name": "stdout",
     "output_type": "stream",
     "text": [
      "[(4, 1), (2, 2), (1, 3), (3, 4)]\n"
     ]
    }
   ],
   "source": [
    "# 获取列表的第二个元素\n",
    "def takeSecond(elem):\n",
    "    return elem[1] \n",
    "# 列表\n",
    "random = [(2, 2), (3, 4), (4, 1), (1, 3)]\n",
    "# 指定第二个元素排序\n",
    "random.sort(key=takeSecond)\n",
    "# 输出类别\n",
    "print(random)"
   ]
  },
  {
   "cell_type": "markdown",
   "metadata": {},
   "source": [
    "## pop() \n",
    "### 描述\n",
    "- pop() 函数用于移除列表中的一个元素（默认最后一个元素），并且返回该元素的值。\n",
    "\n",
    "### 语法\n",
    "\n",
    "```python\n",
    "list.pop([index=-1])\n",
    "```\n",
    "\n",
    "### 参数\n",
    "- obj -- 可选参数，要移除列表元素的索引值，不能超过列表总长度，默认为 index=-1，删除最后一个列表值。"
   ]
  },
  {
   "cell_type": "code",
   "execution_count": 4,
   "metadata": {},
   "outputs": [
    {
     "name": "stdout",
     "output_type": "stream",
     "text": [
      "被删除的对象： Runoob\n",
      "原列表变为了： ['Google', 'Taobao']\n"
     ]
    }
   ],
   "source": [
    "list2 = ['Google', 'Runoob', 'Taobao']\n",
    "list_pop=list2.pop(1)\n",
    "print('被删除的对象：', list_pop)  # pop()还会返回被删除的对象 # 用于接收被删除的对象很有用，相当于弹出的过程\n",
    "print('原列表变为了：', list2)"
   ]
  },
  {
   "cell_type": "markdown",
   "metadata": {},
   "source": [
    "### pop()后不会改变列表id地址"
   ]
  },
  {
   "cell_type": "code",
   "execution_count": 5,
   "metadata": {},
   "outputs": [
    {
     "name": "stdout",
     "output_type": "stream",
     "text": [
      "['Google', 'Runoob', 'Taobao'] 2493290164672\n",
      "['Google', 'Runoob'] 2493290164672\n",
      "['Google', 'Runoob'] 2493290437632\n"
     ]
    }
   ],
   "source": [
    "list2_1 = ['Google', 'Runoob', 'Taobao']\n",
    "print(list2_1, id(list2_1))\n",
    "list2_1.pop()\n",
    "print(list2_1, id(list2_1))  # 利用pop()不会改变对象地址的改变。\n",
    "list2_1 = ['Google', 'Runoob']\n",
    "print(list2_1, id(list2_1)) #  = 是赋值语句，会创建一个新列表，就算内容不变，id也会改变，意思就是对象已经改变了。 "
   ]
  },
  {
   "cell_type": "markdown",
   "metadata": {},
   "source": [
    "## del 删除列表元素 "
   ]
  },
  {
   "cell_type": "code",
   "execution_count": 6,
   "metadata": {},
   "outputs": [
    {
     "name": "stdout",
     "output_type": "stream",
     "text": [
      "['Google', 'Taobao']\n"
     ]
    }
   ],
   "source": [
    "list3 = ['Google', 'Runoob', 'Taobao']\n",
    "del list3[1]  # 输出列表的某个元素\n",
    "print(list3)"
   ]
  },
  {
   "cell_type": "code",
   "execution_count": 7,
   "metadata": {},
   "outputs": [
    {
     "name": "stdout",
     "output_type": "stream",
     "text": [
      "['Taobao']\n"
     ]
    }
   ],
   "source": [
    "list3_1 = ['Google', 'Runoob', 'Taobao']\n",
    "del list3_1[0:2]  # 发现一次性删除一个片段也是可行的\n",
    "print(list3_1)"
   ]
  },
  {
   "cell_type": "markdown",
   "metadata": {},
   "source": [
    "## append() 和 extend() \n",
    "### 描述\n",
    "\n",
    "- append() 方法用于在列表末尾添加新的对象。\n",
    "\n",
    "- extend() 函数用于在列表末尾一次性追加另一个序列中的多个值（用新列表扩展原来的列表）。\n",
    "\n",
    "### 语法\n",
    "\n",
    "- append()方法语法：\n",
    "\n",
    "```python\n",
    "list.append(obj)\n",
    "```\n",
    "\n",
    "- extend()方法语法：\n",
    "\n",
    "```python\n",
    "list.extend(seq)\n",
    "```\n",
    "\n",
    "### append()参数\n",
    "\n",
    "- obj -- 添加到列表末尾的对象。\n",
    "\n",
    "### extend()参数\n",
    "\n",
    "- seq -- 元素列表，可以是列表、元组、集合、字典，若为字典,则仅会将键(key)作为元素依次添加至原列表的末尾。\n",
    "\n",
    "### 返回值\n",
    "\n",
    "- 该方法无返回值，但是会修改原来的列表。"
   ]
  },
  {
   "cell_type": "markdown",
   "metadata": {},
   "source": [
    "### 如何在列表后面添加多个参数呢？？？"
   ]
  },
  {
   "cell_type": "code",
   "execution_count": 8,
   "metadata": {},
   "outputs": [
    {
     "ename": "TypeError",
     "evalue": "append() takes exactly one argument (2 given)",
     "output_type": "error",
     "traceback": [
      "\u001b[1;31m---------------------------------------------------------------------------\u001b[0m",
      "\u001b[1;31mTypeError\u001b[0m                                 Traceback (most recent call last)",
      "\u001b[1;32m<ipython-input-8-e98d147d396f>\u001b[0m in \u001b[0;36m<module>\u001b[1;34m\u001b[0m\n\u001b[0;32m      1\u001b[0m \u001b[1;31m# 首先 append() 只能添加一个参数\u001b[0m\u001b[1;33m\u001b[0m\u001b[1;33m\u001b[0m\u001b[1;33m\u001b[0m\u001b[0m\n\u001b[0;32m      2\u001b[0m \u001b[0mlist4\u001b[0m \u001b[1;33m=\u001b[0m \u001b[1;33m[\u001b[0m\u001b[1;34m'Google'\u001b[0m\u001b[1;33m,\u001b[0m \u001b[1;34m'Runoob'\u001b[0m\u001b[1;33m,\u001b[0m \u001b[1;34m'Taobao'\u001b[0m\u001b[1;33m]\u001b[0m\u001b[1;33m\u001b[0m\u001b[1;33m\u001b[0m\u001b[0m\n\u001b[1;32m----> 3\u001b[1;33m \u001b[0mlist4\u001b[0m\u001b[1;33m.\u001b[0m\u001b[0mappend\u001b[0m\u001b[1;33m(\u001b[0m\u001b[1;34m'hello'\u001b[0m\u001b[1;33m,\u001b[0m \u001b[1;34m'python'\u001b[0m\u001b[1;33m)\u001b[0m  \u001b[1;31m# 这样添加是会报错的\u001b[0m\u001b[1;33m\u001b[0m\u001b[1;33m\u001b[0m\u001b[0m\n\u001b[0m\u001b[0;32m      4\u001b[0m \u001b[0mprint\u001b[0m\u001b[1;33m(\u001b[0m\u001b[0mlist4\u001b[0m\u001b[1;33m)\u001b[0m\u001b[1;33m\u001b[0m\u001b[1;33m\u001b[0m\u001b[0m\n",
      "\u001b[1;31mTypeError\u001b[0m: append() takes exactly one argument (2 given)"
     ]
    }
   ],
   "source": [
    "# 首先 append() 只能添加一个参数\n",
    "list4 = ['Google', 'Runoob', 'Taobao']\n",
    "list4.append('hello', 'python')  # 这样添加是会报错的\n",
    "print(list4)"
   ]
  },
  {
   "cell_type": "code",
   "execution_count": 9,
   "metadata": {},
   "outputs": [
    {
     "ename": "TypeError",
     "evalue": "extend() takes exactly one argument (2 given)",
     "output_type": "error",
     "traceback": [
      "\u001b[1;31m---------------------------------------------------------------------------\u001b[0m",
      "\u001b[1;31mTypeError\u001b[0m                                 Traceback (most recent call last)",
      "\u001b[1;32m<ipython-input-9-6ad66d8b0a6d>\u001b[0m in \u001b[0;36m<module>\u001b[1;34m\u001b[0m\n\u001b[0;32m      1\u001b[0m \u001b[1;31m# 但是 extend() 是可以添加多个的\u001b[0m\u001b[1;33m\u001b[0m\u001b[1;33m\u001b[0m\u001b[1;33m\u001b[0m\u001b[0m\n\u001b[0;32m      2\u001b[0m \u001b[0mlist4_1\u001b[0m \u001b[1;33m=\u001b[0m \u001b[1;33m[\u001b[0m\u001b[1;34m'Google'\u001b[0m\u001b[1;33m,\u001b[0m \u001b[1;34m'Runoob'\u001b[0m\u001b[1;33m,\u001b[0m \u001b[1;34m'Taobao'\u001b[0m\u001b[1;33m]\u001b[0m\u001b[1;33m\u001b[0m\u001b[1;33m\u001b[0m\u001b[0m\n\u001b[1;32m----> 3\u001b[1;33m \u001b[0mlist4_1\u001b[0m\u001b[1;33m.\u001b[0m\u001b[0mextend\u001b[0m\u001b[1;33m(\u001b[0m\u001b[1;34m'hello'\u001b[0m\u001b[1;33m,\u001b[0m \u001b[1;34m'python'\u001b[0m\u001b[1;33m)\u001b[0m  \u001b[1;31m# 这样添加也是会报错的\u001b[0m\u001b[1;33m\u001b[0m\u001b[1;33m\u001b[0m\u001b[0m\n\u001b[0m\u001b[0;32m      4\u001b[0m \u001b[0mprint\u001b[0m\u001b[1;33m(\u001b[0m\u001b[0mlist4_1\u001b[0m\u001b[1;33m)\u001b[0m\u001b[1;33m\u001b[0m\u001b[1;33m\u001b[0m\u001b[0m\n",
      "\u001b[1;31mTypeError\u001b[0m: extend() takes exactly one argument (2 given)"
     ]
    }
   ],
   "source": [
    "# 但是 extend() 是可以添加多个的\n",
    "list4_1 = ['Google', 'Runoob', 'Taobao']\n",
    "list4_1.extend('hello', 'python')  # 这样添加也是会报错的\n",
    "print(list4_1)"
   ]
  },
  {
   "cell_type": "code",
   "execution_count": 10,
   "metadata": {},
   "outputs": [
    {
     "name": "stdout",
     "output_type": "stream",
     "text": [
      "['Google', 'Runoob', 'Taobao', 'hello', 'python']\n",
      "['Google', 'Runoob', 'Taobao', ['hello', 'python']]\n"
     ]
    }
   ],
   "source": [
    "# 首先要了解 extend() 的原理 ；是用新列表扩展原来的列表，所以输入应该是一个可以迭代的序列才对！\n",
    "list4_2 = ['Google', 'Runoob', 'Taobao']\n",
    "list4_2.extend(['hello', 'python'])  # 这样就可以啦\n",
    "print(list4_2)\n",
    "list4_3 = ['Google', 'Runoob', 'Taobao']\n",
    "list4_3.append(['hello', 'python'])  # 同样的参数，如果append会发生什么呢\n",
    "print(list4_3)\n",
    "# 这下区分了extend() 和 append() 的区别了吗？"
   ]
  },
  {
   "cell_type": "markdown",
   "metadata": {},
   "source": [
    "### append() 扩展\n",
    "\n",
    "- append() 是浅拷贝，如果在 append 一个对象时，需要特别注意：\n",
    "\n",
    "> append 的值其实是对象，拷贝的对象，会随着对象的变化而变化，让我们一起看看吧~\n",
    "\n",
    "> 会在当前项目专门立一个文档讲解：浅复制和深复制。"
   ]
  },
  {
   "cell_type": "code",
   "execution_count": 11,
   "metadata": {},
   "outputs": [
    {
     "name": "stdout",
     "output_type": "stream",
     "text": [
      "['Google', 'Runoob', 'Taobao', 'hello']\n",
      "['Google', 'Runoob', 'Taobao', 'hello']\n",
      "goodbye\n"
     ]
    }
   ],
   "source": [
    "# 实例1\n",
    "list4_4 = ['Google', 'Runoob', 'Taobao']\n",
    "list_append = 'hello'\n",
    "list4_4.append(list_append)\n",
    "print(list4_4)  # 现在 'hello' 已经被添加到 list 中了\n",
    "list_append = 'goodbye'  # 现在改变被添加的对象\n",
    "print(list4_4)  # what?! 列表没有被改变\n",
    "print(list_append)  # 对象的确是改变了，但是列表就是没有变化！\n",
    "# 那我们看看前后list_append的地址有没有变化吧"
   ]
  },
  {
   "cell_type": "code",
   "execution_count": 12,
   "metadata": {},
   "outputs": [
    {
     "name": "stdout",
     "output_type": "stream",
     "text": [
      "被添加对象的地址: hello 2493290681968\n",
      "['Google', 'Runoob', 'Taobao', 'hello'] 2493290681968\n",
      "被添加对象的地址: goodbye 2493290607280\n",
      "['Google', 'Runoob', 'Taobao', 'hello'] 2493290681968\n",
      "goodbye\n"
     ]
    }
   ],
   "source": [
    "# 实例1+\n",
    "list4_5 = ['Google', 'Runoob', 'Taobao']\n",
    "list_append = 'hello'\n",
    "list4_5.append(list_append)\n",
    "print(\"被添加对象的地址:\",list_append, id(list_append))\n",
    "print(list4_4, id(list4_4[-1]))  # 现在 'hello' 已经被添加到 list 中了\n",
    "list_append = 'goodbye'  # 现在改变被添加的对象\n",
    "print(\"被添加对象的地址:\",list_append, id(list_append))\n",
    "print(list4_4, id(list4_4[-1]))  # what?! 列表没有被改变\n",
    "print(list_append)  # 对象的确是改变了，但是列表就是没有变化！\n",
    "# list_append的对象改变了，但是列表的地址是没有变化的。"
   ]
  },
  {
   "cell_type": "code",
   "execution_count": 13,
   "metadata": {},
   "outputs": [
    {
     "name": "stdout",
     "output_type": "stream",
     "text": [
      "2493290416000 2493290416000\n",
      "[[2]]\n",
      "2493290416000 2493290416000\n",
      "[[]]\n"
     ]
    }
   ],
   "source": [
    "# 实例2\n",
    "alist = []\n",
    "num = [2]\n",
    "alist.append(num)\n",
    "print(id(num),id(alist[0]))\n",
    "print(alist)\n",
    "num.pop()\n",
    "print(id(num),id(alist[0]))\n",
    "print(alist)\n",
    "# 被添加的对象有了变化但是地址没有变，所以列表就有了变化"
   ]
  },
  {
   "cell_type": "code",
   "execution_count": 14,
   "metadata": {},
   "outputs": [
    {
     "name": "stdout",
     "output_type": "stream",
     "text": [
      "2493290437760 2493290437760\n",
      "[[2]]\n",
      "2493290416000 2493290437760\n",
      "[[2]]\n"
     ]
    }
   ],
   "source": [
    "# 实例2+\n",
    "alist = []\n",
    "num = [2]\n",
    "alist.append(num)\n",
    "print(id(num),id(alist[0]))\n",
    "print(alist)\n",
    "num = [0]\n",
    "print(id(num),id(alist[0]))\n",
    "print(alist)\n",
    "# 被添加的对象被新建了，所以append还是记录原来的对象地址，所以没有变化。"
   ]
  },
  {
   "cell_type": "markdown",
   "metadata": {},
   "source": [
    "### extend() 扩展\n",
    "\n",
    "- extend()可以将所有类型的输入整合成列表的形式添加到原列表中："
   ]
  },
  {
   "cell_type": "code",
   "execution_count": 15,
   "metadata": {},
   "outputs": [
    {
     "name": "stdout",
     "output_type": "stream",
     "text": [
      "扩展后的列表： ['Google', 'Runoob', 'Taobao', 0, 1, 2, 3, 4]\n"
     ]
    }
   ],
   "source": [
    "# 扩展列表\n",
    "list4_6 = ['Google', 'Runoob', 'Taobao']\n",
    "list4_7 =list(range(5)) # 创建 0-4 的列表\n",
    "list4_6.extend(list4_7)  # 扩展列表\n",
    "print (\"扩展后的列表：\", list4_6)  # 一个列表被整合到list中了"
   ]
  },
  {
   "cell_type": "code",
   "execution_count": 16,
   "metadata": {},
   "outputs": [
    {
     "name": "stdout",
     "output_type": "stream",
     "text": [
      "扩展后的列表： ['Google', 'Runoob', 'Taobao', 0, 1, 2, 3, 4]\n"
     ]
    }
   ],
   "source": [
    "# 扩展元祖\n",
    "list4_6 = ['Google', 'Runoob', 'Taobao']\n",
    "list4_7 = tuple(range(5)) # 创建 0-4 的元祖\n",
    "list4_6.extend(list4_7)  # 扩展列表\n",
    "print (\"扩展后的列表：\", list4_6)  # 一个列表被整合到list中了"
   ]
  },
  {
   "cell_type": "code",
   "execution_count": 17,
   "metadata": {},
   "outputs": [
    {
     "name": "stdout",
     "output_type": "stream",
     "text": [
      "扩展后的列表： ['Google', 'Runoob', 'Taobao', 0, 1, 2, 3, 4]\n"
     ]
    }
   ],
   "source": [
    "# 扩展字典\n",
    "# 若为字典,则仅会将键(key)作为元素依次添加至原列表的末尾\n",
    "list4_6 = ['Google', 'Runoob', 'Taobao']\n",
    "list4_7 = {0,1,2,3,4} # 创建 键值为 0-4 的字典\n",
    "list4_6.extend(list4_7)  # 扩展列表\n",
    "print (\"扩展后的列表：\", list4_6)  # 一个列表被整合到list中了"
   ]
  }
 ],
 "metadata": {
  "kernelspec": {
   "display_name": "base",
   "language": "python",
   "name": "base"
  },
  "language_info": {
   "codemirror_mode": {
    "name": "ipython",
    "version": 3
   },
   "file_extension": ".py",
   "mimetype": "text/x-python",
   "name": "python",
   "nbconvert_exporter": "python",
   "pygments_lexer": "ipython3",
   "version": "3.8.3"
  },
  "pycharm": {
   "stem_cell": {
    "cell_type": "raw",
    "metadata": {
     "collapsed": false
    },
    "source": []
   }
  }
 },
 "nbformat": 4,
 "nbformat_minor": 1
}
