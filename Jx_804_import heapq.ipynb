{
 "cells": [
  {
   "cell_type": "code",
   "execution_count": 39,
   "metadata": {},
   "outputs": [],
   "source": [
    "import heapq"
   ]
  },
  {
   "cell_type": "markdown",
   "metadata": {},
   "source": [
    "# heapq\n",
    "\n",
    "该模块提供了堆排序算法的实现。堆是二叉树，最大堆中父节点大于或等于两个子节点，最小堆父节点小于或等于两个子节点。"
   ]
  },
  {
   "cell_type": "markdown",
   "metadata": {},
   "source": [
    "## 创建堆\n",
    "\n",
    "创建堆有两种方法。"
   ]
  },
  {
   "cell_type": "markdown",
   "metadata": {},
   "source": [
    "1. 使用一个空列表，然后使用heapq.heappush()函数把值加入堆中\n",
    "\n",
    "\n",
    "- 函数定义：\n",
    "```\n",
    "heapq.heappush(heap, item)\n",
    "    Push the value item onto the heap, maintaining the heap invariant.\n",
    "```"
   ]
  },
  {
   "cell_type": "code",
   "execution_count": 8,
   "metadata": {},
   "outputs": [
    {
     "name": "stdout",
     "output_type": "stream",
     "text": [
      "[1, 2, 5, 3, 54, 23, 132]\n",
      "[1, 2, 3, 5, 23, 54, 132]\n"
     ]
    }
   ],
   "source": [
    "nums = [2, 3, 5, 1, 54, 23, 132]\n",
    "heap = []\n",
    "for num in nums:\n",
    "    heapq.heappush(heap, num)  # 加入堆\n",
    "\n",
    "print(heap[0])  # 如果只是想获取最小值而不是弹出，使用heap[0]\n",
    "print([heapq.heappop(heap) for _ in range(len(nums))])  # 堆排序结果"
   ]
  },
  {
   "cell_type": "markdown",
   "metadata": {},
   "source": [
    "2. 使用heap.heapify(list)转换列表成为堆结构\n",
    "\n",
    "\n",
    "- 函数定义:\n",
    "```python3\n",
    "heapq.heappop(heap)\n",
    "    - Pop and return the smallest item from the heap, maintaining the heap invariant.\n",
    "    If the heap is empty, IndexError is raised. To access the smallest item without popping it, use heap[0].\n",
    "```"
   ]
  },
  {
   "cell_type": "code",
   "execution_count": 18,
   "metadata": {},
   "outputs": [
    {
     "name": "stdout",
     "output_type": "stream",
     "text": [
      "[1, 2, 5, 3, 54, 23, 132]\n",
      "[1, 2, 3, 5, 23, 54, 132]\n"
     ]
    }
   ],
   "source": [
    "nums = [2, 3, 5, 1, 54, 23, 132]\n",
    "heapq.heapify(nums)\n",
    "print(nums)\n",
    "print([heapq.heappop(nums) for _ in range(len(nums))])  # 堆排序结果"
   ]
  },
  {
   "cell_type": "markdown",
   "metadata": {},
   "source": [
    "- eapq 模块还有一个heapq.merge(*iterables) 方法，用于合并多个排序后的序列成一个排序后的序列， 返回排序后的值的迭代器。\n",
    "> 类似于sorted(itertools.chain(*iterables))，但返回的是可迭代的。\n",
    "\n",
    "```\n",
    "函数定义:\n",
    "heapq.merge(*iterables)\n",
    "    - Merge multiple sorted inputs into a single sorted output (for example, merge timestamped entries from multiple log files). Returns an iterator over the sorted values.\n",
    "    - Similar to sorted(itertools.chain(*iterables)) but returns an iterable, does not pull the data into memory all at once, and assumes that each of the input streams is already sorted (smallest to largest).\n",
    "```"
   ]
  },
  {
   "cell_type": "code",
   "execution_count": 21,
   "metadata": {},
   "outputs": [
    {
     "name": "stdout",
     "output_type": "stream",
     "text": [
      "<generator object merge at 0x0000028D9E15E270>\n",
      "[2, 3, 5, 12, 23, 23, 23, 32, 34, 54, 54, 132, 324, 656]\n"
     ]
    }
   ],
   "source": [
    "num1 = (32, 3, 5, 34, 54, 23, 132)  # 将列表换成元组也是可行的，可迭代即可。\n",
    "num2 = [23, 2, 12, 656, 324, 23, 54]\n",
    "num1 = sorted(num1)\n",
    "num2 = sorted(num2)\n",
    "\n",
    "res = heapq.merge(num1, num2)\n",
    "print(res)\n",
    "print(list(res))"
   ]
  },
  {
   "cell_type": "markdown",
   "metadata": {},
   "source": [
    "## 访问堆内容"
   ]
  },
  {
   "cell_type": "markdown",
   "metadata": {},
   "source": [
    "### heapq.heappop()\n",
    "\n",
    "- 堆创建好后，可以通过`heapq.heappop()` 函数弹出堆中最小值。"
   ]
  },
  {
   "cell_type": "code",
   "execution_count": 22,
   "metadata": {},
   "outputs": [
    {
     "name": "stdout",
     "output_type": "stream",
     "text": [
      "2\n",
      "[12, 23, 43, 45]\n"
     ]
    }
   ],
   "source": [
    "import heapq\n",
    "nums = [2, 43, 45, 23, 12]\n",
    "heapq.heapify(nums)\n",
    "\n",
    "print(heapq.heappop(nums))\n",
    "\n",
    "# 如果需要所有堆排序后的元素\n",
    "result = [heapq.heappop(nums) for _ in range(len(nums))]\n",
    "print(result)"
   ]
  },
  {
   "cell_type": "markdown",
   "metadata": {},
   "source": [
    "### heapq.heaprepalce()\n",
    "\n",
    "- 使用`heapq.heaprepalce()` 函数删除堆中最小元素并加入一个元素。"
   ]
  },
  {
   "cell_type": "code",
   "execution_count": 31,
   "metadata": {},
   "outputs": [
    {
     "name": "stdout",
     "output_type": "stream",
     "text": [
      "[2, 3, 4, 5, 3]\n",
      "[2, 3, 3, 4, 5]\n"
     ]
    }
   ],
   "source": [
    "nums = [1, 2, 4, 5, 3]\n",
    "heapq.heapify(nums)\n",
    "\n",
    "heapq.heapreplace(nums, 3)\n",
    "print(nums)  # 直接打印是不正确的\n",
    "print([heapq.heappop(nums) for _ in range(len(nums))])"
   ]
  },
  {
   "cell_type": "markdown",
   "metadata": {},
   "source": [
    "### heapq.nlargest() 或heapq.nsmallest()\n",
    "\n",
    "- 取堆中最大或最小的范围值。\n",
    "\n",
    "```\n",
    "函数定义：\n",
    "heapq.nlargest(n, iterable[, key])\n",
    "    - Return a list with the n largest elements from the dataset defined by iterable. \n",
    "    - key if provided, specifies a function of one argument that is used to extract a comparison key from each element in the iterable: key=str.lower\n",
    "    - Equivalent to: sorted(iterable, key=key, reverse=True)[:n]\n",
    "```"
   ]
  },
  {
   "cell_type": "code",
   "execution_count": 33,
   "metadata": {
    "scrolled": true
   },
   "outputs": [
    {
     "name": "stdout",
     "output_type": "stream",
     "text": [
      "[5, 4, 3]\n",
      "[1, 2, 3]\n"
     ]
    }
   ],
   "source": [
    "nums = [1, 3, 4, 5, 2]\n",
    "print(heapq.nlargest(3, nums))\n",
    "print(heapq.nsmallest(3, nums))"
   ]
  },
  {
   "cell_type": "markdown",
   "metadata": {},
   "source": [
    "- 这两个函数还接受一个key参数，用于dict或其他数据结构类型使用"
   ]
  },
  {
   "cell_type": "code",
   "execution_count": 35,
   "metadata": {
    "scrolled": true
   },
   "outputs": [
    {
     "name": "stdout",
     "output_type": "stream",
     "text": [
      "[{'name': 'YHOO', 'price': 16.35, 'shares': 45},\n",
      " {'name': 'FB', 'price': 21.09, 'shares': 200},\n",
      " {'name': 'HPQ', 'price': 31.75, 'shares': 35}]\n",
      "[{'name': 'AAPL', 'price': 543.22, 'shares': 50},\n",
      " {'name': 'ACME', 'price': 115.65, 'shares': 75},\n",
      " {'name': 'IBM', 'price': 91.1, 'shares': 100}]\n"
     ]
    }
   ],
   "source": [
    "import heapq\n",
    "from pprint import pprint\n",
    "portfolio = [\n",
    "    {'name': 'IBM', 'shares': 100, 'price': 91.1},\n",
    "    {'name': 'AAPL', 'shares': 50, 'price': 543.22},\n",
    "    {'name': 'FB', 'shares': 200, 'price': 21.09},\n",
    "    {'name': 'HPQ', 'shares': 35, 'price': 31.75},\n",
    "    {'name': 'YHOO', 'shares': 45, 'price': 16.35},\n",
    "    {'name': 'ACME', 'shares': 75, 'price': 115.65}\n",
    "]\n",
    "cheap = heapq.nsmallest(3, portfolio, key=lambda s: s['price'])\n",
    "expensive = heapq.nlargest(3, portfolio, key=lambda s: s['price'])\n",
    "pprint(cheap)\n",
    "pprint(expensive)"
   ]
  },
  {
   "cell_type": "markdown",
   "metadata": {},
   "source": [
    "## heapq应用"
   ]
  },
  {
   "cell_type": "markdown",
   "metadata": {},
   "source": [
    "### 实现heap堆排序算法"
   ]
  },
  {
   "cell_type": "code",
   "execution_count": 43,
   "metadata": {},
   "outputs": [],
   "source": [
    "def heapsort(iterable):\n",
    "    h = []\n",
    "    for value in iterable:\n",
    "        heapq.heappush(h, value)\n",
    "    return [heapq.heappop(h) for i in range(len(h))]"
   ]
  },
  {
   "cell_type": "code",
   "execution_count": 44,
   "metadata": {},
   "outputs": [
    {
     "data": {
      "text/plain": [
       "[0, 1, 2, 3, 4, 5, 6, 7, 8, 9]"
      ]
     },
     "execution_count": 44,
     "metadata": {},
     "output_type": "execute_result"
    }
   ],
   "source": [
    "heapsort([1, 3, 5, 7, 9, 2, 4, 6, 8, 0])"
   ]
  }
 ],
 "metadata": {
  "kernelspec": {
   "display_name": "Python 3",
   "language": "python",
   "name": "python3"
  },
  "language_info": {
   "codemirror_mode": {
    "name": "ipython",
    "version": 3
   },
   "file_extension": ".py",
   "mimetype": "text/x-python",
   "name": "python",
   "nbconvert_exporter": "python",
   "pygments_lexer": "ipython3",
   "version": "3.8.3"
  },
  "toc": {
   "base_numbering": 1,
   "nav_menu": {},
   "number_sections": true,
   "sideBar": true,
   "skip_h1_title": false,
   "title_cell": "Table of Contents",
   "title_sidebar": "Contents",
   "toc_cell": false,
   "toc_position": {
    "height": "calc(100% - 180px)",
    "left": "10px",
    "top": "150px",
    "width": "349.091px"
   },
   "toc_section_display": true,
   "toc_window_display": true
  },
  "varInspector": {
   "cols": {
    "lenName": 16,
    "lenType": 16,
    "lenVar": 40
   },
   "kernels_config": {
    "python": {
     "delete_cmd_postfix": "",
     "delete_cmd_prefix": "del ",
     "library": "var_list.py",
     "varRefreshCmd": "print(var_dic_list())"
    },
    "r": {
     "delete_cmd_postfix": ") ",
     "delete_cmd_prefix": "rm(",
     "library": "var_list.r",
     "varRefreshCmd": "cat(var_dic_list()) "
    }
   },
   "position": {
    "height": "285.724px",
    "left": "1369.43px",
    "right": "20px",
    "top": "118.974px",
    "width": "320px"
   },
   "types_to_exclude": [
    "module",
    "function",
    "builtin_function_or_method",
    "instance",
    "_Feature"
   ],
   "window_display": false
  }
 },
 "nbformat": 4,
 "nbformat_minor": 4
}
