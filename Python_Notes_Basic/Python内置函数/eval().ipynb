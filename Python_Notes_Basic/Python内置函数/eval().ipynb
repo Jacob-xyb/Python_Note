{
 "cells": [
  {
   "cell_type": "markdown",
   "id": "cbe65c07",
   "metadata": {},
   "source": [
    "# eval() "
   ]
  },
  {
   "cell_type": "markdown",
   "id": "480a933c",
   "metadata": {},
   "source": [
    "## eval(expression)"
   ]
  },
  {
   "cell_type": "code",
   "execution_count": 6,
   "id": "8ddb3ea2",
   "metadata": {},
   "outputs": [
    {
     "name": "stdout",
     "output_type": "stream",
     "text": [
      "12\n",
      "<class 'int'>\n",
      "12\n",
      "<class 'str'>\n"
     ]
    }
   ],
   "source": [
    "a = '12'\n",
    "print(eval(a))\n",
    "print(type(eval(a)))\n",
    "print(eval('a'))\n",
    "print(type(eval('a')))"
   ]
  },
  {
   "cell_type": "code",
   "execution_count": 7,
   "id": "6f48a228",
   "metadata": {
    "scrolled": true
   },
   "outputs": [
    {
     "name": "stdout",
     "output_type": "stream",
     "text": [
      "8\n",
      "16\n"
     ]
    }
   ],
   "source": [
    "b = 4\n",
    "print(eval('b * 2'))\n",
    "print(eval('pow(b, 2)'))"
   ]
  },
  {
   "cell_type": "code",
   "execution_count": 8,
   "id": "4e50f2e5",
   "metadata": {},
   "outputs": [
    {
     "name": "stdout",
     "output_type": "stream",
     "text": [
      "123\n"
     ]
    }
   ],
   "source": [
    "abc = 123\n",
    "c = 'abc'\n",
    "print(eval(c))"
   ]
  },
  {
   "cell_type": "markdown",
   "id": "4d42064c",
   "metadata": {},
   "source": [
    "## eval(expression, globals)"
   ]
  },
  {
   "cell_type": "code",
   "execution_count": 21,
   "id": "5db58b72",
   "metadata": {},
   "outputs": [
    {
     "name": "stdout",
     "output_type": "stream",
     "text": [
      "16\n",
      "1\n",
      "12\n",
      "3\n",
      "15\n"
     ]
    }
   ],
   "source": [
    "a = 1\n",
    "b = 2\n",
    "c = 3\n",
    "dict1 = {'a':12, 'b':3}\n",
    "# 设置全局命名空间并不影响解析字符串\n",
    "print(eval('4 ** 2', dict1))  # 16\n",
    "\n",
    "print(eval('a'))  # 1\n",
    "print(eval('a', dict1))  # 12  # == dict1['a']\n",
    "# print(eval('c', dict1))  # NameError: name 'c' is not defined\n",
    "\n",
    "print(eval('a+b'))  # 3 # == a + b\n",
    "print(eval('a+b', dict1))   # 15 # == dict1['a'] + dict2['b']"
   ]
  },
  {
   "cell_type": "markdown",
   "id": "226ed7c7",
   "metadata": {},
   "source": [
    "## eval(expression, globals, locals)"
   ]
  },
  {
   "cell_type": "code",
   "execution_count": 22,
   "id": "d8dd6694",
   "metadata": {},
   "outputs": [
    {
     "name": "stdout",
     "output_type": "stream",
     "text": [
      "303\n"
     ]
    }
   ],
   "source": [
    "a = 1\n",
    "b = 2\n",
    "c = 3\n",
    "dict1 = {'a': 12, 'b': 3}\n",
    "dict2 = {'a': 100, 'c': 200}\n",
    "# dict2的优先级高于dict1，先从dict2中查找变量，未找到的再从dict1中查找。\n",
    "print(eval(\"a + b + c\", dict1, dict2))  # 303"
   ]
  }
 ],
 "metadata": {
  "kernelspec": {
   "display_name": "Python 3 (ipykernel)",
   "language": "python",
   "name": "python3"
  },
  "language_info": {
   "codemirror_mode": {
    "name": "ipython",
    "version": 3
   },
   "file_extension": ".py",
   "mimetype": "text/x-python",
   "name": "python",
   "nbconvert_exporter": "python",
   "pygments_lexer": "ipython3",
   "version": "3.8.13"
  },
  "toc": {
   "base_numbering": 1,
   "nav_menu": {},
   "number_sections": true,
   "sideBar": true,
   "skip_h1_title": false,
   "title_cell": "Table of Contents",
   "title_sidebar": "Contents",
   "toc_cell": false,
   "toc_position": {},
   "toc_section_display": true,
   "toc_window_display": false
  },
  "varInspector": {
   "cols": {
    "lenName": 16,
    "lenType": 16,
    "lenVar": 40
   },
   "kernels_config": {
    "python": {
     "delete_cmd_postfix": "",
     "delete_cmd_prefix": "del ",
     "library": "var_list.py",
     "varRefreshCmd": "print(var_dic_list())"
    },
    "r": {
     "delete_cmd_postfix": ") ",
     "delete_cmd_prefix": "rm(",
     "library": "var_list.r",
     "varRefreshCmd": "cat(var_dic_list()) "
    }
   },
   "types_to_exclude": [
    "module",
    "function",
    "builtin_function_or_method",
    "instance",
    "_Feature"
   ],
   "window_display": false
  }
 },
 "nbformat": 4,
 "nbformat_minor": 5
}
