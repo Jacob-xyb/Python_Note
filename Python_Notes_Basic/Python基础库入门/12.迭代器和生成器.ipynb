{
 "cells": [
  {
   "cell_type": "markdown",
   "id": "6492abf2",
   "metadata": {},
   "source": [
    "# 迭代器和生成器"
   ]
  },
  {
   "cell_type": "markdown",
   "id": "13e47a18",
   "metadata": {},
   "source": [
    "## 你肯定用过的容器、可迭代对象和迭代器"
   ]
  },
  {
   "cell_type": "code",
   "execution_count": 3,
   "id": "13151ebf",
   "metadata": {},
   "outputs": [
    {
     "name": "stdout",
     "output_type": "stream",
     "text": [
      "1234 is iterable? False\n",
      "1234 is iterable? True\n",
      "[1, 2, 3, 4] is iterable? True\n",
      "{1, 2, 3, 4} is iterable? True\n",
      "{1: 1, 2: 2, 3: 3, 4: 4} is iterable? True\n",
      "(1, 2, 3, 4) is iterable? True\n"
     ]
    }
   ],
   "source": [
    "def is_iterable(param):\n",
    "    try:\n",
    "        iter(param)\n",
    "        return True\n",
    "    except TypeError:\n",
    "        return False\n",
    "\n",
    "params = [\n",
    "    1234,\n",
    "    '1234',\n",
    "    [1, 2, 3, 4],\n",
    "    set([1, 2, 3, 4]),\n",
    "    {1:1, 2:2, 3:3, 4:4},\n",
    "    (1, 2, 3, 4)\n",
    "]\n",
    "\n",
    "for param in params:\n",
    "    print('{} is iterable? {}'.format(param, is_iterable(param)))"
   ]
  },
  {
   "cell_type": "markdown",
   "id": "7218db73",
   "metadata": {},
   "source": [
    "## 生成器，又是什么？"
   ]
  },
  {
   "cell_type": "markdown",
   "id": "271cce75",
   "metadata": {},
   "source": [
    "### 生成器的创建及访问"
   ]
  },
  {
   "cell_type": "markdown",
   "id": "c48c8105",
   "metadata": {},
   "source": [
    "1. 生成器表达式：\n",
    "\n",
    "  ()推导式"
   ]
  },
  {
   "cell_type": "code",
   "execution_count": 1,
   "id": "0cd1d458",
   "metadata": {},
   "outputs": [
    {
     "name": "stdout",
     "output_type": "stream",
     "text": [
      "0\n",
      "2\n",
      "4\n"
     ]
    }
   ],
   "source": [
    "l = (i for i in range(1000) if i % 2 ==0)\n",
    "print(next(l))\n",
    "print(next(l))\n",
    "print(l.__next__())"
   ]
  },
  {
   "cell_type": "markdown",
   "id": "31cd00e7",
   "metadata": {},
   "source": [
    "2. 生成器函数：\n",
    "\n",
    "  函数中含有yield语句；函数的执行结果就是生成器对象"
   ]
  },
  {
   "cell_type": "code",
   "execution_count": 8,
   "id": "809c3148",
   "metadata": {},
   "outputs": [
    {
     "name": "stdout",
     "output_type": "stream",
     "text": [
      "<generator object test at 0x0000017B1F769900>\n",
      "xxx\n",
      "1\n",
      "a\n",
      "2\n"
     ]
    }
   ],
   "source": [
    "def test():\n",
    "    print(\"xxx\")\n",
    "    yield 1\n",
    "    print('a')\n",
    "    yield 2\n",
    "    print('b')\n",
    "    yield 3\n",
    "    print('c')\n",
    "\n",
    "g = test()\n",
    "print(g)\n",
    "print(next(g))\n",
    "print(next(g))"
   ]
  },
  {
   "cell_type": "markdown",
   "id": "242daaf2",
   "metadata": {},
   "source": [
    " ### send() 方法\n",
    " \n",
    " send(param) 指定一个参数，指定的是上一次被挂起的yield语句的返回值"
   ]
  },
  {
   "cell_type": "markdown",
   "id": "04135e69",
   "metadata": {},
   "source": [
    "**next下的yield的返回值默认是 None**"
   ]
  },
  {
   "cell_type": "code",
   "execution_count": 4,
   "id": "3a16687a",
   "metadata": {},
   "outputs": [
    {
     "name": "stdout",
     "output_type": "stream",
     "text": [
      "0\n",
      "None\n",
      "1\n"
     ]
    }
   ],
   "source": [
    "def test():\n",
    "    for i in range(100):\n",
    "        res = yield i\n",
    "        print(res)\n",
    "        \n",
    "g = test()\n",
    "\n",
    "print(g.__next__())\n",
    "print(g.__next__())"
   ]
  },
  {
   "cell_type": "markdown",
   "id": "254bcf82",
   "metadata": {},
   "source": [
    "**send后的yield的返回值为指定的参数**\n",
    "\n",
    "但是send()在第一次启动生成器时，必须传入None参数，否则会报错，因为第一次没有挂起的yield。"
   ]
  },
  {
   "cell_type": "code",
   "execution_count": 10,
   "id": "fb18fc64",
   "metadata": {},
   "outputs": [
    {
     "name": "stdout",
     "output_type": "stream",
     "text": [
      "0\n",
      "xxx\n",
      "1\n"
     ]
    }
   ],
   "source": [
    "def test():\n",
    "    for i in range(100):\n",
    "        res = yield i\n",
    "        print(res)\n",
    "        \n",
    "g = test()\n",
    "\n",
    "print(g.send(None))  # 第一次发送时，必须是 None\n",
    "print(g.send(\"xxx\"))"
   ]
  },
  {
   "cell_type": "markdown",
   "id": "5af8f29a",
   "metadata": {},
   "source": [
    "### close()方法"
   ]
  },
  {
   "cell_type": "markdown",
   "id": "bf5899bb",
   "metadata": {},
   "source": [
    "### 生成器中的return\n",
    "\n",
    "for循环会自动识别return，然后停止。（猜测内部使用了断言判断）"
   ]
  },
  {
   "cell_type": "code",
   "execution_count": 11,
   "id": "6127f7da",
   "metadata": {},
   "outputs": [
    {
     "name": "stdout",
     "output_type": "stream",
     "text": [
      "0\n",
      "1\n",
      "2\n",
      "3\n"
     ]
    }
   ],
   "source": [
    "def test():\n",
    "    for i in range(100):\n",
    "        res = yield i\n",
    "        if i == 3:\n",
    "            return\n",
    "\n",
    "g = test()\n",
    "\n",
    "for i in g:\n",
    "    print(i)"
   ]
  },
  {
   "cell_type": "markdown",
   "id": "c3bd774f",
   "metadata": {},
   "source": [
    "### 生成器的进阶应用"
   ]
  },
  {
   "cell_type": "markdown",
   "id": "71dbc6e1",
   "metadata": {},
   "source": [
    "#### 验证数学恒等式"
   ]
  },
  {
   "cell_type": "code",
   "execution_count": 2,
   "id": "72fe3e12",
   "metadata": {},
   "outputs": [
    {
     "name": "stdout",
     "output_type": "stream",
     "text": [
      "<generator object generator at 0x000001C8E1DDF580>\n",
      "<generator object generator at 0x000001C8E1DDF6D0>\n"
     ]
    }
   ],
   "source": [
    "def generator(k):\n",
    "    i = 1\n",
    "    while True:\n",
    "        yield i ** k\n",
    "        i += 1\n",
    "gen_1 = generator(1)\n",
    "gen_3 = generator(3)\n",
    "\n",
    "print(gen_1)\n",
    "print(gen_3)"
   ]
  },
  {
   "cell_type": "code",
   "execution_count": 6,
   "id": "7448fafd",
   "metadata": {},
   "outputs": [
    {
     "name": "stdout",
     "output_type": "stream",
     "text": [
      "next_1 = 1, next_3 = 1\n",
      "next_1 = 2, next_3 = 8\n",
      "next_1 = 3, next_3 = 27\n",
      "next_1 = 4, next_3 = 64\n",
      "next_1 = 5, next_3 = 125\n",
      "next_1 = 6, next_3 = 216\n",
      "next_1 = 7, next_3 = 343\n",
      "next_1 = 8, next_3 = 512\n",
      "1296 1296\n"
     ]
    }
   ],
   "source": [
    "def generator(k):\n",
    "    i = 1\n",
    "    while True:\n",
    "        yield i ** k\n",
    "        i += 1\n",
    "\n",
    "def get_sum(n):\n",
    "    gen_1 = generator(1)\n",
    "    gen_3 = generator(3)\n",
    "    sum_1, sum_3 = 0, 0\n",
    "    for i in range(n):\n",
    "        next_1 = next(gen_1)\n",
    "        next_3 = next(gen_3)\n",
    "        print('next_1 = {}, next_3 = {}'.format(next_1, next_3))\n",
    "        sum_1 += next_1\n",
    "        sum_3 += next_3\n",
    "    print(sum_1 * sum_1, sum_3)\n",
    "                                                \n",
    "get_sum(8)"
   ]
  },
  {
   "cell_type": "markdown",
   "id": "bf9b1c07",
   "metadata": {},
   "source": [
    "#### 查看数字在 list 中的位置"
   ]
  },
  {
   "cell_type": "markdown",
   "id": "9c391ad8",
   "metadata": {},
   "source": [
    "#### 判断一个序列是否为另一个序列的子序列"
   ]
  },
  {
   "cell_type": "code",
   "execution_count": 3,
   "id": "6df02a1b",
   "metadata": {},
   "outputs": [
    {
     "name": "stdout",
     "output_type": "stream",
     "text": [
      "True\n",
      "False\n"
     ]
    }
   ],
   "source": [
    "def is_subsequence(a, b):\n",
    "    b = iter(b)\n",
    "    return all(i in b for i in a)\n",
    "\n",
    "print(is_subsequence([1, 3, 5], [1, 2, 3, 4, 5]))\t# True\n",
    "print(is_subsequence([1, 4, 3], [1, 2, 3, 4, 5]))\t# False"
   ]
  },
  {
   "cell_type": "code",
   "execution_count": 15,
   "id": "add706ea",
   "metadata": {},
   "outputs": [
    {
     "name": "stdout",
     "output_type": "stream",
     "text": [
      "<list_iterator object at 0x0000024FEC08A490>\n",
      "<generator object is_subsequence.<locals>.<genexpr> at 0x0000024FED46F890>\n",
      "1\n",
      "3\n",
      "5\n",
      "<generator object is_subsequence.<locals>.<genexpr> at 0x0000024FED46FB30>\n",
      "True\n",
      "True\n",
      "True\n",
      "False\n",
      "\n",
      "<list_iterator object at 0x0000024FEC08A460>\n",
      "<generator object is_subsequence.<locals>.<genexpr> at 0x0000024FED46FB30>\n",
      "1\n",
      "4\n",
      "3\n",
      "<generator object is_subsequence.<locals>.<genexpr> at 0x0000024FED46F890>\n",
      "True\n",
      "True\n",
      "False\n",
      "False\n"
     ]
    }
   ],
   "source": [
    "def is_subsequence(a, b):\n",
    "    b = iter(b)\n",
    "    print(b)\n",
    "    \n",
    "    gen = (i for i in a)\n",
    "    print(gen)\n",
    "    for i in gen:\n",
    "        print(i)\n",
    "        \n",
    "    gen = ((i in b) for i in a)\n",
    "    print(gen)\n",
    "    for i in gen:\n",
    "        print(i)\n",
    "        \n",
    "    return all(((i in b) for i in a))\n",
    "\n",
    "print(is_subsequence([1, 3, 5], [1, 2, 3, 4, 5]))\n",
    "print()\n",
    "print(is_subsequence([1, 4, 3], [1, 2, 3, 4, 5]))"
   ]
  },
  {
   "cell_type": "code",
   "execution_count": 16,
   "id": "0508489a",
   "metadata": {},
   "outputs": [
    {
     "name": "stdout",
     "output_type": "stream",
     "text": [
      "True\n",
      "True\n",
      "False\n"
     ]
    }
   ],
   "source": [
    "b = (i for i in range(5))\n",
    "\n",
    "print(2 in b)\n",
    "print(4 in b)\n",
    "print(3 in b)"
   ]
  }
 ],
 "metadata": {
  "kernelspec": {
   "display_name": "Python [conda env:python3.11]",
   "language": "python",
   "name": "conda-env-python3.11-py"
  },
  "language_info": {
   "codemirror_mode": {
    "name": "ipython",
    "version": 3
   },
   "file_extension": ".py",
   "mimetype": "text/x-python",
   "name": "python",
   "nbconvert_exporter": "python",
   "pygments_lexer": "ipython3",
   "version": "3.11.0"
  },
  "toc": {
   "base_numbering": 1,
   "nav_menu": {},
   "number_sections": true,
   "sideBar": true,
   "skip_h1_title": false,
   "title_cell": "Table of Contents",
   "title_sidebar": "Contents",
   "toc_cell": false,
   "toc_position": {
    "height": "calc(100% - 180px)",
    "left": "10px",
    "top": "150px",
    "width": "384px"
   },
   "toc_section_display": true,
   "toc_window_display": true
  },
  "varInspector": {
   "cols": {
    "lenName": 16,
    "lenType": 16,
    "lenVar": 40
   },
   "kernels_config": {
    "python": {
     "delete_cmd_postfix": "",
     "delete_cmd_prefix": "del ",
     "library": "var_list.py",
     "varRefreshCmd": "print(var_dic_list())"
    },
    "r": {
     "delete_cmd_postfix": ") ",
     "delete_cmd_prefix": "rm(",
     "library": "var_list.r",
     "varRefreshCmd": "cat(var_dic_list()) "
    }
   },
   "types_to_exclude": [
    "module",
    "function",
    "builtin_function_or_method",
    "instance",
    "_Feature"
   ],
   "window_display": false
  }
 },
 "nbformat": 4,
 "nbformat_minor": 5
}
