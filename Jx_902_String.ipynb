{
 "cells": [
  {
   "cell_type": "markdown",
   "metadata": {},
   "source": [
    "# 字符串输出问题"
   ]
  },
  {
   "cell_type": "code",
   "execution_count": null,
   "metadata": {},
   "outputs": [],
   "source": [
    "\"\"\"字符串输出问题\"\"\"\n",
    "# # 如果想输出: Let's go!\n",
    "# print('let\\'s go!')  # 采用 \\' 转义符输出\n",
    "# print(\"let's go!\")  # 采用 \" ' \" 来显示出 '\n",
    "# # 如果想输出: C:\\now\n",
    "# print('C:\\now')  # \\n 是换行的意思 是无法输出正确结果的\n",
    "# print(r'C:\\now')  # r'' 前缀：原始字符串\n",
    "# # print(r'C:\\now\\')  # 原始字符串的结尾加 \\ ，是会报错的，是不行的\n",
    "# print(r'C:\\now'+'\\\\')  # 只有这样才能在结尾加上 \\\n",
    "# # 三重引号字符串\n",
    "# print('''一首小诗''')  # 三重引号可以输出很多段的内容\n",
    "'''-----------------------------------------------------------------------------------'''"
   ]
  },
  {
   "cell_type": "code",
   "execution_count": null,
   "metadata": {},
   "outputs": [],
   "source": [
    "\"\"\"\n",
    "Python split() 通过指定分隔符对字符串进行切片，\n",
    "如果参数 num 有指定值，则分隔 num+1 个子字符串\n",
    "\n",
    "str.split(str=\"\", num=string.count(str))\n",
    "参数\n",
    "str -- 分隔符，默认为所有的空字符，包括空格、换行(\\n)、制表符(\\t)等。\n",
    "num -- 分割次数。默认为 -1, 即分隔所有。\n",
    "返回值\n",
    "返回分割后的字符串列表。\n",
    "\"\"\"\n",
    "# str_2 = \"Line1-abcdef \\nLine2-abc \\nLine4-abcd\"\n",
    "# print(str_2.split())        # 以空格为分隔符，包含 \\n\n",
    "# print(str_2.split(' ', 1))  # 以空格为分隔符，分隔成两个\n",
    "\"\"\"\n",
    "['Line1-abcdef', 'Line2-abc', 'Line4-abcd']\n",
    "['Line1-abcdef', '\\nLine2-abc \\nLine4-abcd']\n",
    "\"\"\"\n",
    "# txt = \"Google#Runoob#Taobao#Facebook\"\n",
    "# 第二个参数为 1，返回两个参数列表\n",
    "# x = txt.split(\"#\", 1)\n",
    "# print(x)\n",
    "\"\"\"\n",
    "['Google', 'Runoob#Taobao#Facebook']\n",
    "\"\"\""
   ]
  },
  {
   "cell_type": "markdown",
   "metadata": {},
   "source": [
    "# Python转义字符\n",
    "\n",
    "**列举一些常用不好记的**\n",
    "\n",
    "- ```\\v``` 纵向制表符"
   ]
  },
  {
   "cell_type": "code",
   "execution_count": 5,
   "metadata": {},
   "outputs": [
    {
     "name": "stdout",
     "output_type": "stream",
     "text": [
      "Hello \u000b",
      " World!\n"
     ]
    }
   ],
   "source": [
    "print(\"Hello \\v World!\")  # 纵向制表符（按道理说应该会换行...）"
   ]
  },
  {
   "cell_type": "markdown",
   "metadata": {},
   "source": [
    "# strip()\n",
    "- **str.strip([chars]);**\n",
    "- **chars -- 移除字符串头尾指定的字符序列**"
   ]
  },
  {
   "cell_type": "code",
   "execution_count": 1,
   "metadata": {},
   "outputs": [
    {
     "name": "stdout",
     "output_type": "stream",
     "text": [
      "this is **string** example....wow!!!\n",
      "3abcrunoob3\n"
     ]
    }
   ],
   "source": [
    "str_300 = \"*****this is **string** example....wow!!!*****\"\n",
    "print(str_300.strip('*'))  # 指定字符串 *\n",
    "str_301 = \"123abcrunoob321\"\n",
    "print(str_301.strip('12'))  # 字符序列为 12\n",
    "# 只要头尾包含有指定字符序列中的字符就删除"
   ]
  }
 ],
 "metadata": {
  "kernelspec": {
   "display_name": "base",
   "language": "python",
   "name": "base"
  },
  "language_info": {
   "codemirror_mode": {
    "name": "ipython",
    "version": 3
   },
   "file_extension": ".py",
   "mimetype": "text/x-python",
   "name": "python",
   "nbconvert_exporter": "python",
   "pygments_lexer": "ipython3",
   "version": "3.8.3"
  },
  "toc": {
   "base_numbering": 1,
   "nav_menu": {},
   "number_sections": true,
   "sideBar": true,
   "skip_h1_title": false,
   "title_cell": "Table of Contents",
   "title_sidebar": "Contents",
   "toc_cell": false,
   "toc_position": {},
   "toc_section_display": true,
   "toc_window_display": true
  },
  "varInspector": {
   "cols": {
    "lenName": 16,
    "lenType": 16,
    "lenVar": 40
   },
   "kernels_config": {
    "python": {
     "delete_cmd_postfix": "",
     "delete_cmd_prefix": "del ",
     "library": "var_list.py",
     "varRefreshCmd": "print(var_dic_list())"
    },
    "r": {
     "delete_cmd_postfix": ") ",
     "delete_cmd_prefix": "rm(",
     "library": "var_list.r",
     "varRefreshCmd": "cat(var_dic_list()) "
    }
   },
   "types_to_exclude": [
    "module",
    "function",
    "builtin_function_or_method",
    "instance",
    "_Feature"
   ],
   "window_display": false
  }
 },
 "nbformat": 4,
 "nbformat_minor": 4
}
