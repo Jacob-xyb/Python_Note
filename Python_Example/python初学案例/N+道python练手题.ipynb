{
 "cells": [
  {
   "cell_type": "markdown",
   "metadata": {},
   "source": [
    "# 100道python练手题\n",
    "\n",
    "- [原始链接](https://github.com/RichardFu123/Python100Cases)\n",
    "\n",
    "- 以下是本人重写版："
   ]
  },
  {
   "cell_type": "markdown",
   "metadata": {},
   "source": [
    "## 实例001：数字组合\n",
    "\n",
    "**题目：**有四个数字：1、2、3、4，能组成多少个互不相同且无重复数字的三位数？各是多少？\n",
    "\n",
    "**程序分析：**遍历全部可能，把有重复的剃掉。"
   ]
  },
  {
   "cell_type": "code",
   "execution_count": 23,
   "metadata": {},
   "outputs": [
    {
     "name": "stdout",
     "output_type": "stream",
     "text": [
      "24\n"
     ]
    }
   ],
   "source": [
    "import math\n",
    "\n",
    "\n",
    "def num_combine(num):\n",
    "    total = math.factorial(num)\n",
    "    res = []\n",
    "    for i in range(1, num + 1):\n",
    "        for j in range(1, num + 1):\n",
    "            for k in range(1, num + 1):\n",
    "                if ((i != j) and (j != k) and (k != i)):\n",
    "                    res.append((i, j, k))\n",
    "\n",
    "    return total, res\n",
    "\n",
    "\n",
    "print(num_combine(4)[0])"
   ]
  },
  {
   "cell_type": "markdown",
   "metadata": {},
   "source": [
    "**简便方法：**用itertools中的permutations即可。"
   ]
  },
  {
   "cell_type": "code",
   "execution_count": 3,
   "metadata": {},
   "outputs": [
    {
     "name": "stdout",
     "output_type": "stream",
     "text": [
      "24\n"
     ]
    }
   ],
   "source": [
    "def num_combine(num):\n",
    "    import itertools\n",
    "    nlist = [i for i in range(1,num+1)]\n",
    "    res = []\n",
    "    count = 0\n",
    "    total = itertools.permutations(nlist, 3)\n",
    "    for i in total:\n",
    "        res.append(i)\n",
    "        count += 1\n",
    "    return count, res\n",
    "\n",
    "print(num_combine(4)[0])"
   ]
  },
  {
   "cell_type": "markdown",
   "metadata": {},
   "source": [
    "## 实例002：“个税计算”\n",
    "\n",
    "**题目：**企业发放的奖金根据利润提成。利润(I)低于或等于10万元时，奖金可提10%；利润高于10万元，低于20万元时，低于10万元的部分按10%提成，高于10万元的部分，可提成7.5%；20万到40万之间时，高于20万元的部分，可提成5%；40万到60万之间时高于40万元的部分，可提成3%；60万到100万之间时，高于60万元的部分，可提成1.5%，高于100万元时，超过100万元的部分按1%提成，从键盘输入当月利润I，求应发放奖金总数？\n",
    "\n",
    "**程序分析：**分区间计算即可。\n",
    "\n",
    "- 感觉题目出的别扭，利润越高，提成越低。"
   ]
  },
  {
   "cell_type": "code",
   "execution_count": 6,
   "metadata": {},
   "outputs": [
    {
     "name": "stdout",
     "output_type": "stream",
     "text": [
      "Show me the money: 200000\n",
      "17500.0\n"
     ]
    }
   ],
   "source": [
    "profit=int(input('Show me the money: '))\n",
    "bonus=0\n",
    "thresholds=[10*10**4,10*10**4,20*10**4,20*10**4,40*10**4]\n",
    "rates=[0.1,0.075,0.05,0.03,0.015,0.01]\n",
    "for i in range(len(thresholds)):\n",
    "    if profit<=thresholds[i]:\n",
    "        bonus+=profit*rates[i]\n",
    "        profit=0\n",
    "        break\n",
    "    else:\n",
    "        bonus+=thresholds[i]*rates[i]\n",
    "        profit-=thresholds[i]\n",
    "bonus+=profit*rates[-1]\n",
    "print(bonus)"
   ]
  },
  {
   "cell_type": "markdown",
   "metadata": {},
   "source": [
    "## 实例003：完全平方数\n",
    "\n",
    "**题目：**一个整数，它加上100后是一个完全平方数，再加上168又是一个完全平方数，请问该数是多少？\n",
    "\n",
    "__程序分析：设该数为x，第一个完全平方数为m,第二个完全平方数为n，即:__ ```m**2=x+100 and n**2=x+268```\n",
    "\n",
    "- 我没看懂原链接的代码...（我太菜了吧）"
   ]
  },
  {
   "cell_type": "code",
   "execution_count": 12,
   "metadata": {},
   "outputs": [
    {
     "name": "stdout",
     "output_type": "stream",
     "text": [
      "21\n"
     ]
    }
   ],
   "source": [
    "n = 0\n",
    "while n < 10000:\n",
    "    if (n+100)**0.5 == int((n+100)**0.5) \\\n",
    "    and (n+268)**0.5 == int((n+268)**0.5):\n",
    "        break\n",
    "    n += 1\n",
    "print(n)"
   ]
  },
  {
   "cell_type": "markdown",
   "metadata": {},
   "source": [
    "## 实例004：这天第几天\n",
    "\n",
    "**题目：**输入某年某月某日，判断这一天是这一年的第几天？\n",
    "\n",
    "**程序分析：**特殊情况，闰年时需考虑二月多加一天：\n",
    "\n",
    "- 科普：\n",
    "\n",
    "1582年以来的置闰规则：  \n",
    "普通闰年：公历年份是4的倍数，且不是100的倍数的，为闰年（如2004年、2020年等就是闰年）。  \n",
    "世纪闰年：公历年份是整百数的，必须是400的倍数才是闰年（如1900年不是闰年，2000年是闰年）。  "
   ]
  },
  {
   "cell_type": "code",
   "execution_count": 10,
   "metadata": {
    "scrolled": true
   },
   "outputs": [
    {
     "name": "stdout",
     "output_type": "stream",
     "text": [
      "请输入：年-月-日(请用\"-\"隔开)\n",
      "您的出生年月日是:2020-05-20\n"
     ]
    },
    {
     "data": {
      "text/plain": [
       "141"
      ]
     },
     "execution_count": 10,
     "metadata": {},
     "output_type": "execute_result"
    }
   ],
   "source": [
    "def whatsDay():\n",
    "    date = input(\"请输入：年-月-日(请用\\\"-\\\"隔开)\\n您的出生年月日是:\")\n",
    "    # date = \"2000-2-14\"\n",
    "    nlist = date.split(\"-\")\n",
    "    mlist = [31, 28, 31, 30, 31, 30, 31, 31, 30, 31, 30, 0]\n",
    "    year, month, day = int(nlist[0]), int(nlist[1]), int(nlist[2])\n",
    "    if month > 2:\n",
    "        if (year%4==0 and year%100!=0) \\\n",
    "        or year%400 == 0:\n",
    "            mlist[1] += 1\n",
    "    mlist[-1] = sum(mlist[:month - 1]) + day\n",
    "    return mlist[-1]\n",
    "\n",
    "\n",
    "whatsDay()"
   ]
  }
 ],
 "metadata": {
  "kernelspec": {
   "display_name": "Python 3",
   "language": "python",
   "name": "python3"
  },
  "language_info": {
   "codemirror_mode": {
    "name": "ipython",
    "version": 3
   },
   "file_extension": ".py",
   "mimetype": "text/x-python",
   "name": "python",
   "nbconvert_exporter": "python",
   "pygments_lexer": "ipython3",
   "version": "3.8.3"
  },
  "toc": {
   "base_numbering": 1,
   "nav_menu": {},
   "number_sections": true,
   "sideBar": true,
   "skip_h1_title": false,
   "title_cell": "Table of Contents",
   "title_sidebar": "Contents",
   "toc_cell": false,
   "toc_position": {},
   "toc_section_display": true,
   "toc_window_display": false
  },
  "varInspector": {
   "cols": {
    "lenName": 16,
    "lenType": 16,
    "lenVar": 40
   },
   "kernels_config": {
    "python": {
     "delete_cmd_postfix": "",
     "delete_cmd_prefix": "del ",
     "library": "var_list.py",
     "varRefreshCmd": "print(var_dic_list())"
    },
    "r": {
     "delete_cmd_postfix": ") ",
     "delete_cmd_prefix": "rm(",
     "library": "var_list.r",
     "varRefreshCmd": "cat(var_dic_list()) "
    }
   },
   "position": {
    "height": "226px",
    "left": "1569px",
    "right": "20px",
    "top": "120px",
    "width": "331px"
   },
   "types_to_exclude": [
    "module",
    "function",
    "builtin_function_or_method",
    "instance",
    "_Feature"
   ],
   "window_display": true
  }
 },
 "nbformat": 4,
 "nbformat_minor": 4
}
