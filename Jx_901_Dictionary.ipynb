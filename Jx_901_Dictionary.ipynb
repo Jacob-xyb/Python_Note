{
 "cells": [
  {
   "cell_type": "markdown",
   "metadata": {},
   "source": [
    "# Dictionary\n"
   ]
  },
  {
   "cell_type": "markdown",
   "metadata": {},
   "source": [
    "## object"
   ]
  },
  {
   "cell_type": "code",
   "execution_count": 2,
   "metadata": {},
   "outputs": [
    {
     "name": "stdout",
     "output_type": "stream",
     "text": [
      "{}\n"
     ]
    }
   ],
   "source": [
    "dict = {}  # Create an empty dictionary\n",
    "print(dict)"
   ]
  },
  {
   "cell_type": "code",
   "execution_count": 4,
   "metadata": {},
   "outputs": [
    {
     "name": "stdout",
     "output_type": "stream",
     "text": [
      "{'one': '1 - hello,world'}\n"
     ]
    }
   ],
   "source": [
    "dict['one'] = \"1 - hello,world\"  # Create a value with a key of 'one'\n",
    "print(dict)"
   ]
  },
  {
   "cell_type": "code",
   "execution_count": 6,
   "metadata": {},
   "outputs": [
    {
     "name": "stdout",
     "output_type": "stream",
     "text": [
      "{'one': '1 - hello,world', 2: '2 - 嘿嘿'}\n"
     ]
    }
   ],
   "source": [
    "dict[2] = \"2 - 嘿嘿\"  # Create a value with a key of 2\n",
    "print(dict)"
   ]
  },
  {
   "cell_type": "markdown",
   "metadata": {},
   "source": [
    "## dict()\n",
    "\n",
    "- dict()将包含双值子序列的序列转换成字典。"
   ]
  },
  {
   "cell_type": "code",
   "execution_count": 2,
   "metadata": {},
   "outputs": [
    {
     "name": "stdout",
     "output_type": "stream",
     "text": [
      "{'a': 'b', 'c': 'd', 'e': 'f'}\n"
     ]
    }
   ],
   "source": [
    "lol = [['a','b'],['c','d'],['e','f']]\n",
    "print(dict(lol))"
   ]
  },
  {
   "cell_type": "markdown",
   "metadata": {},
   "source": [
    "## items()\n",
    "\n",
    "- 描述\n",
    "\n",
    "    - Python 字典 items() 方法以列表返回可遍历的(键, 值) 元组数组。\n",
    "- 语法： \n",
    "\n",
    "    - ```dict.items()``` 参数：NA\n",
    "\n",
    "- 返回值：\n",
    "\n",
    "    - 返回可遍历的(键, 值) 元组数组。"
   ]
  },
  {
   "cell_type": "code",
   "execution_count": 20,
   "metadata": {},
   "outputs": [
    {
     "name": "stdout",
     "output_type": "stream",
     "text": [
      "dict_items([('a', 8), ('c', 10), ('b', 2)])\n"
     ]
    }
   ],
   "source": [
    "numdict = {'a': 8, 'c': 10, 'b': 2}\n",
    "print(numdict.items())"
   ]
  },
  {
   "cell_type": "markdown",
   "metadata": {},
   "source": [
    "- 可以将字典的键值组成一个新的列表"
   ]
  },
  {
   "cell_type": "code",
   "execution_count": 22,
   "metadata": {},
   "outputs": [
    {
     "name": "stdout",
     "output_type": "stream",
     "text": [
      "['a', 8, 'c', 10, 'b', 2]\n"
     ]
    }
   ],
   "source": [
    "numdict = {'a': 8, 'c': 10, 'b': 2}\n",
    "res = []\n",
    "for key,value in numdict.items():\n",
    "    res.append(key)\n",
    "    res.append(value)\n",
    "print(res)"
   ]
  },
  {
   "cell_type": "markdown",
   "metadata": {},
   "source": [
    "## get()\n",
    "\n",
    "- 描述\n",
    "\n",
    "    - Python 字典 get() 函数返回指定键的值。\n",
    "- 语法\n",
    "\n",
    "    - ```dict.get(key, default=None)```\n",
    "    \n",
    "- 参数\n",
    "\n",
    "    - key -- 字典中要查找的键。\n",
    "    - default -- 如果指定的键不存在时，返回该默认值。\n",
    "\n",
    "- 返回值：\n",
    "\n",
    "    - 返回可遍历的(键, 值) 元组数组。"
   ]
  },
  {
   "cell_type": "code",
   "execution_count": 16,
   "metadata": {},
   "outputs": [
    {
     "name": "stdout",
     "output_type": "stream",
     "text": [
      "Age 值为 : 27\n",
      "Sex 值为 : NA\n",
      "Height 值为：180\n"
     ]
    }
   ],
   "source": [
    "dict = {'Name': 'Runoob', 'Age': 27}\n",
    "\n",
    "print(\"Age 值为 : %s\" %  dict.get('Age'))\n",
    "print(\"Sex 值为 : %s\" %  dict.get('Sex', \"NA\"))\n",
    "print(\"Height 值为：%s\" % dict.get('Height', \"180\"))"
   ]
  },
  {
   "cell_type": "code",
   "execution_count": 26,
   "metadata": {},
   "outputs": [
    {
     "name": "stdout",
     "output_type": "stream",
     "text": [
      "一年后 Age值为：28\n"
     ]
    }
   ],
   "source": [
    "dict = {'Name': 'Runoob', 'Age': 27}\n",
    "\n",
    "print(\"一年后 Age值为：%s\" % (dict.get('Age') + 1))"
   ]
  },
  {
   "cell_type": "markdown",
   "metadata": {},
   "source": [
    "## # index"
   ]
  },
  {
   "cell_type": "code",
   "execution_count": 1,
   "metadata": {},
   "outputs": [
    {
     "name": "stdout",
     "output_type": "stream",
     "text": [
      "[0.01, 0.025, 0.05, 0.1, 0.2]\n",
      "0.01\n",
      "dict_keys(['TP', 'TN']) <class 'dict_keys'>\n",
      "dict_values([[0.01, 0.025, 0.05, 0.1, 0.2], [0.2, 0.5, 1.0, 1.5, 2.0]]) <class 'dict_values'>\n"
     ]
    }
   ],
   "source": [
    "surface_tar = {'TP': [0.01, 0.025, 0.05, 0.1, 0.2],\n",
    "               'TN': [0.2, 0.5, 1.0, 1.5, 2.0]}\n",
    "print(surface_tar['TP'])  # Output the value with a key of 'TP' # list\n",
    "print(surface_tar['TP'][0])  # Output a value\n",
    "print(surface_tar.keys(),type(surface_tar.keys()))  # Output all keys\n",
    "print(surface_tar.values(),type(surface_tar.values()))  # Output all values"
   ]
  },
  {
   "cell_type": "markdown",
   "metadata": {},
   "source": [
    "## sorted()\n",
    "\n",
    "- sorted()会返回排好序的列表副本，原列表内容不变。\n",
    "\n",
    "- 对于字典而言：依据字典的key进行排序，返回key的排序结果"
   ]
  },
  {
   "cell_type": "code",
   "execution_count": 14,
   "metadata": {
    "scrolled": true
   },
   "outputs": [
    {
     "name": "stdout",
     "output_type": "stream",
     "text": [
      "['a', 'b', 'c']\n"
     ]
    }
   ],
   "source": [
    "numdict = {'a': 8, 'c': 10, 'b': 2}\n",
    "res = sorted(numdict)\n",
    "print(res)"
   ]
  },
  {
   "cell_type": "markdown",
   "metadata": {},
   "source": [
    "## u need konw"
   ]
  },
  {
   "cell_type": "markdown",
   "metadata": {},
   "source": [
    "- 如何根据值找键"
   ]
  },
  {
   "cell_type": "code",
   "execution_count": 18,
   "metadata": {},
   "outputs": [],
   "source": [
    "numdict = {'a': 8, 'c': 10, 'b': 2}\n",
    "key_list = []\n",
    "value_list = []\n",
    "for key,value in numdict.items():\n",
    "    key_list.append(key)\n",
    "    value_list.append(value)\n"
   ]
  },
  {
   "cell_type": "markdown",
   "metadata": {},
   "source": [
    "- 判断键值是否存在"
   ]
  },
  {
   "cell_type": "code",
   "execution_count": 13,
   "metadata": {},
   "outputs": [
    {
     "name": "stdout",
     "output_type": "stream",
     "text": [
      "1\n"
     ]
    }
   ],
   "source": [
    "numdict = {'a': 8, 'c': 10, 'b': 2}\n",
    "if \"d\" not in numdict:\n",
    "    print('1')"
   ]
  }
 ],
 "metadata": {
  "kernelspec": {
   "display_name": "base",
   "language": "python",
   "name": "base"
  },
  "language_info": {
   "codemirror_mode": {
    "name": "ipython",
    "version": 3
   },
   "file_extension": ".py",
   "mimetype": "text/x-python",
   "name": "python",
   "nbconvert_exporter": "python",
   "pygments_lexer": "ipython3",
   "version": "3.8.3"
  },
  "toc": {
   "base_numbering": 1,
   "nav_menu": {},
   "number_sections": true,
   "sideBar": true,
   "skip_h1_title": false,
   "title_cell": "Table of Contents",
   "title_sidebar": "Contents",
   "toc_cell": false,
   "toc_position": {},
   "toc_section_display": true,
   "toc_window_display": true
  },
  "varInspector": {
   "cols": {
    "lenName": 16,
    "lenType": 16,
    "lenVar": 40
   },
   "kernels_config": {
    "python": {
     "delete_cmd_postfix": "",
     "delete_cmd_prefix": "del ",
     "library": "var_list.py",
     "varRefreshCmd": "print(var_dic_list())"
    },
    "r": {
     "delete_cmd_postfix": ") ",
     "delete_cmd_prefix": "rm(",
     "library": "var_list.r",
     "varRefreshCmd": "cat(var_dic_list()) "
    }
   },
   "position": {
    "height": "377.727px",
    "left": "1375.45px",
    "right": "20px",
    "top": "120px",
    "width": "350px"
   },
   "types_to_exclude": [
    "module",
    "function",
    "builtin_function_or_method",
    "instance",
    "_Feature"
   ],
   "window_display": true
  }
 },
 "nbformat": 4,
 "nbformat_minor": 4
}
