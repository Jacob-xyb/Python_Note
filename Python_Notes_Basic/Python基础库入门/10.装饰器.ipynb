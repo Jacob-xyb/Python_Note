{
 "cells": [
  {
   "cell_type": "markdown",
   "id": "9c0a58a7",
   "metadata": {},
   "source": [
    "# 装饰器"
   ]
  },
  {
   "cell_type": "markdown",
   "id": "2652cb74",
   "metadata": {},
   "source": [
    "## 带参数的装饰器"
   ]
  },
  {
   "cell_type": "code",
   "execution_count": 2,
   "id": "63f3617a",
   "metadata": {},
   "outputs": [
    {
     "name": "stdout",
     "output_type": "stream",
     "text": [
      "wrapper of decorator\n",
      "hello world\n"
     ]
    }
   ],
   "source": [
    "def my_decorator(func):\n",
    "    def wrapper(message):\n",
    "        print('wrapper of decorator')\n",
    "        func(message)\n",
    "    return wrapper\n",
    "\n",
    "@my_decorator\n",
    "def greet(message):\n",
    "\tprint(message)\n",
    "    \n",
    "greet('hello world')"
   ]
  },
  {
   "cell_type": "markdown",
   "id": "c54fd698",
   "metadata": {},
   "source": [
    "## 原函数还是原函数吗？"
   ]
  },
  {
   "cell_type": "code",
   "execution_count": 10,
   "id": "dfccbcd7",
   "metadata": {},
   "outputs": [
    {
     "name": "stdout",
     "output_type": "stream",
     "text": [
      "wrapper of decorator\n",
      "hello world\n",
      "wrapper of decorator\n",
      "hello world\n",
      "wrapper of decorator\n",
      "hello world\n",
      "wrapper of decorator\n",
      "hello world\n"
     ]
    }
   ],
   "source": [
    "def repeat(num):\n",
    "    def my_decorator(func):\n",
    "        def wrapper(*args, **kwargs):\n",
    "            for i in range(num):\n",
    "                print('wrapper of decorator')\n",
    "                func(*args, **kwargs)\n",
    "        return wrapper\n",
    "    return my_decorator\n",
    "\n",
    "@repeat(4)\n",
    "def greet(message):\n",
    "    print(message)\n",
    "    \n",
    "greet(\"hello world\")"
   ]
  },
  {
   "cell_type": "code",
   "execution_count": 11,
   "id": "bdfbdc4b",
   "metadata": {},
   "outputs": [
    {
     "data": {
      "text/plain": [
       "'wrapper'"
      ]
     },
     "execution_count": 11,
     "metadata": {},
     "output_type": "execute_result"
    }
   ],
   "source": [
    "print(greet.__name__)"
   ]
  },
  {
   "cell_type": "code",
   "execution_count": 37,
   "id": "054a051b",
   "metadata": {},
   "outputs": [
    {
     "name": "stdout",
     "output_type": "stream",
     "text": [
      "func1\n",
      "x\n",
      "wrapper1\n",
      "wrapper1\n",
      "hello world\n",
      "hello world\n"
     ]
    }
   ],
   "source": [
    "def func2(func):\n",
    "    print('x')\n",
    "    def wrapper1():\n",
    "        print('hello', end=\" \")\n",
    "        func()\n",
    "    return wrapper1\n",
    "\n",
    "# @func2\n",
    "def func1():\n",
    "    print('world')\n",
    "    \n",
    "    \n",
    "print(func1.__name__)\n",
    "\n",
    "x = func2(func1)\n",
    "\n",
    "print(x.__name__)\n",
    "\n",
    "y = x\n",
    "\n",
    "print(y.__name__)\n",
    "\n",
    "x()\n",
    "y()"
   ]
  },
  {
   "cell_type": "code",
   "execution_count": 34,
   "id": "c84db2b7",
   "metadata": {},
   "outputs": [
    {
     "name": "stdout",
     "output_type": "stream",
     "text": [
      "greet\n",
      "my_decorator\n"
     ]
    }
   ],
   "source": [
    "import functools\n",
    "\n",
    "def my_decorator(func):\n",
    "    @functools.wraps(func)\n",
    "    def wrapper(*args, **kwargs):\n",
    "        print('wrapper of decorator')\n",
    "        func(*args, **kwargs)\n",
    "    return wrapper\n",
    "\n",
    "@my_decorator\n",
    "def greet(message):\n",
    "    print(message)\n",
    "   \n",
    "print(greet.__name__)\t# greet\n",
    "print(my_decorator.__name__)"
   ]
  }
 ],
 "metadata": {
  "kernelspec": {
   "display_name": "Python 3 (ipykernel)",
   "language": "python",
   "name": "python3"
  },
  "language_info": {
   "codemirror_mode": {
    "name": "ipython",
    "version": 3
   },
   "file_extension": ".py",
   "mimetype": "text/x-python",
   "name": "python",
   "nbconvert_exporter": "python",
   "pygments_lexer": "ipython3",
   "version": "3.8.13"
  },
  "toc": {
   "base_numbering": 1,
   "nav_menu": {},
   "number_sections": true,
   "sideBar": true,
   "skip_h1_title": false,
   "title_cell": "Table of Contents",
   "title_sidebar": "Contents",
   "toc_cell": false,
   "toc_position": {},
   "toc_section_display": true,
   "toc_window_display": false
  },
  "varInspector": {
   "cols": {
    "lenName": 16,
    "lenType": 16,
    "lenVar": 40
   },
   "kernels_config": {
    "python": {
     "delete_cmd_postfix": "",
     "delete_cmd_prefix": "del ",
     "library": "var_list.py",
     "varRefreshCmd": "print(var_dic_list())"
    },
    "r": {
     "delete_cmd_postfix": ") ",
     "delete_cmd_prefix": "rm(",
     "library": "var_list.r",
     "varRefreshCmd": "cat(var_dic_list()) "
    }
   },
   "types_to_exclude": [
    "module",
    "function",
    "builtin_function_or_method",
    "instance",
    "_Feature"
   ],
   "window_display": false
  }
 },
 "nbformat": 4,
 "nbformat_minor": 5
}
