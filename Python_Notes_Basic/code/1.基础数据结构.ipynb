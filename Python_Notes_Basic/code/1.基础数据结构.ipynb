{
 "cells": [
  {
   "cell_type": "markdown",
   "id": "bba95804",
   "metadata": {},
   "source": [
    "# 基础数据结构"
   ]
  },
  {
   "cell_type": "markdown",
   "id": "3e548059",
   "metadata": {},
   "source": [
    "## 列表与元组"
   ]
  },
  {
   "cell_type": "code",
   "execution_count": 22,
   "id": "0c22816b",
   "metadata": {},
   "outputs": [
    {
     "name": "stdout",
     "output_type": "stream",
     "text": [
      "l.count(3): 2\n",
      "l.index(7): 3\n",
      "l.reverse(): [1, 8, 7, 3, 2, 3]\n",
      "l.sort(): [1, 2, 3, 3, 7, 8]\n",
      "reversed(l): <list_reverseiterator object at 0x000001F80DDB7B20>\n"
     ]
    }
   ],
   "source": [
    "l = [3, 2, 3, 7, 8, 1]\n",
    "print(\"l.count(3):\", l.count(3))\n",
    "print(\"l.index(7):\", l.index(7))\n",
    "l.reverse()\n",
    "print(\"l.reverse():\", l)\n",
    "l.sort()\n",
    "print(\"l.sort():\", l)\n",
    "print(\"reversed(l):\", reversed(l))"
   ]
  },
  {
   "cell_type": "code",
   "execution_count": 7,
   "id": "9800fa1b",
   "metadata": {
    "scrolled": true
   },
   "outputs": [
    {
     "name": "stdout",
     "output_type": "stream",
     "text": [
      "tup.count(3): 2\n",
      "tup.index(7): 3\n",
      "list(reversed(tup)): [1, 8, 7, 3, 2, 3]\n",
      "sorted(tup): [1, 2, 3, 3, 7, 8]\n"
     ]
    }
   ],
   "source": [
    "tup = (3, 2, 3, 7, 8, 1)\n",
    "print(\"tup.count(3):\", tup.count(3))\n",
    "print(\"tup.index(7):\", tup.index(7))\n",
    "print(\"list(reversed(tup)):\", list(reversed(tup)))\n",
    "print(\"sorted(tup):\", sorted(tup))"
   ]
  },
  {
   "cell_type": "markdown",
   "id": "26ea62ad",
   "metadata": {},
   "source": [
    "### 列表分析"
   ]
  },
  {
   "cell_type": "code",
   "execution_count": 28,
   "id": "3d0a7007",
   "metadata": {},
   "outputs": [
    {
     "name": "stdout",
     "output_type": "stream",
     "text": [
      "l1 = []: 40\n",
      "l1 = [1]: 72\n",
      "l1 = [1, 2]: 72\n",
      "l1 = [1, 2, 3, 4]: 72\n",
      "l1 = [1, 2, 3, 4， 5]: 104\n"
     ]
    },
    {
     "data": {
      "text/plain": [
       "104"
      ]
     },
     "execution_count": 28,
     "metadata": {},
     "output_type": "execute_result"
    }
   ],
   "source": [
    "l1 = []\n",
    "print(\"l1 = []:\", l1.__sizeof__())\n",
    "l1.append(1)\n",
    "print(\"l1 = [1]:\", l1.__sizeof__())  # 72；入了元素 1 之后，列表为其分配了可以存储 4 个元素的空间 (72 - 40)/8 = 4\n",
    "l1.append(2)\n",
    "print(\"l1 = [1, 2]:\", l1.__sizeof__())  # 72；由于之前分配了空间，所以加入元素 2，列表空间不变\n",
    "l1.append(3)\n",
    "l1.append(4)\n",
    "print(\"l1 = [1, 2, 3, 4]:\", l1.__sizeof__())  # 72；同上\n",
    "l1.append(5)\n",
    "print(\"l1 = [1, 2, 3, 4, 5]:\", l1.__sizeof__())  # 104；因为空间已经超过4个，所以列表又分配了 4 个元素的空间"
   ]
  },
  {
   "cell_type": "code",
   "execution_count": 33,
   "id": "e1a6bf79",
   "metadata": {
    "scrolled": true
   },
   "outputs": [
    {
     "name": "stdout",
     "output_type": "stream",
     "text": [
      "l2 = [1]: 48\n",
      "l2 = [1, 2]: 80\n"
     ]
    }
   ],
   "source": [
    "l2 = [1]\n",
    "print(\"l2 = [1]:\", l2.__sizeof__())  # 48；空列表占据40字节，一个元素占据8个字节，一共40+8=48个字节。\n",
    "l2.append(2)\n",
    "print(\"l2 = [1, 2]:\", l2.__sizeof__())  # 80；依旧是在原列表的基础上，分配了可以存储4个元素的空间"
   ]
  },
  {
   "cell_type": "markdown",
   "id": "339b78c0",
   "metadata": {},
   "source": [
    "### 元组分析"
   ]
  },
  {
   "cell_type": "code",
   "execution_count": 6,
   "id": "40650fe8",
   "metadata": {
    "scrolled": true
   },
   "outputs": [
    {
     "name": "stdout",
     "output_type": "stream",
     "text": [
      "t1 = (): 24\n",
      "t1 = (1): 28\n",
      "t1 = (1, 2): 40\n",
      "t1 = (1, 2, 3): 48\n",
      "t1 = (1, 2, 3, 4): 56\n",
      "t1 = (1, 2, 3, 4, 5): 64\n"
     ]
    }
   ],
   "source": [
    "# TODO：比较难理解\n",
    "t1 = ()\n",
    "print(\"t1 = ():\", t1.__sizeof__())\n",
    "t1 = (1)\n",
    "print(\"t1 = (1):\", t1.__sizeof__())\n",
    "t1 = (1, 2)\n",
    "print(\"t1 = (1, 2):\", t1.__sizeof__())\n",
    "t1 = (1, 2, 3)\n",
    "print(\"t1 = (1, 2, 3):\", t1.__sizeof__())\n",
    "t1 = (1, 2, 3, 4)\n",
    "print(\"t1 = (1, 2, 3, 4):\", t1.__sizeof__())\n",
    "t1 = (1, 2, 3, 4, 5)\n",
    "print(\"t1 = (1, 2, 3, 4, 5):\", t1.__sizeof__())"
   ]
  },
  {
   "cell_type": "markdown",
   "id": "e3119ba7",
   "metadata": {},
   "source": [
    "### 列表和元组的性能"
   ]
  },
  {
   "cell_type": "code",
   "execution_count": 27,
   "id": "88e9c093",
   "metadata": {},
   "outputs": [
    {
     "name": "stdout",
     "output_type": "stream",
     "text": [
      "11.2 ns ± 0.0243 ns per loop (mean ± std. dev. of 7 runs, 100,000,000 loops each)\n"
     ]
    }
   ],
   "source": [
    "timeit x=(1,2,3,4,5,6)"
   ]
  },
  {
   "cell_type": "code",
   "execution_count": 28,
   "id": "a560c8a0",
   "metadata": {
    "scrolled": true
   },
   "outputs": [
    {
     "name": "stdout",
     "output_type": "stream",
     "text": [
      "51.9 ns ± 0.191 ns per loop (mean ± std. dev. of 7 runs, 10,000,000 loops each)\n"
     ]
    }
   ],
   "source": [
    "timeit x=[1,2,3,4,5,6]"
   ]
  },
  {
   "cell_type": "markdown",
   "id": "57c86503",
   "metadata": {},
   "source": [
    "### 列表函数一览"
   ]
  },
  {
   "cell_type": "code",
   "execution_count": 2,
   "id": "a1e3a56d",
   "metadata": {},
   "outputs": [
    {
     "name": "stdout",
     "output_type": "stream",
     "text": [
      "[0, 1, 3, 4]\n"
     ]
    }
   ],
   "source": [
    "l = [0, 1, 2, 3, 4]\n",
    "del l[2]\n",
    "print(l)"
   ]
  },
  {
   "cell_type": "code",
   "execution_count": 3,
   "id": "93cc2c41",
   "metadata": {},
   "outputs": [
    {
     "data": {
      "text/plain": [
       "[0, 1, 2, 3, 4, 5]"
      ]
     },
     "execution_count": 3,
     "metadata": {},
     "output_type": "execute_result"
    }
   ],
   "source": [
    "# + 拼接列表\n",
    "l1 = [0, 1, 2]\n",
    "l2 = [3, 4, 5]\n",
    "l1 + l2"
   ]
  },
  {
   "cell_type": "code",
   "execution_count": 11,
   "id": "bc03e127",
   "metadata": {},
   "outputs": [
    {
     "data": {
      "text/plain": [
       "[3, 4, 5, [0, 1, 2], 3, 4, 5]"
      ]
     },
     "execution_count": 11,
     "metadata": {},
     "output_type": "execute_result"
    }
   ],
   "source": [
    "# + 拼接列表\n",
    "l1 = [[0, 1, 2]]\n",
    "l2 = [3, 4, 5]\n",
    "l2 + l1 + l2"
   ]
  },
  {
   "cell_type": "code",
   "execution_count": 18,
   "id": "a220cbe2",
   "metadata": {
    "scrolled": true
   },
   "outputs": [
    {
     "data": {
      "text/plain": [
       "[]"
      ]
     },
     "execution_count": 18,
     "metadata": {},
     "output_type": "execute_result"
    }
   ],
   "source": [
    "# [] * n\n",
    "l = [] * 5\n",
    "l"
   ]
  },
  {
   "cell_type": "code",
   "execution_count": 50,
   "id": "f9a0dca9",
   "metadata": {},
   "outputs": [
    {
     "name": "stdout",
     "output_type": "stream",
     "text": [
      "[1, 2, 3, 4, [5, 6, 7, 8]]\n",
      "[1, 2, 3, 4, [0, 6, 7, 8]]\n"
     ]
    }
   ],
   "source": [
    "# .extend()\n",
    "l1 = [1, 2, 3, 4]\n",
    "l2 = [[5, 6, 7, 8]]\n",
    "l1.extend(l2)\n",
    "print(l1)\n",
    "l2[0][0] = 0\n",
    "print(l1)"
   ]
  },
  {
   "cell_type": "code",
   "execution_count": 66,
   "id": "fcdd1df4",
   "metadata": {},
   "outputs": [
    {
     "data": {
      "text/plain": [
       "3"
      ]
     },
     "execution_count": 66,
     "metadata": {},
     "output_type": "execute_result"
    }
   ],
   "source": [
    "# list.index()\n",
    "l = [3, 2, 1, 3, 4]\n",
    "l.index(3, 1, 4)"
   ]
  },
  {
   "cell_type": "code",
   "execution_count": 74,
   "id": "a5c9d8af",
   "metadata": {},
   "outputs": [
    {
     "data": {
      "text/plain": [
       "[0, 1, 2, 9, 3]"
      ]
     },
     "execution_count": 74,
     "metadata": {},
     "output_type": "execute_result"
    }
   ],
   "source": [
    "# list.insert()\n",
    "l = [0, 1, 2, 3]\n",
    "l.insert(-1, 9)\n",
    "l"
   ]
  },
  {
   "cell_type": "code",
   "execution_count": 78,
   "id": "5844dead",
   "metadata": {},
   "outputs": [
    {
     "name": "stdout",
     "output_type": "stream",
     "text": [
      "3\n",
      "[0, 1, 2]\n"
     ]
    }
   ],
   "source": [
    "# list.pop()\n",
    "l = [0, 1, 2, 3]\n",
    "print(l.pop())\n",
    "print(l)"
   ]
  }
 ],
 "metadata": {
  "kernelspec": {
   "display_name": "Python 3 (ipykernel)",
   "language": "python",
   "name": "python3"
  },
  "language_info": {
   "codemirror_mode": {
    "name": "ipython",
    "version": 3
   },
   "file_extension": ".py",
   "mimetype": "text/x-python",
   "name": "python",
   "nbconvert_exporter": "python",
   "pygments_lexer": "ipython3",
   "version": "3.8.12"
  },
  "toc": {
   "base_numbering": 1,
   "nav_menu": {},
   "number_sections": true,
   "sideBar": false,
   "skip_h1_title": false,
   "title_cell": "Table of Contents",
   "title_sidebar": "Contents",
   "toc_cell": false,
   "toc_position": {
    "height": "932.5px",
    "left": "24px",
    "top": "91.93px",
    "width": "211.719px"
   },
   "toc_section_display": true,
   "toc_window_display": true
  },
  "varInspector": {
   "cols": {
    "lenName": 16,
    "lenType": 16,
    "lenVar": 40
   },
   "kernels_config": {
    "python": {
     "delete_cmd_postfix": "",
     "delete_cmd_prefix": "del ",
     "library": "var_list.py",
     "varRefreshCmd": "print(var_dic_list())"
    },
    "r": {
     "delete_cmd_postfix": ") ",
     "delete_cmd_prefix": "rm(",
     "library": "var_list.r",
     "varRefreshCmd": "cat(var_dic_list()) "
    }
   },
   "position": {
    "height": "550.352px",
    "left": "2038px",
    "right": "20px",
    "top": "99px",
    "width": "350px"
   },
   "types_to_exclude": [
    "module",
    "function",
    "builtin_function_or_method",
    "instance",
    "_Feature"
   ],
   "window_display": true
  }
 },
 "nbformat": 4,
 "nbformat_minor": 5
}
