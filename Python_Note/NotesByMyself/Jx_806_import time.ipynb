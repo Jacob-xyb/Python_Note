{
 "cells": [
  {
   "cell_type": "code",
   "execution_count": 15,
   "metadata": {},
   "outputs": [],
   "source": [
    "import time"
   ]
  },
  {
   "cell_type": "markdown",
   "metadata": {},
   "source": [
    "# time()"
   ]
  },
  {
   "cell_type": "markdown",
   "metadata": {},
   "source": [
    "## 获取时间"
   ]
  },
  {
   "cell_type": "markdown",
   "metadata": {},
   "source": [
    "### time.time()\n",
    "\n",
    "获取当前时间戳，即计算机内部时间值，浮点数"
   ]
  },
  {
   "cell_type": "code",
   "execution_count": 5,
   "metadata": {},
   "outputs": [
    {
     "data": {
      "text/plain": [
       "1646708195.5627232"
      ]
     },
     "execution_count": 5,
     "metadata": {},
     "output_type": "execute_result"
    }
   ],
   "source": [
    "time.time()"
   ]
  },
  {
   "cell_type": "markdown",
   "metadata": {},
   "source": [
    "### time.ctime()\n",
    "\n",
    "获取当前时间并以易读方式表示，返回字符串"
   ]
  },
  {
   "cell_type": "code",
   "execution_count": 7,
   "metadata": {},
   "outputs": [
    {
     "data": {
      "text/plain": [
       "'Tue Mar  8 10:59:25 2022'"
      ]
     },
     "execution_count": 7,
     "metadata": {},
     "output_type": "execute_result"
    }
   ],
   "source": [
    "time.ctime()"
   ]
  },
  {
   "cell_type": "markdown",
   "metadata": {},
   "source": [
    "### time.gmtime()\n",
    "\n",
    "获取当前时间，表示为计算机可处理的时间格式"
   ]
  },
  {
   "cell_type": "code",
   "execution_count": 13,
   "metadata": {},
   "outputs": [
    {
     "data": {
      "text/plain": [
       "time.struct_time(tm_year=2022, tm_mon=3, tm_mday=8, tm_hour=3, tm_min=11, tm_sec=26, tm_wday=1, tm_yday=67, tm_isdst=0)"
      ]
     },
     "execution_count": 13,
     "metadata": {},
     "output_type": "execute_result"
    }
   ],
   "source": [
    "time.gmtime()"
   ]
  },
  {
   "cell_type": "markdown",
   "metadata": {},
   "source": [
    "## 时间格式化"
   ]
  },
  {
   "cell_type": "markdown",
   "metadata": {},
   "source": [
    "### time.strftime(tpl,ts)\n",
    "\n",
    "tpl是格式化模板字符串，用来定义输出效果；ts是计算机内部时间类型变量\n",
    "\n",
    "![](https://img2020.cnblogs.com/blog/1423899/202004/1423899-20200410135538157-26457670.png)\n",
    "\n",
    "![](https://img2020.cnblogs.com/blog/1423899/202004/1423899-20200410135555314-1136175802.png)"
   ]
  },
  {
   "cell_type": "code",
   "execution_count": 26,
   "metadata": {},
   "outputs": [
    {
     "data": {
      "text/plain": [
       "'2022-03-08  03:12:52'"
      ]
     },
     "execution_count": 26,
     "metadata": {},
     "output_type": "execute_result"
    }
   ],
   "source": [
    "t = time.gmtime()\n",
    "time.strftime(\"%Y-%m-%d  %H:%M:%S\", t)"
   ]
  },
  {
   "cell_type": "markdown",
   "metadata": {},
   "source": [
    "### time.strptime(str,tpl)\n",
    "\n",
    "str是字符串形式的时间值；tpl是格式化模板字符串，用来定义输入效果"
   ]
  },
  {
   "cell_type": "code",
   "execution_count": 11,
   "metadata": {},
   "outputs": [
    {
     "data": {
      "text/plain": [
       "time.struct_time(tm_year=2018, tm_mon=1, tm_mday=26, tm_hour=12, tm_min=55, tm_sec=20, tm_wday=4, tm_yday=26, tm_isdst=-1)"
      ]
     },
     "execution_count": 11,
     "metadata": {},
     "output_type": "execute_result"
    }
   ],
   "source": [
    "timeStr = '2018-01-26 12:55:20'\n",
    "time.strptime(timeStr, \"%Y-%m-%d  %H:%M:%S\")"
   ]
  },
  {
   "cell_type": "markdown",
   "metadata": {},
   "source": [
    "## 程序计时"
   ]
  },
  {
   "cell_type": "markdown",
   "metadata": {},
   "source": [
    "### time.perf_counter()\n",
    "\n",
    "- __Python 3.8 已移除 clock() 方法 可以使用 time.perf_counter() 或 time.process_time() 方法替代。__\n",
    "\n",
    "---\n",
    "\n",
    "- 以浮点数计算的秒数返回当前的CPU时间。用来衡量不同程序的耗时，比time.time()更有用。\n",
    "\n",
    "这个需要注意，在不同的系统上含义不同。在UNIX系统上，它返回的是\"进程时间\"，它是用秒表示的浮点数（时间戳）。而在WINDOWS中，第一次调用，返回的是进程运行的实际时间。而第二次之后的调用是自第一次调用以后到现在的运行时间。（实际上是以WIN32上QueryPerformanceCounter()为基础，它比毫秒表示更为精确）\n",
    "\n",
    "在win32系统下，这个函数返回的是真实时间（wall time），而在Unix/Linux下返回的是CPU时间。"
   ]
  },
  {
   "cell_type": "code",
   "execution_count": 6,
   "metadata": {},
   "outputs": [
    {
     "name": "stdout",
     "output_type": "stream",
     "text": [
      "2.5000456000000213 seconds perfer time\n",
      "0.0 seconds process time\n",
      "2.5125014781951904 seconds wall time\n"
     ]
    }
   ],
   "source": [
    "import time\n",
    "\n",
    "def procedure():\n",
    "    time.sleep(2.5)\n",
    "\n",
    "# measure perfer time\n",
    "t0 = time.perf_counter()\n",
    "procedure()\n",
    "print (time.perf_counter() - t0, \"seconds perfer time\")\n",
    "\n",
    "# measure process time \n",
    "t0 = time.process_time()\n",
    "procedure()\n",
    "print (time.process_time() - t0, \"seconds process time\")\n",
    "\n",
    "# measure wall time\n",
    "t0 = time.time()\n",
    "procedure()\n",
    "print (time.time() - t0, \"seconds wall time\")"
   ]
  },
  {
   "cell_type": "markdown",
   "metadata": {},
   "source": [
    "### time.sleep()\n",
    "\n",
    "s拟休眠的时间，单位是秒，可以是浮点数\n",
    "\n",
    "`time.sleep(3.3) # 程序将等待3.3秒`"
   ]
  },
  {
   "cell_type": "markdown",
   "metadata": {},
   "source": [
    "## 小案例"
   ]
  },
  {
   "cell_type": "code",
   "execution_count": 4,
   "metadata": {},
   "outputs": [
    {
     "name": "stdout",
     "output_type": "stream",
     "text": [
      "concat 0.929149 seconds\n",
      "\n",
      "append 0.054986 seconds\n",
      "\n",
      "comprehension 0.028441 seconds\n",
      "\n",
      "list range 0.008794 seconds\n",
      "\n"
     ]
    }
   ],
   "source": [
    "from timeit import Timer\n",
    "\n",
    "\n",
    "def test1():\n",
    "    l = []\n",
    "    for i in range(1000):\n",
    "        l = l + [i]\n",
    "def test2():\n",
    "    l = []\n",
    "    for i in range(1000):\n",
    "        l.append(i)\n",
    "def test3():\n",
    "    l = [i for i in range(1000)]\n",
    "def test4():\n",
    "    l = list(range(1000))\n",
    "\n",
    "\n",
    "\n",
    "# print([i for i in range(100)])\n",
    "t1 = Timer('test1()', 'from __main__ import test1')\n",
    "print('concat %f seconds\\n' % t1.timeit(1000))\n",
    "t2 = Timer('test2()', 'from __main__ import test2')\n",
    "print('append %f seconds\\n' % t2.timeit(1000))\n",
    "t3 = Timer('test3()', 'from __main__ import test3')\n",
    "print('comprehension %f seconds\\n' % t3.timeit(1000))\n",
    "t4 = Timer('test4()', 'from __main__ import test4')\n",
    "print('list range %f seconds\\n' % t4.timeit(1000))\n"
   ]
  }
 ],
 "metadata": {
  "kernelspec": {
   "display_name": "Python 3",
   "language": "python",
   "name": "python3"
  },
  "language_info": {
   "codemirror_mode": {
    "name": "ipython",
    "version": 3
   },
   "file_extension": ".py",
   "mimetype": "text/x-python",
   "name": "python",
   "nbconvert_exporter": "python",
   "pygments_lexer": "ipython3",
   "version": "3.8.5"
  },
  "toc": {
   "base_numbering": 1,
   "nav_menu": {},
   "number_sections": true,
   "sideBar": true,
   "skip_h1_title": false,
   "title_cell": "Table of Contents",
   "title_sidebar": "Contents",
   "toc_cell": false,
   "toc_position": {},
   "toc_section_display": true,
   "toc_window_display": false
  },
  "varInspector": {
   "cols": {
    "lenName": 16,
    "lenType": 16,
    "lenVar": 40
   },
   "kernels_config": {
    "python": {
     "delete_cmd_postfix": "",
     "delete_cmd_prefix": "del ",
     "library": "var_list.py",
     "varRefreshCmd": "print(var_dic_list())"
    },
    "r": {
     "delete_cmd_postfix": ") ",
     "delete_cmd_prefix": "rm(",
     "library": "var_list.r",
     "varRefreshCmd": "cat(var_dic_list()) "
    }
   },
   "types_to_exclude": [
    "module",
    "function",
    "builtin_function_or_method",
    "instance",
    "_Feature"
   ],
   "window_display": false
  }
 },
 "nbformat": 4,
 "nbformat_minor": 4
}
