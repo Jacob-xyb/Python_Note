{
 "cells": [
  {
   "cell_type": "markdown",
   "metadata": {
    "collapsed": true,
    "pycharm": {
     "is_executing": false,
     "name": "#%%\n"
    }
   },
   "source": [
    "# List 列表"
   ]
  },
  {
   "cell_type": "markdown",
   "metadata": {},
   "source": [
    "## sort() \n",
    "### 描述\n",
    "- sort() 函数用于对原列表进行排序，如果指定参数，则使用比较函数指定的比较函数。\n",
    "### 语法\n",
    "```python\n",
    "list.sort(cmp=None, key=None, reverse=False)\n",
    "```\n",
    "### 参数\n",
    "- cmp -- 可选参数, 如果指定了该参数会使用该参数的方法进行排序。\n",
    "- key -- 主要是用来进行比较的元素，只有一个参数，具体的函数的参数就是取自于可迭代对象中，指定可迭代对象中的一个元素来进行排序。\n",
    "- reverse -- 排序规则，reverse = True 降序， reverse = False 升序（默认）。"
   ]
  },
  {
   "cell_type": "code",
   "execution_count": 1,
   "metadata": {},
   "outputs": [
    {
     "name": "stdout",
     "output_type": "stream",
     "text": [
      "[0, 1, 2, 3, 5, 7, 8, 9] None\n"
     ]
    }
   ],
   "source": [
    "lista = [9,7,1,0,8,2,5,3]\n",
    "list1 = lista.sort()\n",
    "print(lista, list1)\n",
    "# list.sort() 是对原列表进行排序，直接改变了原对象，而不会返回一个对象，所以list_1输出是None."
   ]
  },
  {
   "cell_type": "code",
   "execution_count": 2,
   "metadata": {},
   "outputs": [
    {
     "name": "stdout",
     "output_type": "stream",
     "text": [
      "['u', 'o', 'i', 'e', 'a']\n"
     ]
    }
   ],
   "source": [
    "# 列表\n",
    "vowels = ['e', 'a', 'u', 'o', 'i']\n",
    "# 降序\n",
    "vowels.sort(reverse=True)\n",
    "# 输出结果\n",
    "print(vowels)\n",
    "# 可以反转排序，并且可以对字母进行排序"
   ]
  },
  {
   "cell_type": "code",
   "execution_count": 3,
   "metadata": {},
   "outputs": [
    {
     "name": "stdout",
     "output_type": "stream",
     "text": [
      "[(4, 1), (2, 2), (1, 3), (3, 4)]\n"
     ]
    }
   ],
   "source": [
    "# 获取列表的第二个元素\n",
    "def takeSecond(elem):\n",
    "    return elem[1] \n",
    "# 列表\n",
    "random = [(2, 2), (3, 4), (4, 1), (1, 3)]\n",
    "# 指定第二个元素排序\n",
    "random.sort(key=takeSecond)\n",
    "# 输出类别\n",
    "print(random)"
   ]
  },
  {
   "cell_type": "markdown",
   "metadata": {},
   "source": [
    "## pop() \n",
    "### 描述\n",
    "- pop() 函数用于移除列表中的一个元素（默认最后一个元素），并且返回该元素的值。\n",
    "### 语法\n",
    "```python\n",
    "list.pop([index=-1])\n",
    "```\n",
    "### 参数\n",
    "- obj -- 可选参数，要移除列表元素的索引值，不能超过列表总长度，默认为 index=-1，删除最后一个列表值。"
   ]
  },
  {
   "cell_type": "code",
   "execution_count": 4,
   "metadata": {},
   "outputs": [
    {
     "name": "stdout",
     "output_type": "stream",
     "text": [
      "被删除的对象： Runoob\n",
      "原列表变为了： ['Google', 'Taobao']\n"
     ]
    }
   ],
   "source": [
    "list2 = ['Google', 'Runoob', 'Taobao']\n",
    "list_pop=list2.pop(1)\n",
    "print('被删除的对象：', list_pop)  # pop()还会返回被删除的对象 # 用于接收被删除的对象很有用，相当于弹出的过程\n",
    "print('原列表变为了：', list2)"
   ]
  }
 ],
 "metadata": {
  "kernelspec": {
   "display_name": "base",
   "language": "python",
   "name": "base"
  },
  "language_info": {
   "codemirror_mode": {
    "name": "ipython",
    "version": 3
   },
   "file_extension": ".py",
   "mimetype": "text/x-python",
   "name": "python",
   "nbconvert_exporter": "python",
   "pygments_lexer": "ipython3",
   "version": "3.8.3"
  },
  "pycharm": {
   "stem_cell": {
    "cell_type": "raw",
    "metadata": {
     "collapsed": false
    },
    "source": []
   }
  }
 },
 "nbformat": 4,
 "nbformat_minor": 1
}
