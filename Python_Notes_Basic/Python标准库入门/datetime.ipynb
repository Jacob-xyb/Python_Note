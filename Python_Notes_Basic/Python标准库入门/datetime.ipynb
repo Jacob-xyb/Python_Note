{
 "cells": [
  {
   "cell_type": "markdown",
   "id": "b36b1bff",
   "metadata": {},
   "source": [
    "# datetime"
   ]
  },
  {
   "cell_type": "markdown",
   "id": "fd3575a1",
   "metadata": {},
   "source": [
    "## 获取时间"
   ]
  },
  {
   "cell_type": "markdown",
   "id": "2af491f1",
   "metadata": {},
   "source": [
    "### 获取当天日期"
   ]
  },
  {
   "cell_type": "code",
   "execution_count": 2,
   "id": "73afc401",
   "metadata": {},
   "outputs": [
    {
     "name": "stdout",
     "output_type": "stream",
     "text": [
      "2023-01-31 16:29:15.576684\n",
      "2023-01-31 16:29:15.576684\n"
     ]
    }
   ],
   "source": [
    "import datetime\n",
    "print(datetime.datetime.now())\n",
    "print(datetime.datetime.today())"
   ]
  },
  {
   "cell_type": "markdown",
   "id": "daa2bf11",
   "metadata": {},
   "source": [
    "### 单独获取年月日"
   ]
  },
  {
   "cell_type": "code",
   "execution_count": 6,
   "id": "145b9393",
   "metadata": {},
   "outputs": [
    {
     "name": "stdout",
     "output_type": "stream",
     "text": [
      "2023-01-31 16:35:12.599288\n",
      "2023 1 31 16 35 12\n"
     ]
    }
   ],
   "source": [
    "import datetime\n",
    "t = datetime.datetime.now()\n",
    "print(t)\n",
    "print(t.year, t.month, t.day, t.hour, t.minute, t.second)"
   ]
  },
  {
   "cell_type": "markdown",
   "id": "f59457c8",
   "metadata": {},
   "source": [
    "## 计算时间"
   ]
  },
  {
   "cell_type": "markdown",
   "id": "9095e53d",
   "metadata": {},
   "source": [
    "### 计算几天后的时间"
   ]
  },
  {
   "cell_type": "code",
   "execution_count": 7,
   "id": "d3ccb635",
   "metadata": {},
   "outputs": [
    {
     "name": "stdout",
     "output_type": "stream",
     "text": [
      "2023-01-31 17:08:55.330287\n",
      "2023-02-07 17:08:55.330287\n"
     ]
    }
   ],
   "source": [
    "import datetime\n",
    "t1 = datetime.datetime.now()\n",
    "t2 = t1 + datetime.timedelta(days=7)\n",
    "print(t1)\n",
    "print(t2)"
   ]
  },
  {
   "cell_type": "markdown",
   "id": "b01fc3e9",
   "metadata": {},
   "source": [
    "### 计算时间差"
   ]
  },
  {
   "cell_type": "code",
   "execution_count": 14,
   "id": "b3db91dd",
   "metadata": {},
   "outputs": [
    {
     "name": "stdout",
     "output_type": "stream",
     "text": [
      "6 days, 0:00:00 <class 'datetime.timedelta'>\n",
      "518400.0\n"
     ]
    }
   ],
   "source": [
    "import datetime\n",
    "t1 = datetime.datetime(2023, 2, 1, 17)\n",
    "t2 = datetime.datetime(2023, 2, 7, 17)\n",
    "delta = t2 - t1\n",
    "print(delta, type(delta))\n",
    "print(delta.total_seconds())"
   ]
  }
 ],
 "metadata": {
  "kernelspec": {
   "display_name": "Python [conda env:python3.11]",
   "language": "python",
   "name": "conda-env-python3.11-py"
  },
  "language_info": {
   "codemirror_mode": {
    "name": "ipython",
    "version": 3
   },
   "file_extension": ".py",
   "mimetype": "text/x-python",
   "name": "python",
   "nbconvert_exporter": "python",
   "pygments_lexer": "ipython3",
   "version": "3.11.0"
  },
  "toc": {
   "base_numbering": 1,
   "nav_menu": {},
   "number_sections": true,
   "sideBar": true,
   "skip_h1_title": false,
   "title_cell": "Table of Contents",
   "title_sidebar": "Contents",
   "toc_cell": false,
   "toc_position": {},
   "toc_section_display": true,
   "toc_window_display": false
  },
  "varInspector": {
   "cols": {
    "lenName": 16,
    "lenType": 16,
    "lenVar": 40
   },
   "kernels_config": {
    "python": {
     "delete_cmd_postfix": "",
     "delete_cmd_prefix": "del ",
     "library": "var_list.py",
     "varRefreshCmd": "print(var_dic_list())"
    },
    "r": {
     "delete_cmd_postfix": ") ",
     "delete_cmd_prefix": "rm(",
     "library": "var_list.r",
     "varRefreshCmd": "cat(var_dic_list()) "
    }
   },
   "types_to_exclude": [
    "module",
    "function",
    "builtin_function_or_method",
    "instance",
    "_Feature"
   ],
   "window_display": false
  }
 },
 "nbformat": 4,
 "nbformat_minor": 5
}
