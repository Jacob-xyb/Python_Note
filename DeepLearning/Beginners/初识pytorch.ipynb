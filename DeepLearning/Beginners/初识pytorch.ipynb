{
 "cells": [
  {
   "cell_type": "code",
   "execution_count": 1,
   "metadata": {
    "scrolled": true
   },
   "outputs": [
    {
     "name": "stdout",
     "output_type": "stream",
     "text": [
      "1.9.1+cpu\n"
     ]
    }
   ],
   "source": [
    "import torch\n",
    "print(torch.__version__)"
   ]
  },
  {
   "cell_type": "markdown",
   "metadata": {},
   "source": [
    "# Pytorch深度学习简明教程"
   ]
  },
  {
   "cell_type": "markdown",
   "metadata": {},
   "source": [
    "## 线性回归实例"
   ]
  },
  {
   "cell_type": "code",
   "execution_count": 2,
   "metadata": {},
   "outputs": [],
   "source": [
    "import torch\n",
    "import pandas as pd\n",
    "import numpy as np\n",
    "import matplotlib.pyplot as plt\n",
    "import os\n",
    "os.environ[\"KMP_DUPLICATE_LIB_OK\"]=\"TRUE\""
   ]
  },
  {
   "cell_type": "code",
   "execution_count": 3,
   "metadata": {},
   "outputs": [],
   "source": [
    "data = pd.read_csv('income.csv')"
   ]
  },
  {
   "cell_type": "code",
   "execution_count": 4,
   "metadata": {},
   "outputs": [
    {
     "data": {
      "text/html": [
       "<div>\n",
       "<style scoped>\n",
       "    .dataframe tbody tr th:only-of-type {\n",
       "        vertical-align: middle;\n",
       "    }\n",
       "\n",
       "    .dataframe tbody tr th {\n",
       "        vertical-align: top;\n",
       "    }\n",
       "\n",
       "    .dataframe thead th {\n",
       "        text-align: right;\n",
       "    }\n",
       "</style>\n",
       "<table border=\"1\" class=\"dataframe\">\n",
       "  <thead>\n",
       "    <tr style=\"text-align: right;\">\n",
       "      <th></th>\n",
       "      <th>Unnamed: 0</th>\n",
       "      <th>Education</th>\n",
       "      <th>Income</th>\n",
       "    </tr>\n",
       "  </thead>\n",
       "  <tbody>\n",
       "    <tr>\n",
       "      <th>0</th>\n",
       "      <td>1</td>\n",
       "      <td>10.512201</td>\n",
       "      <td>45.125171</td>\n",
       "    </tr>\n",
       "    <tr>\n",
       "      <th>1</th>\n",
       "      <td>2</td>\n",
       "      <td>10.828966</td>\n",
       "      <td>45.324576</td>\n",
       "    </tr>\n",
       "    <tr>\n",
       "      <th>2</th>\n",
       "      <td>3</td>\n",
       "      <td>10.976856</td>\n",
       "      <td>46.712053</td>\n",
       "    </tr>\n",
       "    <tr>\n",
       "      <th>3</th>\n",
       "      <td>4</td>\n",
       "      <td>11.180240</td>\n",
       "      <td>47.484910</td>\n",
       "    </tr>\n",
       "    <tr>\n",
       "      <th>4</th>\n",
       "      <td>5</td>\n",
       "      <td>12.151392</td>\n",
       "      <td>52.118514</td>\n",
       "    </tr>\n",
       "    <tr>\n",
       "      <th>5</th>\n",
       "      <td>6</td>\n",
       "      <td>12.374742</td>\n",
       "      <td>50.765302</td>\n",
       "    </tr>\n",
       "    <tr>\n",
       "      <th>6</th>\n",
       "      <td>7</td>\n",
       "      <td>12.646349</td>\n",
       "      <td>51.892805</td>\n",
       "    </tr>\n",
       "    <tr>\n",
       "      <th>7</th>\n",
       "      <td>8</td>\n",
       "      <td>12.862663</td>\n",
       "      <td>53.789805</td>\n",
       "    </tr>\n",
       "    <tr>\n",
       "      <th>8</th>\n",
       "      <td>9</td>\n",
       "      <td>12.877941</td>\n",
       "      <td>55.173903</td>\n",
       "    </tr>\n",
       "    <tr>\n",
       "      <th>9</th>\n",
       "      <td>10</td>\n",
       "      <td>12.890705</td>\n",
       "      <td>54.048666</td>\n",
       "    </tr>\n",
       "    <tr>\n",
       "      <th>10</th>\n",
       "      <td>11</td>\n",
       "      <td>12.914984</td>\n",
       "      <td>54.685967</td>\n",
       "    </tr>\n",
       "    <tr>\n",
       "      <th>11</th>\n",
       "      <td>12</td>\n",
       "      <td>13.016605</td>\n",
       "      <td>53.848559</td>\n",
       "    </tr>\n",
       "    <tr>\n",
       "      <th>12</th>\n",
       "      <td>13</td>\n",
       "      <td>13.179881</td>\n",
       "      <td>54.746792</td>\n",
       "    </tr>\n",
       "    <tr>\n",
       "      <th>13</th>\n",
       "      <td>14</td>\n",
       "      <td>14.122664</td>\n",
       "      <td>59.527860</td>\n",
       "    </tr>\n",
       "    <tr>\n",
       "      <th>14</th>\n",
       "      <td>15</td>\n",
       "      <td>14.127515</td>\n",
       "      <td>58.092469</td>\n",
       "    </tr>\n",
       "    <tr>\n",
       "      <th>15</th>\n",
       "      <td>16</td>\n",
       "      <td>14.286799</td>\n",
       "      <td>59.289835</td>\n",
       "    </tr>\n",
       "    <tr>\n",
       "      <th>16</th>\n",
       "      <td>17</td>\n",
       "      <td>15.447797</td>\n",
       "      <td>63.596500</td>\n",
       "    </tr>\n",
       "    <tr>\n",
       "      <th>17</th>\n",
       "      <td>18</td>\n",
       "      <td>15.972419</td>\n",
       "      <td>65.479334</td>\n",
       "    </tr>\n",
       "    <tr>\n",
       "      <th>18</th>\n",
       "      <td>19</td>\n",
       "      <td>16.527993</td>\n",
       "      <td>67.806375</td>\n",
       "    </tr>\n",
       "    <tr>\n",
       "      <th>19</th>\n",
       "      <td>20</td>\n",
       "      <td>16.532032</td>\n",
       "      <td>68.113483</td>\n",
       "    </tr>\n",
       "    <tr>\n",
       "      <th>20</th>\n",
       "      <td>21</td>\n",
       "      <td>16.693930</td>\n",
       "      <td>67.815929</td>\n",
       "    </tr>\n",
       "    <tr>\n",
       "      <th>21</th>\n",
       "      <td>22</td>\n",
       "      <td>17.027469</td>\n",
       "      <td>68.409055</td>\n",
       "    </tr>\n",
       "    <tr>\n",
       "      <th>22</th>\n",
       "      <td>23</td>\n",
       "      <td>18.867801</td>\n",
       "      <td>76.697642</td>\n",
       "    </tr>\n",
       "    <tr>\n",
       "      <th>23</th>\n",
       "      <td>24</td>\n",
       "      <td>19.235500</td>\n",
       "      <td>78.190250</td>\n",
       "    </tr>\n",
       "    <tr>\n",
       "      <th>24</th>\n",
       "      <td>25</td>\n",
       "      <td>19.584626</td>\n",
       "      <td>79.421578</td>\n",
       "    </tr>\n",
       "    <tr>\n",
       "      <th>25</th>\n",
       "      <td>26</td>\n",
       "      <td>19.921876</td>\n",
       "      <td>79.452725</td>\n",
       "    </tr>\n",
       "    <tr>\n",
       "      <th>26</th>\n",
       "      <td>27</td>\n",
       "      <td>20.113245</td>\n",
       "      <td>81.155110</td>\n",
       "    </tr>\n",
       "    <tr>\n",
       "      <th>27</th>\n",
       "      <td>28</td>\n",
       "      <td>20.242475</td>\n",
       "      <td>80.908205</td>\n",
       "    </tr>\n",
       "    <tr>\n",
       "      <th>28</th>\n",
       "      <td>29</td>\n",
       "      <td>20.261879</td>\n",
       "      <td>82.169167</td>\n",
       "    </tr>\n",
       "    <tr>\n",
       "      <th>29</th>\n",
       "      <td>30</td>\n",
       "      <td>21.026865</td>\n",
       "      <td>84.539005</td>\n",
       "    </tr>\n",
       "    <tr>\n",
       "      <th>30</th>\n",
       "      <td>31</td>\n",
       "      <td>21.299141</td>\n",
       "      <td>86.745773</td>\n",
       "    </tr>\n",
       "    <tr>\n",
       "      <th>31</th>\n",
       "      <td>32</td>\n",
       "      <td>21.593724</td>\n",
       "      <td>88.041642</td>\n",
       "    </tr>\n",
       "    <tr>\n",
       "      <th>32</th>\n",
       "      <td>33</td>\n",
       "      <td>21.800763</td>\n",
       "      <td>87.314593</td>\n",
       "    </tr>\n",
       "    <tr>\n",
       "      <th>33</th>\n",
       "      <td>34</td>\n",
       "      <td>21.815152</td>\n",
       "      <td>87.897576</td>\n",
       "    </tr>\n",
       "    <tr>\n",
       "      <th>34</th>\n",
       "      <td>35</td>\n",
       "      <td>22.583364</td>\n",
       "      <td>90.816782</td>\n",
       "    </tr>\n",
       "    <tr>\n",
       "      <th>35</th>\n",
       "      <td>36</td>\n",
       "      <td>22.661954</td>\n",
       "      <td>91.678856</td>\n",
       "    </tr>\n",
       "    <tr>\n",
       "      <th>36</th>\n",
       "      <td>37</td>\n",
       "      <td>23.042024</td>\n",
       "      <td>92.559693</td>\n",
       "    </tr>\n",
       "    <tr>\n",
       "      <th>37</th>\n",
       "      <td>38</td>\n",
       "      <td>23.464024</td>\n",
       "      <td>94.269756</td>\n",
       "    </tr>\n",
       "    <tr>\n",
       "      <th>38</th>\n",
       "      <td>39</td>\n",
       "      <td>23.475981</td>\n",
       "      <td>95.436969</td>\n",
       "    </tr>\n",
       "    <tr>\n",
       "      <th>39</th>\n",
       "      <td>40</td>\n",
       "      <td>23.538104</td>\n",
       "      <td>94.444795</td>\n",
       "    </tr>\n",
       "    <tr>\n",
       "      <th>40</th>\n",
       "      <td>41</td>\n",
       "      <td>24.205795</td>\n",
       "      <td>96.778388</td>\n",
       "    </tr>\n",
       "    <tr>\n",
       "      <th>41</th>\n",
       "      <td>42</td>\n",
       "      <td>24.330345</td>\n",
       "      <td>97.455312</td>\n",
       "    </tr>\n",
       "    <tr>\n",
       "      <th>42</th>\n",
       "      <td>43</td>\n",
       "      <td>24.656628</td>\n",
       "      <td>97.984061</td>\n",
       "    </tr>\n",
       "    <tr>\n",
       "      <th>43</th>\n",
       "      <td>44</td>\n",
       "      <td>25.385635</td>\n",
       "      <td>102.526501</td>\n",
       "    </tr>\n",
       "    <tr>\n",
       "      <th>44</th>\n",
       "      <td>45</td>\n",
       "      <td>25.400882</td>\n",
       "      <td>102.317713</td>\n",
       "    </tr>\n",
       "    <tr>\n",
       "      <th>45</th>\n",
       "      <td>46</td>\n",
       "      <td>25.592713</td>\n",
       "      <td>102.404417</td>\n",
       "    </tr>\n",
       "    <tr>\n",
       "      <th>46</th>\n",
       "      <td>47</td>\n",
       "      <td>25.861180</td>\n",
       "      <td>104.534746</td>\n",
       "    </tr>\n",
       "    <tr>\n",
       "      <th>47</th>\n",
       "      <td>48</td>\n",
       "      <td>25.976095</td>\n",
       "      <td>103.709161</td>\n",
       "    </tr>\n",
       "    <tr>\n",
       "      <th>48</th>\n",
       "      <td>49</td>\n",
       "      <td>26.605643</td>\n",
       "      <td>106.492185</td>\n",
       "    </tr>\n",
       "    <tr>\n",
       "      <th>49</th>\n",
       "      <td>50</td>\n",
       "      <td>27.704739</td>\n",
       "      <td>111.540266</td>\n",
       "    </tr>\n",
       "    <tr>\n",
       "      <th>50</th>\n",
       "      <td>51</td>\n",
       "      <td>27.829065</td>\n",
       "      <td>110.750447</td>\n",
       "    </tr>\n",
       "    <tr>\n",
       "      <th>51</th>\n",
       "      <td>52</td>\n",
       "      <td>28.306354</td>\n",
       "      <td>112.461594</td>\n",
       "    </tr>\n",
       "    <tr>\n",
       "      <th>52</th>\n",
       "      <td>53</td>\n",
       "      <td>28.443830</td>\n",
       "      <td>113.086552</td>\n",
       "    </tr>\n",
       "    <tr>\n",
       "      <th>53</th>\n",
       "      <td>54</td>\n",
       "      <td>28.609426</td>\n",
       "      <td>113.715820</td>\n",
       "    </tr>\n",
       "    <tr>\n",
       "      <th>54</th>\n",
       "      <td>55</td>\n",
       "      <td>28.834811</td>\n",
       "      <td>114.572282</td>\n",
       "    </tr>\n",
       "    <tr>\n",
       "      <th>55</th>\n",
       "      <td>56</td>\n",
       "      <td>28.906639</td>\n",
       "      <td>115.810702</td>\n",
       "    </tr>\n",
       "    <tr>\n",
       "      <th>56</th>\n",
       "      <td>57</td>\n",
       "      <td>28.928016</td>\n",
       "      <td>114.962225</td>\n",
       "    </tr>\n",
       "    <tr>\n",
       "      <th>57</th>\n",
       "      <td>58</td>\n",
       "      <td>28.932370</td>\n",
       "      <td>115.113457</td>\n",
       "    </tr>\n",
       "    <tr>\n",
       "      <th>58</th>\n",
       "      <td>59</td>\n",
       "      <td>29.895361</td>\n",
       "      <td>119.203461</td>\n",
       "    </tr>\n",
       "    <tr>\n",
       "      <th>59</th>\n",
       "      <td>60</td>\n",
       "      <td>30.810509</td>\n",
       "      <td>122.079933</td>\n",
       "    </tr>\n",
       "  </tbody>\n",
       "</table>\n",
       "</div>"
      ],
      "text/plain": [
       "    Unnamed: 0  Education      Income\n",
       "0            1  10.512201   45.125171\n",
       "1            2  10.828966   45.324576\n",
       "2            3  10.976856   46.712053\n",
       "3            4  11.180240   47.484910\n",
       "4            5  12.151392   52.118514\n",
       "5            6  12.374742   50.765302\n",
       "6            7  12.646349   51.892805\n",
       "7            8  12.862663   53.789805\n",
       "8            9  12.877941   55.173903\n",
       "9           10  12.890705   54.048666\n",
       "10          11  12.914984   54.685967\n",
       "11          12  13.016605   53.848559\n",
       "12          13  13.179881   54.746792\n",
       "13          14  14.122664   59.527860\n",
       "14          15  14.127515   58.092469\n",
       "15          16  14.286799   59.289835\n",
       "16          17  15.447797   63.596500\n",
       "17          18  15.972419   65.479334\n",
       "18          19  16.527993   67.806375\n",
       "19          20  16.532032   68.113483\n",
       "20          21  16.693930   67.815929\n",
       "21          22  17.027469   68.409055\n",
       "22          23  18.867801   76.697642\n",
       "23          24  19.235500   78.190250\n",
       "24          25  19.584626   79.421578\n",
       "25          26  19.921876   79.452725\n",
       "26          27  20.113245   81.155110\n",
       "27          28  20.242475   80.908205\n",
       "28          29  20.261879   82.169167\n",
       "29          30  21.026865   84.539005\n",
       "30          31  21.299141   86.745773\n",
       "31          32  21.593724   88.041642\n",
       "32          33  21.800763   87.314593\n",
       "33          34  21.815152   87.897576\n",
       "34          35  22.583364   90.816782\n",
       "35          36  22.661954   91.678856\n",
       "36          37  23.042024   92.559693\n",
       "37          38  23.464024   94.269756\n",
       "38          39  23.475981   95.436969\n",
       "39          40  23.538104   94.444795\n",
       "40          41  24.205795   96.778388\n",
       "41          42  24.330345   97.455312\n",
       "42          43  24.656628   97.984061\n",
       "43          44  25.385635  102.526501\n",
       "44          45  25.400882  102.317713\n",
       "45          46  25.592713  102.404417\n",
       "46          47  25.861180  104.534746\n",
       "47          48  25.976095  103.709161\n",
       "48          49  26.605643  106.492185\n",
       "49          50  27.704739  111.540266\n",
       "50          51  27.829065  110.750447\n",
       "51          52  28.306354  112.461594\n",
       "52          53  28.443830  113.086552\n",
       "53          54  28.609426  113.715820\n",
       "54          55  28.834811  114.572282\n",
       "55          56  28.906639  115.810702\n",
       "56          57  28.928016  114.962225\n",
       "57          58  28.932370  115.113457\n",
       "58          59  29.895361  119.203461\n",
       "59          60  30.810509  122.079933"
      ]
     },
     "execution_count": 4,
     "metadata": {},
     "output_type": "execute_result"
    }
   ],
   "source": [
    "data"
   ]
  },
  {
   "cell_type": "code",
   "execution_count": 5,
   "metadata": {
    "scrolled": false
   },
   "outputs": [
    {
     "name": "stdout",
     "output_type": "stream",
     "text": [
      "<class 'pandas.core.frame.DataFrame'>\n",
      "RangeIndex: 60 entries, 0 to 59\n",
      "Data columns (total 3 columns):\n",
      " #   Column      Non-Null Count  Dtype  \n",
      "---  ------      --------------  -----  \n",
      " 0   Unnamed: 0  60 non-null     int64  \n",
      " 1   Education   60 non-null     float64\n",
      " 2   Income      60 non-null     float64\n",
      "dtypes: float64(2), int64(1)\n",
      "memory usage: 1.5 KB\n"
     ]
    }
   ],
   "source": [
    "data.info() # 输出文件的一些重要信息"
   ]
  },
  {
   "cell_type": "code",
   "execution_count": 6,
   "metadata": {},
   "outputs": [
    {
     "data": {
      "image/png": "[encoded data removed]",
      "text/plain": [
       "<Figure size 432x288 with 1 Axes>"
      ]
     },
     "metadata": {
      "needs_background": "light"
     },
     "output_type": "display_data"
    }
   ],
   "source": [
    "# 绘图看一下数据\n",
    "plt.scatter(data.Education, data.Income)\n",
    "plt.xlabel(\"Education\")\n",
    "plt.ylabel(\"Income\")\n",
    "plt.show()"
   ]
  },
  {
   "cell_type": "code",
   "execution_count": 7,
   "metadata": {},
   "outputs": [],
   "source": [
    "from torch import nn  # torch中最常用的模块"
   ]
  },
  {
   "cell_type": "markdown",
   "metadata": {},
   "source": [
    "1. 预处理数据"
   ]
  },
  {
   "cell_type": "code",
   "execution_count": 8,
   "metadata": {},
   "outputs": [],
   "source": [
    "X = data.Education.values  # 返回一个`array`对象"
   ]
  },
  {
   "cell_type": "code",
   "execution_count": 9,
   "metadata": {},
   "outputs": [
    {
     "name": "stdout",
     "output_type": "stream",
     "text": [
      "(60,)\n"
     ]
    },
    {
     "data": {
      "text/plain": [
       "array([10.51220109, 10.82896639, 10.97685611, 11.18023954, 12.15139247,\n",
       "       12.37474203, 12.64634908, 12.86266342, 12.87794092, 12.89070532,\n",
       "       12.91498364, 13.01660512, 13.17988114, 14.122664  , 14.1275149 ,\n",
       "       14.28679869, 15.44779738, 15.97241875, 16.52799346, 16.53203198,\n",
       "       16.69392983, 17.02746898, 18.86780064, 19.23549986, 19.58462572,\n",
       "       19.92187622, 20.11324539, 20.24247514, 20.261879  , 21.02686524,\n",
       "       21.29914071, 21.59372393, 21.80076257, 21.81515153, 22.58336357,\n",
       "       22.66195444, 23.04202444, 23.46402352, 23.47598134, 23.5381039 ,\n",
       "       24.20579541, 24.3303452 , 24.65662831, 25.38563531, 25.40088241,\n",
       "       25.59271293, 25.86117958, 25.97609508, 26.60564258, 27.70473859,\n",
       "       27.829065  , 28.30635441, 28.4438296 , 28.6094264 , 28.83481106,\n",
       "       28.90663894, 28.92801581, 28.9323703 , 29.89536137, 30.81050882])"
      ]
     },
     "execution_count": 9,
     "metadata": {},
     "output_type": "execute_result"
    }
   ],
   "source": [
    "print(X.shape)\n",
    "X"
   ]
  },
  {
   "cell_type": "code",
   "execution_count": 10,
   "metadata": {},
   "outputs": [],
   "source": [
    "# X.reshape(-1,1)  # `reshape()`函数并不会改变自身\n",
    "X = X.reshape(-1, 1)"
   ]
  },
  {
   "cell_type": "code",
   "execution_count": 11,
   "metadata": {
    "collapsed": true
   },
   "outputs": [
    {
     "name": "stdout",
     "output_type": "stream",
     "text": [
      "(60, 1)\n"
     ]
    },
    {
     "data": {
      "text/plain": [
       "array([[10.51220109],\n",
       "       [10.82896639],\n",
       "       [10.97685611],\n",
       "       [11.18023954],\n",
       "       [12.15139247],\n",
       "       [12.37474203],\n",
       "       [12.64634908],\n",
       "       [12.86266342],\n",
       "       [12.87794092],\n",
       "       [12.89070532],\n",
       "       [12.91498364],\n",
       "       [13.01660512],\n",
       "       [13.17988114],\n",
       "       [14.122664  ],\n",
       "       [14.1275149 ],\n",
       "       [14.28679869],\n",
       "       [15.44779738],\n",
       "       [15.97241875],\n",
       "       [16.52799346],\n",
       "       [16.53203198],\n",
       "       [16.69392983],\n",
       "       [17.02746898],\n",
       "       [18.86780064],\n",
       "       [19.23549986],\n",
       "       [19.58462572],\n",
       "       [19.92187622],\n",
       "       [20.11324539],\n",
       "       [20.24247514],\n",
       "       [20.261879  ],\n",
       "       [21.02686524],\n",
       "       [21.29914071],\n",
       "       [21.59372393],\n",
       "       [21.80076257],\n",
       "       [21.81515153],\n",
       "       [22.58336357],\n",
       "       [22.66195444],\n",
       "       [23.04202444],\n",
       "       [23.46402352],\n",
       "       [23.47598134],\n",
       "       [23.5381039 ],\n",
       "       [24.20579541],\n",
       "       [24.3303452 ],\n",
       "       [24.65662831],\n",
       "       [25.38563531],\n",
       "       [25.40088241],\n",
       "       [25.59271293],\n",
       "       [25.86117958],\n",
       "       [25.97609508],\n",
       "       [26.60564258],\n",
       "       [27.70473859],\n",
       "       [27.829065  ],\n",
       "       [28.30635441],\n",
       "       [28.4438296 ],\n",
       "       [28.6094264 ],\n",
       "       [28.83481106],\n",
       "       [28.90663894],\n",
       "       [28.92801581],\n",
       "       [28.9323703 ],\n",
       "       [29.89536137],\n",
       "       [30.81050882]])"
      ]
     },
     "execution_count": 11,
     "metadata": {},
     "output_type": "execute_result"
    }
   ],
   "source": [
    "print(X.shape)\n",
    "X"
   ]
  },
  {
   "cell_type": "code",
   "execution_count": 12,
   "metadata": {},
   "outputs": [],
   "source": [
    "X = X.astype(np.float32)  # 统一`numpy`的数据类型\n",
    "X = torch.from_numpy(X)  # 获取`torch`中的`tensor`的数据类型"
   ]
  },
  {
   "cell_type": "code",
   "execution_count": 13,
   "metadata": {
    "collapsed": true
   },
   "outputs": [
    {
     "data": {
      "text/plain": [
       "tensor([[10.5122],\n",
       "        [10.8290],\n",
       "        [10.9769],\n",
       "        [11.1802],\n",
       "        [12.1514],\n",
       "        [12.3747],\n",
       "        [12.6463],\n",
       "        [12.8627],\n",
       "        [12.8779],\n",
       "        [12.8907],\n",
       "        [12.9150],\n",
       "        [13.0166],\n",
       "        [13.1799],\n",
       "        [14.1227],\n",
       "        [14.1275],\n",
       "        [14.2868],\n",
       "        [15.4478],\n",
       "        [15.9724],\n",
       "        [16.5280],\n",
       "        [16.5320],\n",
       "        [16.6939],\n",
       "        [17.0275],\n",
       "        [18.8678],\n",
       "        [19.2355],\n",
       "        [19.5846],\n",
       "        [19.9219],\n",
       "        [20.1132],\n",
       "        [20.2425],\n",
       "        [20.2619],\n",
       "        [21.0269],\n",
       "        [21.2991],\n",
       "        [21.5937],\n",
       "        [21.8008],\n",
       "        [21.8152],\n",
       "        [22.5834],\n",
       "        [22.6620],\n",
       "        [23.0420],\n",
       "        [23.4640],\n",
       "        [23.4760],\n",
       "        [23.5381],\n",
       "        [24.2058],\n",
       "        [24.3303],\n",
       "        [24.6566],\n",
       "        [25.3856],\n",
       "        [25.4009],\n",
       "        [25.5927],\n",
       "        [25.8612],\n",
       "        [25.9761],\n",
       "        [26.6056],\n",
       "        [27.7047],\n",
       "        [27.8291],\n",
       "        [28.3064],\n",
       "        [28.4438],\n",
       "        [28.6094],\n",
       "        [28.8348],\n",
       "        [28.9066],\n",
       "        [28.9280],\n",
       "        [28.9324],\n",
       "        [29.8954],\n",
       "        [30.8105]])"
      ]
     },
     "execution_count": 13,
     "metadata": {},
     "output_type": "execute_result"
    }
   ],
   "source": [
    "X"
   ]
  },
  {
   "cell_type": "code",
   "execution_count": 14,
   "metadata": {},
   "outputs": [],
   "source": [
    "Y = torch.from_numpy(data.Income.values.reshape(-1,1).astype(np.float32))"
   ]
  },
  {
   "cell_type": "code",
   "execution_count": 15,
   "metadata": {
    "scrolled": true
   },
   "outputs": [
    {
     "data": {
      "text/plain": [
       "tensor([[ 45.1252],\n",
       "        [ 45.3246],\n",
       "        [ 46.7121],\n",
       "        [ 47.4849],\n",
       "        [ 52.1185],\n",
       "        [ 50.7653],\n",
       "        [ 51.8928],\n",
       "        [ 53.7898],\n",
       "        [ 55.1739],\n",
       "        [ 54.0487],\n",
       "        [ 54.6860],\n",
       "        [ 53.8486],\n",
       "        [ 54.7468],\n",
       "        [ 59.5279],\n",
       "        [ 58.0925],\n",
       "        [ 59.2898],\n",
       "        [ 63.5965],\n",
       "        [ 65.4793],\n",
       "        [ 67.8064],\n",
       "        [ 68.1135],\n",
       "        [ 67.8159],\n",
       "        [ 68.4091],\n",
       "        [ 76.6976],\n",
       "        [ 78.1902],\n",
       "        [ 79.4216],\n",
       "        [ 79.4527],\n",
       "        [ 81.1551],\n",
       "        [ 80.9082],\n",
       "        [ 82.1692],\n",
       "        [ 84.5390],\n",
       "        [ 86.7458],\n",
       "        [ 88.0416],\n",
       "        [ 87.3146],\n",
       "        [ 87.8976],\n",
       "        [ 90.8168],\n",
       "        [ 91.6789],\n",
       "        [ 92.5597],\n",
       "        [ 94.2698],\n",
       "        [ 95.4370],\n",
       "        [ 94.4448],\n",
       "        [ 96.7784],\n",
       "        [ 97.4553],\n",
       "        [ 97.9841],\n",
       "        [102.5265],\n",
       "        [102.3177],\n",
       "        [102.4044],\n",
       "        [104.5347],\n",
       "        [103.7092],\n",
       "        [106.4922],\n",
       "        [111.5403],\n",
       "        [110.7505],\n",
       "        [112.4616],\n",
       "        [113.0866],\n",
       "        [113.7158],\n",
       "        [114.5723],\n",
       "        [115.8107],\n",
       "        [114.9622],\n",
       "        [115.1135],\n",
       "        [119.2035],\n",
       "        [122.0799]])"
      ]
     },
     "execution_count": 15,
     "metadata": {},
     "output_type": "execute_result"
    }
   ],
   "source": [
    "Y"
   ]
  },
  {
   "cell_type": "markdown",
   "metadata": {},
   "source": [
    "2. 创建模型"
   ]
  },
  {
   "cell_type": "code",
   "execution_count": 16,
   "metadata": {},
   "outputs": [],
   "source": [
    "model = nn.Linear(1, 1)  # output = w .* input + b"
   ]
  },
  {
   "cell_type": "code",
   "execution_count": 17,
   "metadata": {},
   "outputs": [],
   "source": [
    "loss_fn = nn.MSELoss()  # 设置 MSE 为 损失函数"
   ]
  },
  {
   "cell_type": "code",
   "execution_count": 18,
   "metadata": {},
   "outputs": [],
   "source": [
    "opt = torch.optim.SGD(model.parameters(), lr=0.0001)  # 优化方法"
   ]
  },
  {
   "cell_type": "markdown",
   "metadata": {},
   "source": [
    "3.训练模型"
   ]
  },
  {
   "cell_type": "code",
   "execution_count": 19,
   "metadata": {},
   "outputs": [],
   "source": [
    "for epoch in range(5000):\n",
    "    for x, y in zip(X,Y):\n",
    "        y_pred = model(x)          # 使用模型预测\n",
    "        loss = loss_fn(y, y_pred)  # 根据预测结果计算损失\n",
    "        opt.zero_grad()            # 把变量梯度清零\n",
    "        loss.backward()            # 求解梯度\n",
    "        opt.step()                 # 优化模型参数"
   ]
  },
  {
   "cell_type": "markdown",
   "metadata": {},
   "source": [
    "4.调用模型"
   ]
  },
  {
   "cell_type": "code",
   "execution_count": 20,
   "metadata": {},
   "outputs": [
    {
     "data": {
      "text/plain": [
       "Parameter containing:\n",
       "tensor([[3.8287]], requires_grad=True)"
      ]
     },
     "execution_count": 20,
     "metadata": {},
     "output_type": "execute_result"
    }
   ],
   "source": [
    "model.weight"
   ]
  },
  {
   "cell_type": "code",
   "execution_count": 21,
   "metadata": {
    "scrolled": true
   },
   "outputs": [
    {
     "data": {
      "text/plain": [
       "Parameter containing:\n",
       "tensor([4.4334], requires_grad=True)"
      ]
     },
     "execution_count": 21,
     "metadata": {},
     "output_type": "execute_result"
    }
   ],
   "source": [
    "model.bias"
   ]
  },
  {
   "cell_type": "code",
   "execution_count": 22,
   "metadata": {},
   "outputs": [
    {
     "data": {
      "image/png": "[encoded data removed]",
      "text/plain": [
       "<Figure size 432x288 with 1 Axes>"
      ]
     },
     "metadata": {
      "needs_background": "light"
     },
     "output_type": "display_data"
    }
   ],
   "source": [
    "# 绘图看一下数据\n",
    "plt.scatter(data.Education, data.Income)\n",
    "plt.plot(X.numpy(), model(X).data.numpy(), c=\"r\")\n",
    "plt.show()"
   ]
  },
  {
   "cell_type": "markdown",
   "metadata": {},
   "source": [
    "## 张量（Tensor）\n",
    "\n",
    "Pytorch最基本的操作对象就是`Tensor`（张量）,\n",
    "\n",
    "它表示一个多维矩阵，\n",
    "\n",
    "张量类似于Numpy的ndarrays，\n",
    "\n",
    "张量可以在GPU上使用以加速计算。（ndarray不能在GPU加速）"
   ]
  },
  {
   "cell_type": "markdown",
   "metadata": {},
   "source": [
    "### Tensor的基本操作"
   ]
  },
  {
   "cell_type": "code",
   "execution_count": 23,
   "metadata": {},
   "outputs": [],
   "source": [
    "import torch"
   ]
  },
  {
   "cell_type": "code",
   "execution_count": 24,
   "metadata": {},
   "outputs": [
    {
     "data": {
      "text/plain": [
       "tensor([[0.3112, 0.8657, 0.9643],\n",
       "        [0.8476, 0.0201, 0.0141]])"
      ]
     },
     "execution_count": 24,
     "metadata": {},
     "output_type": "execute_result"
    }
   ],
   "source": [
    "x = torch.rand(2,3)  # `torch.rand()` 0-1随机浮点数\n",
    "x"
   ]
  },
  {
   "cell_type": "code",
   "execution_count": 25,
   "metadata": {},
   "outputs": [
    {
     "data": {
      "text/plain": [
       "tensor([[-0.9568,  0.7621,  0.2538],\n",
       "        [ 1.6137, -2.1273, -0.7068]])"
      ]
     },
     "execution_count": 25,
     "metadata": {},
     "output_type": "execute_result"
    }
   ],
   "source": [
    "x1 = torch.randn(2, 3)  # `torch.randn()` 正态分布\n",
    "x1"
   ]
  },
  {
   "cell_type": "code",
   "execution_count": 26,
   "metadata": {},
   "outputs": [
    {
     "data": {
      "text/plain": [
       "tensor([[0., 0., 0.],\n",
       "        [0., 0., 0.]])"
      ]
     },
     "execution_count": 26,
     "metadata": {},
     "output_type": "execute_result"
    }
   ],
   "source": [
    "x_zero = torch.zeros(2, 3)  # 零矩阵\n",
    "x_zero"
   ]
  },
  {
   "cell_type": "code",
   "execution_count": 27,
   "metadata": {},
   "outputs": [
    {
     "data": {
      "text/plain": [
       "tensor([[1., 1., 1.],\n",
       "        [1., 1., 1.]])"
      ]
     },
     "execution_count": 27,
     "metadata": {},
     "output_type": "execute_result"
    }
   ],
   "source": [
    "x_one = torch.ones(2, 3)  # 一矩阵\n",
    "x_one"
   ]
  },
  {
   "cell_type": "markdown",
   "metadata": {},
   "source": [
    "- 查看数据尺寸"
   ]
  },
  {
   "cell_type": "code",
   "execution_count": 28,
   "metadata": {
    "scrolled": true
   },
   "outputs": [
    {
     "name": "stdout",
     "output_type": "stream",
     "text": [
      "torch.Size([2, 3])\n",
      "torch.Size([2, 3])\n",
      "True\n"
     ]
    }
   ],
   "source": [
    "print(x.size())\n",
    "print(x.shape)\n",
    "print(x.size() == x.shape)"
   ]
  },
  {
   "cell_type": "markdown",
   "metadata": {},
   "source": [
    "`size()` 和 `shape` 的区别是 `size()` 可以查看单独某一维的数据尺寸"
   ]
  },
  {
   "cell_type": "code",
   "execution_count": 29,
   "metadata": {},
   "outputs": [
    {
     "name": "stdout",
     "output_type": "stream",
     "text": [
      "2\n"
     ]
    }
   ],
   "source": [
    "print(x.size(0))"
   ]
  },
  {
   "cell_type": "markdown",
   "metadata": {},
   "source": [
    "- Tensor基本的数据类型\n",
    "\n",
    "    32位浮点型：torch.float32\n",
    "    \n",
    "    64位浮点型：torch.float64\n",
    "    \n",
    "    16位整型：torch.int16\n",
    "    \n",
    "    32位整型：torch.int32\n",
    "    \n",
    "    64位整型：torch.int64"
   ]
  },
  {
   "cell_type": "markdown",
   "metadata": {},
   "source": [
    "- 与python数据类型交互"
   ]
  },
  {
   "cell_type": "code",
   "execution_count": 30,
   "metadata": {},
   "outputs": [
    {
     "name": "stdout",
     "output_type": "stream",
     "text": [
      "tensor([1., 2., 3., 4.])\n"
     ]
    }
   ],
   "source": [
    "x = torch.tensor([1, 2, 3, 4], dtype=torch.float32)  # 列表 等转换为 `tensor`\n",
    "print(x)"
   ]
  },
  {
   "cell_type": "code",
   "execution_count": 31,
   "metadata": {},
   "outputs": [
    {
     "name": "stdout",
     "output_type": "stream",
     "text": [
      "torch.FloatTensor\n",
      "torch.LongTensor\n",
      "tensor([1, 2, 3, 4])\n"
     ]
    }
   ],
   "source": [
    "# 数据类型转换\n",
    "print(x.type())\n",
    "x = x.type(torch.int64)\n",
    "print(x.type())\n",
    "print(x)"
   ]
  },
  {
   "cell_type": "code",
   "execution_count": 32,
   "metadata": {},
   "outputs": [
    {
     "name": "stdout",
     "output_type": "stream",
     "text": [
      "[[ 0.31100446 -0.49100984  0.65171382]\n",
      " [-0.13260043  0.35473467  0.4022042 ]]\n"
     ]
    }
   ],
   "source": [
    "# tensor 与 ndarray 数据类型的转换\n",
    "import numpy as np\n",
    "a = np.random.randn(2, 3)\n",
    "print(a)"
   ]
  },
  {
   "cell_type": "code",
   "execution_count": 33,
   "metadata": {},
   "outputs": [
    {
     "name": "stdout",
     "output_type": "stream",
     "text": [
      "tensor([[ 0.3110, -0.4910,  0.6517],\n",
      "        [-0.1326,  0.3547,  0.4022]], dtype=torch.float64)\n"
     ]
    }
   ],
   "source": [
    "a_tensor = torch.from_numpy(a)\n",
    "print(a_tensor)"
   ]
  },
  {
   "cell_type": "markdown",
   "metadata": {},
   "source": [
    "### Tensor的运算与形状变换"
   ]
  },
  {
   "cell_type": "code",
   "execution_count": 34,
   "metadata": {},
   "outputs": [
    {
     "data": {
      "text/plain": [
       "tensor([[0.4183, 0.3681, 0.3668],\n",
       "        [0.0354, 0.9597, 0.5152]])"
      ]
     },
     "execution_count": 34,
     "metadata": {},
     "output_type": "execute_result"
    }
   ],
   "source": [
    "x1 = torch.rand(2, 3)\n",
    "x1"
   ]
  },
  {
   "cell_type": "code",
   "execution_count": 35,
   "metadata": {},
   "outputs": [
    {
     "data": {
      "text/plain": [
       "tensor([[0.5507, 0.8421, 0.4253],\n",
       "        [0.6913, 0.2873, 0.3076]])"
      ]
     },
     "execution_count": 35,
     "metadata": {},
     "output_type": "execute_result"
    }
   ],
   "source": [
    "x2 = torch.rand(2, 3)\n",
    "x2"
   ]
  },
  {
   "cell_type": "code",
   "execution_count": 36,
   "metadata": {},
   "outputs": [
    {
     "data": {
      "text/plain": [
       "tensor([[0.9691, 1.2102, 0.7921],\n",
       "        [0.7267, 1.2470, 0.8229]])"
      ]
     },
     "execution_count": 36,
     "metadata": {},
     "output_type": "execute_result"
    }
   ],
   "source": [
    "x1 + x2  # 计算特点"
   ]
  },
  {
   "cell_type": "code",
   "execution_count": 37,
   "metadata": {},
   "outputs": [
    {
     "data": {
      "text/plain": [
       "tensor([[3.4183, 3.3681, 3.3668],\n",
       "        [3.0354, 3.9597, 3.5152]])"
      ]
     },
     "execution_count": 37,
     "metadata": {},
     "output_type": "execute_result"
    }
   ],
   "source": [
    "x1 + 3"
   ]
  },
  {
   "cell_type": "code",
   "execution_count": 38,
   "metadata": {
    "scrolled": true
   },
   "outputs": [
    {
     "data": {
      "text/plain": [
       "tensor([[3.4183, 3.3681, 3.3668],\n",
       "        [3.0354, 3.9597, 3.5152]])"
      ]
     },
     "execution_count": 38,
     "metadata": {},
     "output_type": "execute_result"
    }
   ],
   "source": [
    "x1.add(3)  # 返回一个结果"
   ]
  },
  {
   "cell_type": "code",
   "execution_count": 39,
   "metadata": {},
   "outputs": [
    {
     "data": {
      "text/plain": [
       "tensor([[3.4183, 3.3681, 3.3668],\n",
       "        [3.0354, 3.9597, 3.5152]])"
      ]
     },
     "execution_count": 39,
     "metadata": {},
     "output_type": "execute_result"
    }
   ],
   "source": [
    "x3 = torch.ones(2,3)\n",
    "x3.copy_(x1)  # x3 = x1 是深拷贝，相当于C++中的引用，x3改变的同时，x1也会改变\n",
    "x3.add_(3)    # `add_` 就地改变自身\n",
    "x3"
   ]
  },
  {
   "cell_type": "code",
   "execution_count": 40,
   "metadata": {},
   "outputs": [
    {
     "data": {
      "text/plain": [
       "tensor([[0.4183, 0.3681],\n",
       "        [0.3668, 0.0354],\n",
       "        [0.9597, 0.5152]])"
      ]
     },
     "execution_count": 40,
     "metadata": {},
     "output_type": "execute_result"
    }
   ],
   "source": [
    "x1.view(3, 2)  # `tensor.view()` 相当于 `numpy.reshape()` ; -1 代表自动计算 （只能有一个-1参数）"
   ]
  },
  {
   "cell_type": "code",
   "execution_count": 41,
   "metadata": {},
   "outputs": [
    {
     "data": {
      "text/plain": [
       "tensor(0.4439)"
      ]
     },
     "execution_count": 41,
     "metadata": {},
     "output_type": "execute_result"
    }
   ],
   "source": [
    "x1.mean()  # 均值"
   ]
  },
  {
   "cell_type": "code",
   "execution_count": 42,
   "metadata": {},
   "outputs": [
    {
     "data": {
      "text/plain": [
       "tensor(2.6635)"
      ]
     },
     "execution_count": 42,
     "metadata": {},
     "output_type": "execute_result"
    }
   ],
   "source": [
    "x1.sum()  # 求和"
   ]
  },
  {
   "cell_type": "code",
   "execution_count": 43,
   "metadata": {},
   "outputs": [
    {
     "data": {
      "text/plain": [
       "2.6635279655456543"
      ]
     },
     "execution_count": 43,
     "metadata": {},
     "output_type": "execute_result"
    }
   ],
   "source": [
    "# 注意这些都是 tensor 的数据类型，需要转换为 python 的标准值需要进行转换\n",
    "x1.sum().item()"
   ]
  },
  {
   "cell_type": "markdown",
   "metadata": {},
   "source": [
    "### Tensor 的自动微分\n",
    "\n",
    "将 ` Torch.Tensor` 属性 `.requires_grad` 设置为 `True`，\n",
    "\n",
    "`pytorch` 将开始跟踪此张量的所有操作。\n",
    "\n",
    "完成计算后，可以调用 `.backward()` 并自动计算所有梯度。\n",
    "\n",
    "该张量的梯度将累加到 `.grad` 属性中。\n"
   ]
  },
  {
   "cell_type": "code",
   "execution_count": 44,
   "metadata": {},
   "outputs": [],
   "source": [
    "x = torch.ones(2,2, requires_grad=True)"
   ]
  },
  {
   "cell_type": "code",
   "execution_count": 45,
   "metadata": {},
   "outputs": [
    {
     "name": "stdout",
     "output_type": "stream",
     "text": [
      "tensor([[1., 1.],\n",
      "        [1., 1.]], requires_grad=True)\n"
     ]
    },
    {
     "data": {
      "text/plain": [
       "True"
      ]
     },
     "execution_count": 45,
     "metadata": {},
     "output_type": "execute_result"
    }
   ],
   "source": [
    "print(x)\n",
    "x.requires_grad"
   ]
  },
  {
   "cell_type": "markdown",
   "metadata": {},
   "source": [
    "因此这里需要了解一下 Tensor 在 Pytorch 中的数据结构\n",
    "\n",
    "- data\n",
    "\n",
    "- grad\n",
    "\n",
    "- grad_fn"
   ]
  },
  {
   "cell_type": "code",
   "execution_count": 46,
   "metadata": {},
   "outputs": [
    {
     "data": {
      "text/plain": [
       "tensor([[1., 1.],\n",
       "        [1., 1.]])"
      ]
     },
     "execution_count": 46,
     "metadata": {},
     "output_type": "execute_result"
    }
   ],
   "source": [
    "x.data"
   ]
  },
  {
   "cell_type": "code",
   "execution_count": 47,
   "metadata": {},
   "outputs": [],
   "source": [
    "x.grad     # 返回空，也就是 NULL"
   ]
  },
  {
   "cell_type": "code",
   "execution_count": 48,
   "metadata": {},
   "outputs": [],
   "source": [
    "x.grad_fn  # 返回空，也就是 NULL "
   ]
  },
  {
   "cell_type": "code",
   "execution_count": 49,
   "metadata": {},
   "outputs": [],
   "source": [
    "y = x + 2"
   ]
  },
  {
   "cell_type": "code",
   "execution_count": 50,
   "metadata": {},
   "outputs": [
    {
     "data": {
      "text/plain": [
       "tensor([[3., 3.],\n",
       "        [3., 3.]], grad_fn=<AddBackward0>)"
      ]
     },
     "execution_count": 50,
     "metadata": {},
     "output_type": "execute_result"
    }
   ],
   "source": [
    "y"
   ]
  },
  {
   "cell_type": "code",
   "execution_count": 51,
   "metadata": {},
   "outputs": [
    {
     "data": {
      "text/plain": [
       "<AddBackward0 at 0x249b46926a0>"
      ]
     },
     "execution_count": 51,
     "metadata": {},
     "output_type": "execute_result"
    }
   ],
   "source": [
    "y.grad_fn"
   ]
  },
  {
   "cell_type": "code",
   "execution_count": 52,
   "metadata": {},
   "outputs": [],
   "source": [
    "z = y * y + 3"
   ]
  },
  {
   "cell_type": "code",
   "execution_count": 53,
   "metadata": {},
   "outputs": [],
   "source": [
    "out = z.mean()"
   ]
  },
  {
   "cell_type": "code",
   "execution_count": 54,
   "metadata": {},
   "outputs": [
    {
     "name": "stdout",
     "output_type": "stream",
     "text": [
      "tensor([[12., 12.],\n",
      "        [12., 12.]], grad_fn=<AddBackward0>)\n",
      "tensor(12., grad_fn=<MeanBackward0>)\n"
     ]
    }
   ],
   "source": [
    "# z 和 out 都是计算来的，因此都有`grad_fn`\n",
    "print(z)\n",
    "print(out)"
   ]
  },
  {
   "cell_type": "markdown",
   "metadata": {},
   "source": [
    "- 微分运算\n",
    "\n",
    "    d(out)/d(x)"
   ]
  },
  {
   "cell_type": "code",
   "execution_count": 55,
   "metadata": {},
   "outputs": [],
   "source": [
    "out.backward()  # 计算 out 的微分，将结果存在 x 里"
   ]
  },
  {
   "cell_type": "code",
   "execution_count": 56,
   "metadata": {},
   "outputs": [
    {
     "data": {
      "text/plain": [
       "tensor([[1.5000, 1.5000],\n",
       "        [1.5000, 1.5000]])"
      ]
     },
     "execution_count": 56,
     "metadata": {},
     "output_type": "execute_result"
    }
   ],
   "source": [
    "x.grad          # 此时 x 的梯度就不为空了"
   ]
  },
  {
   "cell_type": "code",
   "execution_count": 57,
   "metadata": {},
   "outputs": [
    {
     "data": {
      "text/plain": [
       "tensor([[1., 1.],\n",
       "        [1., 1.]])"
      ]
     },
     "execution_count": 57,
     "metadata": {},
     "output_type": "execute_result"
    }
   ],
   "source": [
    "x.data          # 但是 x 的数据是没有变化的"
   ]
  },
  {
   "cell_type": "code",
   "execution_count": 58,
   "metadata": {},
   "outputs": [
    {
     "name": "stdout",
     "output_type": "stream",
     "text": [
      "False\n"
     ]
    }
   ],
   "source": [
    "# 在with结构体内，就不会自动跟踪计算微分\n",
    "with torch.no_grad():\n",
    "    print((x**2).requires_grad)"
   ]
  },
  {
   "cell_type": "code",
   "execution_count": 59,
   "metadata": {},
   "outputs": [
    {
     "name": "stdout",
     "output_type": "stream",
     "text": [
      "True\n"
     ]
    }
   ],
   "source": [
    "# 不包含在with结构体内，就会一直跟踪数据\n",
    "print((x**2).requires_grad)"
   ]
  },
  {
   "cell_type": "code",
   "execution_count": 60,
   "metadata": {},
   "outputs": [
    {
     "name": "stdout",
     "output_type": "stream",
     "text": [
      "tensor([[1., 1.],\n",
      "        [1., 1.]])\n",
      "False\n"
     ]
    }
   ],
   "source": [
    "# 如果想获取不包含不跟踪微分的数据，可以用`detach`来赋值\n",
    "x_no_grad = x.detach()\n",
    "print(x_no_grad)\n",
    "print(x_no_grad.requires_grad)"
   ]
  },
  {
   "cell_type": "code",
   "execution_count": 61,
   "metadata": {},
   "outputs": [
    {
     "data": {
      "text/plain": [
       "tensor([[1., 1.],\n",
       "        [1., 1.]], requires_grad=True)"
      ]
     },
     "execution_count": 61,
     "metadata": {},
     "output_type": "execute_result"
    }
   ],
   "source": [
    "x_no_grad.requires_grad_(True)  # `_`可以改变自身属性"
   ]
  },
  {
   "cell_type": "markdown",
   "metadata": {},
   "source": [
    "### 入门实例的分解\n",
    "\n",
    "对于线性模型，`y = w * x + b`，需要初始化两个变量"
   ]
  },
  {
   "cell_type": "code",
   "execution_count": 62,
   "metadata": {},
   "outputs": [],
   "source": [
    "import torch"
   ]
  },
  {
   "cell_type": "code",
   "execution_count": 63,
   "metadata": {},
   "outputs": [],
   "source": [
    "# 获取数据\n",
    "X = torch.from_numpy(data.Education.values.reshape(-1,1).astype(np.float32))\n",
    "Y = torch.from_numpy(data.Income.values.reshape(-1,1).astype(np.float32))"
   ]
  },
  {
   "cell_type": "code",
   "execution_count": 64,
   "metadata": {},
   "outputs": [],
   "source": [
    "# 初始化变量\n",
    "w = torch.randn(1, requires_grad=True)\n",
    "b = torch.zeros(1, requires_grad=True)"
   ]
  },
  {
   "cell_type": "code",
   "execution_count": 65,
   "metadata": {},
   "outputs": [],
   "source": [
    "# 学习速率\n",
    "learning_rate = 0.0001"
   ]
  },
  {
   "cell_type": "code",
   "execution_count": 66,
   "metadata": {},
   "outputs": [],
   "source": [
    "for epoch in range(5000):\n",
    "    for x, y in zip(X, Y):\n",
    "        y_pred = torch.matmul(x, w) + b\n",
    "        loss = (y - y_pred).pow(2).mean()  # 均方误差\n",
    "        if not w.grad is None:\n",
    "            w.grad.data.zero_()\n",
    "        if not b.grad is None:\n",
    "            b.grad.data.zero_()\n",
    "        loss.backward()\n",
    "        with torch.no_grad():  # 优化部分，不需要跟踪梯度\n",
    "            w.data -= w.grad.data * learning_rate\n",
    "            b.data -= b.grad.data * learning_rate"
   ]
  },
  {
   "cell_type": "code",
   "execution_count": 67,
   "metadata": {},
   "outputs": [
    {
     "name": "stdout",
     "output_type": "stream",
     "text": [
      "tensor([3.8286], requires_grad=True) tensor([4.4386], requires_grad=True)\n"
     ]
    }
   ],
   "source": [
    "print(w, b)"
   ]
  },
  {
   "cell_type": "markdown",
   "metadata": {},
   "source": [
    "## 逻辑回归与多层感知器\n",
    "\n",
    "### 简介与数据预处理\n",
    "\n",
    "- Sigmoid 函数\n",
    "\n",
    "    ![](https://i.loli.net/2021/10/23/SwWv2xcTzGLHRt3.png)\n",
    "    \n",
    "    Sigmoid函数是一个概率分布函数，给定某个输入，它将输出为一个概率值。\n",
    "    \n",
    "- 逻辑回归损失函数\n",
    "\n",
    "    平方差所惩罚的是与损失为同一数量级的情形\n",
    "    \n",
    "    对于分类问题，我们最好的使用交叉熵损失函数会更有效，\n",
    "    \n",
    "    交叉熵会输出一个更大的“损失”。\n",
    "    \n",
    "    交叉熵刻画的是实际输出（概率）与期望输出（概率）的距离，也就是交叉熵的值越小，两个概率分布就越接近。\n",
    "    \n",
    "    假设概率分布p为期望输出，概率分布q为实际输出，H(p,q)为交叉熵，则：\n",
    "    \n",
    "    $$\n",
    "    H(p,q) = - \\sum_{x}{p(x)\\log{q(x)}}\n",
    "    $$\n",
    "    \n",
    "    损失曲线：\n",
    "    \n",
    "    ![](https://i.loli.net/2021/10/23/oR4lVExteMjNKy7.png)\n",
    "    \n",
    "- Pytorch交叉熵\n",
    "\n",
    "    在pytorch里，我们使用 `nn.BCELoss()` 来计算二元交叉熵。"
   ]
  },
  {
   "cell_type": "markdown",
   "metadata": {},
   "source": [
    "### 逻辑回归模型的创建与训练"
   ]
  },
  {
   "cell_type": "code",
   "execution_count": 68,
   "metadata": {},
   "outputs": [],
   "source": [
    "import torch\n",
    "from torch import nn"
   ]
  },
  {
   "cell_type": "code",
   "execution_count": 69,
   "metadata": {},
   "outputs": [],
   "source": [
    "model = nn.Sequential(\n",
    "            nn.Linear(15,1),  # 15维映射1维\n",
    "            nn.Sigmoid()\n",
    ")"
   ]
  },
  {
   "cell_type": "code",
   "execution_count": 70,
   "metadata": {},
   "outputs": [],
   "source": [
    "loss = nn.BCELoss()  # 二元交叉熵"
   ]
  },
  {
   "cell_type": "code",
   "execution_count": 71,
   "metadata": {},
   "outputs": [],
   "source": [
    "# 优化函数\n",
    "opt = torch.optim.Adam(model.parameters(), lr=0.001)  # SDG是随机梯度下降，Adam会考虑之前的下降速率，并进行加权"
   ]
  },
  {
   "cell_type": "code",
   "execution_count": 72,
   "metadata": {},
   "outputs": [],
   "source": [
    "# 分批次训练\n",
    "batches = 16\n",
    "no_of_batch = 653 // 16"
   ]
  },
  {
   "cell_type": "code",
   "execution_count": 73,
   "metadata": {},
   "outputs": [],
   "source": [
    "# 训练次数\n",
    "epoches = 1000"
   ]
  },
  {
   "cell_type": "code",
   "execution_count": 74,
   "metadata": {},
   "outputs": [],
   "source": [
    "for epoch in range(epoches):\n",
    "    for i in range(no_of_batch):\n",
    "        start = i * batches\n",
    "        end = start + batches\n",
    "#         x = X[start:end]\n",
    "#         y = y[start:end]\n",
    "#         y_pred = model(x)\n",
    "#         loss = loss_fn(y_pred, y)\n",
    "#         opt.zero_grad()\n",
    "#         loss.backward()\n",
    "#         opt.step()"
   ]
  },
  {
   "cell_type": "code",
   "execution_count": 75,
   "metadata": {},
   "outputs": [
    {
     "data": {
      "text/plain": [
       "OrderedDict([('0.weight',\n",
       "              tensor([[-2.2048e-01,  2.1091e-04,  2.2879e-01, -3.2480e-02,  7.1716e-02,\n",
       "                       -4.9913e-02, -2.1228e-01, -4.0915e-02, -1.6182e-01, -2.8417e-04,\n",
       "                        2.3498e-01, -7.3848e-03, -2.1836e-01,  1.0701e-01,  8.6605e-02]])),\n",
       "             ('0.bias', tensor([0.1599]))])"
      ]
     },
     "execution_count": 75,
     "metadata": {},
     "output_type": "execute_result"
    }
   ],
   "source": [
    "model.state_dict()  # sigmoid(w1*x1+w2*x2+...+wn*xn+b)"
   ]
  },
  {
   "cell_type": "code",
   "execution_count": 76,
   "metadata": {},
   "outputs": [],
   "source": [
    "# 计算正确率\n",
    "# ((model(X).data.numpy() > 0.5).astype(\"int\") == Y.numpy()).mean()"
   ]
  },
  {
   "cell_type": "markdown",
   "metadata": {},
   "source": [
    "### 多层感知器（神经网络）\n",
    "\n",
    "逻辑回归模型就是一个单个神经元：\n",
    "\n",
    "计算输入特征的加权和，然后使用一个激活函数（或传递函数）计算输出。\n",
    "\n",
    "- 单个神经元\n",
    "\n",
    "    ![](https://i.loli.net/2021/10/23/dFAZozBbrnQme2C.png)\n",
    "     \n",
    "- 多个神经元\n",
    "\n",
    "    ![](https://i.loli.net/2021/10/23/riYlG6qwkxnSzKo.png)\n",
    "    \n",
    "- 单层神经元的缺陷\n",
    "\n",
    "    无法拟合“异或”运算\n",
    "    \n",
    "    异或问题看似简单，但是单层神经元确实没有办法解决。\n",
    "    \n",
    "    神经元要求数据必须是线性可分的，异或问题无法找到一条直线分割两个类，这个问题使得神经网络的发展停滞了很多年。"
   ]
  }
 ],
 "metadata": {
  "kernelspec": {
   "display_name": "Python 3",
   "language": "python",
   "name": "python3"
  },
  "language_info": {
   "codemirror_mode": {
    "name": "ipython",
    "version": 3
   },
   "file_extension": ".py",
   "mimetype": "text/x-python",
   "name": "python",
   "nbconvert_exporter": "python",
   "pygments_lexer": "ipython3",
   "version": "3.8.5"
  },
  "toc": {
   "base_numbering": 1,
   "nav_menu": {},
   "number_sections": true,
   "sideBar": true,
   "skip_h1_title": false,
   "title_cell": "Table of Contents",
   "title_sidebar": "Contents",
   "toc_cell": false,
   "toc_position": {
    "height": "calc(100% - 180px)",
    "left": "10px",
    "top": "150px",
    "width": "512px"
   },
   "toc_section_display": true,
   "toc_window_display": true
  },
  "varInspector": {
   "cols": {
    "lenName": 16,
    "lenType": 16,
    "lenVar": 40
   },
   "kernels_config": {
    "python": {
     "delete_cmd_postfix": "",
     "delete_cmd_prefix": "del ",
     "library": "var_list.py",
     "varRefreshCmd": "print(var_dic_list())"
    },
    "r": {
     "delete_cmd_postfix": ") ",
     "delete_cmd_prefix": "rm(",
     "library": "var_list.r",
     "varRefreshCmd": "cat(var_dic_list()) "
    }
   },
   "types_to_exclude": [
    "module",
    "function",
    "builtin_function_or_method",
    "instance",
    "_Feature"
   ],
   "window_display": false
  }
 },
 "nbformat": 4,
 "nbformat_minor": 4
}
