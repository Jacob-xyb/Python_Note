{
 "cells": [
  {
   "cell_type": "markdown",
   "id": "dcb69909",
   "metadata": {
    "pycharm": {
     "name": "#%% md\n"
    }
   },
   "source": [
    "# 输入和输出"
   ]
  },
  {
   "cell_type": "markdown",
   "id": "1ebda3e0",
   "metadata": {
    "pycharm": {
     "name": "#%% md\n"
    }
   },
   "source": [
    "## print()"
   ]
  },
  {
   "cell_type": "markdown",
   "id": "bf5ec645",
   "metadata": {
    "pycharm": {
     "name": "#%% md\n"
    }
   },
   "source": [
    "1. 所有的关键字都会转为字符串，并用 sep 连接"
   ]
  },
  {
   "cell_type": "code",
   "execution_count": 3,
   "id": "b93530f6",
   "metadata": {
    "pycharm": {
     "name": "#%%\n"
    }
   },
   "outputs": [
    {
     "name": "stdout",
     "output_type": "stream",
     "text": [
      "hello world\n",
      "hello-world\n",
      "hello world\n"
     ]
    }
   ],
   "source": [
    "print(\"hello\", \"world\")\n",
    "print(\"hello\", \"world\", sep='-')\n",
    "print(\"hello\", \"world\", sep=None)  # sep=None时，sep也会采用默认值"
   ]
  },
  {
   "cell_type": "markdown",
   "id": "14999d99",
   "metadata": {},
   "source": [
    "2. 如果没有输入参数，将只写入 end。"
   ]
  },
  {
   "cell_type": "code",
   "execution_count": 4,
   "id": "86e14e83",
   "metadata": {},
   "outputs": [
    {
     "name": "stdout",
     "output_type": "stream",
     "text": [
      "hello world\n",
      "\n",
      "hello world\n"
     ]
    }
   ],
   "source": [
    "print(\"hello\", \"world\")\n",
    "print()\n",
    "print(\"hello\", \"world\")"
   ]
  },
  {
   "cell_type": "markdown",
   "id": "f56cd06b",
   "metadata": {},
   "source": [
    "打印输出到文件"
   ]
  },
  {
   "cell_type": "code",
   "execution_count": 5,
   "id": "a6664edd",
   "metadata": {},
   "outputs": [],
   "source": [
    "f = open('test.txt', 'w')\n",
    "print(\"xxxx\", file=f)\n",
    "f.close()"
   ]
  },
  {
   "cell_type": "markdown",
   "id": "64e2b3aa",
   "metadata": {
    "pycharm": {
     "name": "#%% md\n"
    }
   },
   "source": [
    "## 文件输入输出"
   ]
  },
  {
   "cell_type": "code",
   "execution_count": 1,
   "id": "0f6950aa",
   "metadata": {
    "pycharm": {
     "name": "#%%\n"
    }
   },
   "outputs": [],
   "source": [
    "# 打开一个文件\n",
    "f = open(\"./tmp/foo.txt\", \"w\")\n",
    "\n",
    "f.write( \"Python 是一个非常好的语言。\\n是的，的确非常好!!\\n\" )\n",
    "\n",
    "# 关闭打开的文件\n",
    "f.close()"
   ]
  },
  {
   "cell_type": "code",
   "execution_count": 2,
   "id": "2e5850ef",
   "metadata": {
    "pycharm": {
     "name": "#%%\n"
    }
   },
   "outputs": [
    {
     "name": "stdout",
     "output_type": "stream",
     "text": [
      "Python 是一个非常好的语言。\n",
      "是的，的确非常好!!\n",
      "\n"
     ]
    }
   ],
   "source": [
    "# 打开一个文件\n",
    "f = open(\"./tmp/foo.txt\", \"r\")\n",
    "\n",
    "str = f.read()\n",
    "print(str)\n",
    "\n",
    "# 关闭打开的文件\n",
    "f.close()"
   ]
  },
  {
   "cell_type": "code",
   "execution_count": null,
   "id": "84aa82c8",
   "metadata": {
    "pycharm": {
     "name": "#%%\n"
    }
   },
   "outputs": [],
   "source": [
    "f = open(\"./tmp/foo.txt\", \"r\")\n",
    "print(f.tell())\n",
    "f.close()"
   ]
  },
  {
   "cell_type": "markdown",
   "id": "116abff4",
   "metadata": {
    "pycharm": {
     "name": "#%% md\n"
    }
   },
   "source": [
    "###  pickle 模块"
   ]
  },
  {
   "cell_type": "code",
   "execution_count": 4,
   "id": "1d1edeba",
   "metadata": {
    "pycharm": {
     "name": "#%%\n"
    }
   },
   "outputs": [],
   "source": [
    "import pickle\n",
    "\n",
    "# 使用pickle模块将数据对象保存到文件\n",
    "data1 = {'a': [1, 2.0, 3, 4+6j],\n",
    "         'b': ('string', u'Unicode string'),\n",
    "         'c': None}\n",
    "\n",
    "selfref_list = [1, 2, 3]\n",
    "selfref_list.append(selfref_list)\n",
    "\n",
    "output = open('./tmp/data.pkl', 'wb')\n",
    "\n",
    "# Pickle dictionary using protocol 0.\n",
    "pickle.dump(data1, output)\n",
    "\n",
    "# Pickle the list using the highest protocol available.\n",
    "pickle.dump(selfref_list, output, -1)\n",
    "\n",
    "output.close()"
   ]
  },
  {
   "cell_type": "code",
   "execution_count": 10,
   "id": "f8daffc4",
   "metadata": {
    "pycharm": {
     "name": "#%%\n"
    }
   },
   "outputs": [
    {
     "name": "stdout",
     "output_type": "stream",
     "text": [
      "{'a': [1, 2.0, 3, (4+6j)], 'b': ('string', 'Unicode string'), 'c': None}\n",
      "[1, 2, 3, [...]]\n",
      "[1, 2, 3, <Recursion on list with id=2250283680512>]\n"
     ]
    }
   ],
   "source": [
    "import pprint, pickle\n",
    "\n",
    "#使用pickle模块从文件中重构python对象\n",
    "pkl_file = open('./tmp/data.pkl', 'rb')\n",
    "\n",
    "data1 = pickle.load(pkl_file)\n",
    "pprint.pprint(data1)\n",
    "\n",
    "data2 = pickle.load(pkl_file)\n",
    "pprint.pprint(data2)\n",
    "pkl_file.close()"
   ]
  },
  {
   "cell_type": "markdown",
   "id": "7a499107",
   "metadata": {
    "pycharm": {
     "name": "#%% md\n"
    }
   },
   "source": [
    "#### pickle 对类的处理 "
   ]
  },
  {
   "cell_type": "code",
   "execution_count": 5,
   "id": "6d7add10",
   "metadata": {
    "pycharm": {
     "name": "#%%\n"
    }
   },
   "outputs": [
    {
     "name": "stdout",
     "output_type": "stream",
     "text": [
      "hello, world!\n",
      "jacob\n",
      "<class '__main__.JxTool'>\n"
     ]
    }
   ],
   "source": [
    "import pickle\n",
    "class JxTool:\n",
    "    def __init__(self):\n",
    "        self.name = 'jacob'\n",
    "    \n",
    "    def test(self):\n",
    "        print(\"hello, world!\")\n",
    "\n",
    "obj_a = JxTool()\n",
    "obj_a.test()\n",
    "output = open('./tmp/obj.pkl', 'wb')\n",
    "pickle.dump(obj_a, output)\n",
    "output.close()\n",
    "\n",
    "# read pkl\n",
    "pkl_file = open('./tmp/obj.pkl', 'rb')\n",
    "data = pickle.load(pkl_file)\n",
    "pkl_file.close()\n",
    "\n",
    "print(data.name)\n",
    "print(type(data))"
   ]
  },
  {
   "cell_type": "markdown",
   "id": "b3ec59aa",
   "metadata": {
    "pycharm": {
     "name": "#%% md\n"
    }
   },
   "source": [
    "## JSON\n",
    "\n",
    "TODO"
   ]
  }
 ],
 "metadata": {
  "kernelspec": {
   "display_name": "Python [conda env:python3.11]",
   "language": "python",
   "name": "conda-env-python3.11-py"
  },
  "language_info": {
   "codemirror_mode": {
    "name": "ipython",
    "version": 3
   },
   "file_extension": ".py",
   "mimetype": "text/x-python",
   "name": "python",
   "nbconvert_exporter": "python",
   "pygments_lexer": "ipython3",
   "version": "3.11.0"
  },
  "toc": {
   "base_numbering": 1,
   "nav_menu": {},
   "number_sections": true,
   "sideBar": true,
   "skip_h1_title": false,
   "title_cell": "Table of Contents",
   "title_sidebar": "Contents",
   "toc_cell": false,
   "toc_position": {
    "height": "calc(100% - 180px)",
    "left": "10px",
    "top": "150px",
    "width": "426.667px"
   },
   "toc_section_display": true,
   "toc_window_display": true
  },
  "varInspector": {
   "cols": {
    "lenName": 16,
    "lenType": 16,
    "lenVar": 40
   },
   "kernels_config": {
    "python": {
     "delete_cmd_postfix": "",
     "delete_cmd_prefix": "del ",
     "library": "var_list.py",
     "varRefreshCmd": "print(var_dic_list())"
    },
    "r": {
     "delete_cmd_postfix": ") ",
     "delete_cmd_prefix": "rm(",
     "library": "var_list.r",
     "varRefreshCmd": "cat(var_dic_list()) "
    }
   },
   "types_to_exclude": [
    "module",
    "function",
    "builtin_function_or_method",
    "instance",
    "_Feature"
   ],
   "window_display": false
  }
 },
 "nbformat": 4,
 "nbformat_minor": 5
}
