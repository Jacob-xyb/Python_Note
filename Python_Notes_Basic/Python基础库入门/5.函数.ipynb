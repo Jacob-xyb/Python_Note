{
 "cells": [
  {
   "cell_type": "markdown",
   "id": "0d0049b6",
   "metadata": {},
   "source": [
    "# 函数"
   ]
  },
  {
   "cell_type": "markdown",
   "id": "7d3a5f81",
   "metadata": {},
   "source": [
    "## 参数"
   ]
  },
  {
   "cell_type": "markdown",
   "id": "1dbdc345",
   "metadata": {},
   "source": [
    "### 参数类型"
   ]
  },
  {
   "cell_type": "markdown",
   "id": "4762a7a7",
   "metadata": {},
   "source": [
    "#### 不定长参数"
   ]
  },
  {
   "cell_type": "markdown",
   "id": "286c4d09",
   "metadata": {},
   "source": [
    "- 双星号参数"
   ]
  },
  {
   "cell_type": "code",
   "execution_count": 7,
   "id": "67dc9645",
   "metadata": {},
   "outputs": [
    {
     "name": "stdout",
     "output_type": "stream",
     "text": [
      "{'a': 3, 'b': 4}\n",
      "7\n"
     ]
    }
   ],
   "source": [
    "def test_sum(**kwargs):\n",
    "    print(kwargs)\n",
    "    return kwargs.get('a') + kwargs.get('b')\n",
    "\n",
    "item = {'a': 3, 'b': 4}\n",
    "print(test_sum(**item))"
   ]
  },
  {
   "cell_type": "markdown",
   "id": "59010b8f",
   "metadata": {},
   "source": [
    "#### 强制关键字传入"
   ]
  },
  {
   "cell_type": "code",
   "execution_count": 10,
   "id": "270dab23",
   "metadata": {},
   "outputs": [
    {
     "name": "stdout",
     "output_type": "stream",
     "text": [
      "6\n",
      "6\n"
     ]
    }
   ],
   "source": [
    "# *号参数后必须使用关键字传入\n",
    "\n",
    "def func(a, b, *, c):\n",
    "    return a+b+c\n",
    "\n",
    "\n",
    "def func2(*, a, b, c):\n",
    "    return a+b+c\n",
    "\n",
    "\n",
    "print(func(1, 2, c=3))\n",
    "# print(func2(1, 2, c=3))\n",
    "# TypeError: func2() takes 0 positional arguments but 2 positional arguments (and 1 keyword-only argument) were given\n",
    "print(func2(a=1, b=2, c=3))"
   ]
  }
 ],
 "metadata": {
  "kernelspec": {
   "display_name": "Python 3 (ipykernel)",
   "language": "python",
   "name": "python3"
  },
  "language_info": {
   "codemirror_mode": {
    "name": "ipython",
    "version": 3
   },
   "file_extension": ".py",
   "mimetype": "text/x-python",
   "name": "python",
   "nbconvert_exporter": "python",
   "pygments_lexer": "ipython3",
   "version": "3.8.12"
  },
  "toc": {
   "base_numbering": 1,
   "nav_menu": {},
   "number_sections": true,
   "sideBar": true,
   "skip_h1_title": false,
   "title_cell": "Table of Contents",
   "title_sidebar": "Contents",
   "toc_cell": false,
   "toc_position": {},
   "toc_section_display": true,
   "toc_window_display": false
  },
  "varInspector": {
   "cols": {
    "lenName": 16,
    "lenType": 16,
    "lenVar": 40
   },
   "kernels_config": {
    "python": {
     "delete_cmd_postfix": "",
     "delete_cmd_prefix": "del ",
     "library": "var_list.py",
     "varRefreshCmd": "print(var_dic_list())"
    },
    "r": {
     "delete_cmd_postfix": ") ",
     "delete_cmd_prefix": "rm(",
     "library": "var_list.r",
     "varRefreshCmd": "cat(var_dic_list()) "
    }
   },
   "types_to_exclude": [
    "module",
    "function",
    "builtin_function_or_method",
    "instance",
    "_Feature"
   ],
   "window_display": false
  }
 },
 "nbformat": 4,
 "nbformat_minor": 5
}
