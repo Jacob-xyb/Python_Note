{
 "cells": [
  {
   "cell_type": "markdown",
   "id": "9c0a58a7",
   "metadata": {},
   "source": [
    "# 装饰器"
   ]
  },
  {
   "cell_type": "markdown",
   "id": "0542d899",
   "metadata": {},
   "source": [
    "## 装饰器的简单示例"
   ]
  },
  {
   "cell_type": "code",
   "execution_count": 1,
   "id": "5e342db0",
   "metadata": {},
   "outputs": [
    {
     "name": "stdout",
     "output_type": "stream",
     "text": [
      "发图片\n"
     ]
    }
   ],
   "source": [
    "# 定义两个功能函数\n",
    "def fss():\n",
    "    print(\"发说说\")\n",
    "\n",
    "def ftp():\n",
    "    print(\"发图片\")\n",
    "    \n",
    "# 相关逻辑代码\n",
    "btnIndex = 2\n",
    "if btnIndex == 1:\n",
    "    fss()\n",
    "else:\n",
    "    ftp()"
   ]
  },
  {
   "cell_type": "code",
   "execution_count": 2,
   "id": "4948bb0c",
   "metadata": {},
   "outputs": [
    {
     "name": "stdout",
     "output_type": "stream",
     "text": [
      "登陆验证...\n",
      "发图片\n"
     ]
    }
   ],
   "source": [
    "# 操作前提需要有登陆验证的操作\n",
    "# 1. 直接在业务逻辑代码里面添加验证操作\n",
    "\n",
    "# 相关逻辑代码\n",
    "btnIndex = 2\n",
    "if btnIndex == 1:\n",
    "    print(\"登陆验证...\")\n",
    "    fss()\n",
    "else:\n",
    "    print(\"登陆验证...\")\n",
    "    ftp()\n",
    "\n",
    "# 由于业务逻辑代码非常多，所以每次调用功能函数之前，都需要做一次验证，所以代码冗余度比较大，且不好维护"
   ]
  },
  {
   "cell_type": "code",
   "execution_count": 4,
   "id": "eb6a27ef",
   "metadata": {},
   "outputs": [
    {
     "name": "stdout",
     "output_type": "stream",
     "text": [
      "登陆验证...\n",
      "发图片\n"
     ]
    }
   ],
   "source": [
    "# 2. 直接在功能函数里面修改\n",
    "# 定义两个功能函数\n",
    "def checkLogin():\n",
    "    print(\"登陆验证...\")\n",
    "\n",
    "def fss():\n",
    "    checkLogin()\n",
    "    print(\"发说说\")\n",
    "\n",
    "def ftp():\n",
    "    checkLogin()\n",
    "    print(\"发图片\")\n",
    "    \n",
    "# 相关逻辑代码\n",
    "btnIndex = 2\n",
    "if btnIndex == 1:\n",
    "    fss()\n",
    "else:\n",
    "    ftp()\n",
    "    \n",
    "# 这样实现不适用于面向对象的思想，也没有遵循函数功能单一原则。"
   ]
  },
  {
   "cell_type": "code",
   "execution_count": null,
   "id": "c3e0a398",
   "metadata": {},
   "outputs": [],
   "source": [
    "# 3. 将函数作为参数传递进来\n",
    "\n",
    "# 定义两个功能函数\n",
    "def checkLogin(func):\n",
    "    print(\"登陆验证...\")\n",
    "    func()\n",
    "\n",
    "def fss():\n",
    "    print(\"发说说\")\n",
    "\n",
    "def ftp():\n",
    "    print(\"发图片\")\n",
    "    \n",
    "# 相关逻辑代码\n",
    "btnIndex = 2\n",
    "if btnIndex == 1:\n",
    "    # fss()\n",
    "    checkLogin(fss)\n",
    "else:\n",
    "    # ftp()\n",
    "    checkLogin(fss)\n",
    "    \n",
    "# 这样写的问题在于，业务逻辑代码还是发生了改变，需要更改所有业务逻辑代码"
   ]
  },
  {
   "cell_type": "code",
   "execution_count": 5,
   "id": "e6fe9177",
   "metadata": {},
   "outputs": [
    {
     "name": "stdout",
     "output_type": "stream",
     "text": [
      "登陆验证...\n",
      "发图片\n"
     ]
    }
   ],
   "source": [
    "# 4. 采用闭包来不更改原功能函数，其实这已经实现了装饰器\n",
    "# 如果不采用闭包，对象赋值时，会直接调用函数，如下：\n",
    "\"\"\"\n",
    "def checkLogin(func):\n",
    "    print(\"登陆验证...\")\n",
    "    func()\n",
    "\n",
    "def fss():\n",
    "    print(\"发说说\")\n",
    "fss = checkLogin(fss)\n",
    "\"\"\"\n",
    "\n",
    "\n",
    "# 定义两个功能函数\n",
    "def checkLogin(func):\n",
    "    def inner():\n",
    "        print(\"登陆验证...\")\n",
    "        func()\n",
    "    return inner\n",
    "\n",
    "def fss():\n",
    "    print(\"发说说\")\n",
    "fss = checkLogin(fss)\n",
    "    \n",
    "def ftp():\n",
    "    print(\"发图片\")\n",
    "ftp = checkLogin(ftp)\n",
    "    \n",
    "# 相关逻辑代码\n",
    "btnIndex = 2\n",
    "if btnIndex == 1:\n",
    "    fss()\n",
    "else:\n",
    "    ftp()"
   ]
  },
  {
   "cell_type": "code",
   "execution_count": 6,
   "id": "cd91cad4",
   "metadata": {},
   "outputs": [
    {
     "name": "stdout",
     "output_type": "stream",
     "text": [
      "登陆验证...\n",
      "发图片\n"
     ]
    }
   ],
   "source": [
    "# 5. python 语法糖实现装饰器\n",
    "\n",
    "# 定义两个功能函数\n",
    "def checkLogin(func):\n",
    "    def inner():\n",
    "        print(\"登陆验证...\")\n",
    "        func()\n",
    "    return inner\n",
    "\n",
    "@checkLogin\n",
    "def fss():\n",
    "    print(\"发说说\")\n",
    "\n",
    "@checkLogin\n",
    "def ftp():\n",
    "    print(\"发图片\")\n",
    "    \n",
    "# 相关逻辑代码\n",
    "btnIndex = 2\n",
    "if btnIndex == 1:\n",
    "    fss()\n",
    "else:\n",
    "    ftp()"
   ]
  },
  {
   "cell_type": "markdown",
   "id": "42f18330",
   "metadata": {},
   "source": [
    "## 装饰器执行时间"
   ]
  },
  {
   "cell_type": "code",
   "execution_count": 7,
   "id": "29208fc4",
   "metadata": {},
   "outputs": [
    {
     "name": "stdout",
     "output_type": "stream",
     "text": [
      "是否执行\n"
     ]
    }
   ],
   "source": [
    "def checkLogin(func):\n",
    "    print(\"是否执行\")\n",
    "    def inner():\n",
    "        print(\"登陆验证...\")\n",
    "        func()\n",
    "    return inner\n",
    "\n",
    "@checkLogin\n",
    "def fss():\n",
    "    print(\"发说说\")"
   ]
  },
  {
   "cell_type": "markdown",
   "id": "bcbf6759",
   "metadata": {},
   "source": [
    "## 函数装饰器"
   ]
  },
  {
   "cell_type": "markdown",
   "id": "2652cb74",
   "metadata": {},
   "source": [
    "### 带参数的装饰器"
   ]
  },
  {
   "cell_type": "code",
   "execution_count": 2,
   "id": "63f3617a",
   "metadata": {},
   "outputs": [
    {
     "name": "stdout",
     "output_type": "stream",
     "text": [
      "wrapper of decorator\n",
      "hello world\n"
     ]
    }
   ],
   "source": [
    "def my_decorator(func):\n",
    "    def wrapper(message):\n",
    "        print('wrapper of decorator')\n",
    "        func(message)\n",
    "    return wrapper\n",
    "\n",
    "@my_decorator\n",
    "def greet(message):\n",
    "\tprint(message)\n",
    "    \n",
    "greet('hello world')"
   ]
  },
  {
   "cell_type": "markdown",
   "id": "b1643100",
   "metadata": {},
   "source": [
    "### 带自定义参数的装饰器"
   ]
  },
  {
   "cell_type": "code",
   "execution_count": 10,
   "id": "5d306d74",
   "metadata": {},
   "outputs": [
    {
     "name": "stdout",
     "output_type": "stream",
     "text": [
      "wrapper of decorator\n",
      "hello world\n",
      "wrapper of decorator\n",
      "hello world\n",
      "wrapper of decorator\n",
      "hello world\n",
      "wrapper of decorator\n",
      "hello world\n"
     ]
    }
   ],
   "source": [
    "def repeat(num):\n",
    "    def my_decorator(func):\n",
    "        def wrapper(*args, **kwargs):\n",
    "            for i in range(num):\n",
    "                print('wrapper of decorator')\n",
    "                func(*args, **kwargs)\n",
    "        return wrapper\n",
    "    return my_decorator\n",
    "\n",
    "@repeat(4)\n",
    "def greet(message):\n",
    "    print(message)\n",
    "    \n",
    "greet(\"hello world\")"
   ]
  },
  {
   "cell_type": "markdown",
   "id": "c54fd698",
   "metadata": {},
   "source": [
    "### 原函数还是原函数吗？"
   ]
  },
  {
   "cell_type": "code",
   "execution_count": 11,
   "id": "bdfbdc4b",
   "metadata": {},
   "outputs": [
    {
     "data": {
      "text/plain": [
       "'wrapper'"
      ]
     },
     "execution_count": 11,
     "metadata": {},
     "output_type": "execute_result"
    }
   ],
   "source": [
    "def repeat(num):\n",
    "    def my_decorator(func):\n",
    "        def wrapper(*args, **kwargs):\n",
    "            for i in range(num):\n",
    "                print('wrapper of decorator')\n",
    "                func(*args, **kwargs)\n",
    "        return wrapper\n",
    "    return my_decorator\n",
    "\n",
    "@repeat(4)\n",
    "def greet(message):\n",
    "    print(message)\n",
    "\n",
    "print(greet.__name__)"
   ]
  },
  {
   "cell_type": "code",
   "execution_count": 37,
   "id": "054a051b",
   "metadata": {},
   "outputs": [
    {
     "name": "stdout",
     "output_type": "stream",
     "text": [
      "func1\n",
      "x\n",
      "wrapper1\n",
      "wrapper1\n",
      "hello world\n",
      "hello world\n"
     ]
    }
   ],
   "source": [
    "def func2(func):\n",
    "    print('x')\n",
    "    def wrapper1():\n",
    "        print('hello', end=\" \")\n",
    "        func()\n",
    "    return wrapper1\n",
    "\n",
    "# @func2\n",
    "def func1():\n",
    "    print('world')\n",
    "    \n",
    "    \n",
    "print(func1.__name__)\n",
    "\n",
    "x = func2(func1)\n",
    "\n",
    "print(x.__name__)\n",
    "\n",
    "y = x\n",
    "\n",
    "print(y.__name__)\n",
    "\n",
    "x()\n",
    "y()"
   ]
  },
  {
   "cell_type": "code",
   "execution_count": 34,
   "id": "c84db2b7",
   "metadata": {},
   "outputs": [
    {
     "name": "stdout",
     "output_type": "stream",
     "text": [
      "greet\n",
      "my_decorator\n"
     ]
    }
   ],
   "source": [
    "import functools\n",
    "\n",
    "def my_decorator(func):\n",
    "    @functools.wraps(func)\n",
    "    def wrapper(*args, **kwargs):\n",
    "        print('wrapper of decorator')\n",
    "        func(*args, **kwargs)\n",
    "    return wrapper\n",
    "\n",
    "@my_decorator\n",
    "def greet(message):\n",
    "    print(message)\n",
    "   \n",
    "print(greet.__name__)\t# greet\n",
    "print(my_decorator.__name__)"
   ]
  },
  {
   "cell_type": "markdown",
   "id": "dffbb4c2",
   "metadata": {},
   "source": [
    "## 类装饰器"
   ]
  },
  {
   "cell_type": "markdown",
   "id": "0877641e",
   "metadata": {},
   "source": [
    "### 类中使用装饰器"
   ]
  },
  {
   "cell_type": "code",
   "execution_count": 1,
   "id": "452a0578",
   "metadata": {},
   "outputs": [
    {
     "name": "stdout",
     "output_type": "stream",
     "text": [
      "wrapper of decorator\n",
      "hello world\n"
     ]
    }
   ],
   "source": [
    "import functools\n",
    "\n",
    "class SimpleClass(object):\n",
    "    @staticmethod\n",
    "    def my_decorator(func):\n",
    "        @functools.wraps(func)\n",
    "        def wrapper(*args, **kwargs):\n",
    "            print('wrapper of decorator')\n",
    "            func(*args, **kwargs)\n",
    "        return wrapper\n",
    "\n",
    "@SimpleClass.my_decorator\n",
    "def greet(message):\n",
    "    print(message)\n",
    "    \n",
    "greet('hello world')"
   ]
  },
  {
   "cell_type": "markdown",
   "id": "1ae0085e",
   "metadata": {},
   "source": [
    "### 装饰器装饰同一个类里的函数"
   ]
  },
  {
   "cell_type": "code",
   "execution_count": 5,
   "id": "ecfe65fd",
   "metadata": {},
   "outputs": [
    {
     "name": "stdout",
     "output_type": "stream",
     "text": [
      "message_call is 1\n",
      "hello world\n",
      "message_call is 2\n",
      "hello world\n"
     ]
    }
   ],
   "source": [
    "import functools\n",
    "\n",
    "class SimpleClass(object):\n",
    "    def __init__(self):\n",
    "        self.message_call = 0\n",
    "    \n",
    "    # @staticmethod  \n",
    "    # 此处不能含有 staticmethod，因为装饰器需要传入 类实例\n",
    "    # 也不能写成 my_decorator(self, func), 因为传入参数只有func\n",
    "    def my_decorator(func):\n",
    "        @functools.wraps(func)\n",
    "        def wrapper(self, *args, **kwargs):  # self,接收 SimpleClass 里的self,也就是类实例\n",
    "            self.message_call += 1\n",
    "            print('message_call is {}'.format(self.message_call))\n",
    "            return func(self, *args, **kwargs)\n",
    "        return wrapper\n",
    "\n",
    "    @my_decorator\n",
    "    def greet(self, message):\n",
    "        print(message)\n",
    "    \n",
    "test = SimpleClass()\n",
    "test.greet('hello world')\n",
    "test.greet('hello world')"
   ]
  },
  {
   "cell_type": "code",
   "execution_count": 6,
   "id": "a479f34f",
   "metadata": {},
   "outputs": [
    {
     "name": "stdout",
     "output_type": "stream",
     "text": [
      "弄懂调用次数\n",
      "弄懂调用次数\n"
     ]
    }
   ],
   "source": [
    "import functools\n",
    "\n",
    "class SimpleClass(object):\n",
    "    def __init__(self):\n",
    "        self.message_call = 0\n",
    "    \n",
    "    # @staticmethod  \n",
    "    # 此处不能含有 staticmethod，因为装饰器需要传入 类实例\n",
    "    # 也不能写成 my_decorator(self, func), 因为传入参数只有func\n",
    "    def my_decorator(func):\n",
    "        print(\"弄懂调用次数\")\n",
    "        @functools.wraps(func)\n",
    "        def wrapper(self, *args, **kwargs):  # self,接收 SimpleClass 里的self,也就是类实例\n",
    "            self.message_call += 1\n",
    "            print('message_call is {}'.format(self.message_call))\n",
    "            return func(self, *args, **kwargs)\n",
    "        return wrapper\n",
    "\n",
    "    @my_decorator\n",
    "    def greet1(self, message):\n",
    "        print(message)\n",
    "        \n",
    "    @my_decorator\n",
    "    def greet2(self, message):\n",
    "        print(message)\n",
    "    \n",
    "test = SimpleClass()"
   ]
  },
  {
   "cell_type": "markdown",
   "id": "1cd0251e",
   "metadata": {},
   "source": [
    "### 定义一个类装饰器，装饰类中的函数，默认调用__get__方法\n",
    "\n",
    "实际上把类方法变成属性了，还记得类属性装饰器吧，@property\n",
    "\n",
    "下面自已做一个property"
   ]
  },
  {
   "cell_type": "code",
   "execution_count": 2,
   "id": "9e2d246a",
   "metadata": {},
   "outputs": [
    {
     "name": "stdout",
     "output_type": "stream",
     "text": [
      "调用的是get函数\n",
      "There is the Func in the Class !\n",
      "None\n"
     ]
    }
   ],
   "source": [
    "class Decrator(object):\n",
    "    def __init__(self, func):\n",
    "        self.func = func\n",
    "\n",
    "    def __get__(self, instance, owner):\n",
    "        '''\n",
    "        instance:代表实例，sum中的self\n",
    "        owner：代表类本身，Test类\n",
    "        \n",
    "        '''\n",
    "        print('调用的是get函数')\n",
    "        return self.func(instance)     # instance就是Test类的self\n",
    "\n",
    "\n",
    "class Test(object):\n",
    "    def __init__(self):\n",
    "        self.result = 0\n",
    "\n",
    "    @Decrator\n",
    "    def sum(self):\n",
    "        print('There is the Func in the Class !')\n",
    "\n",
    "t = Test()\n",
    "print(t.sum)            # 众所周知，属性是不加括号的,sum真的变成了属性"
   ]
  },
  {
   "cell_type": "markdown",
   "id": "4687295e",
   "metadata": {},
   "source": [
    " 做一个求和属性sum，统计所有输入的数字的和"
   ]
  },
  {
   "cell_type": "code",
   "execution_count": 8,
   "id": "863739e8",
   "metadata": {},
   "outputs": [
    {
     "name": "stdout",
     "output_type": "stream",
     "text": [
      "调用的是get函数\n",
      "[1, 2, 3, 4, 5, 6, 7, 8, 9, 10]\n",
      "55\n"
     ]
    }
   ],
   "source": [
    "class Decrator(object):\n",
    "    def __init__(self, func):\n",
    "        self.func = func\n",
    "\n",
    "    def __get__(self, instance, owner):\n",
    "        print('调用的是get函数')\n",
    "        return self.func(instance)\n",
    "\n",
    "\n",
    "class Test(object):\n",
    "    def __init__(self, *args, **kwargs):\n",
    "        self.value_list = []\n",
    "        if args:\n",
    "            for i in args:\n",
    "                if str(i).isdigit():\n",
    "                    self.value_list.append(i)\n",
    "        if kwargs:\n",
    "            for v in kwargs.values():\n",
    "                if str(v).isdigit():\n",
    "                    self.value_list.append(v)\n",
    "\n",
    "    @Decrator\n",
    "    def sum(self):\n",
    "        result = 0\n",
    "        print(self.value_list)\n",
    "        for i in self.value_list:\n",
    "            result += i\n",
    "\n",
    "        return result\n",
    "\n",
    "\n",
    "t = Test(1, 2, 3, 4, 5, 6, 7, 8, i=9, ss=10, strings='lll')\n",
    "\n",
    "print(t.sum)"
   ]
  },
  {
   "cell_type": "markdown",
   "id": "2427fbb4",
   "metadata": {},
   "source": [
    "## 装饰器的嵌套"
   ]
  },
  {
   "cell_type": "markdown",
   "id": "59e64a39",
   "metadata": {},
   "source": [
    "### 从上到下装饰，从下到上执行"
   ]
  },
  {
   "cell_type": "code",
   "execution_count": 9,
   "id": "3da9fcb3",
   "metadata": {},
   "outputs": [
    {
     "name": "stdout",
     "output_type": "stream",
     "text": [
      "xx2\n",
      "xx1\n"
     ]
    }
   ],
   "source": [
    "import functools\n",
    "def my_decorator1(func):\n",
    "    print(\"xx1\")\n",
    "    @functools.wraps(func)\n",
    "    def wrapper(*args, **kwargs):\n",
    "        print('execute decorator1')\n",
    "        func(*args, **kwargs)\n",
    "    return wrapper\n",
    "\n",
    "def my_decorator2(func):\n",
    "    print(\"xx2\")\n",
    "    @functools.wraps(func)\n",
    "    def wrapper(*args, **kwargs):\n",
    "        print('execute decorator2')\n",
    "        func(*args, **kwargs)\n",
    "        return wrapper\n",
    "    \n",
    "@my_decorator1\n",
    "@my_decorator2\n",
    "def greet(message):\n",
    "\tprint(message)"
   ]
  }
 ],
 "metadata": {
  "kernelspec": {
   "display_name": "Python [conda env:python3.11]",
   "language": "python",
   "name": "conda-env-python3.11-py"
  },
  "language_info": {
   "codemirror_mode": {
    "name": "ipython",
    "version": 3
   },
   "file_extension": ".py",
   "mimetype": "text/x-python",
   "name": "python",
   "nbconvert_exporter": "python",
   "pygments_lexer": "ipython3",
   "version": "3.11.0"
  },
  "toc": {
   "base_numbering": 1,
   "nav_menu": {},
   "number_sections": true,
   "sideBar": true,
   "skip_h1_title": false,
   "title_cell": "Table of Contents",
   "title_sidebar": "Contents",
   "toc_cell": false,
   "toc_position": {
    "height": "calc(100% - 180px)",
    "left": "10px",
    "top": "150px",
    "width": "384px"
   },
   "toc_section_display": true,
   "toc_window_display": true
  },
  "varInspector": {
   "cols": {
    "lenName": 16,
    "lenType": 16,
    "lenVar": 40
   },
   "kernels_config": {
    "python": {
     "delete_cmd_postfix": "",
     "delete_cmd_prefix": "del ",
     "library": "var_list.py",
     "varRefreshCmd": "print(var_dic_list())"
    },
    "r": {
     "delete_cmd_postfix": ") ",
     "delete_cmd_prefix": "rm(",
     "library": "var_list.r",
     "varRefreshCmd": "cat(var_dic_list()) "
    }
   },
   "types_to_exclude": [
    "module",
    "function",
    "builtin_function_or_method",
    "instance",
    "_Feature"
   ],
   "window_display": false
  }
 },
 "nbformat": 4,
 "nbformat_minor": 5
}
