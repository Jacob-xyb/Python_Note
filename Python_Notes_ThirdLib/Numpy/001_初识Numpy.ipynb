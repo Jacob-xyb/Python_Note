{
 "cells": [
  {
   "cell_type": "markdown",
   "id": "cabee0f0",
   "metadata": {},
   "source": [
    "# 初识Numpy"
   ]
  },
  {
   "cell_type": "markdown",
   "id": "ff9a3d7b",
   "metadata": {},
   "source": [
    "## 相关概念\n",
    "\n",
    "数组分为一维数组、二维数组、三维数组等。\n",
    "\n",
    "- 轴的概念\n",
    "\n",
    "    轴是Numpy里面的axis，指定某个axis，就是沿着这个axis做相关操作。\n",
    "    \n",
    "    一维数组： 只有一个方向，即axis=0；\n",
    "    \n",
    "    二维数组： axis=0为列，axis=1为行；\n",
    "    \n",
    "    三维数组： axis=2为对应z轴的那一维度。"
   ]
  },
  {
   "cell_type": "markdown",
   "id": "be827d55",
   "metadata": {},
   "source": [
    "## 创建数组"
   ]
  },
  {
   "cell_type": "markdown",
   "id": "67456359",
   "metadata": {},
   "source": [
    "### 创建简单的数组"
   ]
  },
  {
   "cell_type": "code",
   "execution_count": null,
   "id": "3f198b14",
   "metadata": {},
   "outputs": [],
   "source": [
    "import numpy as np"
   ]
  }
 ],
 "metadata": {
  "kernelspec": {
   "display_name": "Python [conda env:DeepLearn]",
   "language": "python",
   "name": "conda-env-DeepLearn-py"
  },
  "language_info": {
   "codemirror_mode": {
    "name": "ipython",
    "version": 3
   },
   "file_extension": ".py",
   "mimetype": "text/x-python",
   "name": "python",
   "nbconvert_exporter": "python",
   "pygments_lexer": "ipython3",
   "version": "3.10.8"
  },
  "toc": {
   "base_numbering": 1,
   "nav_menu": {},
   "number_sections": true,
   "sideBar": true,
   "skip_h1_title": false,
   "title_cell": "Table of Contents",
   "title_sidebar": "Contents",
   "toc_cell": false,
   "toc_position": {},
   "toc_section_display": true,
   "toc_window_display": false
  },
  "varInspector": {
   "cols": {
    "lenName": 16,
    "lenType": 16,
    "lenVar": 40
   },
   "kernels_config": {
    "python": {
     "delete_cmd_postfix": "",
     "delete_cmd_prefix": "del ",
     "library": "var_list.py",
     "varRefreshCmd": "print(var_dic_list())"
    },
    "r": {
     "delete_cmd_postfix": ") ",
     "delete_cmd_prefix": "rm(",
     "library": "var_list.r",
     "varRefreshCmd": "cat(var_dic_list()) "
    }
   },
   "types_to_exclude": [
    "module",
    "function",
    "builtin_function_or_method",
    "instance",
    "_Feature"
   ],
   "window_display": false
  }
 },
 "nbformat": 4,
 "nbformat_minor": 5
}
