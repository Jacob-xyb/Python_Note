{
 "cells": [
  {
   "cell_type": "markdown",
   "metadata": {},
   "source": [
    "# Open()\n",
    "\n",
    "python open() 函数用于打开一个文件，创建一个 `file` 对象，相关的方法才可以调用它进行读写。\n",
    "\n",
    "- 函数语法\n",
    "\n",
    "    open(name[, mode[, buffering]])\n",
    "    \n",
    "- 参数说明：\n",
    "\n",
    "    name : 一个包含了你要访问的文件名称的字符串值。\n",
    "\n",
    "    mode : mode 决定了打开文件的模式：只读，写入，追加等。所有可取值见如下的完全列表。这个参数是非强制的，默认文件访问模式为只读(r)。\n",
    "\n",
    "    buffering : 如果 buffering 的值被设为 0，就不会有寄存。如果 buffering 的值取 1，访问文件时会寄存行。如果将 buffering 的值设为大于 1 的整数，表明了这就是的寄存区的缓冲大小。如果取负值，寄存区的缓冲大小则为系统默认。\n",
    "\n",
    "| 模式 | 描述 |\n",
    "| --- | --- |\n",
    "| t\t| 文本模式 (默认)。|\n",
    "| x | 写模式，新建一个文件，如果该文件已存在则会报错。|\n",
    "| b |\t二进制模式。|\n",
    "| + | 打开一个文件进行更新(可读可写)。 |\n",
    "| U |\t通用换行模式（不推荐）。|\n",
    "| `r` |\t以只读方式打开文件。文件的指针将会放在文件的开头。这是默认模式。 ** |\n",
    "|rb |\t以二进制格式打开一个文件用于只读。文件指针将会放在文件的开头。这是默认模式。一般用于非文本文件如图片等。|\n",
    "| r+ |\t打开一个文件用于读写。文件指针将会放在文件的开头。|\n",
    "| rb+ |\t以二进制格式打开一个文件用于读写。文件指针将会放在文件的开头。一般用于非文本文件如图片等。|\n",
    "| `w` | 打开一个文件只用于写入。如果该文件已存在则打开文件，并从开头开始编辑，即原有内容会被删除。如果该文件不存在，创建新文件。 ** |\n",
    "| wb |\t以二进制格式打开一个文件只用于写入。如果该文件已存在则打开文件，并从开头开始编辑，即原有内容会被删除。如果该文件不存在，创建新文件。一般用于非文本文件如图片等。|\n",
    "| w+ |\t打开一个文件用于读写。如果该文件已存在则打开文件，并从开头开始编辑，即原有内容会被删除。如果该文件不存在，创建新文件。|\n",
    "| wb+ |\t以二进制格式打开一个文件用于读写。如果该文件已存在则打开文件，并从开头开始编辑，即原有内容会被删除。如果该文件不存在，创建新文件。一般用于非文本文件如图片等。|\n",
    "| `a`\t| 打开一个文件用于追加。如果该文件已存在，文件指针将会放在文件的结尾。也就是说，新的内容将会被写入到已有内容之后。如果该文件不存在，创建新文件进行写入。 ** |\n",
    "| ab |\t以二进制格式打开一个文件用于追加。如果该文件已存在，文件指针将会放在文件的结尾。也就是说，新的内容将会被写入到已有内容之后。如果该文件不存在，创建新文件进行写入。|\n",
    "| a+ | 打开一个文件用于读写。如果该文件已存在，文件指针将会放在文件的结尾。文件打开时会是追加模式。如果该文件不存在，创建新文件用于读写。|\n",
    "| ab+ |\t以二进制格式打开一个文件用于追加。如果该文件已存在，文件指针将会放在文件的结尾。如果该文件不存在，创建新文件用于读写。|"
   ]
  },
  {
   "cell_type": "code",
   "execution_count": 2,
   "metadata": {},
   "outputs": [],
   "source": [
    "f = open(\"file_path\")"
   ]
  },
  {
   "cell_type": "markdown",
   "metadata": {},
   "source": [
    "## file 对象方法\n",
    "\n",
    "### file.read([size])\n",
    "\n",
    "- size 未指定则返回整个文件，如果文件大小 >2 倍内存则有问题，f.read()读到文件尾时返回\"\"(空字串)。\n",
    "\n",
    "### file.readline()\n",
    "\n",
    "- 返回一行。\n",
    "\n",
    "### file.readlines([size]) \n",
    "\n",
    "- 返回包含size行的列表, size 未指定则返回全部行。\n",
    "\n",
    "### 通过迭代器访问\n",
    "\n",
    "```python\n",
    "for line in f:\n",
    "    print(line)\n",
    "```\n",
    "\n",
    "### f.write(\"hello\\n\")\n",
    "\n",
    "- 如果要写入字符串以外的数据,先将他转换为字符串。\n",
    "\n",
    "### f.tell()\n",
    "\n",
    "- 返回一个整数,表示当前文件指针的位置(就是到文件头的字节数)。\n",
    "\n",
    "### f.seek(偏移量,[起始位置])\n",
    "\n",
    "- 用来移动文件指针。\n",
    "\n",
    "偏移量: 单位为字节，可正可负\n",
    "起始位置: 0 - 文件头, 默认值; 1 - 当前位置; 2 - 文件尾\n",
    "\n",
    "### f.close()\n",
    "\n",
    "- 关闭文件"
   ]
  }
 ],
 "metadata": {
  "kernelspec": {
   "display_name": "Python 3",
   "language": "python",
   "name": "python3"
  },
  "language_info": {
   "codemirror_mode": {
    "name": "ipython",
    "version": 3
   },
   "file_extension": ".py",
   "mimetype": "text/x-python",
   "name": "python",
   "nbconvert_exporter": "python",
   "pygments_lexer": "ipython3",
   "version": "3.8.5"
  },
  "toc": {
   "base_numbering": 1,
   "nav_menu": {},
   "number_sections": true,
   "sideBar": true,
   "skip_h1_title": false,
   "title_cell": "Table of Contents",
   "title_sidebar": "Contents",
   "toc_cell": false,
   "toc_position": {},
   "toc_section_display": true,
   "toc_window_display": true
  },
  "varInspector": {
   "cols": {
    "lenName": 16,
    "lenType": 16,
    "lenVar": 40
   },
   "kernels_config": {
    "python": {
     "delete_cmd_postfix": "",
     "delete_cmd_prefix": "del ",
     "library": "var_list.py",
     "varRefreshCmd": "print(var_dic_list())"
    },
    "r": {
     "delete_cmd_postfix": ") ",
     "delete_cmd_prefix": "rm(",
     "library": "var_list.r",
     "varRefreshCmd": "cat(var_dic_list()) "
    }
   },
   "types_to_exclude": [
    "module",
    "function",
    "builtin_function_or_method",
    "instance",
    "_Feature"
   ],
   "window_display": false
  }
 },
 "nbformat": 4,
 "nbformat_minor": 4
}
