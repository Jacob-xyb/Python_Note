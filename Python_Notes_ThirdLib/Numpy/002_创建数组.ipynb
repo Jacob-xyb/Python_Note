{
 "cells": [
  {
   "cell_type": "markdown",
   "id": "0523076c",
   "metadata": {},
   "source": [
    "# 创建数组"
   ]
  },
  {
   "cell_type": "markdown",
   "id": "93d9d2d9",
   "metadata": {},
   "source": [
    "## 创建简单数组"
   ]
  },
  {
   "cell_type": "markdown",
   "id": "c12e0457",
   "metadata": {},
   "source": [
    "### numpy.array()"
   ]
  },
  {
   "cell_type": "markdown",
   "id": "18da863e",
   "metadata": {},
   "source": [
    "- numpy.array(object)\n",
    "\n",
    "    object: 任何具有数组接口方法的对象。"
   ]
  },
  {
   "cell_type": "code",
   "execution_count": 3,
   "id": "6b1df7f4",
   "metadata": {},
   "outputs": [
    {
     "name": "stdout",
     "output_type": "stream",
     "text": [
      "[1 2 3]\n",
      "[[1 2]\n",
      " [3 4]]\n",
      "[1 2 3]\n"
     ]
    }
   ],
   "source": [
    "import numpy as np\n",
    "print(np1 := np.array([1, 2, 3]))\n",
    "print(np2 := np.array([[1, 2], [3, 4]]))\n",
    "print(np3 := np.array((1, 2, 3)))"
   ]
  },
  {
   "cell_type": "markdown",
   "id": "ff4725cb",
   "metadata": {},
   "source": [
    "- numpy.array(object, dtype=None)\n",
    "\n",
    "    dtype: 数据类型"
   ]
  },
  {
   "cell_type": "code",
   "execution_count": 10,
   "id": "48faefa0",
   "metadata": {},
   "outputs": [
    {
     "name": "stdout",
     "output_type": "stream",
     "text": [
      "[1 2 3]\n",
      "<class 'numpy.int32'>\n",
      "[1. 2. 3.]\n",
      "<class 'numpy.float64'>\n"
     ]
    }
   ],
   "source": [
    "import numpy as np\n",
    "ls = [1, 2, 3]\n",
    "print(np1 := np.array(ls))  # 默认会自动判断数据类型\n",
    "print(type(np1[0]))\n",
    "print(np2 := np.array(ls, dtype=float))  # 可以指定数据类型\n",
    "print(type(np2[0]))"
   ]
  },
  {
   "cell_type": "markdown",
   "id": "77aa010f",
   "metadata": {},
   "source": [
    "- numpy.array(object, copy=True)\n",
    "\n",
    "    cpoy: True则对象被复制；否则，只有当\\__array__方法返回副本，~~object参数为嵌套序列~~，或者需要副本满足数据类型和顺序要求时，才会生成副本。"
   ]
  },
  {
   "cell_type": "markdown",
   "id": "bc6f8f5f",
   "metadata": {},
   "source": [
    "1. 正常情况下True时"
   ]
  },
  {
   "cell_type": "code",
   "execution_count": 12,
   "id": "557fa53c",
   "metadata": {},
   "outputs": [
    {
     "name": "stdout",
     "output_type": "stream",
     "text": [
      "[1 2 3] [9 2 3]\n",
      "2969419251120 2969419249392\n"
     ]
    }
   ],
   "source": [
    "import numpy as np\n",
    "np1 = np.array([1, 2, 3])\n",
    "np2 = np.array(np1)\n",
    "np2[0] = 9\n",
    "print(np1, np2)  # 发现np2被深拷贝了，np1没有随np2而改变\n",
    "print(id(np1), id(np2))"
   ]
  },
  {
   "cell_type": "markdown",
   "id": "995bb522",
   "metadata": {},
   "source": [
    "2. ~~object参数为嵌套列表时~~(暂时不理解,嵌套列表天生就只是引用)"
   ]
  },
  {
   "cell_type": "code",
   "execution_count": 18,
   "id": "0919b43e",
   "metadata": {},
   "outputs": [
    {
     "name": "stdout",
     "output_type": "stream",
     "text": [
      "[[9 9 9]\n",
      " [4 5 6]]\n",
      "[[9 9 9]\n",
      " [4 5 6]]\n",
      "2969425764368 2969425764368\n",
      "[9 2 3 4 5 6]\n",
      "[9 2 3 4 5 6]\n",
      "2969425767248 2969425767248\n"
     ]
    }
   ],
   "source": [
    "import numpy as np\n",
    "np1 = np.array([[1, 2, 3], [4, 5, 6]])\n",
    "np2 = np.array(np1, copy=False)\n",
    "np2[0] = 9\n",
    "print(np1)\n",
    "print(np2)\n",
    "print(id(np1), id(np2))"
   ]
  },
  {
   "cell_type": "markdown",
   "id": "0ea1cf1a",
   "metadata": {},
   "source": [
    "3. 副本满足数据类型"
   ]
  },
  {
   "cell_type": "code",
   "execution_count": 19,
   "id": "6be2dfca",
   "metadata": {},
   "outputs": [
    {
     "name": "stdout",
     "output_type": "stream",
     "text": [
      "[[9 9 9]\n",
      " [4 5 6]]\n",
      "[[1. 2. 3.]\n",
      " [4. 5. 6.]]\n",
      "[[9 9 9]\n",
      " [4 5 6]]\n",
      "2969419647952 2969419650064 2969419647952\n"
     ]
    }
   ],
   "source": [
    "import numpy as np\n",
    "np1 = np.array([[1, 2, 3], [4, 5, 6]])\n",
    "np2 = np.array(np1, copy=False, dtype=float)\n",
    "np3 = np.array(np1, copy=False, dtype=int)\n",
    "np1[0] = 9\n",
    "print(np1)\n",
    "print(np2)\n",
    "print(np3)\n",
    "print(id(np1), id(np2), id(np3))  # 数据类型发生了改变,会强行被深拷贝"
   ]
  },
  {
   "cell_type": "markdown",
   "id": "816ca8ba",
   "metadata": {},
   "source": [
    "- numpy.array(object, ndmin=0)\n",
    "\n",
    "    ndmin: 指定生成数组的最小维度"
   ]
  },
  {
   "cell_type": "code",
   "execution_count": 22,
   "id": "4dd43324",
   "metadata": {},
   "outputs": [
    {
     "name": "stdout",
     "output_type": "stream",
     "text": [
      "[[1 2 3]]\n"
     ]
    }
   ],
   "source": [
    "import numpy as np\n",
    "l = [1, 2, 3]\n",
    "np1 = np.array(l, ndmin=2)\n",
    "print(np1)"
   ]
  },
  {
   "cell_type": "markdown",
   "id": "5c43f820",
   "metadata": {},
   "source": [
    "## 不同方式创建数组"
   ]
  },
  {
   "cell_type": "markdown",
   "id": "2991b134",
   "metadata": {},
   "source": [
    "### numpy.empty()  创建未初始化数组"
   ]
  },
  {
   "cell_type": "code",
   "execution_count": 1,
   "id": "645686d6",
   "metadata": {},
   "outputs": [
    {
     "data": {
      "text/plain": [
       "array([[2.00271247e-307, 4.89531867e-307, 8.34427737e-308],\n",
       "       [8.34427737e-308, 1.50198342e-307, 2.44772215e-307]])"
      ]
     },
     "execution_count": 1,
     "metadata": {},
     "output_type": "execute_result"
    }
   ],
   "source": [
    "import numpy as np\n",
    "np.empty([2, 3])"
   ]
  },
  {
   "cell_type": "markdown",
   "id": "7ab313ab",
   "metadata": {},
   "source": [
    "### numpy.zeros()"
   ]
  },
  {
   "cell_type": "code",
   "execution_count": 2,
   "id": "e953f618",
   "metadata": {},
   "outputs": [
    {
     "data": {
      "text/plain": [
       "array([[0., 0., 0.],\n",
       "       [0., 0., 0.]])"
      ]
     },
     "execution_count": 2,
     "metadata": {},
     "output_type": "execute_result"
    }
   ],
   "source": [
    "import numpy as np\n",
    "np.zeros([2, 3])"
   ]
  },
  {
   "cell_type": "markdown",
   "id": "1a3e3eaf",
   "metadata": {},
   "source": [
    "### numpy.ones()"
   ]
  },
  {
   "cell_type": "code",
   "execution_count": 3,
   "id": "627ae675",
   "metadata": {},
   "outputs": [
    {
     "data": {
      "text/plain": [
       "array([[1., 1., 1.],\n",
       "       [1., 1., 1.]])"
      ]
     },
     "execution_count": 3,
     "metadata": {},
     "output_type": "execute_result"
    }
   ],
   "source": [
    "import numpy as np\n",
    "np.ones([2, 3])"
   ]
  },
  {
   "cell_type": "markdown",
   "id": "29794ddd",
   "metadata": {},
   "source": [
    "## 数值范围创建数组"
   ]
  },
  {
   "cell_type": "markdown",
   "id": "b8d85053",
   "metadata": {},
   "source": [
    "### numpy.arange()\n",
    "\n",
    "与python内置函数range相似，返回[start, stop)\n",
    "\n",
    "- numpy.arange([start,] stop[, step,], dtype=None)\n",
    "\n",
    "    start: 起始值，默认值为0；\n",
    "    stop: 终止值（不包含）；\n",
    "    step: 步长，默认为1；"
   ]
  },
  {
   "cell_type": "code",
   "execution_count": 9,
   "id": "93bc2446",
   "metadata": {},
   "outputs": [
    {
     "name": "stdout",
     "output_type": "stream",
     "text": [
      "[0 1 2 3 4 5 6 7 8 9]\n",
      "[-1  0  1  2  3  4  5  6  7  8]\n",
      "[-1  1  3  5  7]\n",
      "[-1.   1.5  4.   6.5]\n"
     ]
    }
   ],
   "source": [
    "import numpy as np\n",
    "print(np.arange(10))\n",
    "print(np.arange(-1, 9))\n",
    "print(np.arange(-1, 9, 2))\n",
    "print(np.arange(-1, 9, 2.5))"
   ]
  }
 ],
 "metadata": {
  "kernelspec": {
   "display_name": "Python [conda env:DeepLearn]",
   "language": "python",
   "name": "conda-env-DeepLearn-py"
  },
  "language_info": {
   "codemirror_mode": {
    "name": "ipython",
    "version": 3
   },
   "file_extension": ".py",
   "mimetype": "text/x-python",
   "name": "python",
   "nbconvert_exporter": "python",
   "pygments_lexer": "ipython3",
   "version": "3.10.8"
  },
  "toc": {
   "base_numbering": 1,
   "nav_menu": {},
   "number_sections": true,
   "sideBar": true,
   "skip_h1_title": false,
   "title_cell": "Table of Contents",
   "title_sidebar": "Contents",
   "toc_cell": false,
   "toc_position": {
    "height": "calc(100% - 180px)",
    "left": "10px",
    "top": "150px",
    "width": "384px"
   },
   "toc_section_display": true,
   "toc_window_display": true
  },
  "varInspector": {
   "cols": {
    "lenName": 16,
    "lenType": 16,
    "lenVar": 40
   },
   "kernels_config": {
    "python": {
     "delete_cmd_postfix": "",
     "delete_cmd_prefix": "del ",
     "library": "var_list.py",
     "varRefreshCmd": "print(var_dic_list())"
    },
    "r": {
     "delete_cmd_postfix": ") ",
     "delete_cmd_prefix": "rm(",
     "library": "var_list.r",
     "varRefreshCmd": "cat(var_dic_list()) "
    }
   },
   "types_to_exclude": [
    "module",
    "function",
    "builtin_function_or_method",
    "instance",
    "_Feature"
   ],
   "window_display": false
  }
 },
 "nbformat": 4,
 "nbformat_minor": 5
}
