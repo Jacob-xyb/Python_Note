{
 "cells": [
  {
   "cell_type": "markdown",
   "metadata": {},
   "source": [
    "# 面向对象"
   ]
  },
  {
   "cell_type": "markdown",
   "metadata": {},
   "source": [
    "## 什么是对象"
   ]
  },
  {
   "cell_type": "code",
   "execution_count": 2,
   "metadata": {},
   "outputs": [
    {
     "name": "stdout",
     "output_type": "stream",
     "text": [
      "init function called\n",
      "Harry Potter\n",
      "J. K. Rowling\n",
      "26\n",
      "10\n"
     ]
    }
   ],
   "source": [
    "class Document():\n",
    "    def __init__(self, title, author, context):\n",
    "        print('init function called')\n",
    "        self.title = title\n",
    "        self.author = author\n",
    "        self.__context = context # __ 开头的属性是私有属性\n",
    "    def get_context_length(self):\n",
    "        return len(self.__context)\n",
    "    def intercept_context(self, length):\n",
    "        self.__context = self.__context[:length]\n",
    "        \n",
    "harry_potter_book = Document('Harry Potter', 'J. K. Rowling', '... Forever Do not believe')\n",
    "\n",
    "print(harry_potter_book.title)\n",
    "print(harry_potter_book.author)\n",
    "print(harry_potter_book.get_context_length())\n",
    "\n",
    "\n",
    "harry_potter_book.intercept_context(10)\n",
    "print(harry_potter_book.get_context_length())\n",
    "# print(harry_potter_book.__context)\n",
    "# AttributeError: 'Document' object has no attribute '__context'"
   ]
  },
  {
   "cell_type": "markdown",
   "metadata": {},
   "source": [
    "类：一群有着相似性的事物的集合，这里对应 Python 的 class。\n",
    "\n",
    "对象：集合中的一个事物，这里对应由 class 生成的某一个 object，比如代码中的harry_potter_book。\n",
    "\n",
    "属性：对象的某个静态特征，比如上述代码中的 title、author 和 __context。\n",
    "\n",
    "函数：对象的某个动态能力，比如上述代码中的 intercept_context () 函数。\n",
    "\n",
    "当然，这样的说法既不严谨，也不充分，但如果你对面向对象编程完全不了解，它们可以让你迅速有一个直观的了解。\n",
    "\n",
    "- 类，一群有着相同属性和函数的对象的集合。\n",
    "\n",
    "这里唯一需要强调的一点是，如果一个属性以 __ `（注意，此处有两个 _）` 开头，我们就默认这个属性是私有属性。\n",
    "\n",
    "私有属性，是指不希望在类的函数之外的地方被访问和修改的属性。\n",
    "\n",
    "所以，你可以看到，title 和 author 能够很自由地被打印出来，但是`print(harry_potter_book.__context)`就会报错。"
   ]
  },
  {
   "cell_type": "markdown",
   "metadata": {},
   "source": [
    "## 对象的进阶应用\n",
    "\n",
    "1. 如何在一个类中定义一些常量，每个对象都可以方便访问这些常量而不用重新构造？\n",
    "\n",
    "2. 如果一个函数不涉及到访问修改这个类的属性，而放到类外面有点不恰当，怎么做才能更优雅呢？\n",
    "\n",
    "3. 既然类是一群相似的对象的集合，那么可不可以是一群相似的类的集合呢？\n",
    "\n",
    "前两个问题很好解决，不过，它们涉及到一些常用的代码规范。"
   ]
  },
  {
   "cell_type": "code",
   "execution_count": 1,
   "metadata": {},
   "outputs": [
    {
     "name": "stdout",
     "output_type": "stream",
     "text": [
      "init function called\n",
      "7\n",
      "Welcome! The context for this book is indeed nothing.\n"
     ]
    }
   ],
   "source": [
    "class Document():\n",
    "    WELCOME_STR = 'Welcome! The context for this book is {}.'\n",
    "    def __init__(self, title, author, context):\n",
    "        print('init function called')\n",
    "        self.title = title\n",
    "        self.author = author\n",
    "        self.__context = context\n",
    "    # 类函数\n",
    "    @classmethod\n",
    "    def create_empty_book(cls, title, author):\n",
    "        return cls(title=title, author=author, context='nothing')\n",
    "    \n",
    "    # 成员函数\n",
    "    def get_context_length(self):\n",
    "        return len(self.__context)\n",
    "    \n",
    "    # 静态函数\n",
    "    @staticmethod\n",
    "    def get_welcome(context):\n",
    "        return Document.WELCOME_STR.format(context)\n",
    "\n",
    "empty_book = Document.create_empty_book('What Every Man Thinks About Apart from Sex', 'Potter')\n",
    "print(empty_book.get_context_length())\n",
    "print(empty_book.get_welcome('indeed nothing'))                                           "
   ]
  },
  {
   "cell_type": "markdown",
   "metadata": {},
   "source": [
    "第一个问题，在 Python 的类里，你只需要和函数并列地声明并赋值，就可以实现这一点，例如这段代码中的 `WELCOME_STR`。\n",
    "\n",
    "一种很常规的做法，是用全大写来表示常量，因此我们可以在类中使用 `self.WELCOME_STR` ，或者在类外使用 `Entity.WELCOME_STR` ，来表达这个字符串。"
   ]
  },
  {
   "cell_type": "markdown",
   "metadata": {},
   "source": [
    "而针对第二个问题，我们提出了类函数、成员函数和静态函数三个概念。\n",
    "\n",
    "它们其实很好理解，前两者产生的影响是动态的，能够访问或者修改对象的属性；\n",
    "\n",
    "而静态函数则与类没有什么关联，最明显的特征便是，静态函数的第一个参数没有任何特殊性。\n",
    "\n",
    "一般而言，静态函数可以用来做一些简单独立的任务，既方便测试，也能优化代码结构。静态函数还可以通过在函数前一行加上 `@staticmethod` 来表示，代码中也有相应的示例。这其实使用了装饰器的概念，我们会在后面的章节中详细讲解。\n",
    "\n",
    "而类函数的第一个参数一般为 cls，表示必须传一个类进来。\n",
    "\n",
    "类函数最常用的功能是实现不同的 `init` 构造函数，比如上文代码中，我们使用 create_empty_book 类函数，来创造新的书籍对象，其 context 一定为 'nothing'。这样的代码，就比你直接构造要清晰一些。类似的，类函数需要装饰器 `@classmethod` 来声明。\n",
    "\n",
    "成员函数则是我们最正常的类的函数，它不需要任何装饰器声明，第一个参数 `self` 代表当前对象的引用，可以通过此函数，来实现想要的查询 / 修改类的属性等功能。"
   ]
  },
  {
   "cell_type": "markdown",
   "metadata": {},
   "source": [
    "我们来看第三个问题，既然类是一群相似的对象的集合，那么可不可以是一群相似的类的集合呢？\n",
    "\n",
    "类的继承，顾名思义，指的是一个类既拥有另一个类的特征，也拥有不同于另一个类的独特特征。在这里的第一个类叫做子类，另一个叫做父类，特征其实就是类的属性和函数。"
   ]
  },
  {
   "cell_type": "code",
   "execution_count": 9,
   "metadata": {
    "scrolled": true
   },
   "outputs": [
    {
     "name": "stdout",
     "output_type": "stream",
     "text": [
      "Document class init called\n",
      "parent class init called\n",
      "Video class init called\n",
      "parent class init called\n",
      "document\n",
      "video\n",
      "Harry Potter(Book)\n",
      "Harry Potter(Movie)\n",
      "22\n",
      "120\n"
     ]
    }
   ],
   "source": [
    "class Entity():\n",
    "    def __init__(self, object_type):\n",
    "        print('parent class init called')\n",
    "        self.object_type = object_type\n",
    "        self.title = None\n",
    "        \n",
    "    def get_context_length(self):\n",
    "        raise Exception('get_context_length not implemented')\n",
    "        \n",
    "    def print_title(self):\n",
    "        print(self.title)\n",
    "\n",
    "class Document(Entity):\n",
    "    def __init__(self, title, author, context):\n",
    "        print('Document class init called')\n",
    "        Entity.__init__(self, 'document')\n",
    "        self.title = title\n",
    "        self.author = author\n",
    "        self.__context = context\n",
    "        \n",
    "    def get_context_length(self):\n",
    "        return len(self.__context)\n",
    "    \n",
    "class Video(Entity):\n",
    "    def __init__(self, title, author, video_length):\n",
    "        print('Video class init called')\n",
    "        Entity.__init__(self, 'video')\n",
    "        self.title = title\n",
    "        self.author = author\n",
    "        self.__video_length = video_length\n",
    "        \n",
    "    def get_context_length(self):\n",
    "        return self.__video_length\n",
    "    \n",
    "harry_potter_book = Document('Harry Potter(Book)', 'J. K. Rowling', '... Forever Do not ...')\n",
    "harry_potter_movie = Video('Harry Potter(Movie)', 'J. K. Rowling', 120)\n",
    "\n",
    "print(harry_potter_book.object_type)\n",
    "print(harry_potter_movie.object_type)\n",
    "\n",
    "harry_potter_book.print_title()\n",
    "harry_potter_movie.print_title()\n",
    "\n",
    "print(harry_potter_book.get_context_length())\n",
    "print(harry_potter_movie.get_context_length())"
   ]
  },
  {
   "cell_type": "markdown",
   "metadata": {},
   "source": [
    "首先需要注意的是构造函数。每个类都有构造函数，继承类在生成对象的时候，是不会自动调用父类的构造函数的，因此你必须在 init() 函数中显式调用父类的构造函数。它们的执行顺序是 子类的构造函数 -> 父类的构造函数。"
   ]
  },
  {
   "cell_type": "code",
   "execution_count": 2,
   "metadata": {},
   "outputs": [
    {
     "name": "stdout",
     "output_type": "stream",
     "text": [
      "Jx's father\n",
      "Jx\n"
     ]
    }
   ],
   "source": [
    "class father():\n",
    "    def __init__(self, obj):\n",
    "        self.obj = obj\n",
    "        print(self.obj)\n",
    "\n",
    "\n",
    "class son(father):\n",
    "    def __init__(self, name):\n",
    "        father.__init__(self, \"Jx's father\")\n",
    "        self.name = name\n",
    "        print(self.name)\n",
    "        \n",
    "Jx = son('Jx')"
   ]
  },
  {
   "cell_type": "markdown",
   "metadata": {},
   "source": [
    "## 抽象类\n",
    "\n",
    "生来就是父类，创建对象就会报错，抽象函数必须重写"
   ]
  },
  {
   "cell_type": "code",
   "execution_count": 3,
   "metadata": {},
   "outputs": [],
   "source": [
    "from abc import ABCMeta, abstractclassmethod"
   ]
  },
  {
   "cell_type": "code",
   "execution_count": 6,
   "metadata": {},
   "outputs": [
    {
     "name": "stdout",
     "output_type": "stream",
     "text": [
      "Harry Potter\n"
     ]
    }
   ],
   "source": [
    "class Entity(metaclass=ABCMeta):\n",
    "    @abstractclassmethod\n",
    "    def get_title(self):\n",
    "        pass\n",
    "    \n",
    "    @abstractclassmethod\n",
    "    def set_title(self, title):\n",
    "        pass\n",
    "    \n",
    "class Document(Entity):\n",
    "    def get_title(self):\n",
    "        return self.title\n",
    "    \n",
    "    def set_title(self, title):\n",
    "        self.title = title\n",
    "\n",
    "document = Document()\n",
    "document.set_title('Harry Potter')\n",
    "print(document.get_title())\n",
    "# entity = Entity()  # 就会报错"
   ]
  },
  {
   "cell_type": "code",
   "execution_count": null,
   "metadata": {},
   "outputs": [],
   "source": []
  }
 ],
 "metadata": {
  "kernelspec": {
   "display_name": "Python 3 (ipykernel)",
   "language": "python",
   "name": "python3"
  },
  "language_info": {
   "codemirror_mode": {
    "name": "ipython",
    "version": 3
   },
   "file_extension": ".py",
   "mimetype": "text/x-python",
   "name": "python",
   "nbconvert_exporter": "python",
   "pygments_lexer": "ipython3",
   "version": "3.8.13"
  },
  "latex_envs": {
   "LaTeX_envs_menu_present": true,
   "autoclose": false,
   "autocomplete": true,
   "bibliofile": "biblio.bib",
   "cite_by": "apalike",
   "current_citInitial": 1,
   "eqLabelWithNumbers": true,
   "eqNumInitial": 1,
   "hotkeys": {
    "equation": "Ctrl-E",
    "itemize": "Ctrl-I"
   },
   "labels_anchors": false,
   "latex_user_defs": false,
   "report_style_numbering": false,
   "user_envs_cfg": false
  },
  "toc": {
   "base_numbering": 1,
   "nav_menu": {},
   "number_sections": true,
   "sideBar": true,
   "skip_h1_title": false,
   "title_cell": "Table of Contents",
   "title_sidebar": "Contents",
   "toc_cell": false,
   "toc_position": {
    "height": "calc(100% - 180px)",
    "left": "10px",
    "top": "150px",
    "width": "292.969px"
   },
   "toc_section_display": true,
   "toc_window_display": true
  },
  "varInspector": {
   "cols": {
    "lenName": 16,
    "lenType": 16,
    "lenVar": 40
   },
   "kernels_config": {
    "python": {
     "delete_cmd_postfix": "",
     "delete_cmd_prefix": "del ",
     "library": "var_list.py",
     "varRefreshCmd": "print(var_dic_list())"
    },
    "r": {
     "delete_cmd_postfix": ") ",
     "delete_cmd_prefix": "rm(",
     "library": "var_list.r",
     "varRefreshCmd": "cat(var_dic_list()) "
    }
   },
   "types_to_exclude": [
    "module",
    "function",
    "builtin_function_or_method",
    "instance",
    "_Feature"
   ],
   "window_display": false
  }
 },
 "nbformat": 4,
 "nbformat_minor": 4
}
