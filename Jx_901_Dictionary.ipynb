{
 "cells": [
  {
   "cell_type": "markdown",
   "metadata": {},
   "source": [
    "# Dictionary\n"
   ]
  },
  {
   "cell_type": "markdown",
   "metadata": {},
   "source": [
    "## object"
   ]
  },
  {
   "cell_type": "code",
   "execution_count": 2,
   "metadata": {},
   "outputs": [
    {
     "name": "stdout",
     "output_type": "stream",
     "text": [
      "{}\n"
     ]
    }
   ],
   "source": [
    "dict = {}  # Create an empty dictionary\n",
    "print(dict)"
   ]
  },
  {
   "cell_type": "code",
   "execution_count": 4,
   "metadata": {},
   "outputs": [
    {
     "name": "stdout",
     "output_type": "stream",
     "text": [
      "{'one': '1 - hello,world'}\n"
     ]
    }
   ],
   "source": [
    "dict['one'] = \"1 - hello,world\"  # Create a value with a key of 'one'\n",
    "print(dict)"
   ]
  },
  {
   "cell_type": "code",
   "execution_count": 6,
   "metadata": {},
   "outputs": [
    {
     "name": "stdout",
     "output_type": "stream",
     "text": [
      "{'one': '1 - hello,world', 2: '2 - 嘿嘿'}\n"
     ]
    }
   ],
   "source": [
    "dict[2] = \"2 - 嘿嘿\"  # Create a value with a key of 2\n",
    "print(dict)"
   ]
  },
  {
   "cell_type": "markdown",
   "metadata": {},
   "source": [
    "## index"
   ]
  },
  {
   "cell_type": "code",
   "execution_count": 9,
   "metadata": {},
   "outputs": [
    {
     "name": "stdout",
     "output_type": "stream",
     "text": [
      "[0.01, 0.025, 0.05, 0.1, 0.2]\n",
      "0.01\n",
      "dict_keys(['TP', 'TN']) <class 'dict_keys'>\n",
      "dict_values([[0.01, 0.025, 0.05, 0.1, 0.2], [0.2, 0.5, 1.0, 1.5, 2.0]]) <class 'dict_values'>\n"
     ]
    }
   ],
   "source": [
    "surface_tar = {'TP': [0.01, 0.025, 0.05, 0.1, 0.2],\n",
    "               'TN': [0.2, 0.5, 1.0, 1.5, 2.0]}\n",
    "print(surface_tar['TP'])  # Output the value with a key of 'TP' # list\n",
    "print(surface_tar['TP'][0])  # Output a value\n",
    "print(surface_tar.keys(),type(surface_tar.keys()))  # Output all keys\n",
    "print(surface_tar.values(),type(surface_tar.values()))  # Output all values"
   ]
  },
  {
   "cell_type": "markdown",
   "metadata": {},
   "source": [
    "## u need konw"
   ]
  }
 ],
 "metadata": {
  "kernelspec": {
   "display_name": "base",
   "language": "python",
   "name": "base"
  },
  "language_info": {
   "codemirror_mode": {
    "name": "ipython",
    "version": 3
   },
   "file_extension": ".py",
   "mimetype": "text/x-python",
   "name": "python",
   "nbconvert_exporter": "python",
   "pygments_lexer": "ipython3",
   "version": "3.8.3"
  },
  "toc": {
   "base_numbering": 1,
   "nav_menu": {},
   "number_sections": true,
   "sideBar": true,
   "skip_h1_title": false,
   "title_cell": "Table of Contents",
   "title_sidebar": "Contents",
   "toc_cell": false,
   "toc_position": {},
   "toc_section_display": true,
   "toc_window_display": false
  },
  "varInspector": {
   "cols": {
    "lenName": 16,
    "lenType": 16,
    "lenVar": 40
   },
   "kernels_config": {
    "python": {
     "delete_cmd_postfix": "",
     "delete_cmd_prefix": "del ",
     "library": "var_list.py",
     "varRefreshCmd": "print(var_dic_list())"
    },
    "r": {
     "delete_cmd_postfix": ") ",
     "delete_cmd_prefix": "rm(",
     "library": "var_list.r",
     "varRefreshCmd": "cat(var_dic_list()) "
    }
   },
   "types_to_exclude": [
    "module",
    "function",
    "builtin_function_or_method",
    "instance",
    "_Feature"
   ],
   "window_display": false
  }
 },
 "nbformat": 4,
 "nbformat_minor": 4
}
