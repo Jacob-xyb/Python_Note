{
 "cells": [
  {
   "cell_type": "markdown",
   "id": "b4abf7d4",
   "metadata": {},
   "source": [
    "# time"
   ]
  },
  {
   "cell_type": "markdown",
   "id": "ccde6f76",
   "metadata": {},
   "source": [
    "## 获取时间"
   ]
  },
  {
   "cell_type": "code",
   "execution_count": 1,
   "id": "1ba53e88",
   "metadata": {},
   "outputs": [
    {
     "data": {
      "text/plain": [
       "1657517493.909385"
      ]
     },
     "execution_count": 1,
     "metadata": {},
     "output_type": "execute_result"
    }
   ],
   "source": [
    "# 获取当前时间戳，即计算机内部时间值，浮点数, 单位 s\n",
    "import time\n",
    "time.time()"
   ]
  },
  {
   "cell_type": "markdown",
   "id": "3837c098",
   "metadata": {},
   "source": [
    "### 时间戳(timestamp)"
   ]
  },
  {
   "cell_type": "code",
   "execution_count": 2,
   "id": "af611013",
   "metadata": {
    "scrolled": true
   },
   "outputs": [
    {
     "data": {
      "text/plain": [
       "1657517231.3679612"
      ]
     },
     "execution_count": 2,
     "metadata": {},
     "output_type": "execute_result"
    }
   ],
   "source": [
    "time.time()"
   ]
  },
  {
   "cell_type": "markdown",
   "id": "516d5928",
   "metadata": {},
   "source": [
    "### 进程运行时间"
   ]
  },
  {
   "cell_type": "code",
   "execution_count": 4,
   "id": "9a6a1c3f",
   "metadata": {},
   "outputs": [
    {
     "name": "stdout",
     "output_type": "stream",
     "text": [
      "3.0083799999999883\n"
     ]
    }
   ],
   "source": [
    "import time\n",
    "a = time.perf_counter()\n",
    "time.sleep(3)\n",
    "b = time.perf_counter()\n",
    "print(b-a)  # 3.0083799999999883"
   ]
  },
  {
   "cell_type": "code",
   "execution_count": null,
   "id": "2ae2f123",
   "metadata": {},
   "outputs": [],
   "source": []
  },
  {
   "cell_type": "code",
   "execution_count": 16,
   "id": "64a402f4",
   "metadata": {
    "scrolled": true
   },
   "outputs": [
    {
     "name": "stdout",
     "output_type": "stream",
     "text": [
      "time.struct_time(tm_year=2022, tm_mon=6, tm_mday=22, tm_hour=2, tm_min=11, tm_sec=28, tm_wday=2, tm_yday=173, tm_isdst=0)\n"
     ]
    }
   ],
   "source": [
    "print(time.gmtime())"
   ]
  },
  {
   "cell_type": "code",
   "execution_count": 17,
   "id": "588a7359",
   "metadata": {},
   "outputs": [
    {
     "name": "stdout",
     "output_type": "stream",
     "text": [
      "2022\n"
     ]
    }
   ],
   "source": [
    "print(time.gmtime().tm_year)"
   ]
  },
  {
   "cell_type": "markdown",
   "id": "ce20b77a",
   "metadata": {},
   "source": [
    "## 格式化时间"
   ]
  },
  {
   "cell_type": "markdown",
   "id": "d34b464d",
   "metadata": {},
   "source": [
    "### time.strftime(tpl,ts)\n",
    "\n",
    "tpl是格式化模板字符串，用来定义输出效果；ts是计算机内部时间类型变量"
   ]
  },
  {
   "cell_type": "code",
   "execution_count": 19,
   "id": "9a1eff4b",
   "metadata": {},
   "outputs": [
    {
     "name": "stdout",
     "output_type": "stream",
     "text": [
      "2022-06-22  02:17:38\n"
     ]
    }
   ],
   "source": [
    "import time\n",
    "\n",
    "t = time.gmtime()\n",
    "print(time.strftime(\"%Y-%m-%d  %H:%M:%S\", t))"
   ]
  }
 ],
 "metadata": {
  "kernelspec": {
   "display_name": "Python 3 (ipykernel)",
   "language": "python",
   "name": "python3"
  },
  "language_info": {
   "codemirror_mode": {
    "name": "ipython",
    "version": 3
   },
   "file_extension": ".py",
   "mimetype": "text/x-python",
   "name": "python",
   "nbconvert_exporter": "python",
   "pygments_lexer": "ipython3",
   "version": "3.8.12"
  },
  "toc": {
   "base_numbering": 1,
   "nav_menu": {},
   "number_sections": true,
   "sideBar": true,
   "skip_h1_title": false,
   "title_cell": "Table of Contents",
   "title_sidebar": "Contents",
   "toc_cell": false,
   "toc_position": {},
   "toc_section_display": true,
   "toc_window_display": false
  },
  "varInspector": {
   "cols": {
    "lenName": 16,
    "lenType": 16,
    "lenVar": 40
   },
   "kernels_config": {
    "python": {
     "delete_cmd_postfix": "",
     "delete_cmd_prefix": "del ",
     "library": "var_list.py",
     "varRefreshCmd": "print(var_dic_list())"
    },
    "r": {
     "delete_cmd_postfix": ") ",
     "delete_cmd_prefix": "rm(",
     "library": "var_list.r",
     "varRefreshCmd": "cat(var_dic_list()) "
    }
   },
   "types_to_exclude": [
    "module",
    "function",
    "builtin_function_or_method",
    "instance",
    "_Feature"
   ],
   "window_display": false
  }
 },
 "nbformat": 4,
 "nbformat_minor": 5
}
