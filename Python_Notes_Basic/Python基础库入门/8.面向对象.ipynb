{
 "cells": [
  {
   "cell_type": "markdown",
   "id": "4d3fd7a7",
   "metadata": {},
   "source": [
    "# 面向对象"
   ]
  },
  {
   "cell_type": "markdown",
   "id": "c6b7cb3f",
   "metadata": {},
   "source": [
    "## 对象的进阶应用"
   ]
  },
  {
   "cell_type": "code",
   "execution_count": 22,
   "id": "2cf06b7e",
   "metadata": {},
   "outputs": [
    {
     "name": "stdout",
     "output_type": "stream",
     "text": [
      "init function called\n",
      "7\n",
      "Welcome! The context for this book is indeed nothing.\n"
     ]
    }
   ],
   "source": [
    "class Document():\n",
    "    WELCOME_STR = 'Welcome! The context for this book is {}.'\n",
    "    def __init__(self, title, author, context):\n",
    "        print('init function called')\n",
    "        self.title = title\n",
    "        self.author = author\n",
    "        self.__context = context\n",
    "    # 类函数\n",
    "    @classmethod\n",
    "    def create_empty_book(cls, title, author):\n",
    "        return cls(title=title, author=author, context='nothing')\n",
    "    \n",
    "    # 成员函数\n",
    "    def get_context_length(self):\n",
    "        return len(self.__context)\n",
    "    \n",
    "    # 静态函数\n",
    "    @staticmethod\n",
    "    def get_welcome(context):\n",
    "        return Document.WELCOME_STR.format(context)\n",
    "\n",
    "empty_book = Document.create_empty_book('What Every Man Thinks About Apart from Sex', 'Potter')\n",
    "# init function called\n",
    "print(empty_book.get_context_length())\t\t# 7\n",
    "print(empty_book.get_welcome('indeed nothing'))\t\t\n",
    "# Welcome! The context for this book is indeed nothing."
   ]
  },
  {
   "cell_type": "code",
   "execution_count": null,
   "id": "4b14eb09",
   "metadata": {},
   "outputs": [],
   "source": [
    "class ObjectTest():\n",
    "    CONST_STR = \"这是一个类的常量\"\n",
    "    \n",
    "    @staticmethod\n",
    "    def print_text():\n",
    "        print(\"hello world\")\n",
    "    \n",
    "    # 成员函数可以正常用 self.function() 调用 静态函数 和 常量\n",
    "    def test1(self):\n",
    "        self.print_text()\n",
    "        print(self.CONST_STR)\n",
    "    \n",
    "    # 静态函数没有 self 函数，只能靠 类对象 来调用 类的 静态函数 和 常量\n",
    "    @staticmethod\n",
    "    def test2():\n",
    "        ObjectTest.print_text()\n",
    "        print(ObjectTest.CONST_STR)"
   ]
  },
  {
   "cell_type": "markdown",
   "id": "683cf7cf",
   "metadata": {},
   "source": [
    "## 面向对象案例"
   ]
  },
  {
   "cell_type": "markdown",
   "id": "0595d0d2",
   "metadata": {},
   "source": [
    "### 如何实现一个搜索引擎？"
   ]
  },
  {
   "cell_type": "markdown",
   "id": "0c60b001",
   "metadata": {},
   "source": [
    "#### 先定义一个基类"
   ]
  },
  {
   "cell_type": "code",
   "execution_count": 17,
   "id": "3262069b",
   "metadata": {},
   "outputs": [],
   "source": [
    "class SearchEngineBase(object):\n",
    "    def __init__(self):\n",
    "        pass\n",
    "    \n",
    "    def add_corpus(self, file_path):\n",
    "        with open(file_path, 'r') as fin:\n",
    "            text = fin.read()\n",
    "        self.process_corpus(file_path, text)\n",
    "    \n",
    "    def process_corpus(self, id, text):\n",
    "        raise Exception('process_corpus not implement.')\n",
    "        \n",
    "    def search(self, query):\n",
    "        raise Exception('search not implemented.')\n",
    "    \n",
    "def main(search_engine):\n",
    "    for file_path in ['1.txt', '2.txt', '3.txt', '4.txt', '5.txt']:\n",
    "        search_engine.add_corpus(\"tmp\\\\search_txt\\\\\" + file_path)\n",
    "    while True:\n",
    "        query = input()\n",
    "        results = search_engine.search(query)\n",
    "        print('found {} result(s):'.format(len(results)))\n",
    "        for result in results:\n",
    "            print(result)"
   ]
  },
  {
   "cell_type": "markdown",
   "id": "308d1ff3",
   "metadata": {},
   "source": [
    "#### 最基本的搜索引擎"
   ]
  },
  {
   "cell_type": "code",
   "execution_count": null,
   "id": "209d5085",
   "metadata": {},
   "outputs": [
    {
     "name": "stdout",
     "output_type": "stream",
     "text": [
      "simple\n",
      "found 0 result(s):\n",
      "dream\n",
      "found 3 result(s):\n",
      "tmp\\search_txt\\1.txt\n",
      "tmp\\search_txt\\2.txt\n",
      "tmp\\search_txt\\3.txt\n"
     ]
    }
   ],
   "source": [
    "class SimpleEngine(SearchEngineBase):\n",
    "    def __init__(self):\n",
    "        super(SimpleEngine, self).__init__()\n",
    "        self.__id_to_texts = {}\n",
    "    \n",
    "    def process_corpus(self, id, text):\n",
    "        self.__id_to_texts[id] = text\n",
    "    \n",
    "    def search(self, query):\n",
    "        results = []\n",
    "        for id, text in self.__id_to_texts.items():\n",
    "            if query in text:\n",
    "                results.append(id)\n",
    "        return results\n",
    "\n",
    "search_engine = SimpleEngine()\n",
    "main(search_engine)"
   ]
  },
  {
   "cell_type": "markdown",
   "id": "ab98e2a9",
   "metadata": {},
   "source": [
    "#### Bag of Words 和 Inverted Index"
   ]
  },
  {
   "cell_type": "code",
   "execution_count": 19,
   "id": "9e8cb4b5",
   "metadata": {},
   "outputs": [
    {
     "data": {
      "text/plain": [
       "'\\nsimple\\nfound 0 result(s):\\ndream\\nfound 3 result(s):\\ntmp\\\\search_txt\\x01.txt\\ntmp\\\\search_txt\\x02.txt\\ntmp\\\\search_txt\\x03.txt\\n'"
      ]
     },
     "execution_count": 19,
     "metadata": {},
     "output_type": "execute_result"
    }
   ],
   "source": [
    "import re\n",
    "\n",
    "\n",
    "class BOWEngine(SearchEngineBase):\n",
    "    def __init__(self):\n",
    "        super(BOWEngine, self).__init__()\n",
    "        self.__id_to_word = {}\n",
    "        \n",
    "    def process_corpus(self, id, text):\n",
    "        self.__id_to_word[id] = self.parse_text_to_words(text)\n",
    "    \n",
    "    def search(self, query):\n",
    "        query_words = self.parse_text_to_words(query)\n",
    "        results = []\n",
    "        for id, words in self.__id_to_word.items():\n",
    "            if self.query_match(query_words, words):\n",
    "                results.append(id)\n",
    "        return results\n",
    "    \n",
    "    @staticmethod\n",
    "    def query_match(query_words, words):\n",
    "        for query_word in query_words:\n",
    "            if query_word not in words:\n",
    "                return False\n",
    "        return True\n",
    "    \n",
    "    @staticmethod\n",
    "    def parse_text_to_words(text):\n",
    "        # 使用正则表达式去除标点符号和换行符\n",
    "        text = re.sub(r'[^\\w]', ' ', text)\n",
    "        # 转为小写\n",
    "        text = text.lower()\n",
    "        # 生成所有单词的列表\n",
    "        word_list = text.split(' ')\n",
    "        # 去除空白单词\n",
    "        word_list = filter(None, word_list)\n",
    "        # 返回单词的 set\n",
    "        return set(word_list)\n",
    "\n",
    "    \n",
    "search_engine = BOWEngine()\n",
    "main(search_engine)\n",
    "\n",
    "\"\"\"\n",
    "simple\n",
    "found 0 result(s):\n",
    "dream\n",
    "found 3 result(s):\n",
    "tmp\\search_txt\\1.txt\n",
    "tmp\\search_txt\\2.txt\n",
    "tmp\\search_txt\\3.txt\n",
    "\"\"\""
   ]
  },
  {
   "cell_type": "code",
   "execution_count": null,
   "id": "33419270",
   "metadata": {},
   "outputs": [],
   "source": []
  }
 ],
 "metadata": {
  "kernelspec": {
   "display_name": "Python [conda env:root] *",
   "language": "python",
   "name": "conda-root-py"
  },
  "language_info": {
   "codemirror_mode": {
    "name": "ipython",
    "version": 3
   },
   "file_extension": ".py",
   "mimetype": "text/x-python",
   "name": "python",
   "nbconvert_exporter": "python",
   "pygments_lexer": "ipython3",
   "version": "3.8.13"
  },
  "toc": {
   "base_numbering": 1,
   "nav_menu": {},
   "number_sections": true,
   "sideBar": true,
   "skip_h1_title": false,
   "title_cell": "Table of Contents",
   "title_sidebar": "Contents",
   "toc_cell": false,
   "toc_position": {},
   "toc_section_display": true,
   "toc_window_display": false
  },
  "varInspector": {
   "cols": {
    "lenName": 16,
    "lenType": 16,
    "lenVar": 40
   },
   "kernels_config": {
    "python": {
     "delete_cmd_postfix": "",
     "delete_cmd_prefix": "del ",
     "library": "var_list.py",
     "varRefreshCmd": "print(var_dic_list())"
    },
    "r": {
     "delete_cmd_postfix": ") ",
     "delete_cmd_prefix": "rm(",
     "library": "var_list.r",
     "varRefreshCmd": "cat(var_dic_list()) "
    }
   },
   "types_to_exclude": [
    "module",
    "function",
    "builtin_function_or_method",
    "instance",
    "_Feature"
   ],
   "window_display": false
  }
 },
 "nbformat": 4,
 "nbformat_minor": 5
}
