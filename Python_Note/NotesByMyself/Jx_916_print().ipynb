{
 "cells": [
  {
   "cell_type": "markdown",
   "metadata": {},
   "source": [
    "# print()\n",
    "\n",
    "python中格式化字符串的方式有两种，一种是使用\"%s\"的方式，一种是str.format()的方式"
   ]
  },
  {
   "cell_type": "markdown",
   "metadata": {},
   "source": [
    "## %s\n",
    "\n",
    "![](https://i.loli.net/2021/01/07/aHNbkBtmzpi3O6s.png)"
   ]
  },
  {
   "cell_type": "markdown",
   "metadata": {},
   "source": [
    " 两种用法，第一种是在字符串中使用%s占位，在字符串后使用%替换值来替换\n",
    " \n",
    " 该方式的优点是简单，缺点是影响可读性的，在数量多了以后，很难清楚哪一个占位符对应哪一个实参，排序很麻烦\n"
   ]
  },
  {
   "cell_type": "code",
   "execution_count": 2,
   "metadata": {},
   "outputs": [
    {
     "name": "stdout",
     "output_type": "stream",
     "text": [
      "my name is xiaoming and i am 18 years old\n",
      "Hello,Tom\n"
     ]
    }
   ],
   "source": [
    "print(\"my name is %s and i am %d years old\" %(\"xiaoming\",18))\n",
    "print(\"Hello,%s\" % \"Tom\")"
   ]
  },
  {
   "cell_type": "markdown",
   "metadata": {},
   "source": [
    "另一种方式可以用字典的形式进行表示："
   ]
  },
  {
   "cell_type": "code",
   "execution_count": 5,
   "metadata": {},
   "outputs": [
    {
     "name": "stdout",
     "output_type": "stream",
     "text": [
      "Hello,Tom\n",
      "Hello world from Python.\n",
      "Hello world from Python.\n"
     ]
    }
   ],
   "source": [
    "print (\"Hello,%(name)s\" % {\"name\":\"Tom\"})\n",
    "# 参数比较多的情况下这样用\n",
    "value = {\"greet\": \"Hello world\", \"language\": \"Python\"}  \n",
    "print(\"%(greet)s from %(language)s.\" % value)\n",
    "print(\"%(greet)s from %(language)s.\" % {\"greet\": \"Hello world\", \"language\": \"Python\"})"
   ]
  },
  {
   "cell_type": "markdown",
   "metadata": {},
   "source": [
    "## format()方式\n",
    "\n",
    "在python2.6开始，Python中新增加了一个字符串格式化字符的函数str.format(),此函数可以快速的处理各种字符串，增强了字符串格式化的功能。\n",
    "\n",
    "基本语法是使用{}来替代%。format函数的实参位置可以不按照顺序\n",
    "\n",
    "1. 使用位置参数\n",
    "\n",
    "要点：位置参数不受顺序约束，且可以为{},只要format里有相对应的参数值即可,参数索引从0开，传入位置参数列表可用*列表"
   ]
  },
  {
   "cell_type": "code",
   "execution_count": 7,
   "metadata": {},
   "outputs": [
    {
     "data": {
      "text/plain": [
       "'hello world'"
      ]
     },
     "execution_count": 7,
     "metadata": {},
     "output_type": "execute_result"
    }
   ],
   "source": [
    "\"{} {}\".format(\"hello\", \"world\")  # 设置指定位置，按默认顺序"
   ]
  },
  {
   "cell_type": "code",
   "execution_count": 13,
   "metadata": {},
   "outputs": [
    {
     "data": {
      "text/plain": [
       "'hello world'"
      ]
     },
     "execution_count": 13,
     "metadata": {},
     "output_type": "execute_result"
    }
   ],
   "source": [
    "\"{1} {0}\".format(\"world\", \"hello\")  # 设置指定位置"
   ]
  },
  {
   "cell_type": "code",
   "execution_count": 14,
   "metadata": {},
   "outputs": [
    {
     "data": {
      "text/plain": [
       "'world hello world'"
      ]
     },
     "execution_count": 14,
     "metadata": {},
     "output_type": "execute_result"
    }
   ],
   "source": [
    "\"{1} {0} {1}\".format(\"hello\", \"world\")  # 设置指定位置"
   ]
  },
  {
   "cell_type": "code",
   "execution_count": 15,
   "metadata": {},
   "outputs": [
    {
     "data": {
      "text/plain": [
       "'hello world'"
      ]
     },
     "execution_count": 15,
     "metadata": {},
     "output_type": "execute_result"
    }
   ],
   "source": [
    "input = [\"hello\", \"world\"]  # 传入位置参数列表可用*列表\n",
    "\"{} {}\".format(*input)"
   ]
  },
  {
   "cell_type": "markdown",
   "metadata": {},
   "source": [
    "2. 使用关键字参数，类似于使用字典key值占位，将字典作为参数传入字符串\n",
    "\n",
    "要点：字符串中的关键字参数要与传入的参数值对得上，可用字典当关键字参数传入值，字典前加**即可"
   ]
  },
  {
   "cell_type": "code",
   "execution_count": 18,
   "metadata": {},
   "outputs": [
    {
     "data": {
      "text/plain": [
       "'my name is Bingo,age is 18'"
      ]
     },
     "execution_count": 18,
     "metadata": {},
     "output_type": "execute_result"
    }
   ],
   "source": [
    "'my name is {name},age is {age}'.format(name='Bingo', age=18)"
   ]
  },
  {
   "cell_type": "code",
   "execution_count": 19,
   "metadata": {},
   "outputs": [
    {
     "data": {
      "text/plain": [
       "'my name is Bingo,age is 18'"
      ]
     },
     "execution_count": 19,
     "metadata": {},
     "output_type": "execute_result"
    }
   ],
   "source": [
    "hash = {'name': 'Bingo', 'age': 18}\n",
    "'my name is {name},age is {age}'.format(**hash)  # 通过关键字，并用字典当关键字传入值时，在字典前加**即可"
   ]
  },
  {
   "cell_type": "markdown",
   "metadata": {},
   "source": [
    "### 填充与格式化(:[填充字符][对齐方式 <^>][宽度])\n",
    "\n",
    "^、<、>分别是居中、左对齐、右对齐，:号后面带填充的字符，只能是一个字符，不指定的话默认是用空格填充，对齐方式后面紧跟一个整数可以限定该字段的宽度。"
   ]
  },
  {
   "cell_type": "code",
   "execution_count": 27,
   "metadata": {},
   "outputs": [
    {
     "name": "stdout",
     "output_type": "stream",
     "text": [
      "****hello\n",
      "hello****\n",
      "**hello**\n",
      "  hello  \n"
     ]
    }
   ],
   "source": [
    "print('{0:*>9}'.format(\"hello\"))  # 右对齐\n",
    "print('{0:*<9}'.format(\"hello\"))  # 左对齐\n",
    "print('{0:*^9}'.format(\"hello\"))  # 居中\n",
    "print('{0:^9}'.format(\"hello\"))  # 居中 默认空格"
   ]
  },
  {
   "cell_type": "markdown",
   "metadata": {},
   "source": [
    "### 精度与进制"
   ]
  },
  {
   "cell_type": "code",
   "execution_count": 36,
   "metadata": {},
   "outputs": [
    {
     "name": "stdout",
     "output_type": "stream",
     "text": [
      "0.33\n",
      "1010\n",
      "12\n",
      "a\n",
      "12,369,132,698\n"
     ]
    }
   ],
   "source": [
    "print('{0:.2f}'.format(1/3))\n",
    "print('{0:b}'.format(10))  # 二进制\n",
    "print('{0:o}'.format(10))  # 八进制\n",
    "print('{0:x}'.format(10))  # 十六进制\n",
    "print('{:,}'.format(12369132698))  # 千分位格式化"
   ]
  },
  {
   "cell_type": "markdown",
   "metadata": {},
   "source": [
    "### 通过下标 "
   ]
  },
  {
   "cell_type": "code",
   "execution_count": 38,
   "metadata": {},
   "outputs": [
    {
     "data": {
      "text/plain": [
       "'name xiaoming, age 18'"
      ]
     },
     "execution_count": 38,
     "metadata": {},
     "output_type": "execute_result"
    }
   ],
   "source": [
    "my_list = ['xiaoming', 18]\n",
    "\"name {0[0]}, age {0[1]}\".format(my_list)  # 通过列表索引设置参数"
   ]
  },
  {
   "cell_type": "markdown",
   "metadata": {},
   "source": [
    "### 扩展\n",
    "\n",
    "如果字符串里面含有 \"{\"  或者  \"}\"时，需要把 \"{\" 和 \"}\" 字符以 \"{{\" 和 \"}}\" 代替。"
   ]
  },
  {
   "cell_type": "code",
   "execution_count": 40,
   "metadata": {},
   "outputs": [
    {
     "data": {
      "text/plain": [
       "\"{'name1':'qpy','name2':'wjx'}\""
      ]
     },
     "execution_count": 40,
     "metadata": {},
     "output_type": "execute_result"
    }
   ],
   "source": [
    "\"{{'name1':'{0}','name2':'{1}'}}\".format('qpy','wjx')"
   ]
  }
 ],
 "metadata": {
  "kernelspec": {
   "display_name": "Python 3",
   "language": "python",
   "name": "python3"
  },
  "language_info": {
   "codemirror_mode": {
    "name": "ipython",
    "version": 3
   },
   "file_extension": ".py",
   "mimetype": "text/x-python",
   "name": "python",
   "nbconvert_exporter": "python",
   "pygments_lexer": "ipython3",
   "version": "3.8.5"
  },
  "toc": {
   "base_numbering": 1,
   "nav_menu": {},
   "number_sections": true,
   "sideBar": true,
   "skip_h1_title": false,
   "title_cell": "Table of Contents",
   "title_sidebar": "Contents",
   "toc_cell": false,
   "toc_position": {},
   "toc_section_display": true,
   "toc_window_display": true
  },
  "varInspector": {
   "cols": {
    "lenName": 16,
    "lenType": 16,
    "lenVar": 40
   },
   "kernels_config": {
    "python": {
     "delete_cmd_postfix": "",
     "delete_cmd_prefix": "del ",
     "library": "var_list.py",
     "varRefreshCmd": "print(var_dic_list())"
    },
    "r": {
     "delete_cmd_postfix": ") ",
     "delete_cmd_prefix": "rm(",
     "library": "var_list.r",
     "varRefreshCmd": "cat(var_dic_list()) "
    }
   },
   "types_to_exclude": [
    "module",
    "function",
    "builtin_function_or_method",
    "instance",
    "_Feature"
   ],
   "window_display": false
  }
 },
 "nbformat": 4,
 "nbformat_minor": 4
}
