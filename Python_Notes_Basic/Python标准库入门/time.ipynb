{
 "cells": [
  {
   "cell_type": "markdown",
   "id": "b4abf7d4",
   "metadata": {},
   "source": [
    "# time"
   ]
  },
  {
   "cell_type": "markdown",
   "id": "ccde6f76",
   "metadata": {},
   "source": [
    "## 获取时间"
   ]
  },
  {
   "cell_type": "code",
   "execution_count": 1,
   "id": "1ba53e88",
   "metadata": {},
   "outputs": [
    {
     "data": {
      "text/plain": [
       "1657517493.909385"
      ]
     },
     "execution_count": 1,
     "metadata": {},
     "output_type": "execute_result"
    }
   ],
   "source": [
    "# 获取当前时间戳，即计算机内部时间值，浮点数, 单位 s\n",
    "import time\n",
    "time.time()"
   ]
  },
  {
   "cell_type": "markdown",
   "id": "3837c098",
   "metadata": {},
   "source": [
    "### 时间戳(timestamp)"
   ]
  },
  {
   "cell_type": "code",
   "execution_count": 2,
   "id": "af611013",
   "metadata": {
    "scrolled": true
   },
   "outputs": [
    {
     "data": {
      "text/plain": [
       "1657517231.3679612"
      ]
     },
     "execution_count": 2,
     "metadata": {},
     "output_type": "execute_result"
    }
   ],
   "source": [
    "time.time()"
   ]
  },
  {
   "cell_type": "markdown",
   "id": "516d5928",
   "metadata": {},
   "source": [
    "### 进程运行时间"
   ]
  },
  {
   "cell_type": "code",
   "execution_count": 4,
   "id": "9a6a1c3f",
   "metadata": {},
   "outputs": [
    {
     "name": "stdout",
     "output_type": "stream",
     "text": [
      "3.0083799999999883\n"
     ]
    }
   ],
   "source": [
    "import time\n",
    "a = time.perf_counter()\n",
    "time.sleep(3)\n",
    "b = time.perf_counter()\n",
    "print(b-a)  # 3.0083799999999883"
   ]
  },
  {
   "cell_type": "markdown",
   "id": "9c5325ec",
   "metadata": {},
   "source": [
    "### struct_time "
   ]
  },
  {
   "cell_type": "code",
   "execution_count": 16,
   "id": "59fda8c4",
   "metadata": {},
   "outputs": [
    {
     "name": "stdout",
     "output_type": "stream",
     "text": [
      "time.struct_time(tm_year=2022, tm_mon=7, tm_mday=12, tm_hour=20, tm_min=20, tm_sec=20, tm_wday=1, tm_yday=193, tm_isdst=0)\n",
      "2022\n",
      "20\n"
     ]
    }
   ],
   "source": [
    "import time\n",
    "\n",
    "struct_time = time.localtime()\n",
    "print(struct_time)\n",
    "# time.struct_time(tm_year=2022, tm_mon=7, tm_mday=12, tm_hour=20, tm_min=20, tm_sec=20, tm_wday=1, tm_yday=193, tm_isdst=0)\n",
    "print(struct_time.tm_year)  # 2022\n",
    "print(struct_time.tm_hour)  # 20"
   ]
  },
  {
   "cell_type": "code",
   "execution_count": 1,
   "id": "2ae2f123",
   "metadata": {},
   "outputs": [
    {
     "name": "stdout",
     "output_type": "stream",
     "text": [
      "time.struct_time(tm_year=2022, tm_mon=7, tm_mday=12, tm_hour=19, tm_min=46, tm_sec=25, tm_wday=1, tm_yday=193, tm_isdst=0)\n",
      "time.struct_time(tm_year=2022, tm_mon=7, tm_mday=12, tm_hour=19, tm_min=46, tm_sec=25, tm_wday=1, tm_yday=193, tm_isdst=0)\n"
     ]
    }
   ],
   "source": [
    "import time\n",
    "\n",
    "print(time.localtime())\n",
    "print(time.localtime(time.time()))"
   ]
  },
  {
   "cell_type": "code",
   "execution_count": 2,
   "id": "64a402f4",
   "metadata": {
    "scrolled": true
   },
   "outputs": [
    {
     "data": {
      "text/plain": [
       "1657626741.0"
      ]
     },
     "execution_count": 2,
     "metadata": {},
     "output_type": "execute_result"
    }
   ],
   "source": [
    "time.mktime(time.localtime())  # 1657626741.0"
   ]
  },
  {
   "cell_type": "code",
   "execution_count": 13,
   "id": "c5ef5c24",
   "metadata": {},
   "outputs": [
    {
     "name": "stdout",
     "output_type": "stream",
     "text": [
      "Tue Jul 12 20:15:54 2022\n"
     ]
    }
   ],
   "source": [
    "print(time.asctime())"
   ]
  },
  {
   "cell_type": "code",
   "execution_count": 5,
   "id": "94c660be",
   "metadata": {},
   "outputs": [
    {
     "name": "stdout",
     "output_type": "stream",
     "text": [
      "Tue Jul 12 20:00:16 2022\n",
      "Tue Jul 12 20:00:16 2022\n"
     ]
    }
   ],
   "source": [
    "print(time.ctime())\n",
    "print(time.ctime(time.time()))"
   ]
  },
  {
   "cell_type": "code",
   "execution_count": 9,
   "id": "1e3fd1b8",
   "metadata": {},
   "outputs": [
    {
     "name": "stdout",
     "output_type": "stream",
     "text": [
      "2022-07-12 20:09:30\n",
      "2022-07-12 20:09:30\n"
     ]
    }
   ],
   "source": [
    "import time\n",
    "\n",
    "print(time.strftime(\"%Y-%m-%d %X\"))\n",
    "print(time.strftime(\"%Y-%m-%d %H:%M:%S\"))"
   ]
  },
  {
   "cell_type": "code",
   "execution_count": 10,
   "id": "61ee6f76",
   "metadata": {},
   "outputs": [
    {
     "data": {
      "text/plain": [
       "time.struct_time(tm_year=2022, tm_mon=7, tm_mday=12, tm_hour=20, tm_min=9, tm_sec=30, tm_wday=1, tm_yday=193, tm_isdst=-1)"
      ]
     },
     "execution_count": 10,
     "metadata": {},
     "output_type": "execute_result"
    }
   ],
   "source": [
    "print(time.strptime(\"2022-07-12 20:09:30\", \"%Y-%m-%d %X\"))"
   ]
  },
  {
   "cell_type": "markdown",
   "id": "f3878a6f",
   "metadata": {},
   "source": [
    "## 计算时间"
   ]
  },
  {
   "cell_type": "markdown",
   "id": "dcc199f7",
   "metadata": {},
   "source": [
    "- __Python 3.8 已移除 clock() 方法 可以使用 time.perf_counter() 或 time.process_time() 方法替代。__\n",
    "\n",
    "---\n",
    "\n",
    "- 以浮点数计算的秒数返回当前的CPU时间。用来衡量不同程序的耗时，比time.time()更有用。\n",
    "\n",
    "这个需要注意，在不同的系统上含义不同。在UNIX系统上，它返回的是\"进程时间\"，它是用秒表示的浮点数（时间戳）。而在WINDOWS中，第一次调用，返回的是进程运行的实际时间。而第二次之后的调用是自第一次调用以后到现在的运行时间。（实际上是以WIN32上ueryPerformanceCounter()为基础，它比毫秒表示更为精确）\n",
    "\n",
    "在win32系统下，这个函数返回的是真实时间（wall time），而在Unix/Linux下返回的是CPU时间。"
   ]
  },
  {
   "cell_type": "code",
   "execution_count": 2,
   "id": "da1730a6",
   "metadata": {},
   "outputs": [
    {
     "name": "stdout",
     "output_type": "stream",
     "text": [
      "2.501211643218994 seconds wall time\n",
      "2.5087223999999964 seconds perfer time\n",
      "0.0 seconds process time\n"
     ]
    }
   ],
   "source": [
    "import time\n",
    "\n",
    "def procedure():\n",
    "    time.sleep(2.5)\n",
    "\n",
    "# measure wall time\n",
    "t0 = time.time()\n",
    "procedure()\n",
    "print (time.time() - t0, \"seconds wall time\")\n",
    "    \n",
    "# measure perfer time\n",
    "t0 = time.perf_counter()\n",
    "procedure()\n",
    "print (time.perf_counter() - t0, \"seconds perfer time\")\n",
    "\n",
    "# measure process time \n",
    "t0 = time.process_time()\n",
    "procedure()\n",
    "print (time.process_time() - t0, \"seconds process time\")"
   ]
  },
  {
   "cell_type": "code",
   "execution_count": 1,
   "id": "acca3504",
   "metadata": {},
   "outputs": [
    {
     "data": {
      "text/plain": [
       "1.5625"
      ]
     },
     "execution_count": 1,
     "metadata": {},
     "output_type": "execute_result"
    }
   ],
   "source": [
    "import time\n",
    "time.process_time()"
   ]
  },
  {
   "cell_type": "code",
   "execution_count": 8,
   "id": "fae9c19d",
   "metadata": {},
   "outputs": [
    {
     "name": "stdout",
     "output_type": "stream",
     "text": [
      "time.struct_time(tm_year=1970, tm_mon=1, tm_mday=1, tm_hour=0, tm_min=0, tm_sec=0, tm_wday=3, tm_yday=1, tm_isdst=0)\n",
      "Thu Jan  1 00:00:00 1970\n"
     ]
    }
   ],
   "source": [
    "print(time.gmtime(0))\n",
    "print(time.asctime(time.gmtime(0)))"
   ]
  },
  {
   "cell_type": "markdown",
   "id": "b1738532",
   "metadata": {},
   "source": [
    "### 纳秒计时"
   ]
  },
  {
   "cell_type": "code",
   "execution_count": 3,
   "id": "78cfa4ef",
   "metadata": {},
   "outputs": [
    {
     "name": "stdout",
     "output_type": "stream",
     "text": [
      "2513770100 seconds wall time\n",
      "2508415400 seconds perfer time\n",
      "0 seconds process time\n"
     ]
    }
   ],
   "source": [
    "import time\n",
    "\n",
    "def procedure():\n",
    "    time.sleep(2.5)\n",
    "\n",
    "# measure wall time\n",
    "t0 = time.time_ns()\n",
    "procedure()\n",
    "print (time.time_ns() - t0, \"seconds wall time\")\n",
    "    \n",
    "# measure perfer time\n",
    "t0 = time.perf_counter_ns()\n",
    "procedure()\n",
    "print (time.perf_counter_ns() - t0, \"seconds perfer time\")\n",
    "\n",
    "# measure process time \n",
    "t0 = time.process_time_ns()\n",
    "procedure()\n",
    "print (time.process_time_ns() - t0, \"seconds process time\")"
   ]
  }
 ],
 "metadata": {
  "kernelspec": {
   "display_name": "Python 3 (ipykernel)",
   "language": "python",
   "name": "python3"
  },
  "language_info": {
   "codemirror_mode": {
    "name": "ipython",
    "version": 3
   },
   "file_extension": ".py",
   "mimetype": "text/x-python",
   "name": "python",
   "nbconvert_exporter": "python",
   "pygments_lexer": "ipython3",
   "version": "3.8.12"
  },
  "toc": {
   "base_numbering": 1,
   "nav_menu": {},
   "number_sections": true,
   "sideBar": true,
   "skip_h1_title": false,
   "title_cell": "Table of Contents",
   "title_sidebar": "Contents",
   "toc_cell": false,
   "toc_position": {},
   "toc_section_display": true,
   "toc_window_display": false
  },
  "varInspector": {
   "cols": {
    "lenName": 16,
    "lenType": 16,
    "lenVar": 40
   },
   "kernels_config": {
    "python": {
     "delete_cmd_postfix": "",
     "delete_cmd_prefix": "del ",
     "library": "var_list.py",
     "varRefreshCmd": "print(var_dic_list())"
    },
    "r": {
     "delete_cmd_postfix": ") ",
     "delete_cmd_prefix": "rm(",
     "library": "var_list.r",
     "varRefreshCmd": "cat(var_dic_list()) "
    }
   },
   "types_to_exclude": [
    "module",
    "function",
    "builtin_function_or_method",
    "instance",
    "_Feature"
   ],
   "window_display": false
  }
 },
 "nbformat": 4,
 "nbformat_minor": 5
}
