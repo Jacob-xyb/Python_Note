{
 "cells": [
  {
   "cell_type": "markdown",
   "metadata": {},
   "source": [
    "# if的基础应用"
   ]
  },
  {
   "cell_type": "markdown",
   "metadata": {},
   "source": [
    "## 用列表判断\n",
    "\n",
    "-输入的类型一定要与列表里的类型对应上"
   ]
  },
  {
   "cell_type": "code",
   "execution_count": 1,
   "metadata": {},
   "outputs": [
    {
     "name": "stdout",
     "output_type": "stream",
     "text": [
      "yes,you are right.\n"
     ]
    }
   ],
   "source": [
    "def if_list(key):\n",
    "    if key in [\"hello\", \"world\", 1]:\n",
    "        print(\"yes,you are right.\")\n",
    "if_list(1)"
   ]
  },
  {
   "cell_type": "markdown",
   "metadata": {},
   "source": [
    "# if的语法进阶"
   ]
  },
  {
   "cell_type": "markdown",
   "metadata": {},
   "source": [
    "## 简单案例-输出较大的数"
   ]
  },
  {
   "cell_type": "markdown",
   "metadata": {},
   "source": [
    "### 最普通的写法"
   ]
  },
  {
   "cell_type": "code",
   "execution_count": 2,
   "metadata": {},
   "outputs": [],
   "source": [
    "a, b = 1, 2\n",
    "if a>b:\n",
    "    c = a\n",
    "else:\n",
    "    c = b"
   ]
  },
  {
   "cell_type": "markdown",
   "metadata": {},
   "source": [
    "### 一行表达式, 为真时放if前"
   ]
  },
  {
   "cell_type": "code",
   "execution_count": 3,
   "metadata": {},
   "outputs": [],
   "source": [
    "a, b = 1, 2\n",
    "c = a if a > b else b"
   ]
  },
  {
   "cell_type": "markdown",
   "metadata": {},
   "source": [
    "### 二维列表，利用大小判断的0，1当作索引"
   ]
  },
  {
   "cell_type": "code",
   "execution_count": 4,
   "metadata": {},
   "outputs": [],
   "source": [
    "a, b = 1, 2\n",
    "c = [b, a][a > b]"
   ]
  },
  {
   "cell_type": "markdown",
   "metadata": {},
   "source": [
    "### 传说中的黑客，利用逻辑运算符进行操作，都是最简单的东西，却发挥无限能量"
   ]
  },
  {
   "cell_type": "code",
   "execution_count": 5,
   "metadata": {},
   "outputs": [],
   "source": [
    "a, b = 1, 2\n",
    "c = a > b and a or b"
   ]
  },
  {
   "cell_type": "markdown",
   "metadata": {},
   "source": [
    "#### 解释一下\n",
    "\n",
    "- 利用and的特点，若and前位置为假则直接判断为假，利用or的特点，若or前位置为真则判断为真。\n",
    "\n",
    "- 从前往后找：and找假，or找真"
   ]
  },
  {
   "cell_type": "markdown",
   "metadata": {},
   "source": [
    "#### and：前真返后; 前假返前\n",
    "\n",
    "- 个人理解：and找假：找到假的就返回，没找到就返回后面的"
   ]
  },
  {
   "cell_type": "code",
   "execution_count": 6,
   "metadata": {},
   "outputs": [
    {
     "name": "stdout",
     "output_type": "stream",
     "text": [
      "222\n",
      "0\n",
      "0\n",
      "0\n"
     ]
    }
   ],
   "source": [
    "# and：前真返后\n",
    "print(111 and 222)\n",
    "print(111 and 000)\n",
    "# and：前假返前\n",
    "print(000 and 111)\n",
    "print(000 and '')"
   ]
  },
  {
   "cell_type": "markdown",
   "metadata": {},
   "source": [
    "#### or：前真返前； 前假返后\n",
    "- - 个人理解：or找假：找到真的就返回，没找到就返回后面的"
   ]
  },
  {
   "cell_type": "code",
   "execution_count": 7,
   "metadata": {},
   "outputs": [
    {
     "name": "stdout",
     "output_type": "stream",
     "text": [
      "111\n",
      "111\n",
      "111\n",
      "0\n"
     ]
    }
   ],
   "source": [
    "# or：前真返前\n",
    "print(111 or 000)\n",
    "print(111 or 111)\n",
    "# or：前假返后\n",
    "print(000 or 111)\n",
    "print('' or 000)"
   ]
  }
 ],
 "metadata": {
  "kernelspec": {
   "display_name": "Python 3",
   "language": "python",
   "name": "python3"
  },
  "language_info": {
   "codemirror_mode": {
    "name": "ipython",
    "version": 3
   },
   "file_extension": ".py",
   "mimetype": "text/x-python",
   "name": "python",
   "nbconvert_exporter": "python",
   "pygments_lexer": "ipython3",
   "version": "3.8.3"
  }
 },
 "nbformat": 4,
 "nbformat_minor": 4
}
