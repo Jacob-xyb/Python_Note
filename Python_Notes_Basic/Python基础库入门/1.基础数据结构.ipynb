{
 "cells": [
  {
   "cell_type": "markdown",
   "id": "bba95804",
   "metadata": {},
   "source": [
    "# 基础数据结构"
   ]
  },
  {
   "cell_type": "markdown",
   "id": "cbae166a",
   "metadata": {},
   "source": [
    "## 数字"
   ]
  },
  {
   "cell_type": "markdown",
   "id": "dec100ab",
   "metadata": {},
   "source": [
    "### 整数"
   ]
  },
  {
   "cell_type": "markdown",
   "id": "58d54cd3",
   "metadata": {},
   "source": [
    "#### 进制数"
   ]
  },
  {
   "cell_type": "code",
   "execution_count": 45,
   "id": "44c8f2c3",
   "metadata": {
    "scrolled": true
   },
   "outputs": [
    {
     "name": "stdout",
     "output_type": "stream",
     "text": [
      "2\n",
      "8\n",
      "16\n"
     ]
    }
   ],
   "source": [
    "# 进制数代表整数\n",
    "print(0b10)  # 0b 2进制\n",
    "print(0o10)  # 0o 8进制\n",
    "print(0x10)  # 0x 16进制\n",
    "print(10)    #    10进制"
   ]
  },
  {
   "cell_type": "code",
   "execution_count": 25,
   "id": "56e7248b",
   "metadata": {},
   "outputs": [
    {
     "data": {
      "text/plain": [
       "'20'"
      ]
     },
     "execution_count": 25,
     "metadata": {},
     "output_type": "execute_result"
    }
   ],
   "source": [
    "# 其他进制数的转换\n",
    "def toStr(num, base):\n",
    "    convertString = \"0123456789ABCDEF\"  # 最大转换为16进制\n",
    "    if num < base:\n",
    "        return convertString[num]\n",
    "    else:\n",
    "        return toStr(num // base, base) + convertString[num % base]\n",
    "toStr(14, 7)  # 20"
   ]
  },
  {
   "cell_type": "markdown",
   "id": "389f2c1b",
   "metadata": {},
   "source": [
    "**复数:**"
   ]
  },
  {
   "cell_type": "code",
   "execution_count": 17,
   "id": "bfcc6c70",
   "metadata": {},
   "outputs": [
    {
     "name": "stdout",
     "output_type": "stream",
     "text": [
      "(1+2j) 2j (-4+0j)\n",
      "(1+2j) 2j (-4+0j)\n"
     ]
    }
   ],
   "source": [
    "# 方法1：\n",
    "print(1+2j, 2j, 2j ** 2)\n",
    "\n",
    "# 方法2：\n",
    "print(complex(1, 2), complex(0, 2), complex(-4))"
   ]
  },
  {
   "cell_type": "markdown",
   "id": "17f3b201",
   "metadata": {},
   "source": [
    "### 数字类型转换"
   ]
  },
  {
   "cell_type": "code",
   "execution_count": 63,
   "id": "524d7bf7",
   "metadata": {
    "scrolled": true
   },
   "outputs": [
    {
     "name": "stdout",
     "output_type": "stream",
     "text": [
      "3\n",
      "16\n",
      "2\n",
      "3\n"
     ]
    }
   ],
   "source": [
    "# int() argument must be a string, a bytes-like object or a real number\n",
    "print(int('3'))\n",
    "print(int('0x10', base=0))\n",
    "print(int('10', base=2))\n",
    "print(int(3.14159))  # int() 会直接截断浮点数"
   ]
  },
  {
   "cell_type": "markdown",
   "id": "1f2c1cf5",
   "metadata": {},
   "source": [
    "### 数字运算"
   ]
  },
  {
   "cell_type": "markdown",
   "id": "b5a71d63",
   "metadata": {},
   "source": [
    "#### 运算符"
   ]
  },
  {
   "cell_type": "markdown",
   "id": "1b76653a",
   "metadata": {},
   "source": [
    "- 位运算符"
   ]
  },
  {
   "cell_type": "code",
   "execution_count": 2,
   "id": "18b87d69",
   "metadata": {},
   "outputs": [],
   "source": [
    "a = 60\n",
    "b = 13"
   ]
  },
  {
   "cell_type": "code",
   "execution_count": 18,
   "id": "0e4810c4",
   "metadata": {},
   "outputs": [
    {
     "data": {
      "text/plain": [
       "'00111100'"
      ]
     },
     "execution_count": 18,
     "metadata": {},
     "output_type": "execute_result"
    }
   ],
   "source": [
    "\"{:08b}\".format(a) "
   ]
  },
  {
   "cell_type": "code",
   "execution_count": 19,
   "id": "a5779283",
   "metadata": {},
   "outputs": [
    {
     "data": {
      "text/plain": [
       "'00001101'"
      ]
     },
     "execution_count": 19,
     "metadata": {},
     "output_type": "execute_result"
    }
   ],
   "source": [
    "\"{:08b}\".format(b) "
   ]
  },
  {
   "cell_type": "code",
   "execution_count": 27,
   "id": "73451f50",
   "metadata": {},
   "outputs": [
    {
     "name": "stdout",
     "output_type": "stream",
     "text": [
      "12 00001100\n"
     ]
    }
   ],
   "source": [
    "# 与运算: 同1为1\n",
    "print(\"{0} {0:08b}\".format(a & b))"
   ]
  },
  {
   "cell_type": "code",
   "execution_count": 25,
   "id": "d788dbb8",
   "metadata": {},
   "outputs": [
    {
     "name": "stdout",
     "output_type": "stream",
     "text": [
      "61 00111101\n"
     ]
    }
   ],
   "source": [
    "# 或运算: 有1为1\n",
    "print(\"{0} {0:08b}\".format(a | b))"
   ]
  },
  {
   "cell_type": "code",
   "execution_count": 26,
   "id": "2617a501",
   "metadata": {},
   "outputs": [
    {
     "name": "stdout",
     "output_type": "stream",
     "text": [
      "49 00110001\n"
     ]
    }
   ],
   "source": [
    "# 异运算: 相异为1\n",
    "print(\"{0} {0:08b}\".format(a ^ b))"
   ]
  },
  {
   "cell_type": "code",
   "execution_count": 37,
   "id": "1ef442e4",
   "metadata": {},
   "outputs": [
    {
     "name": "stdout",
     "output_type": "stream",
     "text": [
      "60\t00111100\n",
      "-61\t-0111101\n"
     ]
    }
   ],
   "source": [
    "# 取反运算: 每位取反\n",
    "print(\"{0}\\t{0:08b}\".format(a))\n",
    "print(\"{0}\\t{0:08b}\".format(~a))"
   ]
  },
  {
   "cell_type": "code",
   "execution_count": 34,
   "id": "b8c58164",
   "metadata": {},
   "outputs": [
    {
     "name": "stdout",
     "output_type": "stream",
     "text": [
      "60\t00111100\n",
      "120\t01111000\n",
      "240\t11110000\n"
     ]
    }
   ],
   "source": [
    "# 左移运算: 高位抛弃，低位补0\n",
    "print(\"{0}\\t{0:08b}\".format(a))\n",
    "print(\"{0}\\t{0:08b}\".format(a<<1))\n",
    "print(\"{0}\\t{0:08b}\".format(a<<2))"
   ]
  },
  {
   "cell_type": "code",
   "execution_count": 38,
   "id": "55f89adb",
   "metadata": {},
   "outputs": [
    {
     "name": "stdout",
     "output_type": "stream",
     "text": [
      "60\t00111100\n",
      "30\t00011110\n",
      "15\t00001111\n"
     ]
    }
   ],
   "source": [
    "# 右移运算:\n",
    "print(\"{0}\\t{0:08b}\".format(a))\n",
    "print(\"{0}\\t{0:08b}\".format(a>>1))\n",
    "print(\"{0}\\t{0:08b}\".format(a>>2))"
   ]
  },
  {
   "cell_type": "markdown",
   "id": "d6ecf693",
   "metadata": {},
   "source": [
    "- 海象运算符\n",
    "\n",
    "    Python3.8 后支持"
   ]
  },
  {
   "cell_type": "code",
   "execution_count": 31,
   "id": "34c47be9",
   "metadata": {},
   "outputs": [
    {
     "name": "stdout",
     "output_type": "stream",
     "text": [
      "List is too long (6 elements expected <= 5)\n",
      "6\n"
     ]
    }
   ],
   "source": [
    "# 赋值表达式可以避免调用 len() 两次:\n",
    "a = [1, 2, 3, 4, 5, 6]\n",
    "if (n := len(a)) > 5:\n",
    "    print(f\"List is too long ({n} elements expected <= 5)\")"
   ]
  },
  {
   "cell_type": "markdown",
   "id": "54cde856",
   "metadata": {},
   "source": [
    "- 比较运算符"
   ]
  },
  {
   "cell_type": "code",
   "execution_count": 22,
   "id": "a2421da1",
   "metadata": {},
   "outputs": [
    {
     "name": "stdout",
     "output_type": "stream",
     "text": [
      "True\n",
      "True\n",
      "False\n"
     ]
    }
   ],
   "source": [
    "num = 10\n",
    "print(5 < num < 12)\n",
    "print(5 < num != 12)\n",
    "print(5 < num != 10)"
   ]
  },
  {
   "cell_type": "markdown",
   "id": "3e548059",
   "metadata": {},
   "source": [
    "## 列表与元组"
   ]
  },
  {
   "cell_type": "code",
   "execution_count": 22,
   "id": "0c22816b",
   "metadata": {},
   "outputs": [
    {
     "name": "stdout",
     "output_type": "stream",
     "text": [
      "l.count(3): 2\n",
      "l.index(7): 3\n",
      "l.reverse(): [1, 8, 7, 3, 2, 3]\n",
      "l.sort(): [1, 2, 3, 3, 7, 8]\n",
      "reversed(l): <list_reverseiterator object at 0x000001F80DDB7B20>\n"
     ]
    }
   ],
   "source": [
    "l = [3, 2, 3, 7, 8, 1]\n",
    "print(\"l.count(3):\", l.count(3))\n",
    "print(\"l.index(7):\", l.index(7))\n",
    "l.reverse()\n",
    "print(\"l.reverse():\", l)\n",
    "l.sort()\n",
    "print(\"l.sort():\", l)\n",
    "print(\"reversed(l):\", reversed(l))"
   ]
  },
  {
   "cell_type": "code",
   "execution_count": 7,
   "id": "9800fa1b",
   "metadata": {},
   "outputs": [
    {
     "name": "stdout",
     "output_type": "stream",
     "text": [
      "tup.count(3): 2\n",
      "tup.index(7): 3\n",
      "list(reversed(tup)): [1, 8, 7, 3, 2, 3]\n",
      "sorted(tup): [1, 2, 3, 3, 7, 8]\n"
     ]
    }
   ],
   "source": [
    "tup = (3, 2, 3, 7, 8, 1)\n",
    "print(\"tup.count(3):\", tup.count(3))\n",
    "print(\"tup.index(7):\", tup.index(7))\n",
    "print(\"list(reversed(tup)):\", list(reversed(tup)))\n",
    "print(\"sorted(tup):\", sorted(tup))"
   ]
  },
  {
   "cell_type": "markdown",
   "id": "26ea62ad",
   "metadata": {},
   "source": [
    "### 列表分析"
   ]
  },
  {
   "cell_type": "code",
   "execution_count": 28,
   "id": "3d0a7007",
   "metadata": {},
   "outputs": [
    {
     "name": "stdout",
     "output_type": "stream",
     "text": [
      "l1 = []: 40\n",
      "l1 = [1]: 72\n",
      "l1 = [1, 2]: 72\n",
      "l1 = [1, 2, 3, 4]: 72\n",
      "l1 = [1, 2, 3, 4， 5]: 104\n"
     ]
    },
    {
     "data": {
      "text/plain": [
       "104"
      ]
     },
     "execution_count": 28,
     "metadata": {},
     "output_type": "execute_result"
    }
   ],
   "source": [
    "l1 = []\n",
    "print(\"l1 = []:\", l1.__sizeof__())\n",
    "l1.append(1)\n",
    "print(\"l1 = [1]:\", l1.__sizeof__())  # 72；入了元素 1 之后，列表为其分配了可以存储 4 个元素的空间 (72 - 40)/8 = 4\n",
    "l1.append(2)\n",
    "print(\"l1 = [1, 2]:\", l1.__sizeof__())  # 72；由于之前分配了空间，所以加入元素 2，列表空间不变\n",
    "l1.append(3)\n",
    "l1.append(4)\n",
    "print(\"l1 = [1, 2, 3, 4]:\", l1.__sizeof__())  # 72；同上\n",
    "l1.append(5)\n",
    "print(\"l1 = [1, 2, 3, 4, 5]:\", l1.__sizeof__())  # 104；因为空间已经超过4个，所以列表又分配了 4 个元素的空间"
   ]
  },
  {
   "cell_type": "code",
   "execution_count": 33,
   "id": "e1a6bf79",
   "metadata": {},
   "outputs": [
    {
     "name": "stdout",
     "output_type": "stream",
     "text": [
      "l2 = [1]: 48\n",
      "l2 = [1, 2]: 80\n"
     ]
    }
   ],
   "source": [
    "l2 = [1]\n",
    "print(\"l2 = [1]:\", l2.__sizeof__())  # 48；空列表占据40字节，一个元素占据8个字节，一共40+8=48个字节。\n",
    "l2.append(2)\n",
    "print(\"l2 = [1, 2]:\", l2.__sizeof__())  # 80；依旧是在原列表的基础上，分配了可以存储4个元素的空间"
   ]
  },
  {
   "cell_type": "markdown",
   "id": "339b78c0",
   "metadata": {},
   "source": [
    "### 元组分析"
   ]
  },
  {
   "cell_type": "code",
   "execution_count": 56,
   "id": "40650fe8",
   "metadata": {},
   "outputs": [
    {
     "name": "stdout",
     "output_type": "stream",
     "text": [
      "t1 = (): 24\n",
      "t1 = (1,): 32\n",
      "t1 = (1, 2): 40\n",
      "t1 = (1, 2, 3): 48\n",
      "t1 = (1, 2, 3, 4): 56\n",
      "t1 = (1, 2, 3, 4, 5): 64\n"
     ]
    }
   ],
   "source": [
    "# TODO：比较难理解\n",
    "t1 = ()\n",
    "print(\"t1 = ():\", t1.__sizeof__())\n",
    "t1 = (1,)\n",
    "print(\"t1 = (1,):\", t1.__sizeof__())\n",
    "t1 = (1, 2)\n",
    "print(\"t1 = (1, 2):\", t1.__sizeof__())\n",
    "t1 = (1, 2, 3)\n",
    "print(\"t1 = (1, 2, 3):\", t1.__sizeof__())\n",
    "t1 = (1, 2, 3, 4)\n",
    "print(\"t1 = (1, 2, 3, 4):\", t1.__sizeof__())\n",
    "t1 = (1, 2, 3, 4, 5)\n",
    "print(\"t1 = (1, 2, 3, 4, 5):\", t1.__sizeof__())"
   ]
  },
  {
   "cell_type": "markdown",
   "id": "e3119ba7",
   "metadata": {},
   "source": [
    "### 列表和元组的性能"
   ]
  },
  {
   "cell_type": "code",
   "execution_count": 27,
   "id": "88e9c093",
   "metadata": {},
   "outputs": [
    {
     "name": "stdout",
     "output_type": "stream",
     "text": [
      "11.2 ns ± 0.0243 ns per loop (mean ± std. dev. of 7 runs, 100,000,000 loops each)\n"
     ]
    }
   ],
   "source": [
    "timeit x=(1,2,3,4,5,6)"
   ]
  },
  {
   "cell_type": "code",
   "execution_count": 28,
   "id": "a560c8a0",
   "metadata": {},
   "outputs": [
    {
     "name": "stdout",
     "output_type": "stream",
     "text": [
      "51.9 ns ± 0.191 ns per loop (mean ± std. dev. of 7 runs, 10,000,000 loops each)\n"
     ]
    }
   ],
   "source": [
    "timeit x=[1,2,3,4,5,6]"
   ]
  },
  {
   "cell_type": "markdown",
   "id": "57c86503",
   "metadata": {},
   "source": [
    "### 列表函数一览"
   ]
  },
  {
   "cell_type": "code",
   "execution_count": 2,
   "id": "a1e3a56d",
   "metadata": {},
   "outputs": [
    {
     "name": "stdout",
     "output_type": "stream",
     "text": [
      "[0, 1, 3, 4]\n"
     ]
    }
   ],
   "source": [
    "l = [0, 1, 2, 3, 4]\n",
    "del l[2]\n",
    "print(l)"
   ]
  },
  {
   "cell_type": "code",
   "execution_count": 3,
   "id": "93cc2c41",
   "metadata": {},
   "outputs": [
    {
     "data": {
      "text/plain": [
       "[0, 1, 2, 3, 4, 5]"
      ]
     },
     "execution_count": 3,
     "metadata": {},
     "output_type": "execute_result"
    }
   ],
   "source": [
    "# + 拼接列表\n",
    "l1 = [0, 1, 2]\n",
    "l2 = [3, 4, 5]\n",
    "l1 + l2"
   ]
  },
  {
   "cell_type": "code",
   "execution_count": 11,
   "id": "bc03e127",
   "metadata": {},
   "outputs": [
    {
     "data": {
      "text/plain": [
       "[3, 4, 5, [0, 1, 2], 3, 4, 5]"
      ]
     },
     "execution_count": 11,
     "metadata": {},
     "output_type": "execute_result"
    }
   ],
   "source": [
    "# + 拼接列表\n",
    "l1 = [[0, 1, 2]]\n",
    "l2 = [3, 4, 5]\n",
    "l2 + l1 + l2"
   ]
  },
  {
   "cell_type": "code",
   "execution_count": 18,
   "id": "a220cbe2",
   "metadata": {},
   "outputs": [
    {
     "data": {
      "text/plain": [
       "[]"
      ]
     },
     "execution_count": 18,
     "metadata": {},
     "output_type": "execute_result"
    }
   ],
   "source": [
    "# [] * n\n",
    "l = [] * 5\n",
    "l"
   ]
  },
  {
   "cell_type": "code",
   "execution_count": 67,
   "id": "d56613fa",
   "metadata": {},
   "outputs": [
    {
     "data": {
      "text/plain": [
       "[]"
      ]
     },
     "execution_count": 67,
     "metadata": {},
     "output_type": "execute_result"
    }
   ],
   "source": [
    "# del list\n",
    "l = [1, 2, 3]\n",
    "del l[:]\n",
    "l"
   ]
  },
  {
   "cell_type": "code",
   "execution_count": 50,
   "id": "f9a0dca9",
   "metadata": {},
   "outputs": [
    {
     "name": "stdout",
     "output_type": "stream",
     "text": [
      "[1, 2, 3, 4, [5, 6, 7, 8]]\n",
      "[1, 2, 3, 4, [0, 6, 7, 8]]\n"
     ]
    }
   ],
   "source": [
    "# .extend()\n",
    "l1 = [1, 2, 3, 4]\n",
    "l2 = [[5, 6, 7, 8]]\n",
    "l1.extend(l2)\n",
    "print(l1)\n",
    "l2[0][0] = 0\n",
    "print(l1)"
   ]
  },
  {
   "cell_type": "code",
   "execution_count": 66,
   "id": "fcdd1df4",
   "metadata": {},
   "outputs": [
    {
     "data": {
      "text/plain": [
       "3"
      ]
     },
     "execution_count": 66,
     "metadata": {},
     "output_type": "execute_result"
    }
   ],
   "source": [
    "# list.index()\n",
    "l = [3, 2, 1, 3, 4]\n",
    "l.index(3, 1, 4)"
   ]
  },
  {
   "cell_type": "code",
   "execution_count": 74,
   "id": "a5c9d8af",
   "metadata": {},
   "outputs": [
    {
     "data": {
      "text/plain": [
       "[0, 1, 2, 9, 3]"
      ]
     },
     "execution_count": 74,
     "metadata": {},
     "output_type": "execute_result"
    }
   ],
   "source": [
    "# list.insert()\n",
    "l = [0, 1, 2, 3]\n",
    "l.insert(-1, 9)\n",
    "l"
   ]
  },
  {
   "cell_type": "code",
   "execution_count": 3,
   "id": "5844dead",
   "metadata": {
    "scrolled": true
   },
   "outputs": [
    {
     "name": "stdout",
     "output_type": "stream",
     "text": [
      "3\n",
      "[0, 1, 2]\n"
     ]
    }
   ],
   "source": [
    "# list.pop()\n",
    "l = [0, 1, 2, 3]\n",
    "print(l.pop())\n",
    "print(l)"
   ]
  },
  {
   "cell_type": "code",
   "execution_count": 7,
   "id": "48ea2a47",
   "metadata": {},
   "outputs": [
    {
     "data": {
      "text/plain": [
       "[1, 2, 3, 0]"
      ]
     },
     "execution_count": 7,
     "metadata": {},
     "output_type": "execute_result"
    }
   ],
   "source": [
    "# list.remove(obj)\n",
    "l = [0, 1, 2, 3, 0]\n",
    "l.remove(0)\n",
    "l"
   ]
  },
  {
   "cell_type": "code",
   "execution_count": 9,
   "id": "719600ff",
   "metadata": {},
   "outputs": [
    {
     "data": {
      "text/plain": [
       "[1, 5, 3, 0]"
      ]
     },
     "execution_count": 9,
     "metadata": {},
     "output_type": "execute_result"
    }
   ],
   "source": [
    "# list.reverse()\n",
    "l = [0, 3, 5, 1]\n",
    "l.reverse()\n",
    "l"
   ]
  },
  {
   "cell_type": "code",
   "execution_count": 48,
   "id": "4424e211",
   "metadata": {},
   "outputs": [
    {
     "data": {
      "text/plain": [
       "[]"
      ]
     },
     "execution_count": 48,
     "metadata": {},
     "output_type": "execute_result"
    }
   ],
   "source": [
    "# list.clear()\n",
    "l = [0, 1, 2, 3]\n",
    "l.clear()\n",
    "l"
   ]
  },
  {
   "cell_type": "code",
   "execution_count": 53,
   "id": "6d28bad6",
   "metadata": {},
   "outputs": [
    {
     "name": "stdout",
     "output_type": "stream",
     "text": [
      "[-1, 1, 2, 3]\n",
      "[0, 1, 2, 3]\n",
      "[0, 1, 2, 3]\n"
     ]
    }
   ],
   "source": [
    "# list.copy()\n",
    "l = [0, 1, 2, 3]\n",
    "l1 = l  # 浅拷贝\n",
    "l1[0] = -1\n",
    "print(l)    # [-1, 1, 2, 3]\n",
    "\n",
    "l = [0, 1, 2, 3]\n",
    "l2 = l[:]  # 深拷贝\n",
    "l2[0] = -1\n",
    "print(l)  # [0, 1, 2, 3]\n",
    "\n",
    "l = [0, 1, 2, 3]\n",
    "l3 = l.copy()  # 深拷贝\n",
    "l3[0] = -1\n",
    "print(l)  # [0, 1, 2, 3]"
   ]
  },
  {
   "cell_type": "code",
   "execution_count": 49,
   "id": "bba99a81",
   "metadata": {},
   "outputs": [
    {
     "name": "stdout",
     "output_type": "stream",
     "text": [
      "['1', [1, 2, 3], ['x', 'y', 'z']]\n",
      "['0', [1, 2, 3], ['x', 'y', 'z']]\n",
      "['0', [1, 2, 3], ['x', 'y', 'z']]\n",
      "['0', [0, 1, 2, 3], ['x', 'y', 'z']]\n"
     ]
    }
   ],
   "source": [
    "l = ['0', [0, 1, 2, 3], ['x', 'y', 'z']]\n",
    "\n",
    "# python 所有容器基本遵循一下规则\n",
    "l1 = l    # 浅拷贝：引用对象，会随原对象改变而改变\n",
    "l2 = l[:]  # 浅拷贝： 深拷贝父对象（一级目录），子对象（二级目录）不拷贝，子对象是引用\n",
    "l3 = l.copy()  # 浅拷贝： 深拷贝父对象（一级目录），子对象（二级目录）不拷贝，子对象是引用\n",
    "\n",
    "# 深拷贝需要引入 copy 模块\n",
    "import copy\n",
    "l4 = copy.deepcopy(l)\n",
    "\n",
    "l[0] = '1'\n",
    "l[1].remove(0)\n",
    "\n",
    "print(l1)\n",
    "print(l2)\n",
    "print(l3)\n",
    "print(l4)"
   ]
  },
  {
   "cell_type": "markdown",
   "id": "1d0de491",
   "metadata": {},
   "source": [
    "#### list.sort()"
   ]
  },
  {
   "cell_type": "code",
   "execution_count": 11,
   "id": "5ead8587",
   "metadata": {},
   "outputs": [
    {
     "data": {
      "text/plain": [
       "[5, 3, 1, 0]"
      ]
     },
     "execution_count": 11,
     "metadata": {},
     "output_type": "execute_result"
    }
   ],
   "source": [
    "l = [0, 3, 5, 1]\n",
    "l.sort(reverse=True)\n",
    "l"
   ]
  },
  {
   "cell_type": "code",
   "execution_count": 19,
   "id": "d42c2237",
   "metadata": {},
   "outputs": [
    {
     "data": {
      "text/plain": [
       "[(2, 9), (4, 7), (0, 4), (1, 3)]"
      ]
     },
     "execution_count": 19,
     "metadata": {},
     "output_type": "execute_result"
    }
   ],
   "source": [
    "l = [(1, 3), (4, 7), (0, 4), (2, 9)]\n",
    "l.sort(key=lambda x : x[1], reverse=True)\n",
    "l"
   ]
  },
  {
   "cell_type": "code",
   "execution_count": 46,
   "id": "9062a2ac",
   "metadata": {},
   "outputs": [
    {
     "data": {
      "text/plain": [
       "[{0: 4}, {1: 3}, {2: 9}, {4: 7}]"
      ]
     },
     "execution_count": 46,
     "metadata": {},
     "output_type": "execute_result"
    }
   ],
   "source": [
    "l = [{1: 3}, {4: 7}, {0: 4}, {2: 9}]\n",
    "l.sort(key=lambda x : list(x.keys())[0])\n",
    "l"
   ]
  },
  {
   "cell_type": "markdown",
   "id": "263f5d64",
   "metadata": {},
   "source": [
    "### List 技巧和应用"
   ]
  },
  {
   "cell_type": "markdown",
   "id": "0cc13a0b",
   "metadata": {},
   "source": [
    "1. 一行代码生成列表"
   ]
  },
  {
   "cell_type": "code",
   "execution_count": 4,
   "id": "0a177dfc",
   "metadata": {},
   "outputs": [
    {
     "name": "stdout",
     "output_type": "stream",
     "text": [
      "[[1, 5], [1, 5], [1, 5]]\n",
      "[[9, 5], [9, 5], [9, 5]]\n"
     ]
    }
   ],
   "source": [
    "arr = [[1, 5]] * 3\n",
    "print(arr)\n",
    "arr[0][0] = 9\n",
    "print(arr)"
   ]
  },
  {
   "cell_type": "markdown",
   "id": "d205afdd",
   "metadata": {},
   "source": [
    "2. 两个列表排序"
   ]
  },
  {
   "cell_type": "code",
   "execution_count": 26,
   "id": "84d0ffaa",
   "metadata": {},
   "outputs": [
    {
     "name": "stdout",
     "output_type": "stream",
     "text": [
      "[(2, 'a'), (3, 'b'), (1, 'c'), (4, 'd')]\n",
      "[2, 3, 1, 4]\n",
      "['a', 'b', 'c', 'd']\n"
     ]
    }
   ],
   "source": [
    "l1 = [1, 2, 3, 4]\n",
    "l2 = ['c', 'a', 'b', 'd']\n",
    "\n",
    "l = list(zip(l1, l2))\n",
    "l.sort(key=lambda x:x[1])\n",
    "print(l)\n",
    "\n",
    "# 还原\n",
    "tmp = list(zip(*l))\n",
    "l1 = list(tmp[0])\n",
    "l2 = list(tmp[1])\n",
    "print(l1)\n",
    "print(l2)"
   ]
  },
  {
   "cell_type": "markdown",
   "id": "66508851",
   "metadata": {},
   "source": [
    "#### 列表生成式"
   ]
  },
  {
   "cell_type": "code",
   "execution_count": 15,
   "id": "7d459366",
   "metadata": {},
   "outputs": [
    {
     "name": "stdout",
     "output_type": "stream",
     "text": [
      "range(0, 100)\n",
      "0\n"
     ]
    }
   ],
   "source": [
    "nums = range(100)\n",
    "print(nums)  # python3 不会马上生成列表 \n",
    "# nums[0] = 9  # 'range' object does not support item assignment"
   ]
  },
  {
   "cell_type": "markdown",
   "id": "324c904a",
   "metadata": {},
   "source": [
    "#### 列表推导式"
   ]
  },
  {
   "cell_type": "code",
   "execution_count": 17,
   "id": "7e90d199",
   "metadata": {},
   "outputs": [
    {
     "name": "stdout",
     "output_type": "stream",
     "text": [
      "[0, 1, 4, 9, 16, 25, 36, 49, 64, 81]\n"
     ]
    }
   ],
   "source": [
    "# 映射解析 \n",
    "nums = range(10)\n",
    "res = [num ** 2 for num in nums]\n",
    "print(res)  # [0, 1, 4, 9, 16, 25, 36, 49, 64, 81]"
   ]
  },
  {
   "cell_type": "code",
   "execution_count": 19,
   "id": "f8c8ba5d",
   "metadata": {
    "scrolled": true
   },
   "outputs": [
    {
     "name": "stdout",
     "output_type": "stream",
     "text": [
      "[0, 2, 4, 6, 8]\n"
     ]
    }
   ],
   "source": [
    "# 过滤\n",
    "nums = range(10)\n",
    "res =  [num for num in nums if num % 2 == 0]\n",
    "print(res)  # [0, 2, 4, 6, 8]"
   ]
  },
  {
   "cell_type": "markdown",
   "id": "7b90112a",
   "metadata": {},
   "source": [
    "#### 列表枚举对象"
   ]
  },
  {
   "cell_type": "code",
   "execution_count": 1,
   "id": "1d370ca3",
   "metadata": {},
   "outputs": [
    {
     "name": "stdout",
     "output_type": "stream",
     "text": [
      "[(0, 'a'), (1, 'b'), (2, 'c'), (3, 'd')]\n"
     ]
    }
   ],
   "source": [
    "values = ['a', 'b', 'c', 'd']\n",
    "print(list(enumerate(values)))"
   ]
  },
  {
   "cell_type": "markdown",
   "id": "9d199e9c",
   "metadata": {},
   "source": [
    "#### 可迭代对象"
   ]
  },
  {
   "cell_type": "code",
   "execution_count": 3,
   "id": "fe4cfc90",
   "metadata": {
    "scrolled": true
   },
   "outputs": [
    {
     "data": {
      "text/plain": [
       "True"
      ]
     },
     "execution_count": 3,
     "metadata": {},
     "output_type": "execute_result"
    }
   ],
   "source": [
    "import collections.abc\n",
    "nums = '12345'\n",
    "isinstance(nums, collections.abc.Iterable)"
   ]
  },
  {
   "cell_type": "markdown",
   "id": "8c6cfa22",
   "metadata": {},
   "source": [
    "#### 可迭代对象比较运算符"
   ]
  },
  {
   "cell_type": "code",
   "execution_count": 4,
   "id": "5890c406",
   "metadata": {},
   "outputs": [
    {
     "data": {
      "text/plain": [
       "True"
      ]
     },
     "execution_count": 4,
     "metadata": {},
     "output_type": "execute_result"
    }
   ],
   "source": [
    "l1 = [1, 2, 3]\n",
    "l2 = [1, 2]\n",
    "\n",
    "l1 > l2"
   ]
  },
  {
   "cell_type": "markdown",
   "id": "f5a979e7",
   "metadata": {},
   "source": [
    "### 元组函数一览"
   ]
  },
  {
   "cell_type": "code",
   "execution_count": 60,
   "id": "d4cb8c08",
   "metadata": {},
   "outputs": [
    {
     "name": "stdout",
     "output_type": "stream",
     "text": [
      "<class 'tuple'>\n",
      "<class 'int'>\n",
      "<class 'tuple'>\n",
      "<class 'tuple'>\n"
     ]
    }
   ],
   "source": [
    "# 初始化\n",
    "t = ()\n",
    "print(type(t))\n",
    "t = (1)\n",
    "print(type(t))\n",
    "t = (1,)\n",
    "print(type(t))\n",
    "\n",
    "# 当然不需要括号也是可以的\n",
    "t = 1, 2, 3, 4, 5\n",
    "print(type(t))"
   ]
  },
  {
   "cell_type": "markdown",
   "id": "34e7a572",
   "metadata": {},
   "source": [
    "## 字典和集合"
   ]
  },
  {
   "cell_type": "markdown",
   "id": "987b3063",
   "metadata": {},
   "source": [
    "### 基础"
   ]
  },
  {
   "cell_type": "code",
   "execution_count": 4,
   "id": "f011adaa",
   "metadata": {},
   "outputs": [
    {
     "name": "stdout",
     "output_type": "stream",
     "text": [
      "jason\n",
      "None\n",
      "null\n"
     ]
    }
   ],
   "source": [
    "d = {'name': 'jason', 'age': 20}\n",
    "print(d.get('name'))\n",
    "print(d.get(\"location\"))\n",
    "print(d.get(\"location\", \"null\"))"
   ]
  },
  {
   "cell_type": "code",
   "execution_count": 5,
   "id": "28578df3",
   "metadata": {},
   "outputs": [
    {
     "ename": "TypeError",
     "evalue": "'set' object is not subscriptable",
     "output_type": "error",
     "traceback": [
      "\u001b[0;31m---------------------------------------------------------------------------\u001b[0m",
      "\u001b[0;31mTypeError\u001b[0m                                 Traceback (most recent call last)",
      "\u001b[0;32m<ipython-input-5-5cdbfc2bec29>\u001b[0m in \u001b[0;36m<module>\u001b[0;34m\u001b[0m\n\u001b[1;32m      1\u001b[0m \u001b[0ms\u001b[0m \u001b[0;34m=\u001b[0m \u001b[0;34m{\u001b[0m\u001b[0;36m1\u001b[0m\u001b[0;34m,\u001b[0m \u001b[0;36m2\u001b[0m\u001b[0;34m,\u001b[0m \u001b[0;36m3\u001b[0m\u001b[0;34m}\u001b[0m\u001b[0;34m\u001b[0m\u001b[0;34m\u001b[0m\u001b[0m\n\u001b[0;32m----> 2\u001b[0;31m \u001b[0ms\u001b[0m\u001b[0;34m[\u001b[0m\u001b[0;36m0\u001b[0m\u001b[0;34m]\u001b[0m\u001b[0;34m\u001b[0m\u001b[0;34m\u001b[0m\u001b[0m\n\u001b[0m",
      "\u001b[0;31mTypeError\u001b[0m: 'set' object is not subscriptable"
     ]
    }
   ],
   "source": [
    "s = {1, 2, 3}\n",
    "s[0]"
   ]
  },
  {
   "cell_type": "markdown",
   "id": "e026c507",
   "metadata": {},
   "source": [
    "### 判断是否存在"
   ]
  },
  {
   "cell_type": "code",
   "execution_count": 7,
   "id": "5b7b0eef",
   "metadata": {},
   "outputs": [
    {
     "name": "stdout",
     "output_type": "stream",
     "text": [
      "True\n",
      "False\n"
     ]
    }
   ],
   "source": [
    "d = {'name': 'jason', 'age': 20}\n",
    "print(\"name\" in d)\n",
    "print(\"jason\" in d)"
   ]
  },
  {
   "cell_type": "markdown",
   "id": "b83a0682",
   "metadata": {},
   "source": [
    "### 增删查改"
   ]
  },
  {
   "cell_type": "code",
   "execution_count": 30,
   "id": "0ec39c3f",
   "metadata": {},
   "outputs": [
    {
     "name": "stdout",
     "output_type": "stream",
     "text": [
      "{'name': 'jacob', 'age': 20, 'gender': 'male'}\n",
      "{'name': 'jacob', 'age': 18, 'gender': 'male'}\n",
      "male\n",
      "{'name': 'jacob', 'age': 18}\n",
      "{'name': 'jacob'}\n",
      "{}\n"
     ]
    }
   ],
   "source": [
    "d = {'name': 'jacob', 'age': 20}\n",
    "d[\"gender\"] = \"male\"\n",
    "print(d)\n",
    "d[\"age\"] = 18\n",
    "print(d)\n",
    "print(d.pop(\"gender\"))\n",
    "print(d)\n",
    "del d[\"age\"]\n",
    "print(d)\n",
    "# del d[\"age\"]  # error\n",
    "d.clear()\n",
    "print(d)"
   ]
  },
  {
   "cell_type": "code",
   "execution_count": 30,
   "id": "0475c75d",
   "metadata": {},
   "outputs": [
    {
     "name": "stdout",
     "output_type": "stream",
     "text": [
      "{1, 2, 3, 4, 5, 6}\n",
      "{1, 2, 3, 4, 5, 6}\n",
      "{1, 2, 3, 4, 5}\n",
      "{1, 2, 3, 4, 5, 7}\n",
      "{1, 2, 3, 4, 5, 7, 8}\n",
      "{0, 1, 2, 3, 4, 5, 7, 8}\n"
     ]
    }
   ],
   "source": [
    "s = {1, 2, 3, 4, 5}\n",
    "s.add(6)\n",
    "print(s)\n",
    "s.add(6)\n",
    "print(s)\n",
    "s.remove(6)\n",
    "print(s)\n",
    "# 试错\n",
    "# s.remove(7)\n",
    "\n",
    "s.update({1,7})\n",
    "print(s)\n",
    "s.update([1,8], [1,4])\n",
    "print(s)\n",
    "s.update({0: 9})\n",
    "print(s)"
   ]
  },
  {
   "cell_type": "code",
   "execution_count": 34,
   "id": "c23478c7",
   "metadata": {},
   "outputs": [
    {
     "name": "stdout",
     "output_type": "stream",
     "text": [
      "set()\n",
      "None\n"
     ]
    }
   ],
   "source": [
    "s = {4, 1, 2, 3}\n",
    "s.pop()\n",
    "s.clear()\n",
    "print(s)\n",
    "\n",
    "s = {1, 2, 3, 4, 5, 6}\n",
    "s.discard(7)\n",
    "print(s)"
   ]
  },
  {
   "cell_type": "markdown",
   "id": "d90610c1",
   "metadata": {},
   "source": [
    "### 字典 函数一览"
   ]
  },
  {
   "cell_type": "code",
   "execution_count": 42,
   "id": "9376c305",
   "metadata": {},
   "outputs": [
    {
     "name": "stdout",
     "output_type": "stream",
     "text": [
      "dict_items([('Name', 'Jacob'), ('Age', 18)])\n",
      "Name \t: Jacob\n",
      "Age \t: 18\n"
     ]
    }
   ],
   "source": [
    "d = {'Name': 'Jacob', 'Age': 18}\n",
    "print(d.items())\n",
    "for i,j in d.items():\n",
    "    print(i, \"\\t:\", j)"
   ]
  },
  {
   "cell_type": "code",
   "execution_count": 50,
   "id": "3601bf94",
   "metadata": {},
   "outputs": [
    {
     "name": "stdout",
     "output_type": "stream",
     "text": [
      "{'user': 'root', 'num': [2, 3]}\n",
      "{'user': 'root', 'num': [2, 3]}\n",
      "{'user': 'jacob', 'num': [2, 3]}\n",
      "{'user': 'jacob', 'num': [1, 2, 3]}\n"
     ]
    }
   ],
   "source": [
    "d =  {'user':'jacob','num':[1,2,3]}\n",
    " \n",
    "d1 = d          # 浅拷贝: 引用对象\n",
    "d2 = d.copy()   # 浅拷贝：深拷贝父对象（一级目录），子对象（二级目录）不拷贝，子对象是引用\n",
    "import copy\n",
    "d3 = copy.deepcopy(d)  # 深拷贝\n",
    " \n",
    "# 修改 data 数据\n",
    "d['user']='root'\n",
    "d['num'].remove(1)\n",
    " \n",
    "# 输出结果\n",
    "print(d)\n",
    "print(d1)\n",
    "print(d2)\n",
    "print(d3)"
   ]
  },
  {
   "cell_type": "code",
   "execution_count": 4,
   "id": "0c0dec9f",
   "metadata": {},
   "outputs": [
    {
     "name": "stdout",
     "output_type": "stream",
     "text": [
      "dict_keys(['user', 'num'])\n",
      "dict_values(['jacob', [1, 2, 3]])\n",
      "user jacob\n",
      "num [1, 2, 3]\n"
     ]
    }
   ],
   "source": [
    "d = {'user': 'jacob', 'num': [1, 2, 3]}\n",
    "print(d.keys())  # dict_keys(['user', 'num'])\n",
    "keys = d.keys()\n",
    "print(d.values())  # dict_values(['jacob', [1, 2, 3]])\n",
    "values = d.values()\n",
    "for i, j in zip(keys, values):\n",
    "    print(i, j)"
   ]
  },
  {
   "cell_type": "code",
   "execution_count": 6,
   "id": "4c99e7f2",
   "metadata": {},
   "outputs": [
    {
     "name": "stdout",
     "output_type": "stream",
     "text": [
      "{'user': 'jacob', 'num': [1, 2, 3], 'sex': 'female'}\n",
      "{'user': 'xyb', 'num': [6, 6, 6], 'sex': 'female'}\n"
     ]
    }
   ],
   "source": [
    "d1 = {'user': 'jacob', 'num': [1, 2, 3]}\n",
    "d2 = {'sex': 'female'}\n",
    "d1.update(d2)\n",
    "print(d1)\n",
    "# {'user': 'jacob', 'num': [1, 2, 3], 'sex': 'female'}\n",
    "d3 = {'user': 'xyb', 'num': [6, 6, 6]}\n",
    "d1.update(d3)\n",
    "print(d1)\n",
    "# {'user': 'xyb', 'num': [6, 6, 6], 'sex': 'female'}"
   ]
  },
  {
   "cell_type": "markdown",
   "id": "c4edb94f",
   "metadata": {},
   "source": [
    "### Dict 技巧和应用"
   ]
  },
  {
   "cell_type": "markdown",
   "id": "981570ec",
   "metadata": {},
   "source": [
    "1. **字典推导式**"
   ]
  },
  {
   "cell_type": "code",
   "execution_count": 6,
   "id": "c4c61937",
   "metadata": {},
   "outputs": [
    {
     "name": "stdout",
     "output_type": "stream",
     "text": [
      "{0: 0, 1: 1, 2: 2}\n"
     ]
    }
   ],
   "source": [
    "d = {k: k for k in range(3)}\n",
    "print(d)  # {0: 0, 1: 1, 2: 2}"
   ]
  },
  {
   "cell_type": "markdown",
   "id": "d2cfec45",
   "metadata": {},
   "source": [
    "### 集合函数一览"
   ]
  },
  {
   "cell_type": "code",
   "execution_count": 17,
   "id": "9706584f",
   "metadata": {},
   "outputs": [
    {
     "name": "stdout",
     "output_type": "stream",
     "text": [
      "{'b', 'c', 'd', 'a', 'r'}\n",
      "{'m', 'c', 'z', 'l', 'a'}\n",
      "{'b', 'd', 'r'}\n",
      "{'l', 'm', 'b', 'c', 'z', 'd', 'a', 'r'}\n",
      "{'c', 'a'}\n",
      "{'b', 'm', 'z', 'l', 'd', 'r'}\n"
     ]
    }
   ],
   "source": [
    "a = set('abracadabra')\n",
    "b = set('alacazam')\n",
    "print(a)\n",
    "print(b)\n",
    "# a有 b没有\n",
    "print(a - b)\t# {'b', 'd', 'r'}\n",
    "# a 或 b 有\n",
    "print(a | b)\n",
    "# a 和 b 都有\n",
    "print(a & b)\n",
    "# a b 不同时有\n",
    "print(a ^ b)"
   ]
  },
  {
   "cell_type": "code",
   "execution_count": 35,
   "id": "dd1f64a0",
   "metadata": {},
   "outputs": [
    {
     "data": {
      "text/plain": [
       "{'banana', 'cherry'}"
      ]
     },
     "execution_count": 35,
     "metadata": {},
     "output_type": "execute_result"
    }
   ],
   "source": [
    "x = {\"apple\", \"banana\", \"cherry\"}\n",
    "y = {\"google\", \"microsoft\", \"apple\"}\n",
    "x - y"
   ]
  },
  {
   "cell_type": "markdown",
   "id": "56d7b02c",
   "metadata": {},
   "source": [
    "### Set 技巧和应用"
   ]
  },
  {
   "cell_type": "markdown",
   "id": "5a67f039",
   "metadata": {},
   "source": [
    "1. **集合推导式**"
   ]
  },
  {
   "cell_type": "code",
   "execution_count": 8,
   "id": "0e3128d0",
   "metadata": {},
   "outputs": [
    {
     "data": {
      "text/plain": [
       "{'d', 'r'}"
      ]
     },
     "execution_count": 8,
     "metadata": {},
     "output_type": "execute_result"
    }
   ],
   "source": [
    "s1 = {x for x in 'abracadabra' if x not in 'abc'}\n",
    "s1\t# {'d', 'r'}"
   ]
  },
  {
   "cell_type": "markdown",
   "id": "489c50e6",
   "metadata": {},
   "source": [
    "### 补充"
   ]
  },
  {
   "cell_type": "markdown",
   "id": "6302c50e",
   "metadata": {},
   "source": [
    "#### 字典排序"
   ]
  },
  {
   "cell_type": "code",
   "execution_count": 29,
   "id": "7469fdf9",
   "metadata": {},
   "outputs": [
    {
     "name": "stdout",
     "output_type": "stream",
     "text": [
      "dict_items([('b', 1), ('a', 2), ('c', 10)])\n"
     ]
    }
   ],
   "source": [
    "d = {'b': 1, 'a': 2, 'c': 10}\n",
    "print(d.items())\n",
    "d_sorted_by_key = sorted(d.items(), key=lambda x: x[0]) # 根据字典键的升序排序\n",
    "d_sorted_by_value = sorted(d.items(), key=lambda x: x[1]) # 根据字典值的升序排序"
   ]
  },
  {
   "cell_type": "code",
   "execution_count": 27,
   "id": "67c5e9c5",
   "metadata": {},
   "outputs": [
    {
     "name": "stdout",
     "output_type": "stream",
     "text": [
      "[('1', 'layer_1_thickness(A)'), ('2', 'FmThic:@2')]\n",
      "[('1', '2'), ('layer_1_thickness(A)', 'FmThic:@2')]\n"
     ]
    }
   ],
   "source": [
    "d = {'2': 'FmThic:@2', '1': 'layer_1_thickness(A)'}\n",
    "\n",
    "d_sorted_by_key = sorted(d.items(), key=lambda x: x[0]) # 根据字典键的升序排序\n",
    "d_sorted_by_value = sorted(d.items(), key=lambda x: x[1]) # 根据字典值的升序排序\n",
    "\n",
    "# 默认是键\n",
    "print(sorted(d.items()))\t\t# [('1', 'layer_1_thickness(A)'), ('2', 'FmThic:@2')]\n",
    "# 如果只想取value\n",
    "print(list(zip(*sorted(d.items()))))\t# [('1', '2'), ('layer_1_thickness(A)', 'FmThic:@2')]"
   ]
  },
  {
   "cell_type": "code",
   "execution_count": 34,
   "id": "6546a0ff",
   "metadata": {},
   "outputs": [
    {
     "ename": "TypeError",
     "evalue": "unhashable type: 'list'",
     "output_type": "error",
     "traceback": [
      "\u001b[1;31m---------------------------------------------------------------------------\u001b[0m",
      "\u001b[1;31mTypeError\u001b[0m                                 Traceback (most recent call last)",
      "Input \u001b[1;32mIn [34]\u001b[0m, in \u001b[0;36m<cell line: 1>\u001b[1;34m()\u001b[0m\n\u001b[1;32m----> 1\u001b[0m d \u001b[38;5;241m=\u001b[39m {[\u001b[38;5;241m0\u001b[39m]: \u001b[38;5;124m\"\u001b[39m\u001b[38;5;124mxxx\u001b[39m\u001b[38;5;124m\"\u001b[39m}\n",
      "\u001b[1;31mTypeError\u001b[0m: unhashable type: 'list'"
     ]
    }
   ],
   "source": [
    "d = {[0]: \"xxx\"}"
   ]
  },
  {
   "cell_type": "code",
   "execution_count": 33,
   "id": "cfd4dcac",
   "metadata": {},
   "outputs": [
    {
     "name": "stdout",
     "output_type": "stream",
     "text": [
      "{'name': 'jacob', 'age': 18}\n"
     ]
    }
   ],
   "source": [
    "d = {\"name\": \"jx\", \"age\": 18, \"name\": \"jacob\"}\n",
    "print(d)"
   ]
  },
  {
   "cell_type": "code",
   "execution_count": 35,
   "id": "bda14642",
   "metadata": {},
   "outputs": [
    {
     "name": "stdout",
     "output_type": "stream",
     "text": [
      "{(0,): 'xxx'}\n"
     ]
    }
   ],
   "source": [
    "d = {(0,): \"xxx\"}\n",
    "print(d)"
   ]
  },
  {
   "cell_type": "markdown",
   "id": "81c6ff82",
   "metadata": {},
   "source": [
    "## 字符串"
   ]
  },
  {
   "cell_type": "code",
   "execution_count": 1,
   "id": "25a0796e",
   "metadata": {},
   "outputs": [
    {
     "data": {
      "text/plain": [
       "True"
      ]
     },
     "execution_count": 1,
     "metadata": {},
     "output_type": "execute_result"
    }
   ],
   "source": [
    "s1 = 'hello'\n",
    "s2 = \"hello\"\n",
    "s3 = '''hello'''\n",
    "s4 = \"\"\"hello\"\"\"\n",
    "s1 == s2 == s3 == s4"
   ]
  },
  {
   "cell_type": "markdown",
   "id": "48df6225",
   "metadata": {},
   "source": [
    "### 增删查改"
   ]
  },
  {
   "cell_type": "code",
   "execution_count": 6,
   "id": "19c61d2c",
   "metadata": {},
   "outputs": [
    {
     "name": "stdout",
     "output_type": "stream",
     "text": [
      "Hello\n",
      "H\n",
      "World!\n"
     ]
    }
   ],
   "source": [
    "var1 = 'Hello World!'\n",
    "print(var1[0:5])  # Hello\n",
    "print(var1[0])  # H\n",
    "print(var1[-6:])  # World!"
   ]
  },
  {
   "cell_type": "code",
   "execution_count": 11,
   "id": "00178ad8",
   "metadata": {
    "scrolled": true
   },
   "outputs": [
    {
     "name": "stdout",
     "output_type": "stream",
     "text": [
      "Hello World\n",
      "hello World\n"
     ]
    }
   ],
   "source": [
    "var1 = 'Hello World!'\n",
    "var1 = var1[:-1]  # del var[-1]\n",
    "print(var1)  # Hello World\n",
    "var1 = var1.replace('H', 'h')\n",
    "print(var1)  # hello World"
   ]
  },
  {
   "cell_type": "markdown",
   "id": "b8373de9",
   "metadata": {},
   "source": [
    "### 字符串 函数一览"
   ]
  },
  {
   "cell_type": "markdown",
   "id": "f7c280e8",
   "metadata": {},
   "source": [
    "#### str.find() & str.rfind()"
   ]
  },
  {
   "cell_type": "code",
   "execution_count": 22,
   "id": "1d6fb354",
   "metadata": {},
   "outputs": [
    {
     "name": "stdout",
     "output_type": "stream",
     "text": [
      "4\n",
      "4\n",
      "7\n"
     ]
    }
   ],
   "source": [
    "s = 'Hello World!'\n",
    "print(s.find('o'))  # 4\n",
    "print(s.find('o', 2)) # 4\n",
    "print(s.find('o', 5)) # 7"
   ]
  },
  {
   "cell_type": "code",
   "execution_count": 23,
   "id": "44ee6a59",
   "metadata": {},
   "outputs": [
    {
     "name": "stdout",
     "output_type": "stream",
     "text": [
      "-1\n"
     ]
    }
   ],
   "source": [
    "s = 'Hello World!'\n",
    "print(s.find('o', 100))"
   ]
  },
  {
   "cell_type": "markdown",
   "id": "44aeb744",
   "metadata": {},
   "source": [
    "#### str.isdigit()、s.isdecimal()、str.isnumeric()"
   ]
  },
  {
   "cell_type": "code",
   "execution_count": 10,
   "id": "80f7f007",
   "metadata": {},
   "outputs": [
    {
     "name": "stdout",
     "output_type": "stream",
     "text": [
      "True\n",
      "True\n",
      "True\n",
      "True\n",
      "True\n",
      "True\n",
      "True\n",
      "False\n",
      "False\n",
      "False\n",
      "False\n",
      "False\n",
      "True\n"
     ]
    }
   ],
   "source": [
    "num = \"1\"  #unicode\n",
    "print(num.isdigit())   # True\n",
    "print(num.isdecimal()) # True\n",
    "print(num.isnumeric()) # True\n",
    "\n",
    "num = \"1\" # 全角\n",
    "print(num.isdigit())   # True\n",
    "print(num.isdecimal()) # True\n",
    "print(num.isnumeric()) # True\n",
    "\n",
    "num = b\"1\" # byte\n",
    "print(num.isdigit())   # True\n",
    "# print(num.isdecimal()) # AttributeError 'bytes' object has no attribute 'isdecimal'\n",
    "# print(num.isnumeric()) # AttributeError 'bytes' object has no attribute 'isnumeric'\n",
    "\n",
    "num = \"IV\" # 罗马数字\n",
    "print(num.isdigit())   # False\n",
    "print(num.isdecimal()) # False\n",
    "print(num.isnumeric()) # False\n",
    "\n",
    "num = \"四\" # 汉字\n",
    "print(num.isdigit())   # False\n",
    "print(num.isdecimal()) # False\n",
    "print(num.isnumeric()) # True"
   ]
  },
  {
   "cell_type": "code",
   "execution_count": 3,
   "id": "99ea801e",
   "metadata": {},
   "outputs": [
    {
     "name": "stdout",
     "output_type": "stream",
     "text": [
      "Hello python\n",
      "123 hello python\n"
     ]
    }
   ],
   "source": [
    "str=\"hello PYTHON\"\n",
    "print(str.capitalize())  # Hello python\n",
    "\n",
    "str=\"123 Hello PYTHON\"\n",
    "print(str.capitalize())  # 123 hello python"
   ]
  },
  {
   "cell_type": "code",
   "execution_count": 7,
   "id": "ec1ef7da",
   "metadata": {},
   "outputs": [
    {
     "name": "stdout",
     "output_type": "stream",
     "text": [
      "[www.runoob.com]\n",
      "  [www.runoob.com]  \n",
      "123*\n",
      "*1234\n"
     ]
    }
   ],
   "source": [
    "# center()\n",
    "str = \"[www.runoob.com]\"\n",
    "print(str.center(4, '*'))  # [www.runoob.com]\n",
    "\n",
    "str = \"[www.runoob.com]\"\n",
    "print(str.center(20))  #   [www.runoob.com]  \n",
    "\n",
    "print('123'.center(4, '*'))  # 123*\n",
    "print('1234'.center(5, '*'))  # *1234"
   ]
  },
  {
   "cell_type": "code",
   "execution_count": 1,
   "id": "0bd2422c",
   "metadata": {},
   "outputs": [
    {
     "name": "stdout",
     "output_type": "stream",
     "text": [
      "3\n",
      "2\n"
     ]
    }
   ],
   "source": [
    "# count()\n",
    "str = \"www.runoob.com\"\n",
    "sub = 'o'\n",
    "print(str.count(sub))\n",
    "print(str.count(sub, 0, 10))"
   ]
  },
  {
   "cell_type": "code",
   "execution_count": 19,
   "id": "eb241bc3",
   "metadata": {},
   "outputs": [
    {
     "name": "stdout",
     "output_type": "stream",
     "text": [
      "ju6t 4o it\n"
     ]
    }
   ],
   "source": [
    "# maketrans\n",
    "d = {'a':'1','b':'2','c':'3','d':'4','e':'5','s':'6'}\n",
    "trantab = str.maketrans(d)\n",
    "st='just do it'\n",
    "print(st.translate(trantab))"
   ]
  },
  {
   "cell_type": "code",
   "execution_count": 27,
   "id": "6c8b1eff",
   "metadata": {},
   "outputs": [
    {
     "name": "stdout",
     "output_type": "stream",
     "text": [
      "48 49 57 65 90 97 122\n"
     ]
    }
   ],
   "source": [
    "print(ord('0'), ord('1'), ord('9'), ord('A'), ord('Z'), ord('a'), ord('z'))"
   ]
  },
  {
   "cell_type": "code",
   "execution_count": 7,
   "id": "9b751fcd",
   "metadata": {},
   "outputs": [
    {
     "name": "stdout",
     "output_type": "stream",
     "text": [
      "0\n",
      "-999\n",
      "4\n"
     ]
    }
   ],
   "source": [
    "print(eval('0'))\n",
    "print(eval('-999'))\n",
    "print(eval(\"2 * 2\"))"
   ]
  },
  {
   "cell_type": "markdown",
   "id": "20570cb5",
   "metadata": {},
   "source": [
    "#### str.split()\n",
    "\n",
    "split() 通过指定分隔符对字符串进行切片，如果第二个参数 num 有指定值，则分割为 num+1 个子字符串。\n",
    "\n",
    "语法：`str.split(str=\"\", num=string.count(str))`\n",
    "\n",
    "参数\n",
    "\n",
    "- str -- 分隔符，默认为所有的空字符，包括空格、换行(\\n)、制表符(\\t)等。\n",
    "- num -- 分割次数。默认为 -1, 即分隔所有。\n",
    "\n",
    "返回：返回分割后的字符串列表"
   ]
  },
  {
   "cell_type": "code",
   "execution_count": 3,
   "id": "640e0598",
   "metadata": {},
   "outputs": [
    {
     "name": "stdout",
     "output_type": "stream",
     "text": [
      "['', ' is string example....wow!!!']\n",
      "['', '']\n"
     ]
    }
   ],
   "source": [
    "# split\n",
    "s = \"this is string example....wow!!!\"\n",
    "print(s.split(\"this\"))\n",
    "\n",
    "s1 = 'Jacob'\n",
    "print(s1.split('Jacob'))"
   ]
  },
  {
   "cell_type": "code",
   "execution_count": 8,
   "id": "c2dee977",
   "metadata": {
    "scrolled": true
   },
   "outputs": [
    {
     "name": "stdout",
     "output_type": "stream",
     "text": [
      "['jx', '18', '180']\n",
      "['jx', '18', '180', '027-12345678']\n"
     ]
    }
   ],
   "source": [
    "info = \"jx-18-180\"\n",
    "print(info.split(\"-\", 3))  # max-split > 可分割次数时不生效\n",
    "info = \"jx-18-180-027-12345678\"\n",
    "print(info.split(\"-\", 3))"
   ]
  },
  {
   "cell_type": "markdown",
   "id": "fc241694",
   "metadata": {},
   "source": [
    "#### str.lstrip() & str.rstrip()\n",
    "\n",
    "lstrip() 方法用于截掉字符串左边的空白字符或指定字符。\n",
    "\n",
    "注意：从左到右移除字符串的指定字符，无字符集参数或为 None 时移除空白字符，str 时移除所有属于字符集子串的字符一旦不属于则停止移除并返回字符串副本。"
   ]
  },
  {
   "cell_type": "code",
   "execution_count": 4,
   "id": "7468416b",
   "metadata": {
    "scrolled": false
   },
   "outputs": [
    {
     "name": "stdout",
     "output_type": "stream",
     "text": [
      "hello world\n",
      "  \n",
      "hello world\n"
     ]
    }
   ],
   "source": [
    "name = \"  \\nhello world\"\n",
    "print(name.lstrip())\n",
    "print(name.lstrip('eh'))"
   ]
  },
  {
   "cell_type": "markdown",
   "id": "eaf3894a",
   "metadata": {},
   "source": [
    "#### str.partition() & str.rpartition()\n",
    "\n",
    "根据指定的分隔符，返回（分隔符左侧内容，分隔符，分隔符右侧内容）\n",
    "\n",
    "语法: `str.partition(sep)`\n",
    "\n",
    "返回:\n",
    "\n",
    "- 如果查找到分隔符： tuple(分隔符左侧内容, 分隔符, 分隔符右侧内容)\n",
    "\n",
    "- 如果没查找到分隔符: tuple(原字符串, \"\", \"\")"
   ]
  },
  {
   "cell_type": "code",
   "execution_count": 10,
   "id": "ec32857d",
   "metadata": {},
   "outputs": [
    {
     "name": "stdout",
     "output_type": "stream",
     "text": [
      "('jx', '-', '18-180-027-12345678')\n",
      "('jx-18-180-027', '-', '12345678')\n"
     ]
    }
   ],
   "source": [
    "info = \"jx-18-180-027-12345678\"\n",
    "print(info.partition(\"-\"))\n",
    "print(info.rpartition(\"-\"))"
   ]
  },
  {
   "cell_type": "markdown",
   "id": "188135b4",
   "metadata": {},
   "source": [
    "### 转义字符"
   ]
  },
  {
   "cell_type": "code",
   "execution_count": 9,
   "id": "ea558bea",
   "metadata": {},
   "outputs": [
    {
     "name": "stdout",
     "output_type": "stream",
     "text": [
      "abc\f",
      "d\n"
     ]
    }
   ],
   "source": [
    "print(\"abc\\fd\")"
   ]
  },
  {
   "cell_type": "markdown",
   "id": "e587ac00",
   "metadata": {},
   "source": [
    "### 格式化字符串"
   ]
  },
  {
   "cell_type": "markdown",
   "id": "583e60ba",
   "metadata": {},
   "source": [
    "`%[(name)][flags][width][.precision]typecode`"
   ]
  },
  {
   "cell_type": "code",
   "execution_count": 8,
   "id": "016019bd",
   "metadata": {},
   "outputs": [
    {
     "name": "stdout",
     "output_type": "stream",
     "text": [
      "a\n"
     ]
    }
   ],
   "source": [
    "print(\"%c\" % 97)"
   ]
  },
  {
   "cell_type": "code",
   "execution_count": 22,
   "id": "7c38ac03",
   "metadata": {},
   "outputs": [
    {
     "name": "stdout",
     "output_type": "stream",
     "text": [
      " 2.300\n",
      "        +a\n",
      "-a   \n"
     ]
    }
   ],
   "source": [
    "print(\"%6.3f\" % 2.3)\n",
    "print(\"%+10x\" % 10)\n",
    "print(\"%-5x\" % -10)"
   ]
  },
  {
   "cell_type": "markdown",
   "id": "3c8a8eba",
   "metadata": {},
   "source": [
    "- name 的用法"
   ]
  },
  {
   "cell_type": "code",
   "execution_count": 3,
   "id": "605fdf14",
   "metadata": {},
   "outputs": [
    {
     "name": "stdout",
     "output_type": "stream",
     "text": [
      "我的数学分数为99,英语分数为88\n",
      "我的英语分数为88,数学分数为99\n"
     ]
    }
   ],
   "source": [
    "mathScore = 99\n",
    "englishScore = 88\n",
    "print(\"我的数学分数为%d,英语分数为%d\" % (mathScore, englishScore))\n",
    "print(\"我的英语分数为%(es)d,数学分数为%(ms)d\" % {\"ms\": mathScore, \"es\": englishScore})"
   ]
  },
  {
   "cell_type": "markdown",
   "id": "0d600333",
   "metadata": {},
   "source": [
    "- flags 的用法"
   ]
  },
  {
   "cell_type": "code",
   "execution_count": 8,
   "id": "130f4840",
   "metadata": {},
   "outputs": [
    {
     "name": "stdout",
     "output_type": "stream",
     "text": [
      "0002\n",
      "   2\n",
      "2   \n",
      "  +2\n"
     ]
    }
   ],
   "source": [
    "print(\"%04d\" % 2)  # 0填充\n",
    "print(\"% 4d\" % 2)  # 空格填充\n",
    "print(\"%-4d\" % 2)  # 左对齐\n",
    "print(\"%+4d\" % 2)  # 左对齐"
   ]
  },
  {
   "cell_type": "code",
   "execution_count": 4,
   "id": "2214dae7",
   "metadata": {},
   "outputs": [
    {
     "name": "stdout",
     "output_type": "stream",
     "text": [
      " 2\n",
      "-2\n",
      "2\n"
     ]
    }
   ],
   "source": [
    "print(\"% d\" % 2)\n",
    "print(\"% d\" % -2)\n",
    "print(\"%d\" % 2)  # 不用空格填充就无法与正负数对齐"
   ]
  }
 ],
 "metadata": {
  "kernelspec": {
   "display_name": "Python [conda env:python3.11]",
   "language": "python",
   "name": "conda-env-python3.11-py"
  },
  "language_info": {
   "codemirror_mode": {
    "name": "ipython",
    "version": 3
   },
   "file_extension": ".py",
   "mimetype": "text/x-python",
   "name": "python",
   "nbconvert_exporter": "python",
   "pygments_lexer": "ipython3",
   "version": "3.11.0"
  },
  "latex_envs": {
   "LaTeX_envs_menu_present": true,
   "autoclose": false,
   "autocomplete": true,
   "bibliofile": "biblio.bib",
   "cite_by": "apalike",
   "current_citInitial": 1,
   "eqLabelWithNumbers": true,
   "eqNumInitial": 1,
   "hotkeys": {
    "equation": "Ctrl-E",
    "itemize": "Ctrl-I"
   },
   "labels_anchors": false,
   "latex_user_defs": false,
   "report_style_numbering": false,
   "user_envs_cfg": false
  },
  "toc": {
   "base_numbering": 1,
   "nav_menu": {},
   "number_sections": true,
   "sideBar": true,
   "skip_h1_title": false,
   "title_cell": "Table of Contents",
   "title_sidebar": "Contents",
   "toc_cell": false,
   "toc_position": {
    "height": "932.5px",
    "left": "100px",
    "top": "91.93px",
    "width": "229.707px"
   },
   "toc_section_display": true,
   "toc_window_display": true
  },
  "varInspector": {
   "cols": {
    "lenName": 16,
    "lenType": 16,
    "lenVar": 40
   },
   "kernels_config": {
    "python": {
     "delete_cmd_postfix": "",
     "delete_cmd_prefix": "del ",
     "library": "var_list.py",
     "varRefreshCmd": "print(var_dic_list())"
    },
    "r": {
     "delete_cmd_postfix": ") ",
     "delete_cmd_prefix": "rm(",
     "library": "var_list.r",
     "varRefreshCmd": "cat(var_dic_list()) "
    }
   },
   "position": {
    "height": "550.352px",
    "left": "2005.99px",
    "right": "20px",
    "top": "102.984px",
    "width": "350px"
   },
   "types_to_exclude": [
    "module",
    "function",
    "builtin_function_or_method",
    "instance",
    "_Feature"
   ],
   "window_display": true
  }
 },
 "nbformat": 4,
 "nbformat_minor": 5
}
