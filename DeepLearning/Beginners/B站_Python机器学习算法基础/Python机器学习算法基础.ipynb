{
 "cells": [
  {
   "cell_type": "markdown",
   "id": "1e0499d4",
   "metadata": {},
   "source": [
    "# 笔记简介\n",
    "\n",
    "[人工智能基础 | 机器学习入门：Python机器学习算法基础（B站最全完整版）AI|机器学习](https://www.bilibili.com/video/BV1824y1Z7B1/)"
   ]
  },
  {
   "cell_type": "markdown",
   "id": "008adb7f",
   "metadata": {},
   "source": [
    "# 机器学习工作流程"
   ]
  },
  {
   "cell_type": "markdown",
   "id": "c4acbf74",
   "metadata": {},
   "source": [
    "## 工作流程\n",
    "\n",
    "1. 获取数据\n",
    "2. 数据基本处理\n",
    "3. 特征工程\n",
    "4. 机器学习(模型训练)\n",
    "5. 模型评估"
   ]
  }
 ],
 "metadata": {
  "kernelspec": {
   "display_name": "Python [conda env:sklearn]",
   "language": "python",
   "name": "conda-env-sklearn-py"
  },
  "language_info": {
   "codemirror_mode": {
    "name": "ipython",
    "version": 3
   },
   "file_extension": ".py",
   "mimetype": "text/x-python",
   "name": "python",
   "nbconvert_exporter": "python",
   "pygments_lexer": "ipython3",
   "version": "3.11.0"
  },
  "toc": {
   "base_numbering": 1,
   "nav_menu": {},
   "number_sections": true,
   "sideBar": true,
   "skip_h1_title": false,
   "title_cell": "Table of Contents",
   "title_sidebar": "Contents",
   "toc_cell": false,
   "toc_position": {},
   "toc_section_display": true,
   "toc_window_display": false
  },
  "varInspector": {
   "cols": {
    "lenName": 16,
    "lenType": 16,
    "lenVar": 40
   },
   "kernels_config": {
    "python": {
     "delete_cmd_postfix": "",
     "delete_cmd_prefix": "del ",
     "library": "var_list.py",
     "varRefreshCmd": "print(var_dic_list())"
    },
    "r": {
     "delete_cmd_postfix": ") ",
     "delete_cmd_prefix": "rm(",
     "library": "var_list.r",
     "varRefreshCmd": "cat(var_dic_list()) "
    }
   },
   "types_to_exclude": [
    "module",
    "function",
    "builtin_function_or_method",
    "instance",
    "_Feature"
   ],
   "window_display": false
  }
 },
 "nbformat": 4,
 "nbformat_minor": 5
}
