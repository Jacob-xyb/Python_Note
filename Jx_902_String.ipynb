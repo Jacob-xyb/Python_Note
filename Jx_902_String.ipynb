{
 "cells": [
  {
   "cell_type": "markdown",
   "metadata": {},
   "source": [
    "# 字符串输出问题"
   ]
  },
  {
   "cell_type": "markdown",
   "metadata": {},
   "source": [
    "1. 如果想输出: Let's go!"
   ]
  },
  {
   "cell_type": "code",
   "execution_count": 1,
   "metadata": {},
   "outputs": [
    {
     "name": "stdout",
     "output_type": "stream",
     "text": [
      "let's go!\n",
      "let's go!\n"
     ]
    }
   ],
   "source": [
    "print('let\\'s go!')  # 采用 \\' 转义符输出\n",
    "print(\"let's go!\")  # 采用 \" ' \" 来显示出 '"
   ]
  },
  {
   "cell_type": "markdown",
   "metadata": {},
   "source": [
    "2. 如果想输出: C:\\now\n",
    "\n",
    "\n",
    "- `print(r'C:\\now\\')`  # 原始字符串的结尾加 \\ ，是会报错的，是不行的"
   ]
  },
  {
   "cell_type": "code",
   "execution_count": 6,
   "metadata": {},
   "outputs": [
    {
     "name": "stdout",
     "output_type": "stream",
     "text": [
      "C:\n",
      "ow\n"
     ]
    }
   ],
   "source": [
    "print('C:\\now')  # \\n 是换行的意思 是无法输出正确结果的"
   ]
  },
  {
   "cell_type": "code",
   "execution_count": 7,
   "metadata": {},
   "outputs": [
    {
     "name": "stdout",
     "output_type": "stream",
     "text": [
      "C:\\now\n",
      "C:\\now\\\n"
     ]
    }
   ],
   "source": [
    "print(r'C:\\now')  # r'' 前缀：原始字符串\n",
    "# print(r'C:\\now\\')  # 原始字符串的结尾加 \\ ，是会报错的，是不行的\n",
    "print(r'C:\\now'+'\\\\')  # 只有这样才能在结尾加上 \\"
   ]
  },
  {
   "cell_type": "markdown",
   "metadata": {},
   "source": [
    "3. 三重引号字符串"
   ]
  },
  {
   "cell_type": "code",
   "execution_count": 10,
   "metadata": {},
   "outputs": [
    {
     "name": "stdout",
     "output_type": "stream",
     "text": [
      "一首小诗\n"
     ]
    }
   ],
   "source": [
    "print('''一首小诗''')  # 三重引号可以输出很多段的内容"
   ]
  },
  {
   "cell_type": "markdown",
   "metadata": {},
   "source": [
    "# Python转义字符\n",
    "\n",
    "**列举一些常用不好记的**\n",
    "\n",
    "- ```\\v``` 纵向制表符"
   ]
  },
  {
   "cell_type": "code",
   "execution_count": 5,
   "metadata": {},
   "outputs": [
    {
     "name": "stdout",
     "output_type": "stream",
     "text": [
      "Hello \u000b",
      " World!\n"
     ]
    }
   ],
   "source": [
    "print(\"Hello \\v World!\")  # 纵向制表符（按道理说应该会换行...）"
   ]
  },
  {
   "cell_type": "markdown",
   "metadata": {},
   "source": [
    "# strip()\n",
    "- **str.strip([chars]);**\n",
    "- **chars -- 移除字符串头尾指定的字符序列**"
   ]
  },
  {
   "cell_type": "code",
   "execution_count": 1,
   "metadata": {
    "scrolled": true
   },
   "outputs": [
    {
     "name": "stdout",
     "output_type": "stream",
     "text": [
      "this is **string** example....wow!!!\n",
      "3abcrunoob3\n"
     ]
    }
   ],
   "source": [
    "str_300 = \"*****this is **string** example....wow!!!*****\"\n",
    "print(str_300.strip('*'))  # 指定字符串 *\n",
    "str_301 = \"123abcrunoob321\"\n",
    "print(str_301.strip('12'))  # 字符序列为 12\n",
    "# 只要头尾包含有指定字符序列中的字符就删除"
   ]
  },
  {
   "cell_type": "markdown",
   "metadata": {},
   "source": [
    "# split()\n",
    "\n",
    "- 描述\n",
    "\n",
    "    - split() 通过指定分隔符对字符串进行切片，如果参数 num 有指定值，则分隔 num+1 个子字符串\n",
    "\n",
    "- 语法\n",
    "\n",
    "    - str.split(str=\"\", num=string.count(str))\n",
    "\n",
    "- 参数\n",
    "\n",
    "    - str -- 分隔符，默认为所有的空字符，包括空格、换行(\\n)、制表符(\\t)等。\n",
    "    - num -- 分割次数。默认为 -1, 即分隔所有。\n",
    "\n",
    "- 返回值\n",
    "    - 返回分割后的字符串列表。\n"
   ]
  },
  {
   "cell_type": "code",
   "execution_count": 3,
   "metadata": {},
   "outputs": [
    {
     "name": "stdout",
     "output_type": "stream",
     "text": [
      "['Line1-abcdef', 'Line2-abc', 'Line4-abcd']\n",
      "['Line1-abcdef', '\\nLine2-abc \\nLine4-abcd']\n"
     ]
    }
   ],
   "source": [
    "str_2 = \"Line1-abcdef \\nLine2-abc \\nLine4-abcd\"\n",
    "print(str_2.split())        # 以空格为分隔符，包含 \\n\n",
    "print(str_2.split(' ', 1))  # 以空格为分隔符，分隔成两个"
   ]
  },
  {
   "cell_type": "markdown",
   "metadata": {},
   "source": [
    "- 值得注意的是，对应单个字符串时会左右都生成两个空集。"
   ]
  },
  {
   "cell_type": "code",
   "execution_count": 14,
   "metadata": {
    "scrolled": false
   },
   "outputs": [
    {
     "name": "stdout",
     "output_type": "stream",
     "text": [
      "['0'] 1\n",
      "['', ''] 2\n"
     ]
    }
   ],
   "source": [
    "count = '0'\n",
    "count = count.split()\n",
    "print(count,len(count))\n",
    "\n",
    "count = '0'\n",
    "count = count.split('0')\n",
    "print(count,len(count))\n"
   ]
  },
  {
   "cell_type": "markdown",
   "metadata": {},
   "source": [
    "# str.format() and f'{}'"
   ]
  },
  {
   "cell_type": "markdown",
   "metadata": {},
   "source": [
    "## str.format()\n",
    "- str.format()是对%-formatting的改进。它使用正常的函数调用语法，并且可以通过对要转换为字符串的对象的`__format __()`方法进行扩展。"
   ]
  },
  {
   "cell_type": "markdown",
   "metadata": {},
   "source": [
    "- 使用str.format()，替换字段用大括号标记："
   ]
  },
  {
   "cell_type": "code",
   "execution_count": 3,
   "metadata": {},
   "outputs": [
    {
     "data": {
      "text/plain": [
       "'Hello, everyone. I am Jacob.'"
      ]
     },
     "execution_count": 3,
     "metadata": {},
     "output_type": "execute_result"
    }
   ],
   "source": [
    "\"Hello, {}. I am {}.\".format(\"everyone\", \"Jacob\")"
   ]
  },
  {
   "cell_type": "markdown",
   "metadata": {},
   "source": [
    "- 您可以通过引用其索引来以任何顺序引用变量："
   ]
  },
  {
   "cell_type": "code",
   "execution_count": 4,
   "metadata": {},
   "outputs": [
    {
     "data": {
      "text/plain": [
       "'Hello, Jacob. I am everyone.'"
      ]
     },
     "execution_count": 4,
     "metadata": {},
     "output_type": "execute_result"
    }
   ],
   "source": [
    "\"Hello, {1}. I am {0}.\".format(\"everyone\", \"Jacob\")"
   ]
  },
  {
   "cell_type": "code",
   "execution_count": 8,
   "metadata": {
    "scrolled": true
   },
   "outputs": [
    {
     "data": {
      "text/plain": [
       "'Hello, Jacob. I am everyone-everyone.'"
      ]
     },
     "execution_count": 8,
     "metadata": {},
     "output_type": "execute_result"
    }
   ],
   "source": [
    "\"Hello, {1}. I am {0}-{0}.\".format(\"everyone\", \"Jacob\")"
   ]
  },
  {
   "cell_type": "markdown",
   "metadata": {},
   "source": [
    "- 但是，如果插入变量名称，则会获得额外的能够传递对象的权限，然后在大括号之间引用参数和方法："
   ]
  },
  {
   "cell_type": "code",
   "execution_count": 9,
   "metadata": {
    "scrolled": true
   },
   "outputs": [
    {
     "data": {
      "text/plain": [
       "'Hello, Eric. You are 74.'"
      ]
     },
     "execution_count": 9,
     "metadata": {},
     "output_type": "execute_result"
    }
   ],
   "source": [
    "person = {'name': 'Eric', 'age': 74}\n",
    "\"Hello, {name}. You are {age}.\".format(name=person['name'], age=person['age'])"
   ]
  },
  {
   "cell_type": "markdown",
   "metadata": {},
   "source": [
    "> 你也可以使用**来用字典来完成这个巧妙的技巧："
   ]
  },
  {
   "cell_type": "code",
   "execution_count": 12,
   "metadata": {
    "scrolled": true
   },
   "outputs": [
    {
     "data": {
      "text/plain": [
       "'Hello, Eric. You are 74.'"
      ]
     },
     "execution_count": 12,
     "metadata": {},
     "output_type": "execute_result"
    }
   ],
   "source": [
    "person = {'name': 'Eric', 'age': 74}\n",
    "\"Hello, {name}. You are {age}.\".format(**person)"
   ]
  },
  {
   "cell_type": "markdown",
   "metadata": {},
   "source": [
    "> 你也可以使用列表来完成这个巧妙的技巧："
   ]
  },
  {
   "cell_type": "code",
   "execution_count": 11,
   "metadata": {},
   "outputs": [
    {
     "data": {
      "text/plain": [
       "'Hello, Eric. You are 74.'"
      ]
     },
     "execution_count": 11,
     "metadata": {},
     "output_type": "execute_result"
    }
   ],
   "source": [
    "\"Hello, {info[0]}. You are {info[1]}.\".format(info=['Eric', 74])"
   ]
  },
  {
   "cell_type": "markdown",
   "metadata": {},
   "source": [
    "- 敲黑板：\n",
    "\n",
    "\n",
    "使用str.format()的代码比使用%-formatting的代码更易读，但当处理多个参数和更长的字符串时，str.format()仍然可能非常冗长。看看这个："
   ]
  },
  {
   "cell_type": "code",
   "execution_count": 15,
   "metadata": {
    "scrolled": true
   },
   "outputs": [
    {
     "name": "stdout",
     "output_type": "stream",
     "text": [
      "Hello, Eric Idle. You are 74. You are a comedian. You were a member of Monty Python.\n"
     ]
    }
   ],
   "source": [
    "first_name = \"Eric\"\n",
    "last_name = \"Idle\"\n",
    "age = 74\n",
    "profession = \"comedian\"\n",
    "affiliation = \"Monty Python\"\n",
    "\n",
    "print((\"Hello, {first_name} {last_name}. You are {age}. \" +\n",
    "       \"You are a {profession}. You were a member of {affiliation}.\").format(\n",
    "           first_name=first_name,\n",
    "           last_name=last_name,\n",
    "           age=age,\n",
    "           profession=profession,\n",
    "           affiliation=affiliation))"
   ]
  },
  {
   "cell_type": "markdown",
   "metadata": {},
   "source": [
    "## f-Strings\n",
    "\n",
    "- 一种改进Python格式字符串的新方法\n",
    "\n",
    "好消息是，F字符串在这里可以节省很多的时间。他们确实使格式化更容易。他们自Python 3.6开始加入标准库。您可以在PEP 498中阅读所有内容。\n",
    "\n",
    "也称为“格式化字符串文字”，F字符串是开头有一个f的字符串文字，以及包含表达式的大括号将被其值替换。表达式在运行时进行渲染，然后使用__format__协议进行格式化。与往常一样，Python文档是您想要了解更多信息的最佳读物。"
   ]
  },
  {
   "cell_type": "markdown",
   "metadata": {},
   "source": [
    "- 语法与str.format（）使用的语法类似，但较少细节啰嗦。看看这是多么容易可读："
   ]
  },
  {
   "cell_type": "code",
   "execution_count": 1,
   "metadata": {},
   "outputs": [
    {
     "data": {
      "text/plain": [
       "'Hello, Eric. You are 74.'"
      ]
     },
     "execution_count": 1,
     "metadata": {},
     "output_type": "execute_result"
    }
   ],
   "source": [
    "name = \"Eric\"\n",
    "age = 74\n",
    "f\"Hello, {name}. You are {age}.\""
   ]
  },
  {
   "cell_type": "markdown",
   "metadata": {},
   "source": [
    "使用大写字母F也是有效的："
   ]
  },
  {
   "cell_type": "code",
   "execution_count": 2,
   "metadata": {},
   "outputs": [
    {
     "data": {
      "text/plain": [
       "'Hello, Eric. You are 74.'"
      ]
     },
     "execution_count": 2,
     "metadata": {},
     "output_type": "execute_result"
    }
   ],
   "source": [
    "F\"Hello, {name}. You are {age}.\""
   ]
  },
  {
   "cell_type": "markdown",
   "metadata": {},
   "source": [
    "# 大小写"
   ]
  },
  {
   "cell_type": "code",
   "execution_count": 1,
   "metadata": {},
   "outputs": [],
   "source": [
    "s = \"a duck goes into a bar...\""
   ]
  },
  {
   "cell_type": "markdown",
   "metadata": {},
   "source": [
    "## capitalize()\n",
    "- 字符串首字母大写"
   ]
  },
  {
   "cell_type": "code",
   "execution_count": 2,
   "metadata": {
    "scrolled": false
   },
   "outputs": [
    {
     "name": "stdout",
     "output_type": "stream",
     "text": [
      "A duck goes into a bar...\n"
     ]
    }
   ],
   "source": [
    "print(s.capitalize())"
   ]
  },
  {
   "cell_type": "markdown",
   "metadata": {},
   "source": [
    "## title()\n",
    "- 所有字母首字母大写"
   ]
  },
  {
   "cell_type": "code",
   "execution_count": 3,
   "metadata": {
    "scrolled": true
   },
   "outputs": [
    {
     "name": "stdout",
     "output_type": "stream",
     "text": [
      "A Duck Goes Into A Bar...\n"
     ]
    }
   ],
   "source": [
    "print(s.title())"
   ]
  },
  {
   "cell_type": "markdown",
   "metadata": {},
   "source": [
    "## upper()\n",
    "- 所有字母大写"
   ]
  },
  {
   "cell_type": "code",
   "execution_count": 4,
   "metadata": {
    "scrolled": true
   },
   "outputs": [
    {
     "name": "stdout",
     "output_type": "stream",
     "text": [
      "A DUCK GOES INTO A BAR...\n"
     ]
    }
   ],
   "source": [
    "print(s.upper())"
   ]
  },
  {
   "cell_type": "markdown",
   "metadata": {},
   "source": [
    "## lower() 和 casefold()\n",
    "- 所有字母小写"
   ]
  },
  {
   "cell_type": "code",
   "execution_count": 5,
   "metadata": {
    "scrolled": true
   },
   "outputs": [
    {
     "name": "stdout",
     "output_type": "stream",
     "text": [
      "a duck goes into a bar...\n"
     ]
    }
   ],
   "source": [
    "print(s.lower())"
   ]
  },
  {
   "cell_type": "code",
   "execution_count": 2,
   "metadata": {
    "scrolled": true
   },
   "outputs": [
    {
     "name": "stdout",
     "output_type": "stream",
     "text": [
      "a duck goes into a bar...\n"
     ]
    }
   ],
   "source": [
    "print(s.casefold())"
   ]
  },
  {
   "cell_type": "markdown",
   "metadata": {},
   "source": [
    "## swapcase()\n",
    "- 所有字母大小写切换"
   ]
  },
  {
   "cell_type": "code",
   "execution_count": 8,
   "metadata": {
    "scrolled": false
   },
   "outputs": [
    {
     "name": "stdout",
     "output_type": "stream",
     "text": [
      "A DUCK GOES INTO A BAR...\n"
     ]
    }
   ],
   "source": [
    "print(s.swapcase())"
   ]
  },
  {
   "cell_type": "markdown",
   "metadata": {},
   "source": [
    "# 排版"
   ]
  },
  {
   "cell_type": "code",
   "execution_count": 10,
   "metadata": {},
   "outputs": [],
   "source": [
    "s = \"a duck goes into a bar...\""
   ]
  },
  {
   "cell_type": "markdown",
   "metadata": {},
   "source": [
    "## center()\n",
    "\n",
    "- 居中\n",
    "\n",
    "- 参数：\n",
    "\n",
    "    - num: 在多少个字符内居中"
   ]
  },
  {
   "cell_type": "code",
   "execution_count": 9,
   "metadata": {
    "scrolled": false
   },
   "outputs": [
    {
     "data": {
      "text/plain": [
       "'  a duck goes into a bar...   '"
      ]
     },
     "execution_count": 9,
     "metadata": {},
     "output_type": "execute_result"
    }
   ],
   "source": [
    "s.center(30)"
   ]
  },
  {
   "cell_type": "code",
   "execution_count": 13,
   "metadata": {
    "scrolled": true
   },
   "outputs": [
    {
     "data": {
      "text/plain": [
       "'a duck goes into a bar...'"
      ]
     },
     "execution_count": 13,
     "metadata": {},
     "output_type": "execute_result"
    }
   ],
   "source": [
    "s.center(10)  # num小于字符串长度时，返回原字符串"
   ]
  },
  {
   "cell_type": "code",
   "execution_count": 15,
   "metadata": {
    "scrolled": false
   },
   "outputs": [
    {
     "data": {
      "text/plain": [
       "'                           a duck goes into a bar...                            '"
      ]
     },
     "execution_count": 15,
     "metadata": {},
     "output_type": "execute_result"
    }
   ],
   "source": [
    "s.center(80)  "
   ]
  },
  {
   "cell_type": "markdown",
   "metadata": {},
   "source": [
    "## ljust() and rjust()\n",
    "\n",
    "- 左对齐和右对齐\n",
    "\n",
    "- 参数：\n",
    "\n",
    "    - num: 字符范围"
   ]
  },
  {
   "cell_type": "code",
   "execution_count": 18,
   "metadata": {},
   "outputs": [
    {
     "data": {
      "text/plain": [
       "'a duck goes into a bar...     '"
      ]
     },
     "execution_count": 18,
     "metadata": {},
     "output_type": "execute_result"
    }
   ],
   "source": [
    "s.ljust(30)"
   ]
  },
  {
   "cell_type": "code",
   "execution_count": 19,
   "metadata": {
    "scrolled": false
   },
   "outputs": [
    {
     "data": {
      "text/plain": [
       "'     a duck goes into a bar...'"
      ]
     },
     "execution_count": 19,
     "metadata": {},
     "output_type": "execute_result"
    }
   ],
   "source": [
    "s.rjust(30)"
   ]
  },
  {
   "cell_type": "markdown",
   "metadata": {},
   "source": [
    "# 相关函数"
   ]
  },
  {
   "cell_type": "markdown",
   "metadata": {},
   "source": [
    "## 使用join()合并\n",
    "\n",
    "- join()与split()正好相反。\n",
    "\n",
    "- 语法：`string.join(list)`"
   ]
  },
  {
   "cell_type": "code",
   "execution_count": 2,
   "metadata": {
    "scrolled": true
   },
   "outputs": [
    {
     "data": {
      "text/plain": [
       "'practice makes perfect'"
      ]
     },
     "execution_count": 2,
     "metadata": {},
     "output_type": "execute_result"
    }
   ],
   "source": [
    "text = [\"practice\", \"makes\", \"perfect\"]\n",
    "' '.join(text)"
   ]
  },
  {
   "cell_type": "markdown",
   "metadata": {},
   "source": [
    "## count()\n",
    "\n",
    "- 描述\n",
    "\n",
    "Python count() 方法用于统计字符串里某个字符出现的次数。可选参数为在字符串搜索的开始与结束位置。\n",
    "\n",
    "- 语法\n",
    "\n",
    "count()方法语法：\n",
    "\n",
    "str.count(sub, start= 0,end=len(string))\n",
    "\n",
    "- 参数\n",
    "\n",
    "sub -- 搜索的子字符串\n",
    "\n",
    "start -- 字符串开始搜索的位置。默认为第一个字符,第一个字符索引值为0。\n",
    "\n",
    "end -- 字符串中结束搜索的位置。字符中第一个字符的索引为 0。默认为字符串的最后一个位置。\n",
    "\n",
    "- 返回值\n",
    "\n",
    "该方法返回子字符串在字符串中出现的次数。"
   ]
  },
  {
   "cell_type": "code",
   "execution_count": 10,
   "metadata": {},
   "outputs": [
    {
     "name": "stdout",
     "output_type": "stream",
     "text": [
      "2\n"
     ]
    }
   ],
   "source": [
    "s = \"a duck goes into a bar...\"\n",
    "print(s.count(\"a\", 1, -1))"
   ]
  },
  {
   "cell_type": "markdown",
   "metadata": {},
   "source": [
    "## replace()\n",
    "\n",
    "- 描述\n",
    "\n",
    "Python replace() 方法把字符串中的 old（旧字符串） 替换成 new(新字符串)，如果指定第三个参数max，则替换不超过 max 次。\n",
    "\n",
    "- 语法\n",
    "\n",
    "replace()方法语法：\n",
    "\n",
    "str.replace(old, new[, max])\n",
    "\n",
    "- 参数\n",
    "\n",
    "old -- 将被替换的子字符串。\n",
    "\n",
    "new -- 新字符串，用于替换old子字符串。\n",
    "\n",
    "max -- 可选字符串, 替换不超过 max 次\n",
    "\n",
    "- 返回值\n",
    "\n",
    "返回字符串中的 old（旧字符串） 替换成 new(新字符串)后生成的新字符串，如果指定第三个参数max，则替换不超过 __max__ 次。"
   ]
  },
  {
   "cell_type": "code",
   "execution_count": 15,
   "metadata": {},
   "outputs": [
    {
     "name": "stdout",
     "output_type": "stream",
     "text": [
      "a famous marmoset goes into a famous bar...\n"
     ]
    }
   ],
   "source": [
    "s = 'a famous duck goes into a famous bar...'\n",
    "s = s.replace(\"duck\", \"marmoset\")\n",
    "print(s)"
   ]
  },
  {
   "cell_type": "markdown",
   "metadata": {},
   "source": [
    "- 字符串是不能直接用索引进行赋值的"
   ]
  },
  {
   "cell_type": "code",
   "execution_count": 14,
   "metadata": {
    "scrolled": true
   },
   "outputs": [
    {
     "ename": "TypeError",
     "evalue": "'str' object does not support item assignment",
     "output_type": "error",
     "traceback": [
      "\u001b[1;31m---------------------------------------------------------------------------\u001b[0m",
      "\u001b[1;31mTypeError\u001b[0m                                 Traceback (most recent call last)",
      "\u001b[1;32m<ipython-input-14-0dbd7b4955d9>\u001b[0m in \u001b[0;36m<module>\u001b[1;34m\u001b[0m\n\u001b[1;32m----> 1\u001b[1;33m \u001b[0ms\u001b[0m\u001b[1;33m[\u001b[0m\u001b[1;36m9\u001b[0m\u001b[1;33m:\u001b[0m\u001b[1;36m13\u001b[0m\u001b[1;33m]\u001b[0m \u001b[1;33m=\u001b[0m \u001b[1;34m\"marmoset\"\u001b[0m\u001b[1;33m\u001b[0m\u001b[1;33m\u001b[0m\u001b[0m\n\u001b[0m",
      "\u001b[1;31mTypeError\u001b[0m: 'str' object does not support item assignment"
     ]
    }
   ],
   "source": [
    "s[9:13] = \"marmoset\""
   ]
  },
  {
   "cell_type": "markdown",
   "metadata": {},
   "source": [
    "## find()\n",
    "\n",
    "- 描述\n",
    "\n",
    "Python find() 方法检测字符串中是否包含子字符串 str ，如果指定 beg（开始） 和 end（结束） 范围，则检查是否包含在指定范围内，如果包含子字符串返回开始的索引值，否则返回-1。\n",
    "\n",
    "- 语法\n",
    "\n",
    "find()方法语法：\n",
    "\n",
    "str.find(str, beg=0, end=len(string))\n",
    "\n",
    "- 参数\n",
    "\n",
    "str -- 指定检索的字符串\n",
    "\n",
    "beg -- 开始索引，默认为0。\n",
    "\n",
    "end -- 结束索引，默认为字符串的长度。\n",
    "\n",
    "- 返回值\n",
    "\n",
    "如果包含子字符串返回开始的索引值，否则返回-1。"
   ]
  },
  {
   "cell_type": "code",
   "execution_count": 17,
   "metadata": {},
   "outputs": [
    {
     "name": "stdout",
     "output_type": "stream",
     "text": [
      "15\n",
      "15\n",
      "-1\n"
     ]
    }
   ],
   "source": [
    "exp = \"this is string example....wow!!!\"\n",
    "temp = \"exam\"\n",
    "print(exp.find(temp))\n",
    "print(exp.find(temp,10))\n",
    "print(exp.find(temp,20))"
   ]
  },
  {
   "cell_type": "markdown",
   "metadata": {},
   "source": [
    "# 无函数实现部分功能"
   ]
  },
  {
   "cell_type": "markdown",
   "metadata": {},
   "source": [
    "## 反转/逆序"
   ]
  },
  {
   "cell_type": "markdown",
   "metadata": {},
   "source": [
    "- 例如`List`是有函数可以反转的。"
   ]
  },
  {
   "cell_type": "code",
   "execution_count": 2,
   "metadata": {},
   "outputs": [
    {
     "data": {
      "text/plain": [
       "[6, 5, 4, 3, 2, 1]"
      ]
     },
     "execution_count": 2,
     "metadata": {},
     "output_type": "execute_result"
    }
   ],
   "source": [
    "l = [1,2,3,4,5,6]\n",
    "l.reverse()\n",
    "l"
   ]
  },
  {
   "cell_type": "markdown",
   "metadata": {},
   "source": [
    "- `Str`没有此函数，但是可以用通用方法。"
   ]
  },
  {
   "cell_type": "code",
   "execution_count": 5,
   "metadata": {},
   "outputs": [
    {
     "name": "stdout",
     "output_type": "stream",
     "text": [
      "[6, 5, 4, 3, 2, 1]\n",
      "654321\n"
     ]
    }
   ],
   "source": [
    "l = [1,2,3,4,5,6]\n",
    "l = l[::-1]\n",
    "print(l)\n",
    "s = str(123456)\n",
    "s = s[::-1]\n",
    "print(s)"
   ]
  }
 ],
 "metadata": {
  "kernelspec": {
   "display_name": "base",
   "language": "python",
   "name": "base"
  },
  "language_info": {
   "codemirror_mode": {
    "name": "ipython",
    "version": 3
   },
   "file_extension": ".py",
   "mimetype": "text/x-python",
   "name": "python",
   "nbconvert_exporter": "python",
   "pygments_lexer": "ipython3",
   "version": "3.8.3"
  },
  "toc": {
   "base_numbering": 1,
   "nav_menu": {},
   "number_sections": true,
   "sideBar": true,
   "skip_h1_title": false,
   "title_cell": "Table of Contents",
   "title_sidebar": "Contents",
   "toc_cell": false,
   "toc_position": {
    "height": "calc(100% - 180px)",
    "left": "10px",
    "top": "150px",
    "width": "349.078px"
   },
   "toc_section_display": true,
   "toc_window_display": true
  },
  "varInspector": {
   "cols": {
    "lenName": 16,
    "lenType": 16,
    "lenVar": 40
   },
   "kernels_config": {
    "python": {
     "delete_cmd_postfix": "",
     "delete_cmd_prefix": "del ",
     "library": "var_list.py",
     "varRefreshCmd": "print(var_dic_list())"
    },
    "r": {
     "delete_cmd_postfix": ") ",
     "delete_cmd_prefix": "rm(",
     "library": "var_list.r",
     "varRefreshCmd": "cat(var_dic_list()) "
    }
   },
   "types_to_exclude": [
    "module",
    "function",
    "builtin_function_or_method",
    "instance",
    "_Feature"
   ],
   "window_display": false
  }
 },
 "nbformat": 4,
 "nbformat_minor": 4
}
