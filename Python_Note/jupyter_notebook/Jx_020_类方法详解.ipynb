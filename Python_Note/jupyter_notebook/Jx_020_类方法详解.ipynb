{
 "cells": [
  {
   "cell_type": "markdown",
   "metadata": {},
   "source": [
    "# 静态方法和类方法\n",
    "\n",
    "## 特性（property） \n",
    "\n",
    "### 什么是特性（property）\n",
    "\n",
    "- property是一种特殊的属性，访问它时会执行一段功能（函数）然后返回值"
   ]
  },
  {
   "cell_type": "code",
   "execution_count": 13,
   "metadata": {},
   "outputs": [
    {
     "name": "stdout",
     "output_type": "stream",
     "text": [
      "10\n",
      "314.1592653589793\n",
      "62.83185307179586\n"
     ]
    }
   ],
   "source": [
    "import math\n",
    "class Circle:\n",
    "    def __init__(self,radius):  # 圆的半径radius\n",
    "        self.radius=radius\n",
    "\n",
    "    @property\n",
    "    def area(self):\n",
    "        return math.pi * self.radius**2  # 计算面积\n",
    "\n",
    "    @property\n",
    "    def perimeter(self):\n",
    "        return 2*math.pi*self.radius # 计算周长\n",
    "\n",
    "c=Circle(10)\n",
    "print(c.radius)\n",
    "print(c.area)  # 可以向访问数据属性一样去访问area,会触发一个函数的执行,动态计算出一个值\n",
    "print(c.perimeter)  # 同上"
   ]
  },
  {
   "cell_type": "markdown",
   "metadata": {},
   "source": [
    "- 需要注意的是每次访问都是动态的，多次访问会多次执行函数。"
   ]
  },
  {
   "cell_type": "code",
   "execution_count": 14,
   "metadata": {},
   "outputs": [
    {
     "ename": "AttributeError",
     "evalue": "can't set attribute",
     "output_type": "error",
     "traceback": [
      "\u001b[1;31m---------------------------------------------------------------------------\u001b[0m",
      "\u001b[1;31mAttributeError\u001b[0m                            Traceback (most recent call last)",
      "\u001b[1;32m<ipython-input-14-c6299e10c387>\u001b[0m in \u001b[0;36m<module>\u001b[1;34m\u001b[0m\n\u001b[1;32m----> 1\u001b[1;33m \u001b[0mc\u001b[0m\u001b[1;33m.\u001b[0m\u001b[0marea\u001b[0m\u001b[1;33m=\u001b[0m\u001b[1;36m3\u001b[0m \u001b[1;31m#为特性area赋值\u001b[0m\u001b[1;33m\u001b[0m\u001b[1;33m\u001b[0m\u001b[0m\n\u001b[0m",
      "\u001b[1;31mAttributeError\u001b[0m: can't set attribute"
     ]
    }
   ],
   "source": [
    "c.area = 3  # 为特性area赋值"
   ]
  },
  {
   "cell_type": "markdown",
   "metadata": {},
   "source": [
    "- 注意：此时的特性arear和perimeter不能被赋值"
   ]
  },
  {
   "cell_type": "code",
   "execution_count": 85,
   "metadata": {},
   "outputs": [
    {
     "name": "stdout",
     "output_type": "stream",
     "text": [
      "10\n",
      "<bound method Circle.area of <__main__.Circle object at 0x0000021833503070>>\n",
      "314.1592653589793\n",
      "62.83185307179586\n"
     ]
    }
   ],
   "source": [
    "import math\n",
    "class Circle:\n",
    "    def __init__(self,radius):  # 圆的半径radius\n",
    "        self.radius=radius\n",
    "\n",
    "    def area(self):\n",
    "        return math.pi * self.radius**2  # 计算面积\n",
    "\n",
    "    @property\n",
    "    def perimeter(self):\n",
    "        return 2*math.pi*self.radius # 计算周长\n",
    "\n",
    "c=Circle(10)\n",
    "print(c.radius)\n",
    "print(c.area)  # 可以向访问数据属性一样去访问area,会触发一个函数的执行,动态计算出一个值\n",
    "print(c.area())\n",
    "print(c.perimeter)  # 同上"
   ]
  },
  {
   "cell_type": "markdown",
   "metadata": {},
   "source": [
    "- 这是一个对比，如果没有使用`特性`，则需要以函数形式访问，否则只会输出函数对象所在的地址。"
   ]
  },
  {
   "cell_type": "code",
   "execution_count": 17,
   "metadata": {},
   "outputs": [
    {
     "name": "stdout",
     "output_type": "stream",
     "text": [
      "3\n"
     ]
    }
   ],
   "source": [
    "c.area = 3\n",
    "print(c.area)"
   ]
  },
  {
   "cell_type": "markdown",
   "metadata": {},
   "source": [
    "- 非特性则可以赋值。"
   ]
  },
  {
   "cell_type": "markdown",
   "metadata": {},
   "source": [
    "### 为什么要用property\n",
    "\n",
    "将一个类的函数定义成特性以后，对象再去使用的时候`obj.name`,根本无法察觉自己的name是执行了一个函数然后计算出来的，这种特性的使用方式遵循了统一访问的原则。\n",
    "\n",
    "    ps：面向对象的封装有三种方式:\n",
    "    【public】\n",
    "    这种其实就是不封装,是对外公开的\n",
    "    【protected】\n",
    "    这种封装方式对外不公开,但对朋友(friend)或者子类(形象的说法是“儿子”,但我不知道为什么大家 不说“女儿”,就像“parent”本来是“父母”的意思,但中文都是叫“父类”)公开\n",
    "    【private】\n",
    "    这种封装对谁都不公开\n",
    "    \n",
    "python并没有在语法上把它们三个内建到自己的class机制中，在C++里一般会将所有的数据都设置为私有的，然后提供set和get方法（接口）去设置和获取，在python中通过property方法可以实现"
   ]
  },
  {
   "cell_type": "code",
   "execution_count": 28,
   "metadata": {},
   "outputs": [
    {
     "name": "stdout",
     "output_type": "stream",
     "text": [
      "Jx\n"
     ]
    }
   ],
   "source": [
    "class Foo:\n",
    "    def __init__(self,val):\n",
    "        self.__NAME=val  # 将所有的数据属性都隐藏起来\n",
    "\n",
    "    @property\n",
    "    def name(self):\n",
    "        return self.__NAME  # obj.name访问的是self.__NAME(这也是真实值的存放位置)\n",
    "\n",
    "    @name.setter\n",
    "    def name(self,value):\n",
    "        if not isinstance(value,str):  # 在设定值之前进行类型检查\n",
    "            raise TypeError('%s must be str' % value)\n",
    "        self.__NAME=value #通过类型检查后,将值value存放到真实的位置self.__NAME\n",
    "\n",
    "    @name.deleter\n",
    "    def name(self):\n",
    "        raise TypeError('Can not delete')\n",
    "\n",
    "f=Foo('Jx')\n",
    "print(f.name)"
   ]
  },
  {
   "cell_type": "code",
   "execution_count": 32,
   "metadata": {},
   "outputs": [],
   "source": [
    "# f.name = 10  # 抛出异常'TypeError: 10 must be str'\n",
    "# del f.name  # 抛出异常'TypeError: Can not delete'"
   ]
  },
  {
   "cell_type": "markdown",
   "metadata": {},
   "source": [
    "- 通过这样的方式，可以设定条件更改 特性。\n",
    "\n",
    "---\n",
    "\n",
    "通常情况下，在类中定义的所有函数（注意了，这里说的就是所有，跟self啥的没关系，self也只是一个再普通不过的参数而已）都是对象的绑定方法，对象在调用绑定方法时会自动将自己作为参数传递给方法的第一个参数。除此之外还有两种常见的方法：静态方法和类方法，二者是为类量身定制的，但是实例非要使用，也不会报错。"
   ]
  },
  {
   "cell_type": "markdown",
   "metadata": {},
   "source": [
    "## 静态方法（staticmethod）\n",
    "\n",
    "python staticmethod 返回函数的静态方法。\n",
    "\n",
    "该方法不强制要求传递参数。"
   ]
  },
  {
   "cell_type": "code",
   "execution_count": 33,
   "metadata": {},
   "outputs": [],
   "source": [
    "class Foo:\n",
    "    def spam(x, y, z):  # 类中的一个函数，千万不要懵逼，self和x啥的没有不同都是参数名\n",
    "        print(x, y, z)\n",
    "    spam = staticmethod(spam)  # 把spam函数做成静态方法"
   ]
  },
  {
   "cell_type": "markdown",
   "metadata": {},
   "source": [
    "`@staticmethod` 等同于 `spam=staticmethod(spam)`,于是可以写成"
   ]
  },
  {
   "cell_type": "code",
   "execution_count": 54,
   "metadata": {},
   "outputs": [
    {
     "name": "stdout",
     "output_type": "stream",
     "text": [
      "<class '__main__.Foo'>\n",
      "<class 'function'>\n",
      "1 2 3\n",
      "3 3 3\n"
     ]
    }
   ],
   "source": [
    "class Foo:\n",
    "    @staticmethod  # 装饰器\n",
    "    def spam(x, y, z):\n",
    "        print(x, y, z)\n",
    "\n",
    "\n",
    "print(type(Foo()))\n",
    "print(type(Foo.spam))  # 类型本质就是函数\n",
    "Foo.spam(1, 2, 3)  # 调用函数应该有几个参数就传几个参数\n",
    "\n",
    "Foo().spam(3, 3, 3)  # 实例也"
   ]
  },
  {
   "cell_type": "markdown",
   "metadata": {},
   "source": [
    "使用静态方法后就不会传入self参数。\n",
    "同时也说明通过静态方法 `spam`，从而可以实现实例化使用`Foo().spam`，当然也可以不实例化调用该方法 `Foo.spam()`。\n",
    "\n",
    "- 对比一下"
   ]
  },
  {
   "cell_type": "code",
   "execution_count": 50,
   "metadata": {},
   "outputs": [],
   "source": [
    "class Foo:\n",
    "#     @staticmethod  # 装饰器\n",
    "    def spam(x, y, z):\n",
    "        print(x, y, z)"
   ]
  },
  {
   "cell_type": "code",
   "execution_count": 51,
   "metadata": {},
   "outputs": [
    {
     "name": "stdout",
     "output_type": "stream",
     "text": [
      "<class '__main__.Foo'>\n",
      "<class 'function'>\n",
      "1 2 3\n"
     ]
    },
    {
     "ename": "TypeError",
     "evalue": "spam() takes 3 positional arguments but 4 were given",
     "output_type": "error",
     "traceback": [
      "\u001b[1;31m---------------------------------------------------------------------------\u001b[0m",
      "\u001b[1;31mTypeError\u001b[0m                                 Traceback (most recent call last)",
      "\u001b[1;32m<ipython-input-51-bcd6562ab394>\u001b[0m in \u001b[0;36m<module>\u001b[1;34m\u001b[0m\n\u001b[0;32m      3\u001b[0m \u001b[0mFoo\u001b[0m\u001b[1;33m.\u001b[0m\u001b[0mspam\u001b[0m\u001b[1;33m(\u001b[0m\u001b[1;36m1\u001b[0m\u001b[1;33m,\u001b[0m \u001b[1;36m2\u001b[0m\u001b[1;33m,\u001b[0m \u001b[1;36m3\u001b[0m\u001b[1;33m)\u001b[0m  \u001b[1;31m# 调用函数应该有几个参数就传几个参数\u001b[0m\u001b[1;33m\u001b[0m\u001b[1;33m\u001b[0m\u001b[0m\n\u001b[0;32m      4\u001b[0m \u001b[1;33m\u001b[0m\u001b[0m\n\u001b[1;32m----> 5\u001b[1;33m \u001b[0mFoo\u001b[0m\u001b[1;33m(\u001b[0m\u001b[1;33m)\u001b[0m\u001b[1;33m.\u001b[0m\u001b[0mspam\u001b[0m\u001b[1;33m(\u001b[0m\u001b[1;36m3\u001b[0m\u001b[1;33m,\u001b[0m \u001b[1;36m3\u001b[0m\u001b[1;33m,\u001b[0m \u001b[1;36m3\u001b[0m\u001b[1;33m)\u001b[0m  \u001b[1;31m# 实例也可以使用,但通常静态方法都是给类用的,实例在使用时丧失了自动传值的机制\u001b[0m\u001b[1;33m\u001b[0m\u001b[1;33m\u001b[0m\u001b[0m\n\u001b[0m",
      "\u001b[1;31mTypeError\u001b[0m: spam() takes 3 positional arguments but 4 were given"
     ]
    }
   ],
   "source": [
    "print(type(Foo()))\n",
    "print(type(Foo.spam))  # 类型本质就是函数\n",
    "Foo.spam(1, 2, 3)  # 调用函数应该有几个参数就传几个参数\n",
    "\n",
    "Foo().spam(3, 3, 3)  # 没有静态方法，则会自动传入一个self参数。"
   ]
  },
  {
   "cell_type": "markdown",
   "metadata": {},
   "source": [
    "- 应用场景:编写类时需要采用很多不同的方式来创建实例，而我们只有一个`__init__`函数，此时静态方法就派上用场了。"
   ]
  },
  {
   "cell_type": "code",
   "execution_count": 66,
   "metadata": {},
   "outputs": [
    {
     "name": "stdout",
     "output_type": "stream",
     "text": [
      "1987 11 27\n",
      "2021 7 15\n",
      "2021 7 16\n",
      "<class 'function'> <class '__main__.Date'>\n"
     ]
    }
   ],
   "source": [
    "import time\n",
    "\n",
    "\n",
    "class Date:\n",
    "    def __init__(self, year, month, day):\n",
    "        self.year = year\n",
    "        self.month = month\n",
    "        self.day = day\n",
    "\n",
    "    @staticmethod\n",
    "    def now():  # 用Date.now()的形式去产生实例,该实例用的是当前时间\n",
    "        t = time.localtime()  # 获取结构化的时间格式\n",
    "        return Date(t.tm_year, t.tm_mon, t.tm_mday)  # 新建实例并且返回\n",
    "\n",
    "    @staticmethod\n",
    "    def tomorrow():  # 用Date.tomorrow()的形式去产生实例,该实例用的是明天的时间\n",
    "        t = time.localtime(time.time()+86400)\n",
    "        return Date(t.tm_year, t.tm_mon, t.tm_mday)\n",
    "\n",
    "\n",
    "a = Date('1987', 11, 27)  # 自己定义时间\n",
    "b = Date.now()  # 采用当前时间\n",
    "c = Date.tomorrow()  # 采用明天的时间\n",
    "\n",
    "print(a.year, a.month, a.day)\n",
    "print(b.year, b.month, b.day)\n",
    "print(c.year, c.month, c.day)\n",
    "\n",
    "print(type(Date.now),type(Date.now()))"
   ]
  },
  {
   "cell_type": "markdown",
   "metadata": {},
   "source": [
    "## 类方法（classmethod） \n",
    "\n",
    "- 类方法是给类用的，类在使用时会将类本身当做参数传给类方法的第一个参数，python为我们内置了函数classmethod来把类中的函数定义成类方法"
   ]
  },
  {
   "cell_type": "code",
   "execution_count": 67,
   "metadata": {},
   "outputs": [
    {
     "name": "stdout",
     "output_type": "stream",
     "text": [
      "<class '__main__.B'> 2\n"
     ]
    }
   ],
   "source": [
    "class A:\n",
    "    x = 1\n",
    "\n",
    "    @classmethod\n",
    "    def test(cls):\n",
    "        print(cls, cls.x)\n",
    "\n",
    "\n",
    "class B(A):\n",
    "    x = 2\n",
    "\n",
    "\n",
    "B.test()"
   ]
  },
  {
   "cell_type": "markdown",
   "metadata": {},
   "source": [
    "- 应用场景"
   ]
  },
  {
   "cell_type": "code",
   "execution_count": 71,
   "metadata": {},
   "outputs": [
    {
     "name": "stdout",
     "output_type": "stream",
     "text": [
      "<__main__.Date object at 0x000002183419AA90>\n"
     ]
    }
   ],
   "source": [
    "import time\n",
    "\n",
    "\n",
    "class Date:\n",
    "    def __init__(self, year, month, day):\n",
    "        self.year = year\n",
    "        self.month = month\n",
    "        self.day = day\n",
    "\n",
    "    @staticmethod\n",
    "    def now():\n",
    "        t = time.localtime()\n",
    "        return Date(t.tm_year, t.tm_mon, t.tm_mday)\n",
    "\n",
    "\n",
    "class EuroDate(Date):\n",
    "    def __str__(self):\n",
    "        return 'year:%s month:%s day:%s' % (self.year, self.month, self.day)\n",
    "\n",
    "\n",
    "e = EuroDate.now()\n",
    "print(e)  "
   ]
  },
  {
   "cell_type": "markdown",
   "metadata": {},
   "source": [
    "我们的意图是想触发`EuroDate.__str__`,但是结果却不是这样。\n",
    "\n",
    "因为e就是用Date类产生的,所以根本不会触发`EuroDate.__str__`,解决方法就是用`classmethod`"
   ]
  },
  {
   "cell_type": "code",
   "execution_count": 73,
   "metadata": {},
   "outputs": [
    {
     "name": "stdout",
     "output_type": "stream",
     "text": [
      "year:2021 month:7 day:15\n"
     ]
    }
   ],
   "source": [
    "import time\n",
    "\n",
    "\n",
    "class Date:\n",
    "    def __init__(self, year, month, day):\n",
    "        self.year = year\n",
    "        self.month = month\n",
    "        self.day = day\n",
    "    # @staticmethod\n",
    "    # def now():\n",
    "    #     t=time.localtime()\n",
    "    #     return Date(t.tm_year,t.tm_mon,t.tm_mday)\n",
    "\n",
    "    @classmethod  # 改成类方法\n",
    "    def now(cls):\n",
    "        t = time.localtime()\n",
    "        return cls(t.tm_year, t.tm_mon, t.tm_mday)  # 哪个类来调用,即用哪个类cls来实例化\n",
    "\n",
    "\n",
    "class EuroDate(Date):\n",
    "    def __str__(self):\n",
    "        return 'year:%s month:%s day:%s' % (self.year, self.month, self.day)\n",
    "\n",
    "\n",
    "e = EuroDate.now()\n",
    "print(e)  # 我们的意图是想触发EuroDate.__str__,此时e就是由EuroDate产生的,所以会如我们所愿"
   ]
  },
  {
   "cell_type": "markdown",
   "metadata": {},
   "source": [
    "强调，注意注意注意：静态方法和类方法虽然是给类准备的，但是如果实例去用，也是可以用的，只不过实例去调用的时候容易让人混淆，不知道你要干啥"
   ]
  },
  {
   "cell_type": "code",
   "execution_count": 74,
   "metadata": {},
   "outputs": [
    {
     "name": "stdout",
     "output_type": "stream",
     "text": [
      "year:2021 month:7 day:15\n"
     ]
    }
   ],
   "source": [
    "x=e.now() #通过实例e去调用类方法也一样可以使用,静态方法也一样\n",
    "print(x)"
   ]
  },
  {
   "cell_type": "markdown",
   "metadata": {},
   "source": [
    "## 附加知识点__str__的用法            \n",
    "\n",
    "`__str__`定义在类内部，必须返回一个字符串类型，\n",
    "\n",
    "什么时候会出发它的执行呢？打印由这个类产生的对象时，会触发执行"
   ]
  },
  {
   "cell_type": "code",
   "execution_count": 77,
   "metadata": {},
   "outputs": [
    {
     "name": "stdout",
     "output_type": "stream",
     "text": [
      "<name:Jx,age:18>\n"
     ]
    }
   ],
   "source": [
    "class People:\n",
    "    def __init__(self, name, age):\n",
    "        self.name = name\n",
    "        self.age = age\n",
    "\n",
    "    def __str__(self):\n",
    "        return '<name:%s,age:%s>' % (self.name, self.age)\n",
    "\n",
    "\n",
    "p1 = People('Jx', 18)\n",
    "print(p1)"
   ]
  },
  {
   "cell_type": "markdown",
   "metadata": {},
   "source": [
    "# 一个案例加深理解"
   ]
  },
  {
   "cell_type": "code",
   "execution_count": 82,
   "metadata": {},
   "outputs": [
    {
     "name": "stdout",
     "output_type": "stream",
     "text": [
      "共有 50 条狗\n",
      "大黄 叫了起来\n",
      "共有 50 条狗\n",
      "旺财 叫了起来\n",
      "狗共重 18 公斤\n"
     ]
    }
   ],
   "source": [
    "class Dog:\n",
    "    # 类变量：每个类的类变量是相同的\n",
    "    # 所有的狗类都会有同一个dogbook，因此dogbook不是一个实例，并且属于狗类。\n",
    "    dogbook = {\"黄色\": 30, \"黑色\": 20, \"白色\": 0}\n",
    "\n",
    "    # 实例变量：每个实例的实例变量可以不同\n",
    "    def __init__(self, name, color, weight):  # 每个狗都有不一样的属性，则这些是狗的实例。\n",
    "        self.name = name\n",
    "        self.color = color\n",
    "        self.weight = weight\n",
    "        # 此处省略若干行，应该更新dogbook的数量\n",
    "\n",
    "    # 实例方法: 定义时,必须把self作为第一个参数，可以访问实例变量，只能通过实例名访问\n",
    "    # 当然，调用的时候python会自动帮忙上传self参数，但是，这就意味着，实例方法是必须通过实例名访问\n",
    "    # 如果不实例调用：Dog.bark()  报错：# TypeError: bark() missing 1 required positional argument: 'self'\n",
    "    # Dog.bark 只会打印 function 的名字：# <function __main__.Dog.bark(self)>\n",
    "    def bark(self):\n",
    "        print(f\"{self.name} 叫了起来\")\n",
    "\n",
    "    # 类方法：定义时,必须把类作为第一个参数，可以访问类变量，可以通过实例名或类名访问\n",
    "    # 也就是说使用 Dog.dog_num() 和 Dog().dog_num() 结果是一样的。\n",
    "    @classmethod\n",
    "    def dog_num(cls):\n",
    "        num = 0\n",
    "        for v in cls.dogbook.values():\n",
    "            num = num + v\n",
    "        return num\n",
    "\n",
    "    # 静态方法：不强制传入self或者cls, 他对类和实例都一无所知。不能访问类变量，也不能访问实例变量；可以通过实例名或类名访问。\n",
    "    # 静态方法可以写在类外面也可以写在类里面，写在类里面的原因是与这个类息息相关的。\n",
    "    @staticmethod\n",
    "    def total_weights(dogs):\n",
    "        total = 0\n",
    "        for o in dogs:\n",
    "            total = total + o.weight\n",
    "        return total\n",
    "\n",
    "\n",
    "print(f\"共有 {Dog.dog_num()} 条狗\")\n",
    "d1 = Dog(\"大黄\", \"黄色\", 10)\n",
    "d1.bark()\n",
    "print(f\"共有 {d1.dog_num()} 条狗\")\n",
    "\n",
    "d2 = Dog(\"旺财\", \"黑色\", 8)\n",
    "d2.bark()\n",
    "\n",
    "print(f\"狗共重 {Dog.total_weights([d1, d2])} 公斤\")"
   ]
  }
 ],
 "metadata": {
  "kernelspec": {
   "display_name": "Python 3",
   "language": "python",
   "name": "python3"
  },
  "language_info": {
   "codemirror_mode": {
    "name": "ipython",
    "version": 3
   },
   "file_extension": ".py",
   "mimetype": "text/x-python",
   "name": "python",
   "nbconvert_exporter": "python",
   "pygments_lexer": "ipython3",
   "version": "3.8.5"
  },
  "toc": {
   "base_numbering": 1,
   "nav_menu": {},
   "number_sections": true,
   "sideBar": true,
   "skip_h1_title": false,
   "title_cell": "Table of Contents",
   "title_sidebar": "Contents",
   "toc_cell": false,
   "toc_position": {},
   "toc_section_display": true,
   "toc_window_display": true
  },
  "varInspector": {
   "cols": {
    "lenName": 16,
    "lenType": 16,
    "lenVar": 40
   },
   "kernels_config": {
    "python": {
     "delete_cmd_postfix": "",
     "delete_cmd_prefix": "del ",
     "library": "var_list.py",
     "varRefreshCmd": "print(var_dic_list())"
    },
    "r": {
     "delete_cmd_postfix": ") ",
     "delete_cmd_prefix": "rm(",
     "library": "var_list.r",
     "varRefreshCmd": "cat(var_dic_list()) "
    }
   },
   "types_to_exclude": [
    "module",
    "function",
    "builtin_function_or_method",
    "instance",
    "_Feature"
   ],
   "window_display": false
  }
 },
 "nbformat": 4,
 "nbformat_minor": 4
}
